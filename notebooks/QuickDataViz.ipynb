{
 "cells": [
  {
   "cell_type": "markdown",
   "id": "f22ae10b",
   "metadata": {},
   "source": [
    "# Quick Data Visualization on UTMB 2022 results\n",
    "https://live.utmb.world/utmb/utmb"
   ]
  },
  {
   "cell_type": "code",
   "execution_count": 1,
   "id": "9d3c926f",
   "metadata": {},
   "outputs": [],
   "source": [
    "import json\n",
    "import chardet\n",
    "import plotly.express as px\n",
    "import matplotlib.pyplot as plt\n",
    "import statistics\n",
    "import functools"
   ]
  },
  {
   "cell_type": "markdown",
   "id": "3bf9fa53",
   "metadata": {},
   "source": [
    "## Data collection\n",
    "Data has been collected in a separated script. We have here available the rankings of all the finishers, with information for every runner"
   ]
  },
  {
   "cell_type": "code",
   "execution_count": 2,
   "id": "d9cd58e9",
   "metadata": {},
   "outputs": [
    {
     "data": {
      "text/plain": [
       "{'raceId': 'utmb',\n",
       " 'raceName': 'UTMB®',\n",
       " 'raceCategory': '100m',\n",
       " 'status': 'f',\n",
       " 'bib': 1,\n",
       " 'info': {'fullname': 'Kilian JORNET BURGADA',\n",
       "  'initials': 'KJ',\n",
       "  'age': '35',\n",
       "  'countryCode': 'ES',\n",
       "  'category': '35-39M',\n",
       "  'sex': 'H',\n",
       "  'club': 'NNORMAL ',\n",
       "  'index': 945,\n",
       "  'photo': 'worldseries/Members/f6b6bdde-8e09-4933-9423-351fb19c3f05',\n",
       "  'photoWebTv': 'worldseries/Members/Admin/JORNET_BURGADA.KILIAN_wglfbe',\n",
       "  'url': 'https://utmb.world/runner/2704.kilian.jornetburgada',\n",
       "  'teamMembers': None},\n",
       " 'ranking': {'scratch': '1', 'sex': '1', 'category': '1'},\n",
       " 'lastLocation': None,\n",
       " 'prediction': {'lastPointId': 143,\n",
       "  'lastPassing': '2022-08-27T14:01:10.810Z',\n",
       "  'nextPointId': None,\n",
       "  'nextPointPrediction': None},\n",
       " 'raceTime': '19:49:30',\n",
       " 'start': '2022-08-26T15:59:57.000Z',\n",
       " 'isFinisher': True,\n",
       " 'diffToFirst': '00:00:00'}"
      ]
     },
     "execution_count": 2,
     "metadata": {},
     "output_type": "execute_result"
    }
   ],
   "source": [
    "File=\"../data/rankings.json\"\n",
    "enc=chardet.detect(open(File,'rb').read())['encoding']\n",
    "\n",
    "# Opening JSON file\n",
    "with open(File,'r', encoding = enc) as f:\n",
    "    data=json.load(f)\n",
    "    f.close()\n",
    "    \n",
    "runners = data['runners']\n",
    "# printing first runner as a sample\n",
    "runners[0]"
   ]
  },
  {
   "cell_type": "markdown",
   "id": "ad850a69",
   "metadata": {},
   "source": [
    "We want to slightly modify the content of the data we have, to better process it. We will flatten our ranking, so that we have one entity for every runner, with no sub-objects"
   ]
  },
  {
   "cell_type": "code",
   "execution_count": 3,
   "id": "cf6fb638",
   "metadata": {},
   "outputs": [],
   "source": [
    "def flatten_json(y):\n",
    "    out = {}\n",
    "    def flatten(x, name=''):\n",
    "        # If the Nested key-value pair is of dict type\n",
    "        if type(x) is dict:\n",
    "            for a in x:\n",
    "                flatten(x[a], name + a + '_')\n",
    "        # If the Nested key-value pair is of list type\n",
    "        elif type(x) is list:\n",
    "            i = 0\n",
    "            for a in x:\n",
    "                flatten(a, name + str(i) + '_')\n",
    "                i += 1\n",
    "        else:\n",
    "            out[name[:-1]] = x\n",
    "    flatten(y)\n",
    "    return out\n",
    "\n",
    " \n",
    "# Driver code\n",
    "runners_flattened = []\n",
    "for r in runners:\n",
    "    runners_flattened.append(flatten_json(r))"
   ]
  },
  {
   "cell_type": "markdown",
   "id": "f52bd97c",
   "metadata": {},
   "source": [
    "We are now converting our information into a dataframe, to easily use the tools to visualize the data"
   ]
  },
  {
   "cell_type": "code",
   "execution_count": 4,
   "id": "eb1098bb",
   "metadata": {},
   "outputs": [
    {
     "data": {
      "text/html": [
       "<div>\n",
       "<style scoped>\n",
       "    .dataframe tbody tr th:only-of-type {\n",
       "        vertical-align: middle;\n",
       "    }\n",
       "\n",
       "    .dataframe tbody tr th {\n",
       "        vertical-align: top;\n",
       "    }\n",
       "\n",
       "    .dataframe thead th {\n",
       "        text-align: right;\n",
       "    }\n",
       "</style>\n",
       "<table border=\"1\" class=\"dataframe\">\n",
       "  <thead>\n",
       "    <tr style=\"text-align: right;\">\n",
       "      <th></th>\n",
       "      <th>raceId</th>\n",
       "      <th>raceName</th>\n",
       "      <th>raceCategory</th>\n",
       "      <th>status</th>\n",
       "      <th>bib</th>\n",
       "      <th>info_fullname</th>\n",
       "      <th>info_initials</th>\n",
       "      <th>info_age</th>\n",
       "      <th>info_countryCode</th>\n",
       "      <th>info_category</th>\n",
       "      <th>...</th>\n",
       "      <th>ranking_category</th>\n",
       "      <th>lastLocation</th>\n",
       "      <th>prediction_lastPointId</th>\n",
       "      <th>prediction_lastPassing</th>\n",
       "      <th>prediction_nextPointId</th>\n",
       "      <th>prediction_nextPointPrediction</th>\n",
       "      <th>raceTime</th>\n",
       "      <th>start</th>\n",
       "      <th>isFinisher</th>\n",
       "      <th>diffToFirst</th>\n",
       "    </tr>\n",
       "  </thead>\n",
       "  <tbody>\n",
       "    <tr>\n",
       "      <th>0</th>\n",
       "      <td>utmb</td>\n",
       "      <td>UTMB®</td>\n",
       "      <td>100m</td>\n",
       "      <td>f</td>\n",
       "      <td>1</td>\n",
       "      <td>Kilian JORNET BURGADA</td>\n",
       "      <td>KJ</td>\n",
       "      <td>35</td>\n",
       "      <td>ES</td>\n",
       "      <td>35-39M</td>\n",
       "      <td>...</td>\n",
       "      <td>1</td>\n",
       "      <td>None</td>\n",
       "      <td>143</td>\n",
       "      <td>2022-08-27 14:01:10.810000+00:00</td>\n",
       "      <td>None</td>\n",
       "      <td>None</td>\n",
       "      <td>0 days 19:49:30</td>\n",
       "      <td>2022-08-26 15:59:57+00:00</td>\n",
       "      <td>True</td>\n",
       "      <td>0 days 00:00:00</td>\n",
       "    </tr>\n",
       "    <tr>\n",
       "      <th>1</th>\n",
       "      <td>utmb</td>\n",
       "      <td>UTMB®</td>\n",
       "      <td>100m</td>\n",
       "      <td>f</td>\n",
       "      <td>41</td>\n",
       "      <td>Mathieu BLANCHARD</td>\n",
       "      <td>MB</td>\n",
       "      <td>35</td>\n",
       "      <td>FR</td>\n",
       "      <td>35-39M</td>\n",
       "      <td>...</td>\n",
       "      <td>2</td>\n",
       "      <td>None</td>\n",
       "      <td>143</td>\n",
       "      <td>2022-08-27 12:37:44.200000+00:00</td>\n",
       "      <td>None</td>\n",
       "      <td>None</td>\n",
       "      <td>0 days 19:54:50</td>\n",
       "      <td>2022-08-26 15:59:57+00:00</td>\n",
       "      <td>True</td>\n",
       "      <td>0 days 00:05:20</td>\n",
       "    </tr>\n",
       "    <tr>\n",
       "      <th>2</th>\n",
       "      <td>utmb</td>\n",
       "      <td>UTMB®</td>\n",
       "      <td>100m</td>\n",
       "      <td>f</td>\n",
       "      <td>11</td>\n",
       "      <td>Thomas EVANS</td>\n",
       "      <td>TE</td>\n",
       "      <td>30</td>\n",
       "      <td>GB</td>\n",
       "      <td>20-34M</td>\n",
       "      <td>...</td>\n",
       "      <td>1</td>\n",
       "      <td>None</td>\n",
       "      <td>143</td>\n",
       "      <td>2022-08-27 13:39:57.100000+00:00</td>\n",
       "      <td>None</td>\n",
       "      <td>None</td>\n",
       "      <td>0 days 20:34:35</td>\n",
       "      <td>2022-08-26 15:59:57+00:00</td>\n",
       "      <td>True</td>\n",
       "      <td>0 days 00:45:05</td>\n",
       "    </tr>\n",
       "    <tr>\n",
       "      <th>3</th>\n",
       "      <td>utmb</td>\n",
       "      <td>UTMB®</td>\n",
       "      <td>100m</td>\n",
       "      <td>f</td>\n",
       "      <td>3</td>\n",
       "      <td>Jim WALMSLEY</td>\n",
       "      <td>JW</td>\n",
       "      <td>32</td>\n",
       "      <td>US</td>\n",
       "      <td>20-34M</td>\n",
       "      <td>...</td>\n",
       "      <td>2</td>\n",
       "      <td>None</td>\n",
       "      <td>143</td>\n",
       "      <td>2022-08-27 13:36:10.710000+00:00</td>\n",
       "      <td>None</td>\n",
       "      <td>None</td>\n",
       "      <td>0 days 21:12:12</td>\n",
       "      <td>2022-08-26 15:59:57+00:00</td>\n",
       "      <td>True</td>\n",
       "      <td>0 days 01:22:42</td>\n",
       "    </tr>\n",
       "    <tr>\n",
       "      <th>4</th>\n",
       "      <td>utmb</td>\n",
       "      <td>UTMB®</td>\n",
       "      <td>100m</td>\n",
       "      <td>f</td>\n",
       "      <td>33</td>\n",
       "      <td>Zach MILLER</td>\n",
       "      <td>ZM</td>\n",
       "      <td>34</td>\n",
       "      <td>US</td>\n",
       "      <td>20-34M</td>\n",
       "      <td>...</td>\n",
       "      <td>3</td>\n",
       "      <td>None</td>\n",
       "      <td>143</td>\n",
       "      <td>2022-08-27 15:04:13.150000+00:00</td>\n",
       "      <td>None</td>\n",
       "      <td>None</td>\n",
       "      <td>0 days 21:27:50</td>\n",
       "      <td>2022-08-26 15:59:57+00:00</td>\n",
       "      <td>True</td>\n",
       "      <td>0 days 01:38:20</td>\n",
       "    </tr>\n",
       "    <tr>\n",
       "      <th>...</th>\n",
       "      <td>...</td>\n",
       "      <td>...</td>\n",
       "      <td>...</td>\n",
       "      <td>...</td>\n",
       "      <td>...</td>\n",
       "      <td>...</td>\n",
       "      <td>...</td>\n",
       "      <td>...</td>\n",
       "      <td>...</td>\n",
       "      <td>...</td>\n",
       "      <td>...</td>\n",
       "      <td>...</td>\n",
       "      <td>...</td>\n",
       "      <td>...</td>\n",
       "      <td>...</td>\n",
       "      <td>...</td>\n",
       "      <td>...</td>\n",
       "      <td>...</td>\n",
       "      <td>...</td>\n",
       "      <td>...</td>\n",
       "      <td>...</td>\n",
       "    </tr>\n",
       "    <tr>\n",
       "      <th>1784</th>\n",
       "      <td>utmb</td>\n",
       "      <td>UTMB®</td>\n",
       "      <td>100m</td>\n",
       "      <td>f</td>\n",
       "      <td>2783</td>\n",
       "      <td>Pierre GRIFFATON</td>\n",
       "      <td>PG</td>\n",
       "      <td>50</td>\n",
       "      <td>FR</td>\n",
       "      <td>50-54M</td>\n",
       "      <td>...</td>\n",
       "      <td>233</td>\n",
       "      <td>None</td>\n",
       "      <td>143</td>\n",
       "      <td>2022-08-28 14:24:07.660000+00:00</td>\n",
       "      <td>None</td>\n",
       "      <td>None</td>\n",
       "      <td>1 days 22:24:10</td>\n",
       "      <td>2022-08-26 15:59:57+00:00</td>\n",
       "      <td>True</td>\n",
       "      <td>1 days 02:34:40</td>\n",
       "    </tr>\n",
       "    <tr>\n",
       "      <th>1785</th>\n",
       "      <td>utmb</td>\n",
       "      <td>UTMB®</td>\n",
       "      <td>100m</td>\n",
       "      <td>f</td>\n",
       "      <td>2801</td>\n",
       "      <td>Radu GULIE</td>\n",
       "      <td>RG</td>\n",
       "      <td>41</td>\n",
       "      <td>RO</td>\n",
       "      <td>40-44M</td>\n",
       "      <td>...</td>\n",
       "      <td>410</td>\n",
       "      <td>None</td>\n",
       "      <td>143</td>\n",
       "      <td>2022-08-28 14:47:51.290000+00:00</td>\n",
       "      <td>None</td>\n",
       "      <td>None</td>\n",
       "      <td>1 days 22:26:23</td>\n",
       "      <td>2022-08-26 15:59:57+00:00</td>\n",
       "      <td>True</td>\n",
       "      <td>1 days 02:36:53</td>\n",
       "    </tr>\n",
       "    <tr>\n",
       "      <th>1786</th>\n",
       "      <td>utmb</td>\n",
       "      <td>UTMB®</td>\n",
       "      <td>100m</td>\n",
       "      <td>f</td>\n",
       "      <td>861</td>\n",
       "      <td>Roxana DIRVAREANU</td>\n",
       "      <td>RD</td>\n",
       "      <td>39</td>\n",
       "      <td>RO</td>\n",
       "      <td>35-39F</td>\n",
       "      <td>...</td>\n",
       "      <td>22</td>\n",
       "      <td>None</td>\n",
       "      <td>143</td>\n",
       "      <td>2022-08-28 14:47:44.490000+00:00</td>\n",
       "      <td>None</td>\n",
       "      <td>None</td>\n",
       "      <td>1 days 22:26:24</td>\n",
       "      <td>2022-08-26 15:59:57+00:00</td>\n",
       "      <td>True</td>\n",
       "      <td>1 days 02:36:54</td>\n",
       "    </tr>\n",
       "    <tr>\n",
       "      <th>1787</th>\n",
       "      <td>utmb</td>\n",
       "      <td>UTMB®</td>\n",
       "      <td>100m</td>\n",
       "      <td>f</td>\n",
       "      <td>2347</td>\n",
       "      <td>Masahiro TAZO</td>\n",
       "      <td>MT</td>\n",
       "      <td>55</td>\n",
       "      <td>JP</td>\n",
       "      <td>55-59M</td>\n",
       "      <td>...</td>\n",
       "      <td>101</td>\n",
       "      <td>None</td>\n",
       "      <td>143</td>\n",
       "      <td>2022-08-28 14:57:40.560000+00:00</td>\n",
       "      <td>None</td>\n",
       "      <td>None</td>\n",
       "      <td>1 days 22:48:44</td>\n",
       "      <td>2022-08-26 15:59:57+00:00</td>\n",
       "      <td>True</td>\n",
       "      <td>1 days 02:59:14</td>\n",
       "    </tr>\n",
       "    <tr>\n",
       "      <th>1788</th>\n",
       "      <td>utmb</td>\n",
       "      <td>UTMB®</td>\n",
       "      <td>100m</td>\n",
       "      <td>f</td>\n",
       "      <td>2893</td>\n",
       "      <td>Tomio SUYAMA</td>\n",
       "      <td>TS</td>\n",
       "      <td>53</td>\n",
       "      <td>JP</td>\n",
       "      <td>50-54M</td>\n",
       "      <td>...</td>\n",
       "      <td>234</td>\n",
       "      <td>None</td>\n",
       "      <td>143</td>\n",
       "      <td>2022-08-28 15:11:50.220000+00:00</td>\n",
       "      <td>None</td>\n",
       "      <td>None</td>\n",
       "      <td>1 days 23:11:53</td>\n",
       "      <td>2022-08-26 15:59:57+00:00</td>\n",
       "      <td>True</td>\n",
       "      <td>1 days 03:22:23</td>\n",
       "    </tr>\n",
       "  </tbody>\n",
       "</table>\n",
       "<p>1789 rows × 29 columns</p>\n",
       "</div>"
      ],
      "text/plain": [
       "     raceId raceName raceCategory status   bib          info_fullname  \\\n",
       "0      utmb    UTMB®         100m      f     1  Kilian JORNET BURGADA   \n",
       "1      utmb    UTMB®         100m      f    41      Mathieu BLANCHARD   \n",
       "2      utmb    UTMB®         100m      f    11           Thomas EVANS   \n",
       "3      utmb    UTMB®         100m      f     3           Jim WALMSLEY   \n",
       "4      utmb    UTMB®         100m      f    33            Zach MILLER   \n",
       "...     ...      ...          ...    ...   ...                    ...   \n",
       "1784   utmb    UTMB®         100m      f  2783       Pierre GRIFFATON   \n",
       "1785   utmb    UTMB®         100m      f  2801             Radu GULIE   \n",
       "1786   utmb    UTMB®         100m      f   861      Roxana DIRVAREANU   \n",
       "1787   utmb    UTMB®         100m      f  2347          Masahiro TAZO   \n",
       "1788   utmb    UTMB®         100m      f  2893           Tomio SUYAMA   \n",
       "\n",
       "     info_initials  info_age info_countryCode info_category  ...  \\\n",
       "0               KJ        35               ES        35-39M  ...   \n",
       "1               MB        35               FR        35-39M  ...   \n",
       "2               TE        30               GB        20-34M  ...   \n",
       "3               JW        32               US        20-34M  ...   \n",
       "4               ZM        34               US        20-34M  ...   \n",
       "...            ...       ...              ...           ...  ...   \n",
       "1784            PG        50               FR        50-54M  ...   \n",
       "1785            RG        41               RO        40-44M  ...   \n",
       "1786            RD        39               RO        35-39F  ...   \n",
       "1787            MT        55               JP        55-59M  ...   \n",
       "1788            TS        53               JP        50-54M  ...   \n",
       "\n",
       "     ranking_category lastLocation  prediction_lastPointId  \\\n",
       "0                   1         None                     143   \n",
       "1                   2         None                     143   \n",
       "2                   1         None                     143   \n",
       "3                   2         None                     143   \n",
       "4                   3         None                     143   \n",
       "...               ...          ...                     ...   \n",
       "1784              233         None                     143   \n",
       "1785              410         None                     143   \n",
       "1786               22         None                     143   \n",
       "1787              101         None                     143   \n",
       "1788              234         None                     143   \n",
       "\n",
       "               prediction_lastPassing prediction_nextPointId  \\\n",
       "0    2022-08-27 14:01:10.810000+00:00                   None   \n",
       "1    2022-08-27 12:37:44.200000+00:00                   None   \n",
       "2    2022-08-27 13:39:57.100000+00:00                   None   \n",
       "3    2022-08-27 13:36:10.710000+00:00                   None   \n",
       "4    2022-08-27 15:04:13.150000+00:00                   None   \n",
       "...                               ...                    ...   \n",
       "1784 2022-08-28 14:24:07.660000+00:00                   None   \n",
       "1785 2022-08-28 14:47:51.290000+00:00                   None   \n",
       "1786 2022-08-28 14:47:44.490000+00:00                   None   \n",
       "1787 2022-08-28 14:57:40.560000+00:00                   None   \n",
       "1788 2022-08-28 15:11:50.220000+00:00                   None   \n",
       "\n",
       "     prediction_nextPointPrediction        raceTime                     start  \\\n",
       "0                              None 0 days 19:49:30 2022-08-26 15:59:57+00:00   \n",
       "1                              None 0 days 19:54:50 2022-08-26 15:59:57+00:00   \n",
       "2                              None 0 days 20:34:35 2022-08-26 15:59:57+00:00   \n",
       "3                              None 0 days 21:12:12 2022-08-26 15:59:57+00:00   \n",
       "4                              None 0 days 21:27:50 2022-08-26 15:59:57+00:00   \n",
       "...                             ...             ...                       ...   \n",
       "1784                           None 1 days 22:24:10 2022-08-26 15:59:57+00:00   \n",
       "1785                           None 1 days 22:26:23 2022-08-26 15:59:57+00:00   \n",
       "1786                           None 1 days 22:26:24 2022-08-26 15:59:57+00:00   \n",
       "1787                           None 1 days 22:48:44 2022-08-26 15:59:57+00:00   \n",
       "1788                           None 1 days 23:11:53 2022-08-26 15:59:57+00:00   \n",
       "\n",
       "      isFinisher     diffToFirst  \n",
       "0           True 0 days 00:00:00  \n",
       "1           True 0 days 00:05:20  \n",
       "2           True 0 days 00:45:05  \n",
       "3           True 0 days 01:22:42  \n",
       "4           True 0 days 01:38:20  \n",
       "...          ...             ...  \n",
       "1784        True 1 days 02:34:40  \n",
       "1785        True 1 days 02:36:53  \n",
       "1786        True 1 days 02:36:54  \n",
       "1787        True 1 days 02:59:14  \n",
       "1788        True 1 days 03:22:23  \n",
       "\n",
       "[1789 rows x 29 columns]"
      ]
     },
     "execution_count": 4,
     "metadata": {},
     "output_type": "execute_result"
    }
   ],
   "source": [
    "import pandas as pd\n",
    "\n",
    "# options to be activated for developing and debugging\n",
    "# pd.set_option('display.max_rows', None)\n",
    "# pd.set_option('display.max_columns', None)\n",
    "\n",
    "df = pd.DataFrame(runners_flattened)\n",
    "numeric_columns = [\"bib\", \"info_age\", \"info_index\", \"ranking_scratch\", \"ranking_sex\", \"ranking_category\"]\n",
    "for col in numeric_columns:\n",
    "    df[col] = pd.to_numeric(df[col])\n",
    "    \n",
    "datetime_columns = [\"prediction_lastPassing\", \"start\"]\n",
    "for col in datetime_columns:\n",
    "    df[col] = pd.to_datetime(df[col])\n",
    "    \n",
    "\n",
    "df[\"diffToFirst\"] = pd.to_timedelta(df[\"diffToFirst\"])\n",
    "df[\"raceTime\"] = pd.to_timedelta(df[\"raceTime\"])\n",
    "    \n",
    "df"
   ]
  },
  {
   "cell_type": "code",
   "execution_count": 5,
   "id": "1e4295ac",
   "metadata": {},
   "outputs": [
    {
     "name": "stdout",
     "output_type": "stream",
     "text": [
      "Count   : 1789\n",
      "Average : 43.7\n",
      "Median  :   44\n",
      "Mode    :   45\n",
      "Lower   :   22\n",
      "Higher  :   74\n"
     ]
    }
   ],
   "source": [
    "def stats(sample):\n",
    "    sample = sample.dropna()\n",
    "    print(\"{:8}: {:4}\\n{:8}: {:4.1f}\\n{:8}: {:4}\\n{:8}: {:4}\\n{:8}: {:4}\\n{:8}: {:4}\"\n",
    "          .format(\n",
    "              \"Count\",\n",
    "              sample.count(),\n",
    "              \"Average\",\n",
    "              statistics.mean(sample),\n",
    "              \"Median\",\n",
    "              statistics.median(sample),\n",
    "              \"Mode\",\n",
    "              statistics.mode(sample),\n",
    "              \"Lower\",\n",
    "              functools.reduce(lambda a, b : a if a <= b else b, sample),\n",
    "              \"Higher\",\n",
    "              functools.reduce(lambda a, b : a if a >= b else b, sample)\n",
    "          )\n",
    "         )\n",
    "    \n",
    "stats(df[\"info_age\"])"
   ]
  },
  {
   "cell_type": "markdown",
   "id": "2b1e9b00",
   "metadata": {},
   "source": [
    "## Visualization\n",
    "We can now start exploring some plots. Let's see the age of the runners based on their ranking, and let's focus on the first 200 finishers.\n",
    "\n",
    "`ranking_scratch` represents the final ranking of the runner"
   ]
  },
  {
   "cell_type": "markdown",
   "id": "8b9ab12e",
   "metadata": {},
   "source": [
    "### Age of athletes"
   ]
  },
  {
   "cell_type": "code",
   "execution_count": 8,
   "id": "147e1756",
   "metadata": {},
   "outputs": [
    {
     "data": {
      "application/vnd.plotly.v1+json": {
       "config": {
        "plotlyServerURL": "https://plot.ly"
       },
       "data": [
        {
         "hovertemplate": "ranking_scratch=%{x}<br>info_age=%{y}<extra></extra>",
         "legendgroup": "",
         "line": {
          "color": "#636efa",
          "dash": "solid"
         },
         "marker": {
          "symbol": "circle"
         },
         "mode": "lines",
         "name": "",
         "showlegend": false,
         "type": "scattergl",
         "x": [
          1,
          2,
          3,
          4,
          5,
          6,
          7,
          8,
          9,
          10,
          11,
          12,
          13,
          14,
          15,
          16,
          17,
          18,
          19,
          20,
          21,
          22,
          23,
          24,
          25,
          26,
          27,
          28,
          29,
          30,
          31,
          32,
          33,
          34,
          35,
          36,
          37,
          38,
          39,
          40,
          41,
          42,
          43,
          44,
          45,
          46,
          47,
          48,
          49,
          50,
          51,
          52,
          53,
          54,
          55,
          56,
          57,
          58,
          59,
          60,
          61,
          62,
          63,
          64,
          65,
          66,
          66,
          68,
          69,
          70,
          71,
          72,
          73,
          74,
          75,
          76,
          77,
          78,
          79,
          80,
          81,
          82,
          83,
          84,
          85,
          86,
          87,
          88,
          89,
          90,
          91,
          92,
          93,
          94,
          95,
          96,
          97,
          98,
          99,
          100,
          101,
          102,
          103,
          103,
          105,
          106,
          107,
          108,
          109,
          110,
          111,
          112,
          113,
          114,
          115,
          116,
          117,
          118,
          119,
          120,
          121,
          122,
          123,
          124,
          125,
          126,
          127,
          128,
          129,
          130,
          131,
          132,
          133,
          134,
          135,
          136,
          137,
          138,
          139,
          139,
          141,
          142,
          143,
          144,
          145,
          146,
          147,
          148,
          149,
          150,
          151,
          152,
          153,
          154,
          155,
          156,
          157,
          158,
          159,
          160,
          161,
          162,
          163,
          164,
          165,
          166,
          167,
          168,
          169,
          170,
          171,
          172,
          173,
          174,
          175,
          175,
          177,
          178,
          179,
          180,
          181,
          182,
          183,
          184,
          185,
          186,
          187,
          188,
          189,
          190,
          191,
          192,
          193,
          194,
          195,
          196,
          197,
          198,
          199,
          200,
          201,
          202,
          203,
          204,
          205,
          206,
          207,
          208,
          209,
          210,
          211,
          212,
          213,
          214,
          215,
          216,
          217,
          218,
          219,
          220,
          221,
          222,
          223,
          224,
          225,
          226,
          227,
          228,
          229,
          230,
          231,
          232,
          233,
          234,
          235,
          236,
          237,
          238,
          239,
          240,
          241,
          242,
          243,
          244,
          245,
          246,
          247,
          248,
          249,
          250,
          251,
          252,
          253,
          254,
          255,
          256,
          257,
          258,
          259,
          260,
          261,
          262,
          263,
          264,
          265,
          266,
          267,
          268,
          269,
          270,
          271,
          272,
          273,
          274,
          275,
          276,
          277,
          278,
          279,
          280,
          281,
          282,
          283,
          284,
          285,
          286,
          287,
          288,
          289,
          290,
          290,
          292,
          293,
          294,
          295,
          296,
          297,
          298,
          299,
          300,
          301,
          301,
          303,
          304,
          305,
          306,
          307,
          308,
          309,
          310,
          310,
          312,
          313,
          314,
          315,
          316,
          317,
          318,
          319,
          320,
          321,
          322,
          323,
          324,
          325,
          326,
          327,
          328,
          329,
          330,
          331,
          332,
          333,
          334,
          335,
          335,
          337,
          338,
          339,
          340,
          341,
          342,
          343,
          344,
          345,
          346,
          347,
          348,
          349,
          350,
          351,
          352,
          353,
          354,
          355,
          356,
          357,
          358,
          359,
          360,
          361,
          362,
          363,
          364,
          365,
          366,
          367,
          368,
          369,
          370,
          371,
          372,
          373,
          374,
          375,
          376,
          377,
          378,
          379,
          380,
          381,
          382,
          383,
          384,
          385,
          386,
          387,
          388,
          389,
          390,
          391,
          392,
          393,
          394,
          395,
          396,
          397,
          398,
          399,
          399,
          401,
          402,
          403,
          404,
          405,
          406,
          407,
          408,
          409,
          410,
          411,
          412,
          413,
          414,
          415,
          416,
          417,
          418,
          419,
          420,
          421,
          422,
          423,
          424,
          425,
          426,
          427,
          428,
          429,
          430,
          431,
          432,
          433,
          434,
          435,
          436,
          437,
          438,
          439,
          440,
          441,
          442,
          443,
          444,
          445,
          446,
          447,
          448,
          449,
          450,
          451,
          452,
          453,
          454,
          455,
          456,
          457,
          458,
          459,
          460,
          461,
          462,
          463,
          464,
          465,
          466,
          467,
          468,
          469,
          470,
          471,
          472,
          473,
          474,
          475,
          476,
          477,
          478,
          479,
          480,
          481,
          482,
          483,
          484,
          485,
          486,
          487,
          488,
          489,
          490,
          491,
          492,
          493,
          494,
          495,
          496,
          497,
          498,
          499,
          500,
          501,
          502,
          503,
          504,
          505,
          506,
          507,
          508,
          509,
          510,
          511,
          512,
          513,
          514,
          515,
          516,
          517,
          518,
          519,
          519,
          521,
          522,
          523,
          524,
          524,
          526,
          527,
          528,
          529,
          530,
          531,
          532,
          533,
          534,
          535,
          536,
          537,
          538,
          539,
          539,
          541,
          542,
          543,
          544,
          545,
          546,
          547,
          548,
          549,
          550,
          551,
          552,
          553,
          554,
          555,
          556,
          557,
          558,
          559,
          560,
          561,
          562,
          563,
          564,
          565,
          566,
          567,
          568,
          569,
          570,
          571,
          572,
          573,
          574,
          575,
          576,
          577,
          578,
          578,
          580,
          581,
          582,
          583,
          584,
          585,
          586,
          587,
          588,
          589,
          590,
          591,
          592,
          593,
          594,
          595,
          596,
          597,
          598,
          599,
          600,
          601,
          602,
          603,
          604,
          605,
          606,
          607,
          608,
          609,
          610,
          611,
          612,
          613,
          614,
          615,
          616,
          617,
          618,
          619,
          620,
          621,
          622,
          623,
          624,
          625,
          626,
          627,
          628,
          629,
          630,
          631,
          632,
          633,
          634,
          635,
          636,
          637,
          638,
          639,
          640,
          641,
          642,
          643,
          644,
          645,
          646,
          647,
          648,
          649,
          650,
          651,
          652,
          653,
          654,
          655,
          656,
          657,
          658,
          659,
          660,
          661,
          662,
          663,
          664,
          665,
          666,
          667,
          668,
          669,
          670,
          671,
          672,
          673,
          674,
          675,
          676,
          677,
          678,
          679,
          680,
          681,
          682,
          683,
          684,
          685,
          686,
          687,
          688,
          689,
          690,
          691,
          692,
          693,
          694,
          695,
          696,
          697,
          698,
          699,
          700,
          701,
          702,
          703,
          704,
          705,
          706,
          707,
          708,
          709,
          710,
          711,
          712,
          713,
          714,
          715,
          716,
          717,
          718,
          719,
          720,
          721,
          722,
          722,
          724,
          725,
          726,
          727,
          728,
          729,
          730,
          731,
          732,
          733,
          734,
          735,
          736,
          736,
          738,
          739,
          740,
          741,
          742,
          743,
          744,
          745,
          746,
          747,
          748,
          749,
          750,
          751,
          752,
          753,
          754,
          755,
          756,
          757,
          758,
          759,
          760,
          761,
          762,
          763,
          764,
          765,
          766,
          767,
          768,
          769,
          770,
          771,
          772,
          773,
          774,
          775,
          776,
          777,
          778,
          779,
          780,
          781,
          782,
          783,
          784,
          785,
          786,
          787,
          788,
          789,
          790,
          791,
          792,
          793,
          794,
          795,
          796,
          797,
          798,
          799,
          800,
          801,
          802,
          803,
          804,
          805,
          806,
          807,
          808,
          809,
          810,
          811,
          812,
          813,
          814,
          815,
          816,
          817,
          818,
          819,
          820,
          821,
          822,
          823,
          824,
          825,
          826,
          827,
          828,
          829,
          830,
          831,
          832,
          833,
          834,
          835,
          836,
          837,
          838,
          839,
          840,
          841,
          842,
          843,
          844,
          845,
          846,
          847,
          848,
          849,
          850,
          851,
          852,
          853,
          854,
          855,
          856,
          857,
          858,
          859,
          860,
          861,
          862,
          863,
          864,
          865,
          866,
          867,
          868,
          869,
          870,
          871,
          872,
          873,
          874,
          875,
          876,
          877,
          878,
          879,
          880,
          881,
          882,
          883,
          884,
          885,
          886,
          887,
          888,
          889,
          890,
          891,
          892,
          893,
          894,
          895,
          896,
          897,
          898,
          899,
          900,
          901,
          902,
          903,
          904,
          905,
          906,
          907,
          908,
          909,
          910,
          911,
          912,
          913,
          914,
          915,
          916,
          917,
          918,
          919,
          920,
          921,
          922,
          923,
          924,
          925,
          926,
          927,
          928,
          929,
          930,
          931,
          932,
          933,
          934,
          935,
          936,
          936,
          938,
          939,
          940,
          941,
          942,
          943,
          944,
          944,
          946,
          947,
          948,
          949,
          950,
          951,
          952,
          953,
          954,
          955,
          956,
          957,
          958,
          959,
          960,
          961,
          962,
          963,
          964,
          965,
          965,
          967,
          968,
          969,
          970,
          971,
          971,
          973,
          974,
          975,
          976,
          977,
          977,
          979,
          980,
          981,
          982,
          982,
          984,
          985,
          986,
          987,
          987,
          989,
          990,
          991,
          992,
          993,
          994,
          995,
          996,
          997,
          998,
          998,
          1000,
          1000,
          1002,
          1003,
          1004,
          1005,
          1006,
          1007,
          1008,
          1009,
          1010,
          1011,
          1012,
          1013,
          1014,
          1015,
          1016,
          1017,
          1018,
          1019,
          1020,
          1021,
          1022,
          1023,
          1024,
          1025,
          1026,
          1027,
          1028,
          1029,
          1030,
          1031,
          1032,
          1033,
          1034,
          1035,
          1036,
          1037,
          1038,
          1039,
          1040,
          1041,
          1042,
          1043,
          1044,
          1045,
          1046,
          1047,
          1048,
          1049,
          1050,
          1051,
          1052,
          1053,
          1054,
          1055,
          1056,
          1057,
          1058,
          1059,
          1060,
          1061,
          1062,
          1063,
          1064,
          1064,
          1066,
          1067,
          1067,
          1069,
          1070,
          1071,
          1072,
          1073,
          1074,
          1075,
          1076,
          1077,
          1078,
          1079,
          1080,
          1081,
          1082,
          1083,
          1084,
          1085,
          1085,
          1087,
          1088,
          1089,
          1090,
          1091,
          1092,
          1093,
          1094,
          1095,
          1096,
          1097,
          1098,
          1099,
          1100,
          1101,
          1102,
          1103,
          1104,
          1105,
          1105,
          1107,
          1108,
          1109,
          1110,
          1110,
          1112,
          1113,
          1114,
          1115,
          1116,
          1117,
          1118,
          1119,
          1120,
          1121,
          1122,
          1123,
          1124,
          1125,
          1126,
          1127,
          1128,
          1129,
          1130,
          1131,
          1132,
          1132,
          1134,
          1135,
          1136,
          1137,
          1138,
          1139,
          1140,
          1141,
          1142,
          1143,
          1144,
          1145,
          1146,
          1147,
          1148,
          1149,
          1150,
          1151,
          1152,
          1153,
          1154,
          1155,
          1156,
          1157,
          1158,
          1159,
          1160,
          1161,
          1162,
          1163,
          1164,
          1165,
          1166,
          1167,
          1168,
          1169,
          1170,
          1171,
          1172,
          1173,
          1174,
          1175,
          1176,
          1177,
          1177,
          1179,
          1180,
          1181,
          1182,
          1183,
          1184,
          1185,
          1186,
          1187,
          1188,
          1189,
          1190,
          1191,
          1192,
          1193,
          1194,
          1195,
          1196,
          1197,
          1198,
          1199,
          1200,
          1201,
          1202,
          1203,
          1204,
          1205,
          1206,
          1207,
          1208,
          1209,
          1210,
          1211,
          1212,
          1213,
          1214,
          1215,
          1216,
          1217,
          1218,
          1219,
          1220,
          1221,
          1222,
          1223,
          1224,
          1224,
          1226,
          1227,
          1228,
          1229,
          1230,
          1230,
          1232,
          1233,
          1234,
          1235,
          1236,
          1237,
          1238,
          1239,
          1240,
          1240,
          1242,
          1243,
          1244,
          1245,
          1246,
          1247,
          1248,
          1249,
          1250,
          1251,
          1252,
          1253,
          1254,
          1255,
          1256,
          1257,
          1258,
          1259,
          1260,
          1261,
          1262,
          1263,
          1264,
          1265,
          1266,
          1267,
          1268,
          1269,
          1270,
          1271,
          1272,
          1273,
          1274,
          1275,
          1276,
          1277,
          1278,
          1279,
          1280,
          1281,
          1282,
          1283,
          1284,
          1285,
          1286,
          1287,
          1287,
          1289,
          1290,
          1291,
          1292,
          1293,
          1294,
          1295,
          1296,
          1297,
          1298,
          1299,
          1300,
          1301,
          1302,
          1303,
          1304,
          1305,
          1306,
          1307,
          1308,
          1308,
          1310,
          1311,
          1312,
          1313,
          1314,
          1315,
          1316,
          1317,
          1318,
          1319,
          1320,
          1321,
          1322,
          1323,
          1324,
          1325,
          1326,
          1327,
          1328,
          1329,
          1330,
          1331,
          1332,
          1333,
          1334,
          1335,
          1336,
          1337,
          1338,
          1339,
          1340,
          1341,
          1342,
          1343,
          1344,
          1345,
          1346,
          1347,
          1348,
          1349,
          1349,
          1351,
          1352,
          1353,
          1354,
          1355,
          1356,
          1357,
          1358,
          1359,
          1360,
          1361,
          1362,
          1363,
          1364,
          1365,
          1366,
          1366,
          1368,
          1368,
          1370,
          1371,
          1372,
          1373,
          1374,
          1375,
          1376,
          1377,
          1378,
          1378,
          1378,
          1381,
          1382,
          1383,
          1384,
          1385,
          1386,
          1387,
          1388,
          1389,
          1390,
          1391,
          1392,
          1393,
          1394,
          1395,
          1395,
          1397,
          1398,
          1399,
          1400,
          1401,
          1402,
          1403,
          1404,
          1405,
          1406,
          1407,
          1408,
          1409,
          1410,
          1411,
          1412,
          1413,
          1414,
          1415,
          1416,
          1417,
          1418,
          1419,
          1420,
          1421,
          1422,
          1423,
          1424,
          1425,
          1426,
          1427,
          1428,
          1429,
          1430,
          1431,
          1432,
          1433,
          1434,
          1435,
          1436,
          1437,
          1438,
          1439,
          1439,
          1441,
          1442,
          1443,
          1444,
          1445,
          1446,
          1447,
          1447,
          1449,
          1450,
          1451,
          1452,
          1453,
          1454,
          1455,
          1456,
          1457,
          1458,
          1459,
          1460,
          1461,
          1462,
          1463,
          1464,
          1465,
          1466,
          1467,
          1468,
          1469,
          1470,
          1471,
          1472,
          1473,
          1474,
          1475,
          1476,
          1477,
          1478,
          1479,
          1480,
          1481,
          1482,
          1483,
          1484,
          1485,
          1486,
          1487,
          1488,
          1489,
          1490,
          1491,
          1492,
          1493,
          1494,
          1495,
          1496,
          1496,
          1498,
          1499,
          1500,
          1501,
          1502,
          1503,
          1504,
          1505,
          1506,
          1507,
          1508,
          1509,
          1510,
          1511,
          1512,
          1513,
          1514,
          1515,
          1516,
          1517,
          1517,
          1519,
          1520,
          1521,
          1522,
          1523,
          1524,
          1525,
          1526,
          1526,
          1528,
          1529,
          1530,
          1531,
          1532,
          1533,
          1533,
          1535,
          1536,
          1537,
          1538,
          1539,
          1540,
          1540,
          1542,
          1543,
          1544,
          1545,
          1546,
          1547,
          1548,
          1549,
          1550,
          1551,
          1552,
          1553,
          1554,
          1554,
          1556,
          1557,
          1558,
          1559,
          1560,
          1561,
          1562,
          1563,
          1564,
          1565,
          1566,
          1567,
          1568,
          1569,
          1570,
          1570,
          1572,
          1572,
          1574,
          1575,
          1576,
          1577,
          1577,
          1579,
          1580,
          1581,
          1582,
          1583,
          1584,
          1585,
          1585,
          1585,
          1588,
          1589,
          1590,
          1591,
          1592,
          1593,
          1594,
          1595,
          1596,
          1597,
          1598,
          1599,
          1600,
          1601,
          1602,
          1603,
          1604,
          1605,
          1605,
          1607,
          1608,
          1609,
          1610,
          1611,
          1611,
          1613,
          1613,
          1615,
          1616,
          1617,
          1618,
          1618,
          1620,
          1620,
          1622,
          1623,
          1624,
          1625,
          1626,
          1627,
          1628,
          1629,
          1630,
          1631,
          1632,
          1633,
          1634,
          1635,
          1636,
          1637,
          1638,
          1639,
          1640,
          1641,
          1642,
          1642,
          1644,
          1645,
          1646,
          1647,
          1648,
          1649,
          1650,
          1651,
          1652,
          1653,
          1654,
          1655,
          1656,
          1657,
          1658,
          1658,
          1660,
          1661,
          1662,
          1663,
          1664,
          1665,
          1666,
          1667,
          1668,
          1669,
          1670,
          1671,
          1672,
          1673,
          1674,
          1675,
          1676,
          1677,
          1678,
          1679,
          1680,
          1681,
          1682,
          1683,
          1684,
          1685,
          1686,
          1687,
          1688,
          1689,
          1690,
          1691,
          1692,
          1693,
          1694,
          1695,
          1696,
          1697,
          1698,
          1699,
          1699,
          1701,
          1702,
          1703,
          1704,
          1704,
          1706,
          1707,
          1708,
          1709,
          1710,
          1711,
          1712,
          1713,
          1714,
          1715,
          1716,
          1717,
          1718,
          1719,
          1720,
          1721,
          1722,
          1723,
          1724,
          1725,
          1726,
          1727,
          1727,
          1729,
          1730,
          1731,
          1732,
          1733,
          1734,
          1735,
          1736,
          1737,
          1738,
          1739,
          1740,
          1741,
          1742,
          1743,
          1744,
          1745,
          1746,
          1747,
          1748,
          1749,
          1750,
          1751,
          1752,
          1753,
          1754,
          1755,
          1756,
          1757,
          1758,
          1759,
          1760,
          1761,
          1762,
          1763,
          1764,
          1765,
          1766,
          1767,
          1767,
          1769,
          1770,
          1771,
          1772,
          1773,
          1774,
          1775,
          1776,
          1777,
          1778,
          1779,
          1780,
          1781,
          1782,
          1783,
          1784,
          1785,
          1786,
          1787,
          1788,
          1789
         ],
         "xaxis": "x",
         "y": [
          35,
          35,
          30,
          32,
          34,
          41,
          28,
          37,
          33,
          32,
          41,
          31,
          41,
          35,
          39,
          29,
          37,
          31,
          43,
          33,
          32,
          30,
          27,
          42,
          29,
          30,
          33,
          30,
          37,
          31,
          31,
          37,
          35,
          40,
          35,
          39,
          34,
          39,
          31,
          32,
          46,
          45,
          41,
          43,
          39,
          32,
          33,
          29,
          33,
          43,
          45,
          38,
          35,
          44,
          37,
          42,
          59,
          36,
          37,
          49,
          40,
          37,
          36,
          31,
          45,
          39,
          28,
          48,
          40,
          44,
          47,
          41,
          42,
          42,
          31,
          39,
          43,
          47,
          37,
          31,
          40,
          45,
          37,
          34,
          37,
          36,
          32,
          41,
          34,
          30,
          36,
          44,
          33,
          47,
          33,
          36,
          43,
          45,
          37,
          28,
          40,
          30,
          33,
          44,
          29,
          34,
          40,
          36,
          39,
          40,
          46,
          30,
          37,
          30,
          40,
          34,
          39,
          38,
          44,
          35,
          40,
          47,
          35,
          51,
          41,
          43,
          43,
          34,
          41,
          54,
          29,
          34,
          42,
          39,
          43,
          50,
          42,
          36,
          37,
          34,
          33,
          38,
          32,
          52,
          45,
          49,
          35,
          40,
          30,
          43,
          39,
          37,
          49,
          38,
          43,
          37,
          29,
          38,
          51,
          41,
          43,
          41,
          35,
          50,
          33,
          36,
          50,
          42,
          42,
          40,
          34,
          40,
          50,
          46,
          36,
          47,
          38,
          38,
          45,
          36,
          37,
          39,
          32,
          33,
          44,
          38,
          41,
          41,
          31,
          36,
          36,
          40,
          52,
          49,
          34,
          45,
          42,
          35,
          43,
          37,
          35,
          40,
          38,
          45,
          34,
          27,
          38,
          33,
          47,
          35,
          39,
          49,
          29,
          47,
          34,
          30,
          43,
          28,
          29,
          39,
          33,
          50,
          34,
          30,
          42,
          37,
          47,
          39,
          39,
          46,
          43,
          34,
          45,
          60,
          38,
          46,
          48,
          30,
          43,
          42,
          42,
          39,
          49,
          49,
          43,
          51,
          35,
          40,
          50,
          50,
          43,
          34,
          28,
          23,
          25,
          48,
          45,
          65,
          39,
          32,
          34,
          42,
          43,
          34,
          50,
          34,
          32,
          33,
          34,
          33,
          33,
          45,
          39,
          50,
          49,
          40,
          52,
          34,
          29,
          36,
          44,
          30,
          44,
          40,
          50,
          41,
          40,
          24,
          49,
          26,
          30,
          49,
          44,
          39,
          50,
          39,
          55,
          48,
          42,
          43,
          39,
          39,
          40,
          45,
          39,
          41,
          43,
          37,
          39,
          35,
          51,
          60,
          44,
          50,
          39,
          37,
          47,
          43,
          30,
          47,
          37,
          30,
          53,
          37,
          24,
          49,
          38,
          36,
          33,
          41,
          43,
          36,
          36,
          61,
          39,
          47,
          32,
          37,
          53,
          52,
          34,
          41,
          53,
          38,
          45,
          47,
          40,
          43,
          44,
          45,
          43,
          48,
          32,
          42,
          36,
          45,
          38,
          41,
          41,
          58,
          38,
          34,
          54,
          36,
          39,
          52,
          47,
          45,
          37,
          29,
          45,
          45,
          52,
          36,
          41,
          48,
          33,
          29,
          48,
          49,
          37,
          44,
          48,
          38,
          45,
          30,
          38,
          34,
          30,
          41,
          55,
          44,
          45,
          37,
          45,
          47,
          30,
          45,
          36,
          38,
          46,
          33,
          43,
          33,
          51,
          40,
          36,
          46,
          49,
          37,
          49,
          63,
          34,
          38,
          31,
          48,
          48,
          43,
          41,
          30,
          42,
          37,
          45,
          47,
          44,
          46,
          42,
          47,
          48,
          43,
          48,
          52,
          41,
          34,
          47,
          40,
          50,
          57,
          42,
          35,
          60,
          33,
          46,
          50,
          61,
          42,
          39,
          47,
          30,
          38,
          46,
          47,
          35,
          49,
          29,
          37,
          56,
          39,
          49,
          48,
          34,
          49,
          47,
          52,
          42,
          32,
          41,
          37,
          39,
          41,
          51,
          42,
          46,
          40,
          52,
          47,
          38,
          46,
          43,
          48,
          44,
          44,
          46,
          41,
          45,
          43,
          41,
          31,
          51,
          36,
          31,
          31,
          37,
          46,
          47,
          32,
          54,
          38,
          58,
          52,
          56,
          39,
          43,
          53,
          37,
          50,
          53,
          52,
          43,
          54,
          37,
          40,
          41,
          39,
          42,
          53,
          36,
          47,
          34,
          35,
          47,
          47,
          52,
          32,
          41,
          40,
          31,
          43,
          44,
          51,
          49,
          37,
          55,
          30,
          45,
          35,
          46,
          48,
          51,
          34,
          42,
          62,
          48,
          36,
          32,
          43,
          44,
          42,
          41,
          54,
          64,
          41,
          40,
          53,
          45,
          41,
          42,
          46,
          45,
          40,
          31,
          39,
          34,
          45,
          49,
          33,
          48,
          31,
          44,
          52,
          39,
          52,
          40,
          62,
          37,
          32,
          42,
          41,
          41,
          48,
          48,
          45,
          30,
          41,
          41,
          42,
          43,
          46,
          43,
          45,
          50,
          57,
          34,
          40,
          41,
          41,
          50,
          47,
          36,
          47,
          46,
          59,
          53,
          44,
          42,
          28,
          41,
          39,
          50,
          38,
          31,
          53,
          29,
          35,
          46,
          48,
          40,
          58,
          55,
          28,
          30,
          48,
          50,
          45,
          42,
          50,
          54,
          62,
          61,
          45,
          41,
          39,
          47,
          46,
          53,
          51,
          45,
          39,
          30,
          39,
          34,
          58,
          45,
          44,
          49,
          49,
          36,
          35,
          44,
          44,
          34,
          34,
          54,
          36,
          43,
          43,
          40,
          34,
          37,
          34,
          43,
          49,
          44,
          39,
          37,
          52,
          39,
          42,
          31,
          43,
          50,
          41,
          53,
          36,
          34,
          41,
          44,
          55,
          50,
          32,
          39,
          44,
          31,
          43,
          39,
          33,
          40,
          44,
          54,
          34,
          52,
          50,
          57,
          50,
          41,
          41,
          53,
          35,
          43,
          44,
          37,
          55,
          38,
          36,
          40,
          45,
          45,
          34,
          41,
          48,
          47,
          33,
          46,
          42,
          55,
          40,
          38,
          35,
          42,
          32,
          55,
          55,
          52,
          48,
          51,
          54,
          40,
          51,
          41,
          53,
          54,
          56,
          44,
          44,
          38,
          35,
          31,
          35,
          37,
          46,
          43,
          47,
          49,
          44,
          49,
          41,
          49,
          33,
          50,
          43,
          32,
          41,
          51,
          33,
          38,
          47,
          42,
          41,
          50,
          41,
          47,
          53,
          24,
          41,
          51,
          40,
          39,
          42,
          45,
          43,
          33,
          39,
          37,
          39,
          43,
          39,
          40,
          33,
          42,
          48,
          43,
          48,
          45,
          40,
          35,
          53,
          46,
          50,
          35,
          58,
          40,
          50,
          43,
          40,
          47,
          48,
          43,
          29,
          48,
          33,
          29,
          34,
          47,
          41,
          36,
          36,
          43,
          45,
          32,
          44,
          31,
          40,
          41,
          38,
          45,
          49,
          47,
          35,
          39,
          30,
          41,
          41,
          52,
          50,
          42,
          36,
          41,
          48,
          39,
          38,
          55,
          52,
          52,
          39,
          47,
          26,
          39,
          47,
          50,
          36,
          48,
          56,
          58,
          54,
          55,
          50,
          43,
          44,
          43,
          47,
          40,
          43,
          46,
          46,
          39,
          49,
          29,
          51,
          45,
          46,
          32,
          43,
          52,
          46,
          38,
          37,
          58,
          41,
          47,
          49,
          51,
          50,
          46,
          46,
          47,
          40,
          33,
          31,
          47,
          52,
          53,
          48,
          39,
          55,
          44,
          59,
          58,
          36,
          42,
          44,
          51,
          41,
          47,
          54,
          48,
          60,
          37,
          46,
          49,
          53,
          49,
          44,
          47,
          44,
          47,
          42,
          45,
          48,
          39,
          46,
          48,
          52,
          50,
          54,
          30,
          46,
          54,
          46,
          40,
          43,
          46,
          42,
          55,
          47,
          48,
          40,
          33,
          43,
          46,
          51,
          48,
          40,
          52,
          57,
          60,
          49,
          45,
          55,
          57,
          50,
          45,
          42,
          56,
          52,
          44,
          45,
          39,
          45,
          34,
          43,
          34,
          48,
          48,
          39,
          47,
          51,
          34,
          31,
          55,
          36,
          42,
          33,
          51,
          37,
          44,
          38,
          46,
          46,
          56,
          40,
          30,
          22,
          47,
          48,
          51,
          56,
          45,
          59,
          40,
          42,
          45,
          44,
          41,
          42,
          38,
          40,
          41,
          41,
          40,
          58,
          54,
          44,
          29,
          42,
          47,
          47,
          57,
          40,
          47,
          43,
          33,
          40,
          31,
          52,
          42,
          47,
          55,
          50,
          31,
          41,
          45,
          58,
          40,
          51,
          38,
          43,
          37,
          50,
          47,
          41,
          49,
          50,
          45,
          50,
          31,
          48,
          56,
          44,
          31,
          45,
          43,
          35,
          42,
          44,
          45,
          45,
          37,
          52,
          54,
          47,
          52,
          45,
          51,
          50,
          48,
          36,
          35,
          41,
          33,
          33,
          59,
          44,
          45,
          48,
          47,
          50,
          46,
          44,
          34,
          45,
          47,
          48,
          40,
          47,
          50,
          48,
          51,
          52,
          56,
          48,
          47,
          48,
          42,
          48,
          41,
          41,
          46,
          50,
          53,
          35,
          39,
          57,
          46,
          38,
          52,
          52,
          49,
          41,
          46,
          40,
          44,
          39,
          33,
          60,
          34,
          49,
          45,
          47,
          42,
          35,
          49,
          57,
          31,
          49,
          46,
          42,
          55,
          34,
          35,
          42,
          38,
          46,
          45,
          42,
          59,
          52,
          43,
          53,
          56,
          50,
          47,
          46,
          51,
          43,
          50,
          36,
          48,
          52,
          67,
          48,
          50,
          50,
          42,
          46,
          41,
          47,
          36,
          45,
          45,
          44,
          48,
          45,
          43,
          45,
          45,
          53,
          39,
          45,
          43,
          59,
          37,
          38,
          42,
          39,
          33,
          46,
          40,
          56,
          33,
          38,
          51,
          35,
          52,
          44,
          33,
          30,
          40,
          35,
          49,
          50,
          47,
          47,
          41,
          40,
          50,
          43,
          60,
          42,
          47,
          43,
          47,
          54,
          30,
          35,
          62,
          38,
          44,
          46,
          28,
          39,
          46,
          46,
          34,
          46,
          52,
          59,
          54,
          47,
          52,
          59,
          60,
          58,
          31,
          30,
          43,
          48,
          53,
          51,
          48,
          56,
          45,
          47,
          47,
          41,
          50,
          40,
          37,
          39,
          54,
          46,
          51,
          45,
          47,
          61,
          49,
          43,
          45,
          34,
          47,
          54,
          39,
          40,
          44,
          47,
          35,
          56,
          41,
          51,
          60,
          49,
          36,
          46,
          34,
          49,
          48,
          51,
          47,
          50,
          31,
          45,
          37,
          42,
          47,
          39,
          41,
          39,
          36,
          50,
          51,
          43,
          51,
          59,
          43,
          52,
          57,
          47,
          48,
          53,
          49,
          44,
          42,
          50,
          48,
          37,
          49,
          48,
          44,
          50,
          41,
          46,
          53,
          51,
          39,
          41,
          59,
          46,
          58,
          35,
          30,
          63,
          45,
          51,
          41,
          52,
          49,
          41,
          37,
          44,
          48,
          51,
          43,
          36,
          36,
          42,
          46,
          39,
          46,
          41,
          50,
          53,
          42,
          39,
          40,
          36,
          49,
          51,
          33,
          59,
          49,
          44,
          47,
          44,
          43,
          45,
          47,
          47,
          32,
          46,
          52,
          41,
          49,
          44,
          32,
          45,
          46,
          45,
          56,
          51,
          49,
          48,
          48,
          42,
          54,
          41,
          45,
          36,
          38,
          58,
          46,
          43,
          36,
          45,
          53,
          48,
          51,
          37,
          48,
          58,
          56,
          39,
          47,
          45,
          48,
          46,
          37,
          48,
          46,
          42,
          50,
          48,
          55,
          54,
          51,
          52,
          44,
          40,
          50,
          46,
          53,
          43,
          50,
          49,
          39,
          45,
          51,
          48,
          55,
          58,
          43,
          46,
          46,
          44,
          42,
          39,
          26,
          54,
          43,
          41,
          52,
          46,
          36,
          43,
          31,
          59,
          48,
          42,
          48,
          35,
          49,
          51,
          32,
          47,
          49,
          49,
          53,
          53,
          62,
          33,
          44,
          53,
          30,
          43,
          47,
          43,
          45,
          48,
          42,
          39,
          53,
          58,
          41,
          45,
          44,
          35,
          36,
          37,
          44,
          56,
          40,
          45,
          34,
          39,
          48,
          52,
          54,
          40,
          45,
          44,
          43,
          51,
          47,
          55,
          54,
          47,
          51,
          40,
          35,
          38,
          41,
          53,
          37,
          65,
          50,
          42,
          53,
          52,
          56,
          45,
          45,
          33,
          51,
          44,
          41,
          54,
          57,
          49,
          50,
          47,
          59,
          42,
          48,
          50,
          43,
          38,
          63,
          45,
          59,
          42,
          51,
          58,
          35,
          48,
          45,
          40,
          52,
          47,
          42,
          37,
          39,
          42,
          27,
          51,
          52,
          46,
          50,
          46,
          47,
          49,
          31,
          58,
          51,
          45,
          35,
          38,
          44,
          63,
          40,
          43,
          52,
          49,
          30,
          55,
          74,
          24,
          49,
          45,
          50,
          47,
          38,
          44,
          40,
          41,
          36,
          45,
          38,
          44,
          35,
          42,
          47,
          36,
          53,
          43,
          50,
          55,
          51,
          51,
          48,
          43,
          36,
          54,
          52,
          62,
          45,
          43,
          42,
          45,
          38,
          53,
          44,
          39,
          53,
          58,
          42,
          42,
          39,
          44,
          45,
          46,
          43,
          49,
          46,
          41,
          65,
          36,
          64,
          44,
          50,
          41,
          44,
          48,
          50,
          36,
          33,
          47,
          49,
          42,
          47,
          52,
          50,
          39,
          39,
          36,
          51,
          53,
          41,
          45,
          57,
          45,
          53,
          53,
          37,
          57,
          39,
          45,
          49,
          49,
          40,
          50,
          46,
          38,
          45,
          37,
          47,
          44,
          49,
          58,
          42,
          41,
          52,
          42,
          41,
          32,
          30,
          58,
          43,
          28,
          40,
          55,
          55,
          59,
          57,
          51,
          41,
          49,
          48,
          38,
          46,
          48,
          45,
          42,
          68,
          48,
          49,
          38,
          42,
          40,
          40,
          46,
          50,
          44,
          55,
          58,
          48,
          43,
          42,
          53,
          41,
          44,
          55,
          46,
          60,
          41,
          64,
          46,
          35,
          56,
          46,
          50,
          44,
          56,
          36,
          48,
          48,
          38,
          37,
          46,
          55,
          49,
          43,
          52,
          45,
          40,
          59,
          58,
          56,
          49,
          41,
          49,
          46,
          43,
          48,
          47,
          46,
          30,
          42,
          39,
          48,
          49,
          29,
          42,
          41,
          40,
          47,
          41,
          54,
          51,
          44,
          55,
          48,
          50,
          42,
          54,
          43,
          43,
          51,
          46,
          45,
          41,
          38,
          63,
          58,
          53,
          43,
          51,
          51,
          53,
          54,
          53,
          49,
          48,
          47,
          58,
          58,
          48,
          50,
          41,
          57,
          48,
          30,
          49,
          34,
          53,
          47,
          54,
          69,
          43,
          38,
          45,
          39,
          43,
          41,
          37,
          36,
          44,
          44,
          42,
          53,
          51,
          51,
          37,
          44,
          40,
          61,
          40,
          52,
          48,
          41,
          40,
          43,
          54,
          55,
          49,
          34,
          60,
          37,
          60,
          51,
          36,
          49,
          40,
          46,
          59,
          45,
          42,
          50,
          41,
          39,
          55,
          53
         ],
         "yaxis": "y"
        }
       ],
       "layout": {
        "legend": {
         "tracegroupgap": 0
        },
        "margin": {
         "t": 60
        },
        "template": {
         "data": {
          "bar": [
           {
            "error_x": {
             "color": "#2a3f5f"
            },
            "error_y": {
             "color": "#2a3f5f"
            },
            "marker": {
             "line": {
              "color": "#E5ECF6",
              "width": 0.5
             },
             "pattern": {
              "fillmode": "overlay",
              "size": 10,
              "solidity": 0.2
             }
            },
            "type": "bar"
           }
          ],
          "barpolar": [
           {
            "marker": {
             "line": {
              "color": "#E5ECF6",
              "width": 0.5
             },
             "pattern": {
              "fillmode": "overlay",
              "size": 10,
              "solidity": 0.2
             }
            },
            "type": "barpolar"
           }
          ],
          "carpet": [
           {
            "aaxis": {
             "endlinecolor": "#2a3f5f",
             "gridcolor": "white",
             "linecolor": "white",
             "minorgridcolor": "white",
             "startlinecolor": "#2a3f5f"
            },
            "baxis": {
             "endlinecolor": "#2a3f5f",
             "gridcolor": "white",
             "linecolor": "white",
             "minorgridcolor": "white",
             "startlinecolor": "#2a3f5f"
            },
            "type": "carpet"
           }
          ],
          "choropleth": [
           {
            "colorbar": {
             "outlinewidth": 0,
             "ticks": ""
            },
            "type": "choropleth"
           }
          ],
          "contour": [
           {
            "colorbar": {
             "outlinewidth": 0,
             "ticks": ""
            },
            "colorscale": [
             [
              0,
              "#0d0887"
             ],
             [
              0.1111111111111111,
              "#46039f"
             ],
             [
              0.2222222222222222,
              "#7201a8"
             ],
             [
              0.3333333333333333,
              "#9c179e"
             ],
             [
              0.4444444444444444,
              "#bd3786"
             ],
             [
              0.5555555555555556,
              "#d8576b"
             ],
             [
              0.6666666666666666,
              "#ed7953"
             ],
             [
              0.7777777777777778,
              "#fb9f3a"
             ],
             [
              0.8888888888888888,
              "#fdca26"
             ],
             [
              1,
              "#f0f921"
             ]
            ],
            "type": "contour"
           }
          ],
          "contourcarpet": [
           {
            "colorbar": {
             "outlinewidth": 0,
             "ticks": ""
            },
            "type": "contourcarpet"
           }
          ],
          "heatmap": [
           {
            "colorbar": {
             "outlinewidth": 0,
             "ticks": ""
            },
            "colorscale": [
             [
              0,
              "#0d0887"
             ],
             [
              0.1111111111111111,
              "#46039f"
             ],
             [
              0.2222222222222222,
              "#7201a8"
             ],
             [
              0.3333333333333333,
              "#9c179e"
             ],
             [
              0.4444444444444444,
              "#bd3786"
             ],
             [
              0.5555555555555556,
              "#d8576b"
             ],
             [
              0.6666666666666666,
              "#ed7953"
             ],
             [
              0.7777777777777778,
              "#fb9f3a"
             ],
             [
              0.8888888888888888,
              "#fdca26"
             ],
             [
              1,
              "#f0f921"
             ]
            ],
            "type": "heatmap"
           }
          ],
          "heatmapgl": [
           {
            "colorbar": {
             "outlinewidth": 0,
             "ticks": ""
            },
            "colorscale": [
             [
              0,
              "#0d0887"
             ],
             [
              0.1111111111111111,
              "#46039f"
             ],
             [
              0.2222222222222222,
              "#7201a8"
             ],
             [
              0.3333333333333333,
              "#9c179e"
             ],
             [
              0.4444444444444444,
              "#bd3786"
             ],
             [
              0.5555555555555556,
              "#d8576b"
             ],
             [
              0.6666666666666666,
              "#ed7953"
             ],
             [
              0.7777777777777778,
              "#fb9f3a"
             ],
             [
              0.8888888888888888,
              "#fdca26"
             ],
             [
              1,
              "#f0f921"
             ]
            ],
            "type": "heatmapgl"
           }
          ],
          "histogram": [
           {
            "marker": {
             "pattern": {
              "fillmode": "overlay",
              "size": 10,
              "solidity": 0.2
             }
            },
            "type": "histogram"
           }
          ],
          "histogram2d": [
           {
            "colorbar": {
             "outlinewidth": 0,
             "ticks": ""
            },
            "colorscale": [
             [
              0,
              "#0d0887"
             ],
             [
              0.1111111111111111,
              "#46039f"
             ],
             [
              0.2222222222222222,
              "#7201a8"
             ],
             [
              0.3333333333333333,
              "#9c179e"
             ],
             [
              0.4444444444444444,
              "#bd3786"
             ],
             [
              0.5555555555555556,
              "#d8576b"
             ],
             [
              0.6666666666666666,
              "#ed7953"
             ],
             [
              0.7777777777777778,
              "#fb9f3a"
             ],
             [
              0.8888888888888888,
              "#fdca26"
             ],
             [
              1,
              "#f0f921"
             ]
            ],
            "type": "histogram2d"
           }
          ],
          "histogram2dcontour": [
           {
            "colorbar": {
             "outlinewidth": 0,
             "ticks": ""
            },
            "colorscale": [
             [
              0,
              "#0d0887"
             ],
             [
              0.1111111111111111,
              "#46039f"
             ],
             [
              0.2222222222222222,
              "#7201a8"
             ],
             [
              0.3333333333333333,
              "#9c179e"
             ],
             [
              0.4444444444444444,
              "#bd3786"
             ],
             [
              0.5555555555555556,
              "#d8576b"
             ],
             [
              0.6666666666666666,
              "#ed7953"
             ],
             [
              0.7777777777777778,
              "#fb9f3a"
             ],
             [
              0.8888888888888888,
              "#fdca26"
             ],
             [
              1,
              "#f0f921"
             ]
            ],
            "type": "histogram2dcontour"
           }
          ],
          "mesh3d": [
           {
            "colorbar": {
             "outlinewidth": 0,
             "ticks": ""
            },
            "type": "mesh3d"
           }
          ],
          "parcoords": [
           {
            "line": {
             "colorbar": {
              "outlinewidth": 0,
              "ticks": ""
             }
            },
            "type": "parcoords"
           }
          ],
          "pie": [
           {
            "automargin": true,
            "type": "pie"
           }
          ],
          "scatter": [
           {
            "fillpattern": {
             "fillmode": "overlay",
             "size": 10,
             "solidity": 0.2
            },
            "type": "scatter"
           }
          ],
          "scatter3d": [
           {
            "line": {
             "colorbar": {
              "outlinewidth": 0,
              "ticks": ""
             }
            },
            "marker": {
             "colorbar": {
              "outlinewidth": 0,
              "ticks": ""
             }
            },
            "type": "scatter3d"
           }
          ],
          "scattercarpet": [
           {
            "marker": {
             "colorbar": {
              "outlinewidth": 0,
              "ticks": ""
             }
            },
            "type": "scattercarpet"
           }
          ],
          "scattergeo": [
           {
            "marker": {
             "colorbar": {
              "outlinewidth": 0,
              "ticks": ""
             }
            },
            "type": "scattergeo"
           }
          ],
          "scattergl": [
           {
            "marker": {
             "colorbar": {
              "outlinewidth": 0,
              "ticks": ""
             }
            },
            "type": "scattergl"
           }
          ],
          "scattermapbox": [
           {
            "marker": {
             "colorbar": {
              "outlinewidth": 0,
              "ticks": ""
             }
            },
            "type": "scattermapbox"
           }
          ],
          "scatterpolar": [
           {
            "marker": {
             "colorbar": {
              "outlinewidth": 0,
              "ticks": ""
             }
            },
            "type": "scatterpolar"
           }
          ],
          "scatterpolargl": [
           {
            "marker": {
             "colorbar": {
              "outlinewidth": 0,
              "ticks": ""
             }
            },
            "type": "scatterpolargl"
           }
          ],
          "scatterternary": [
           {
            "marker": {
             "colorbar": {
              "outlinewidth": 0,
              "ticks": ""
             }
            },
            "type": "scatterternary"
           }
          ],
          "surface": [
           {
            "colorbar": {
             "outlinewidth": 0,
             "ticks": ""
            },
            "colorscale": [
             [
              0,
              "#0d0887"
             ],
             [
              0.1111111111111111,
              "#46039f"
             ],
             [
              0.2222222222222222,
              "#7201a8"
             ],
             [
              0.3333333333333333,
              "#9c179e"
             ],
             [
              0.4444444444444444,
              "#bd3786"
             ],
             [
              0.5555555555555556,
              "#d8576b"
             ],
             [
              0.6666666666666666,
              "#ed7953"
             ],
             [
              0.7777777777777778,
              "#fb9f3a"
             ],
             [
              0.8888888888888888,
              "#fdca26"
             ],
             [
              1,
              "#f0f921"
             ]
            ],
            "type": "surface"
           }
          ],
          "table": [
           {
            "cells": {
             "fill": {
              "color": "#EBF0F8"
             },
             "line": {
              "color": "white"
             }
            },
            "header": {
             "fill": {
              "color": "#C8D4E3"
             },
             "line": {
              "color": "white"
             }
            },
            "type": "table"
           }
          ]
         },
         "layout": {
          "annotationdefaults": {
           "arrowcolor": "#2a3f5f",
           "arrowhead": 0,
           "arrowwidth": 1
          },
          "autotypenumbers": "strict",
          "coloraxis": {
           "colorbar": {
            "outlinewidth": 0,
            "ticks": ""
           }
          },
          "colorscale": {
           "diverging": [
            [
             0,
             "#8e0152"
            ],
            [
             0.1,
             "#c51b7d"
            ],
            [
             0.2,
             "#de77ae"
            ],
            [
             0.3,
             "#f1b6da"
            ],
            [
             0.4,
             "#fde0ef"
            ],
            [
             0.5,
             "#f7f7f7"
            ],
            [
             0.6,
             "#e6f5d0"
            ],
            [
             0.7,
             "#b8e186"
            ],
            [
             0.8,
             "#7fbc41"
            ],
            [
             0.9,
             "#4d9221"
            ],
            [
             1,
             "#276419"
            ]
           ],
           "sequential": [
            [
             0,
             "#0d0887"
            ],
            [
             0.1111111111111111,
             "#46039f"
            ],
            [
             0.2222222222222222,
             "#7201a8"
            ],
            [
             0.3333333333333333,
             "#9c179e"
            ],
            [
             0.4444444444444444,
             "#bd3786"
            ],
            [
             0.5555555555555556,
             "#d8576b"
            ],
            [
             0.6666666666666666,
             "#ed7953"
            ],
            [
             0.7777777777777778,
             "#fb9f3a"
            ],
            [
             0.8888888888888888,
             "#fdca26"
            ],
            [
             1,
             "#f0f921"
            ]
           ],
           "sequentialminus": [
            [
             0,
             "#0d0887"
            ],
            [
             0.1111111111111111,
             "#46039f"
            ],
            [
             0.2222222222222222,
             "#7201a8"
            ],
            [
             0.3333333333333333,
             "#9c179e"
            ],
            [
             0.4444444444444444,
             "#bd3786"
            ],
            [
             0.5555555555555556,
             "#d8576b"
            ],
            [
             0.6666666666666666,
             "#ed7953"
            ],
            [
             0.7777777777777778,
             "#fb9f3a"
            ],
            [
             0.8888888888888888,
             "#fdca26"
            ],
            [
             1,
             "#f0f921"
            ]
           ]
          },
          "colorway": [
           "#636efa",
           "#EF553B",
           "#00cc96",
           "#ab63fa",
           "#FFA15A",
           "#19d3f3",
           "#FF6692",
           "#B6E880",
           "#FF97FF",
           "#FECB52"
          ],
          "font": {
           "color": "#2a3f5f"
          },
          "geo": {
           "bgcolor": "white",
           "lakecolor": "white",
           "landcolor": "#E5ECF6",
           "showlakes": true,
           "showland": true,
           "subunitcolor": "white"
          },
          "hoverlabel": {
           "align": "left"
          },
          "hovermode": "closest",
          "mapbox": {
           "style": "light"
          },
          "paper_bgcolor": "white",
          "plot_bgcolor": "#E5ECF6",
          "polar": {
           "angularaxis": {
            "gridcolor": "white",
            "linecolor": "white",
            "ticks": ""
           },
           "bgcolor": "#E5ECF6",
           "radialaxis": {
            "gridcolor": "white",
            "linecolor": "white",
            "ticks": ""
           }
          },
          "scene": {
           "xaxis": {
            "backgroundcolor": "#E5ECF6",
            "gridcolor": "white",
            "gridwidth": 2,
            "linecolor": "white",
            "showbackground": true,
            "ticks": "",
            "zerolinecolor": "white"
           },
           "yaxis": {
            "backgroundcolor": "#E5ECF6",
            "gridcolor": "white",
            "gridwidth": 2,
            "linecolor": "white",
            "showbackground": true,
            "ticks": "",
            "zerolinecolor": "white"
           },
           "zaxis": {
            "backgroundcolor": "#E5ECF6",
            "gridcolor": "white",
            "gridwidth": 2,
            "linecolor": "white",
            "showbackground": true,
            "ticks": "",
            "zerolinecolor": "white"
           }
          },
          "shapedefaults": {
           "line": {
            "color": "#2a3f5f"
           }
          },
          "ternary": {
           "aaxis": {
            "gridcolor": "white",
            "linecolor": "white",
            "ticks": ""
           },
           "baxis": {
            "gridcolor": "white",
            "linecolor": "white",
            "ticks": ""
           },
           "bgcolor": "#E5ECF6",
           "caxis": {
            "gridcolor": "white",
            "linecolor": "white",
            "ticks": ""
           }
          },
          "title": {
           "x": 0.05
          },
          "xaxis": {
           "automargin": true,
           "gridcolor": "white",
           "linecolor": "white",
           "ticks": "",
           "title": {
            "standoff": 15
           },
           "zerolinecolor": "white",
           "zerolinewidth": 2
          },
          "yaxis": {
           "automargin": true,
           "gridcolor": "white",
           "linecolor": "white",
           "ticks": "",
           "title": {
            "standoff": 15
           },
           "zerolinecolor": "white",
           "zerolinewidth": 2
          }
         }
        },
        "xaxis": {
         "anchor": "y",
         "domain": [
          0,
          1
         ],
         "title": {
          "text": "ranking_scratch"
         }
        },
        "yaxis": {
         "anchor": "x",
         "domain": [
          0,
          1
         ],
         "title": {
          "text": "info_age"
         }
        }
       }
      },
      "text/html": [
       "<div>                            <div id=\"f7bc00a6-18ed-4bac-81b4-543efa1d28b2\" class=\"plotly-graph-div\" style=\"height:525px; width:100%;\"></div>            <script type=\"text/javascript\">                require([\"plotly\"], function(Plotly) {                    window.PLOTLYENV=window.PLOTLYENV || {};                                    if (document.getElementById(\"f7bc00a6-18ed-4bac-81b4-543efa1d28b2\")) {                    Plotly.newPlot(                        \"f7bc00a6-18ed-4bac-81b4-543efa1d28b2\",                        [{\"hovertemplate\":\"ranking_scratch=%{x}<br>info_age=%{y}<extra></extra>\",\"legendgroup\":\"\",\"line\":{\"color\":\"#636efa\",\"dash\":\"solid\"},\"marker\":{\"symbol\":\"circle\"},\"mode\":\"lines\",\"name\":\"\",\"showlegend\":false,\"x\":[1,2,3,4,5,6,7,8,9,10,11,12,13,14,15,16,17,18,19,20,21,22,23,24,25,26,27,28,29,30,31,32,33,34,35,36,37,38,39,40,41,42,43,44,45,46,47,48,49,50,51,52,53,54,55,56,57,58,59,60,61,62,63,64,65,66,66,68,69,70,71,72,73,74,75,76,77,78,79,80,81,82,83,84,85,86,87,88,89,90,91,92,93,94,95,96,97,98,99,100,101,102,103,103,105,106,107,108,109,110,111,112,113,114,115,116,117,118,119,120,121,122,123,124,125,126,127,128,129,130,131,132,133,134,135,136,137,138,139,139,141,142,143,144,145,146,147,148,149,150,151,152,153,154,155,156,157,158,159,160,161,162,163,164,165,166,167,168,169,170,171,172,173,174,175,175,177,178,179,180,181,182,183,184,185,186,187,188,189,190,191,192,193,194,195,196,197,198,199,200,201,202,203,204,205,206,207,208,209,210,211,212,213,214,215,216,217,218,219,220,221,222,223,224,225,226,227,228,229,230,231,232,233,234,235,236,237,238,239,240,241,242,243,244,245,246,247,248,249,250,251,252,253,254,255,256,257,258,259,260,261,262,263,264,265,266,267,268,269,270,271,272,273,274,275,276,277,278,279,280,281,282,283,284,285,286,287,288,289,290,290,292,293,294,295,296,297,298,299,300,301,301,303,304,305,306,307,308,309,310,310,312,313,314,315,316,317,318,319,320,321,322,323,324,325,326,327,328,329,330,331,332,333,334,335,335,337,338,339,340,341,342,343,344,345,346,347,348,349,350,351,352,353,354,355,356,357,358,359,360,361,362,363,364,365,366,367,368,369,370,371,372,373,374,375,376,377,378,379,380,381,382,383,384,385,386,387,388,389,390,391,392,393,394,395,396,397,398,399,399,401,402,403,404,405,406,407,408,409,410,411,412,413,414,415,416,417,418,419,420,421,422,423,424,425,426,427,428,429,430,431,432,433,434,435,436,437,438,439,440,441,442,443,444,445,446,447,448,449,450,451,452,453,454,455,456,457,458,459,460,461,462,463,464,465,466,467,468,469,470,471,472,473,474,475,476,477,478,479,480,481,482,483,484,485,486,487,488,489,490,491,492,493,494,495,496,497,498,499,500,501,502,503,504,505,506,507,508,509,510,511,512,513,514,515,516,517,518,519,519,521,522,523,524,524,526,527,528,529,530,531,532,533,534,535,536,537,538,539,539,541,542,543,544,545,546,547,548,549,550,551,552,553,554,555,556,557,558,559,560,561,562,563,564,565,566,567,568,569,570,571,572,573,574,575,576,577,578,578,580,581,582,583,584,585,586,587,588,589,590,591,592,593,594,595,596,597,598,599,600,601,602,603,604,605,606,607,608,609,610,611,612,613,614,615,616,617,618,619,620,621,622,623,624,625,626,627,628,629,630,631,632,633,634,635,636,637,638,639,640,641,642,643,644,645,646,647,648,649,650,651,652,653,654,655,656,657,658,659,660,661,662,663,664,665,666,667,668,669,670,671,672,673,674,675,676,677,678,679,680,681,682,683,684,685,686,687,688,689,690,691,692,693,694,695,696,697,698,699,700,701,702,703,704,705,706,707,708,709,710,711,712,713,714,715,716,717,718,719,720,721,722,722,724,725,726,727,728,729,730,731,732,733,734,735,736,736,738,739,740,741,742,743,744,745,746,747,748,749,750,751,752,753,754,755,756,757,758,759,760,761,762,763,764,765,766,767,768,769,770,771,772,773,774,775,776,777,778,779,780,781,782,783,784,785,786,787,788,789,790,791,792,793,794,795,796,797,798,799,800,801,802,803,804,805,806,807,808,809,810,811,812,813,814,815,816,817,818,819,820,821,822,823,824,825,826,827,828,829,830,831,832,833,834,835,836,837,838,839,840,841,842,843,844,845,846,847,848,849,850,851,852,853,854,855,856,857,858,859,860,861,862,863,864,865,866,867,868,869,870,871,872,873,874,875,876,877,878,879,880,881,882,883,884,885,886,887,888,889,890,891,892,893,894,895,896,897,898,899,900,901,902,903,904,905,906,907,908,909,910,911,912,913,914,915,916,917,918,919,920,921,922,923,924,925,926,927,928,929,930,931,932,933,934,935,936,936,938,939,940,941,942,943,944,944,946,947,948,949,950,951,952,953,954,955,956,957,958,959,960,961,962,963,964,965,965,967,968,969,970,971,971,973,974,975,976,977,977,979,980,981,982,982,984,985,986,987,987,989,990,991,992,993,994,995,996,997,998,998,1000,1000,1002,1003,1004,1005,1006,1007,1008,1009,1010,1011,1012,1013,1014,1015,1016,1017,1018,1019,1020,1021,1022,1023,1024,1025,1026,1027,1028,1029,1030,1031,1032,1033,1034,1035,1036,1037,1038,1039,1040,1041,1042,1043,1044,1045,1046,1047,1048,1049,1050,1051,1052,1053,1054,1055,1056,1057,1058,1059,1060,1061,1062,1063,1064,1064,1066,1067,1067,1069,1070,1071,1072,1073,1074,1075,1076,1077,1078,1079,1080,1081,1082,1083,1084,1085,1085,1087,1088,1089,1090,1091,1092,1093,1094,1095,1096,1097,1098,1099,1100,1101,1102,1103,1104,1105,1105,1107,1108,1109,1110,1110,1112,1113,1114,1115,1116,1117,1118,1119,1120,1121,1122,1123,1124,1125,1126,1127,1128,1129,1130,1131,1132,1132,1134,1135,1136,1137,1138,1139,1140,1141,1142,1143,1144,1145,1146,1147,1148,1149,1150,1151,1152,1153,1154,1155,1156,1157,1158,1159,1160,1161,1162,1163,1164,1165,1166,1167,1168,1169,1170,1171,1172,1173,1174,1175,1176,1177,1177,1179,1180,1181,1182,1183,1184,1185,1186,1187,1188,1189,1190,1191,1192,1193,1194,1195,1196,1197,1198,1199,1200,1201,1202,1203,1204,1205,1206,1207,1208,1209,1210,1211,1212,1213,1214,1215,1216,1217,1218,1219,1220,1221,1222,1223,1224,1224,1226,1227,1228,1229,1230,1230,1232,1233,1234,1235,1236,1237,1238,1239,1240,1240,1242,1243,1244,1245,1246,1247,1248,1249,1250,1251,1252,1253,1254,1255,1256,1257,1258,1259,1260,1261,1262,1263,1264,1265,1266,1267,1268,1269,1270,1271,1272,1273,1274,1275,1276,1277,1278,1279,1280,1281,1282,1283,1284,1285,1286,1287,1287,1289,1290,1291,1292,1293,1294,1295,1296,1297,1298,1299,1300,1301,1302,1303,1304,1305,1306,1307,1308,1308,1310,1311,1312,1313,1314,1315,1316,1317,1318,1319,1320,1321,1322,1323,1324,1325,1326,1327,1328,1329,1330,1331,1332,1333,1334,1335,1336,1337,1338,1339,1340,1341,1342,1343,1344,1345,1346,1347,1348,1349,1349,1351,1352,1353,1354,1355,1356,1357,1358,1359,1360,1361,1362,1363,1364,1365,1366,1366,1368,1368,1370,1371,1372,1373,1374,1375,1376,1377,1378,1378,1378,1381,1382,1383,1384,1385,1386,1387,1388,1389,1390,1391,1392,1393,1394,1395,1395,1397,1398,1399,1400,1401,1402,1403,1404,1405,1406,1407,1408,1409,1410,1411,1412,1413,1414,1415,1416,1417,1418,1419,1420,1421,1422,1423,1424,1425,1426,1427,1428,1429,1430,1431,1432,1433,1434,1435,1436,1437,1438,1439,1439,1441,1442,1443,1444,1445,1446,1447,1447,1449,1450,1451,1452,1453,1454,1455,1456,1457,1458,1459,1460,1461,1462,1463,1464,1465,1466,1467,1468,1469,1470,1471,1472,1473,1474,1475,1476,1477,1478,1479,1480,1481,1482,1483,1484,1485,1486,1487,1488,1489,1490,1491,1492,1493,1494,1495,1496,1496,1498,1499,1500,1501,1502,1503,1504,1505,1506,1507,1508,1509,1510,1511,1512,1513,1514,1515,1516,1517,1517,1519,1520,1521,1522,1523,1524,1525,1526,1526,1528,1529,1530,1531,1532,1533,1533,1535,1536,1537,1538,1539,1540,1540,1542,1543,1544,1545,1546,1547,1548,1549,1550,1551,1552,1553,1554,1554,1556,1557,1558,1559,1560,1561,1562,1563,1564,1565,1566,1567,1568,1569,1570,1570,1572,1572,1574,1575,1576,1577,1577,1579,1580,1581,1582,1583,1584,1585,1585,1585,1588,1589,1590,1591,1592,1593,1594,1595,1596,1597,1598,1599,1600,1601,1602,1603,1604,1605,1605,1607,1608,1609,1610,1611,1611,1613,1613,1615,1616,1617,1618,1618,1620,1620,1622,1623,1624,1625,1626,1627,1628,1629,1630,1631,1632,1633,1634,1635,1636,1637,1638,1639,1640,1641,1642,1642,1644,1645,1646,1647,1648,1649,1650,1651,1652,1653,1654,1655,1656,1657,1658,1658,1660,1661,1662,1663,1664,1665,1666,1667,1668,1669,1670,1671,1672,1673,1674,1675,1676,1677,1678,1679,1680,1681,1682,1683,1684,1685,1686,1687,1688,1689,1690,1691,1692,1693,1694,1695,1696,1697,1698,1699,1699,1701,1702,1703,1704,1704,1706,1707,1708,1709,1710,1711,1712,1713,1714,1715,1716,1717,1718,1719,1720,1721,1722,1723,1724,1725,1726,1727,1727,1729,1730,1731,1732,1733,1734,1735,1736,1737,1738,1739,1740,1741,1742,1743,1744,1745,1746,1747,1748,1749,1750,1751,1752,1753,1754,1755,1756,1757,1758,1759,1760,1761,1762,1763,1764,1765,1766,1767,1767,1769,1770,1771,1772,1773,1774,1775,1776,1777,1778,1779,1780,1781,1782,1783,1784,1785,1786,1787,1788,1789],\"xaxis\":\"x\",\"y\":[35,35,30,32,34,41,28,37,33,32,41,31,41,35,39,29,37,31,43,33,32,30,27,42,29,30,33,30,37,31,31,37,35,40,35,39,34,39,31,32,46,45,41,43,39,32,33,29,33,43,45,38,35,44,37,42,59,36,37,49,40,37,36,31,45,39,28,48,40,44,47,41,42,42,31,39,43,47,37,31,40,45,37,34,37,36,32,41,34,30,36,44,33,47,33,36,43,45,37,28,40,30,33,44,29,34,40,36,39,40,46,30,37,30,40,34,39,38,44,35,40,47,35,51,41,43,43,34,41,54,29,34,42,39,43,50,42,36,37,34,33,38,32,52,45,49,35,40,30,43,39,37,49,38,43,37,29,38,51,41,43,41,35,50,33,36,50,42,42,40,34,40,50,46,36,47,38,38,45,36,37,39,32,33,44,38,41,41,31,36,36,40,52,49,34,45,42,35,43,37,35,40,38,45,34,27,38,33,47,35,39,49,29,47,34,30,43,28,29,39,33,50,34,30,42,37,47,39,39,46,43,34,45,60,38,46,48,30,43,42,42,39,49,49,43,51,35,40,50,50,43,34,28,23,25,48,45,65,39,32,34,42,43,34,50,34,32,33,34,33,33,45,39,50,49,40,52,34,29,36,44,30,44,40,50,41,40,24,49,26,30,49,44,39,50,39,55,48,42,43,39,39,40,45,39,41,43,37,39,35,51,60,44,50,39,37,47,43,30,47,37,30,53,37,24,49,38,36,33,41,43,36,36,61,39,47,32,37,53,52,34,41,53,38,45,47,40,43,44,45,43,48,32,42,36,45,38,41,41,58,38,34,54,36,39,52,47,45,37,29,45,45,52,36,41,48,33,29,48,49,37,44,48,38,45,30,38,34,30,41,55,44,45,37,45,47,30,45,36,38,46,33,43,33,51,40,36,46,49,37,49,63,34,38,31,48,48,43,41,30,42,37,45,47,44,46,42,47,48,43,48,52,41,34,47,40,50,57,42,35,60,33,46,50,61,42,39,47,30,38,46,47,35,49,29,37,56,39,49,48,34,49,47,52,42,32,41,37,39,41,51,42,46,40,52,47,38,46,43,48,44,44,46,41,45,43,41,31,51,36,31,31,37,46,47,32,54,38,58,52,56,39,43,53,37,50,53,52,43,54,37,40,41,39,42,53,36,47,34,35,47,47,52,32,41,40,31,43,44,51,49,37,55,30,45,35,46,48,51,34,42,62,48,36,32,43,44,42,41,54,64,41,40,53,45,41,42,46,45,40,31,39,34,45,49,33,48,31,44,52,39,52,40,62,37,32,42,41,41,48,48,45,30,41,41,42,43,46,43,45,50,57,34,40,41,41,50,47,36,47,46,59,53,44,42,28,41,39,50,38,31,53,29,35,46,48,40,58,55,28,30,48,50,45,42,50,54,62,61,45,41,39,47,46,53,51,45,39,30,39,34,58,45,44,49,49,36,35,44,44,34,34,54,36,43,43,40,34,37,34,43,49,44,39,37,52,39,42,31,43,50,41,53,36,34,41,44,55,50,32,39,44,31,43,39,33,40,44,54,34,52,50,57,50,41,41,53,35,43,44,37,55,38,36,40,45,45,34,41,48,47,33,46,42,55,40,38,35,42,32,55,55,52,48,51,54,40,51,41,53,54,56,44,44,38,35,31,35,37,46,43,47,49,44,49,41,49,33,50,43,32,41,51,33,38,47,42,41,50,41,47,53,24,41,51,40,39,42,45,43,33,39,37,39,43,39,40,33,42,48,43,48,45,40,35,53,46,50,35,58,40,50,43,40,47,48,43,29,48,33,29,34,47,41,36,36,43,45,32,44,31,40,41,38,45,49,47,35,39,30,41,41,52,50,42,36,41,48,39,38,55,52,52,39,47,26,39,47,50,36,48,56,58,54,55,50,43,44,43,47,40,43,46,46,39,49,29,51,45,46,32,43,52,46,38,37,58,41,47,49,51,50,46,46,47,40,33,31,47,52,53,48,39,55,44,59,58,36,42,44,51,41,47,54,48,60,37,46,49,53,49,44,47,44,47,42,45,48,39,46,48,52,50,54,30,46,54,46,40,43,46,42,55,47,48,40,33,43,46,51,48,40,52,57,60,49,45,55,57,50,45,42,56,52,44,45,39,45,34,43,34,48,48,39,47,51,34,31,55,36,42,33,51,37,44,38,46,46,56,40,30,22,47,48,51,56,45,59,40,42,45,44,41,42,38,40,41,41,40,58,54,44,29,42,47,47,57,40,47,43,33,40,31,52,42,47,55,50,31,41,45,58,40,51,38,43,37,50,47,41,49,50,45,50,31,48,56,44,31,45,43,35,42,44,45,45,37,52,54,47,52,45,51,50,48,36,35,41,33,33,59,44,45,48,47,50,46,44,34,45,47,48,40,47,50,48,51,52,56,48,47,48,42,48,41,41,46,50,53,35,39,57,46,38,52,52,49,41,46,40,44,39,33,60,34,49,45,47,42,35,49,57,31,49,46,42,55,34,35,42,38,46,45,42,59,52,43,53,56,50,47,46,51,43,50,36,48,52,67,48,50,50,42,46,41,47,36,45,45,44,48,45,43,45,45,53,39,45,43,59,37,38,42,39,33,46,40,56,33,38,51,35,52,44,33,30,40,35,49,50,47,47,41,40,50,43,60,42,47,43,47,54,30,35,62,38,44,46,28,39,46,46,34,46,52,59,54,47,52,59,60,58,31,30,43,48,53,51,48,56,45,47,47,41,50,40,37,39,54,46,51,45,47,61,49,43,45,34,47,54,39,40,44,47,35,56,41,51,60,49,36,46,34,49,48,51,47,50,31,45,37,42,47,39,41,39,36,50,51,43,51,59,43,52,57,47,48,53,49,44,42,50,48,37,49,48,44,50,41,46,53,51,39,41,59,46,58,35,30,63,45,51,41,52,49,41,37,44,48,51,43,36,36,42,46,39,46,41,50,53,42,39,40,36,49,51,33,59,49,44,47,44,43,45,47,47,32,46,52,41,49,44,32,45,46,45,56,51,49,48,48,42,54,41,45,36,38,58,46,43,36,45,53,48,51,37,48,58,56,39,47,45,48,46,37,48,46,42,50,48,55,54,51,52,44,40,50,46,53,43,50,49,39,45,51,48,55,58,43,46,46,44,42,39,26,54,43,41,52,46,36,43,31,59,48,42,48,35,49,51,32,47,49,49,53,53,62,33,44,53,30,43,47,43,45,48,42,39,53,58,41,45,44,35,36,37,44,56,40,45,34,39,48,52,54,40,45,44,43,51,47,55,54,47,51,40,35,38,41,53,37,65,50,42,53,52,56,45,45,33,51,44,41,54,57,49,50,47,59,42,48,50,43,38,63,45,59,42,51,58,35,48,45,40,52,47,42,37,39,42,27,51,52,46,50,46,47,49,31,58,51,45,35,38,44,63,40,43,52,49,30,55,74,24,49,45,50,47,38,44,40,41,36,45,38,44,35,42,47,36,53,43,50,55,51,51,48,43,36,54,52,62,45,43,42,45,38,53,44,39,53,58,42,42,39,44,45,46,43,49,46,41,65,36,64,44,50,41,44,48,50,36,33,47,49,42,47,52,50,39,39,36,51,53,41,45,57,45,53,53,37,57,39,45,49,49,40,50,46,38,45,37,47,44,49,58,42,41,52,42,41,32,30,58,43,28,40,55,55,59,57,51,41,49,48,38,46,48,45,42,68,48,49,38,42,40,40,46,50,44,55,58,48,43,42,53,41,44,55,46,60,41,64,46,35,56,46,50,44,56,36,48,48,38,37,46,55,49,43,52,45,40,59,58,56,49,41,49,46,43,48,47,46,30,42,39,48,49,29,42,41,40,47,41,54,51,44,55,48,50,42,54,43,43,51,46,45,41,38,63,58,53,43,51,51,53,54,53,49,48,47,58,58,48,50,41,57,48,30,49,34,53,47,54,69,43,38,45,39,43,41,37,36,44,44,42,53,51,51,37,44,40,61,40,52,48,41,40,43,54,55,49,34,60,37,60,51,36,49,40,46,59,45,42,50,41,39,55,53],\"yaxis\":\"y\",\"type\":\"scattergl\"}],                        {\"template\":{\"data\":{\"histogram2dcontour\":[{\"type\":\"histogram2dcontour\",\"colorbar\":{\"outlinewidth\":0,\"ticks\":\"\"},\"colorscale\":[[0.0,\"#0d0887\"],[0.1111111111111111,\"#46039f\"],[0.2222222222222222,\"#7201a8\"],[0.3333333333333333,\"#9c179e\"],[0.4444444444444444,\"#bd3786\"],[0.5555555555555556,\"#d8576b\"],[0.6666666666666666,\"#ed7953\"],[0.7777777777777778,\"#fb9f3a\"],[0.8888888888888888,\"#fdca26\"],[1.0,\"#f0f921\"]]}],\"choropleth\":[{\"type\":\"choropleth\",\"colorbar\":{\"outlinewidth\":0,\"ticks\":\"\"}}],\"histogram2d\":[{\"type\":\"histogram2d\",\"colorbar\":{\"outlinewidth\":0,\"ticks\":\"\"},\"colorscale\":[[0.0,\"#0d0887\"],[0.1111111111111111,\"#46039f\"],[0.2222222222222222,\"#7201a8\"],[0.3333333333333333,\"#9c179e\"],[0.4444444444444444,\"#bd3786\"],[0.5555555555555556,\"#d8576b\"],[0.6666666666666666,\"#ed7953\"],[0.7777777777777778,\"#fb9f3a\"],[0.8888888888888888,\"#fdca26\"],[1.0,\"#f0f921\"]]}],\"heatmap\":[{\"type\":\"heatmap\",\"colorbar\":{\"outlinewidth\":0,\"ticks\":\"\"},\"colorscale\":[[0.0,\"#0d0887\"],[0.1111111111111111,\"#46039f\"],[0.2222222222222222,\"#7201a8\"],[0.3333333333333333,\"#9c179e\"],[0.4444444444444444,\"#bd3786\"],[0.5555555555555556,\"#d8576b\"],[0.6666666666666666,\"#ed7953\"],[0.7777777777777778,\"#fb9f3a\"],[0.8888888888888888,\"#fdca26\"],[1.0,\"#f0f921\"]]}],\"heatmapgl\":[{\"type\":\"heatmapgl\",\"colorbar\":{\"outlinewidth\":0,\"ticks\":\"\"},\"colorscale\":[[0.0,\"#0d0887\"],[0.1111111111111111,\"#46039f\"],[0.2222222222222222,\"#7201a8\"],[0.3333333333333333,\"#9c179e\"],[0.4444444444444444,\"#bd3786\"],[0.5555555555555556,\"#d8576b\"],[0.6666666666666666,\"#ed7953\"],[0.7777777777777778,\"#fb9f3a\"],[0.8888888888888888,\"#fdca26\"],[1.0,\"#f0f921\"]]}],\"contourcarpet\":[{\"type\":\"contourcarpet\",\"colorbar\":{\"outlinewidth\":0,\"ticks\":\"\"}}],\"contour\":[{\"type\":\"contour\",\"colorbar\":{\"outlinewidth\":0,\"ticks\":\"\"},\"colorscale\":[[0.0,\"#0d0887\"],[0.1111111111111111,\"#46039f\"],[0.2222222222222222,\"#7201a8\"],[0.3333333333333333,\"#9c179e\"],[0.4444444444444444,\"#bd3786\"],[0.5555555555555556,\"#d8576b\"],[0.6666666666666666,\"#ed7953\"],[0.7777777777777778,\"#fb9f3a\"],[0.8888888888888888,\"#fdca26\"],[1.0,\"#f0f921\"]]}],\"surface\":[{\"type\":\"surface\",\"colorbar\":{\"outlinewidth\":0,\"ticks\":\"\"},\"colorscale\":[[0.0,\"#0d0887\"],[0.1111111111111111,\"#46039f\"],[0.2222222222222222,\"#7201a8\"],[0.3333333333333333,\"#9c179e\"],[0.4444444444444444,\"#bd3786\"],[0.5555555555555556,\"#d8576b\"],[0.6666666666666666,\"#ed7953\"],[0.7777777777777778,\"#fb9f3a\"],[0.8888888888888888,\"#fdca26\"],[1.0,\"#f0f921\"]]}],\"mesh3d\":[{\"type\":\"mesh3d\",\"colorbar\":{\"outlinewidth\":0,\"ticks\":\"\"}}],\"scatter\":[{\"fillpattern\":{\"fillmode\":\"overlay\",\"size\":10,\"solidity\":0.2},\"type\":\"scatter\"}],\"parcoords\":[{\"type\":\"parcoords\",\"line\":{\"colorbar\":{\"outlinewidth\":0,\"ticks\":\"\"}}}],\"scatterpolargl\":[{\"type\":\"scatterpolargl\",\"marker\":{\"colorbar\":{\"outlinewidth\":0,\"ticks\":\"\"}}}],\"bar\":[{\"error_x\":{\"color\":\"#2a3f5f\"},\"error_y\":{\"color\":\"#2a3f5f\"},\"marker\":{\"line\":{\"color\":\"#E5ECF6\",\"width\":0.5},\"pattern\":{\"fillmode\":\"overlay\",\"size\":10,\"solidity\":0.2}},\"type\":\"bar\"}],\"scattergeo\":[{\"type\":\"scattergeo\",\"marker\":{\"colorbar\":{\"outlinewidth\":0,\"ticks\":\"\"}}}],\"scatterpolar\":[{\"type\":\"scatterpolar\",\"marker\":{\"colorbar\":{\"outlinewidth\":0,\"ticks\":\"\"}}}],\"histogram\":[{\"marker\":{\"pattern\":{\"fillmode\":\"overlay\",\"size\":10,\"solidity\":0.2}},\"type\":\"histogram\"}],\"scattergl\":[{\"type\":\"scattergl\",\"marker\":{\"colorbar\":{\"outlinewidth\":0,\"ticks\":\"\"}}}],\"scatter3d\":[{\"type\":\"scatter3d\",\"line\":{\"colorbar\":{\"outlinewidth\":0,\"ticks\":\"\"}},\"marker\":{\"colorbar\":{\"outlinewidth\":0,\"ticks\":\"\"}}}],\"scattermapbox\":[{\"type\":\"scattermapbox\",\"marker\":{\"colorbar\":{\"outlinewidth\":0,\"ticks\":\"\"}}}],\"scatterternary\":[{\"type\":\"scatterternary\",\"marker\":{\"colorbar\":{\"outlinewidth\":0,\"ticks\":\"\"}}}],\"scattercarpet\":[{\"type\":\"scattercarpet\",\"marker\":{\"colorbar\":{\"outlinewidth\":0,\"ticks\":\"\"}}}],\"carpet\":[{\"aaxis\":{\"endlinecolor\":\"#2a3f5f\",\"gridcolor\":\"white\",\"linecolor\":\"white\",\"minorgridcolor\":\"white\",\"startlinecolor\":\"#2a3f5f\"},\"baxis\":{\"endlinecolor\":\"#2a3f5f\",\"gridcolor\":\"white\",\"linecolor\":\"white\",\"minorgridcolor\":\"white\",\"startlinecolor\":\"#2a3f5f\"},\"type\":\"carpet\"}],\"table\":[{\"cells\":{\"fill\":{\"color\":\"#EBF0F8\"},\"line\":{\"color\":\"white\"}},\"header\":{\"fill\":{\"color\":\"#C8D4E3\"},\"line\":{\"color\":\"white\"}},\"type\":\"table\"}],\"barpolar\":[{\"marker\":{\"line\":{\"color\":\"#E5ECF6\",\"width\":0.5},\"pattern\":{\"fillmode\":\"overlay\",\"size\":10,\"solidity\":0.2}},\"type\":\"barpolar\"}],\"pie\":[{\"automargin\":true,\"type\":\"pie\"}]},\"layout\":{\"autotypenumbers\":\"strict\",\"colorway\":[\"#636efa\",\"#EF553B\",\"#00cc96\",\"#ab63fa\",\"#FFA15A\",\"#19d3f3\",\"#FF6692\",\"#B6E880\",\"#FF97FF\",\"#FECB52\"],\"font\":{\"color\":\"#2a3f5f\"},\"hovermode\":\"closest\",\"hoverlabel\":{\"align\":\"left\"},\"paper_bgcolor\":\"white\",\"plot_bgcolor\":\"#E5ECF6\",\"polar\":{\"bgcolor\":\"#E5ECF6\",\"angularaxis\":{\"gridcolor\":\"white\",\"linecolor\":\"white\",\"ticks\":\"\"},\"radialaxis\":{\"gridcolor\":\"white\",\"linecolor\":\"white\",\"ticks\":\"\"}},\"ternary\":{\"bgcolor\":\"#E5ECF6\",\"aaxis\":{\"gridcolor\":\"white\",\"linecolor\":\"white\",\"ticks\":\"\"},\"baxis\":{\"gridcolor\":\"white\",\"linecolor\":\"white\",\"ticks\":\"\"},\"caxis\":{\"gridcolor\":\"white\",\"linecolor\":\"white\",\"ticks\":\"\"}},\"coloraxis\":{\"colorbar\":{\"outlinewidth\":0,\"ticks\":\"\"}},\"colorscale\":{\"sequential\":[[0.0,\"#0d0887\"],[0.1111111111111111,\"#46039f\"],[0.2222222222222222,\"#7201a8\"],[0.3333333333333333,\"#9c179e\"],[0.4444444444444444,\"#bd3786\"],[0.5555555555555556,\"#d8576b\"],[0.6666666666666666,\"#ed7953\"],[0.7777777777777778,\"#fb9f3a\"],[0.8888888888888888,\"#fdca26\"],[1.0,\"#f0f921\"]],\"sequentialminus\":[[0.0,\"#0d0887\"],[0.1111111111111111,\"#46039f\"],[0.2222222222222222,\"#7201a8\"],[0.3333333333333333,\"#9c179e\"],[0.4444444444444444,\"#bd3786\"],[0.5555555555555556,\"#d8576b\"],[0.6666666666666666,\"#ed7953\"],[0.7777777777777778,\"#fb9f3a\"],[0.8888888888888888,\"#fdca26\"],[1.0,\"#f0f921\"]],\"diverging\":[[0,\"#8e0152\"],[0.1,\"#c51b7d\"],[0.2,\"#de77ae\"],[0.3,\"#f1b6da\"],[0.4,\"#fde0ef\"],[0.5,\"#f7f7f7\"],[0.6,\"#e6f5d0\"],[0.7,\"#b8e186\"],[0.8,\"#7fbc41\"],[0.9,\"#4d9221\"],[1,\"#276419\"]]},\"xaxis\":{\"gridcolor\":\"white\",\"linecolor\":\"white\",\"ticks\":\"\",\"title\":{\"standoff\":15},\"zerolinecolor\":\"white\",\"automargin\":true,\"zerolinewidth\":2},\"yaxis\":{\"gridcolor\":\"white\",\"linecolor\":\"white\",\"ticks\":\"\",\"title\":{\"standoff\":15},\"zerolinecolor\":\"white\",\"automargin\":true,\"zerolinewidth\":2},\"scene\":{\"xaxis\":{\"backgroundcolor\":\"#E5ECF6\",\"gridcolor\":\"white\",\"linecolor\":\"white\",\"showbackground\":true,\"ticks\":\"\",\"zerolinecolor\":\"white\",\"gridwidth\":2},\"yaxis\":{\"backgroundcolor\":\"#E5ECF6\",\"gridcolor\":\"white\",\"linecolor\":\"white\",\"showbackground\":true,\"ticks\":\"\",\"zerolinecolor\":\"white\",\"gridwidth\":2},\"zaxis\":{\"backgroundcolor\":\"#E5ECF6\",\"gridcolor\":\"white\",\"linecolor\":\"white\",\"showbackground\":true,\"ticks\":\"\",\"zerolinecolor\":\"white\",\"gridwidth\":2}},\"shapedefaults\":{\"line\":{\"color\":\"#2a3f5f\"}},\"annotationdefaults\":{\"arrowcolor\":\"#2a3f5f\",\"arrowhead\":0,\"arrowwidth\":1},\"geo\":{\"bgcolor\":\"white\",\"landcolor\":\"#E5ECF6\",\"subunitcolor\":\"white\",\"showland\":true,\"showlakes\":true,\"lakecolor\":\"white\"},\"title\":{\"x\":0.05},\"mapbox\":{\"style\":\"light\"}}},\"xaxis\":{\"anchor\":\"y\",\"domain\":[0.0,1.0],\"title\":{\"text\":\"ranking_scratch\"}},\"yaxis\":{\"anchor\":\"x\",\"domain\":[0.0,1.0],\"title\":{\"text\":\"info_age\"}},\"legend\":{\"tracegroupgap\":0},\"margin\":{\"t\":60}},                        {\"responsive\": true}                    ).then(function(){\n",
       "                            \n",
       "var gd = document.getElementById('f7bc00a6-18ed-4bac-81b4-543efa1d28b2');\n",
       "var x = new MutationObserver(function (mutations, observer) {{\n",
       "        var display = window.getComputedStyle(gd).display;\n",
       "        if (!display || display === 'none') {{\n",
       "            console.log([gd, 'removed!']);\n",
       "            Plotly.purge(gd);\n",
       "            observer.disconnect();\n",
       "        }}\n",
       "}});\n",
       "\n",
       "// Listen for the removal of the full notebook cells\n",
       "var notebookContainer = gd.closest('#notebook-container');\n",
       "if (notebookContainer) {{\n",
       "    x.observe(notebookContainer, {childList: true});\n",
       "}}\n",
       "\n",
       "// Listen for the clearing of the current output cell\n",
       "var outputEl = gd.closest('.output');\n",
       "if (outputEl) {{\n",
       "    x.observe(outputEl, {childList: true});\n",
       "}}\n",
       "\n",
       "                        })                };                });            </script>        </div>"
      ]
     },
     "metadata": {},
     "output_type": "display_data"
    },
    {
     "name": "stdout",
     "output_type": "stream",
     "text": [
      "Count   : 1789\n",
      "Average : 43.7\n",
      "Median  :   44\n",
      "Mode    :   45\n",
      "Lower   :   22\n",
      "Higher  :   74\n",
      "Same analysis for top 200 finishers:\n"
     ]
    },
    {
     "data": {
      "application/vnd.plotly.v1+json": {
       "config": {
        "plotlyServerURL": "https://plot.ly"
       },
       "data": [
        {
         "hovertemplate": "ranking_scratch=%{x}<br>info_age=%{y}<extra></extra>",
         "legendgroup": "",
         "line": {
          "color": "#636efa",
          "dash": "solid"
         },
         "marker": {
          "symbol": "circle"
         },
         "mode": "lines",
         "name": "",
         "orientation": "v",
         "showlegend": false,
         "type": "scatter",
         "x": [
          1,
          2,
          3,
          4,
          5,
          6,
          7,
          8,
          9,
          10,
          11,
          12,
          13,
          14,
          15,
          16,
          17,
          18,
          19,
          20,
          21,
          22,
          23,
          24,
          25,
          26,
          27,
          28,
          29,
          30,
          31,
          32,
          33,
          34,
          35,
          36,
          37,
          38,
          39,
          40,
          41,
          42,
          43,
          44,
          45,
          46,
          47,
          48,
          49,
          50,
          51,
          52,
          53,
          54,
          55,
          56,
          57,
          58,
          59,
          60,
          61,
          62,
          63,
          64,
          65,
          66,
          66,
          68,
          69,
          70,
          71,
          72,
          73,
          74,
          75,
          76,
          77,
          78,
          79,
          80,
          81,
          82,
          83,
          84,
          85,
          86,
          87,
          88,
          89,
          90,
          91,
          92,
          93,
          94,
          95,
          96,
          97,
          98,
          99,
          100,
          101,
          102,
          103,
          103,
          105,
          106,
          107,
          108,
          109,
          110,
          111,
          112,
          113,
          114,
          115,
          116,
          117,
          118,
          119,
          120,
          121,
          122,
          123,
          124,
          125,
          126,
          127,
          128,
          129,
          130,
          131,
          132,
          133,
          134,
          135,
          136,
          137,
          138,
          139,
          139,
          141,
          142,
          143,
          144,
          145,
          146,
          147,
          148,
          149,
          150,
          151,
          152,
          153,
          154,
          155,
          156,
          157,
          158,
          159,
          160,
          161,
          162,
          163,
          164,
          165,
          166,
          167,
          168,
          169,
          170,
          171,
          172,
          173,
          174,
          175,
          175,
          177,
          178,
          179,
          180,
          181,
          182,
          183,
          184,
          185,
          186,
          187,
          188,
          189,
          190,
          191,
          192,
          193,
          194,
          195,
          196,
          197,
          198,
          199,
          200
         ],
         "xaxis": "x",
         "y": [
          35,
          35,
          30,
          32,
          34,
          41,
          28,
          37,
          33,
          32,
          41,
          31,
          41,
          35,
          39,
          29,
          37,
          31,
          43,
          33,
          32,
          30,
          27,
          42,
          29,
          30,
          33,
          30,
          37,
          31,
          31,
          37,
          35,
          40,
          35,
          39,
          34,
          39,
          31,
          32,
          46,
          45,
          41,
          43,
          39,
          32,
          33,
          29,
          33,
          43,
          45,
          38,
          35,
          44,
          37,
          42,
          59,
          36,
          37,
          49,
          40,
          37,
          36,
          31,
          45,
          39,
          28,
          48,
          40,
          44,
          47,
          41,
          42,
          42,
          31,
          39,
          43,
          47,
          37,
          31,
          40,
          45,
          37,
          34,
          37,
          36,
          32,
          41,
          34,
          30,
          36,
          44,
          33,
          47,
          33,
          36,
          43,
          45,
          37,
          28,
          40,
          30,
          33,
          44,
          29,
          34,
          40,
          36,
          39,
          40,
          46,
          30,
          37,
          30,
          40,
          34,
          39,
          38,
          44,
          35,
          40,
          47,
          35,
          51,
          41,
          43,
          43,
          34,
          41,
          54,
          29,
          34,
          42,
          39,
          43,
          50,
          42,
          36,
          37,
          34,
          33,
          38,
          32,
          52,
          45,
          49,
          35,
          40,
          30,
          43,
          39,
          37,
          49,
          38,
          43,
          37,
          29,
          38,
          51,
          41,
          43,
          41,
          35,
          50,
          33,
          36,
          50,
          42,
          42,
          40,
          34,
          40,
          50,
          46,
          36,
          47,
          38,
          38,
          45,
          36,
          37,
          39,
          32,
          33,
          44,
          38,
          41,
          41,
          31,
          36,
          36,
          40,
          52,
          49,
          34,
          45,
          42,
          35,
          43,
          37
         ],
         "yaxis": "y"
        }
       ],
       "layout": {
        "legend": {
         "tracegroupgap": 0
        },
        "margin": {
         "t": 60
        },
        "template": {
         "data": {
          "bar": [
           {
            "error_x": {
             "color": "#2a3f5f"
            },
            "error_y": {
             "color": "#2a3f5f"
            },
            "marker": {
             "line": {
              "color": "#E5ECF6",
              "width": 0.5
             },
             "pattern": {
              "fillmode": "overlay",
              "size": 10,
              "solidity": 0.2
             }
            },
            "type": "bar"
           }
          ],
          "barpolar": [
           {
            "marker": {
             "line": {
              "color": "#E5ECF6",
              "width": 0.5
             },
             "pattern": {
              "fillmode": "overlay",
              "size": 10,
              "solidity": 0.2
             }
            },
            "type": "barpolar"
           }
          ],
          "carpet": [
           {
            "aaxis": {
             "endlinecolor": "#2a3f5f",
             "gridcolor": "white",
             "linecolor": "white",
             "minorgridcolor": "white",
             "startlinecolor": "#2a3f5f"
            },
            "baxis": {
             "endlinecolor": "#2a3f5f",
             "gridcolor": "white",
             "linecolor": "white",
             "minorgridcolor": "white",
             "startlinecolor": "#2a3f5f"
            },
            "type": "carpet"
           }
          ],
          "choropleth": [
           {
            "colorbar": {
             "outlinewidth": 0,
             "ticks": ""
            },
            "type": "choropleth"
           }
          ],
          "contour": [
           {
            "colorbar": {
             "outlinewidth": 0,
             "ticks": ""
            },
            "colorscale": [
             [
              0,
              "#0d0887"
             ],
             [
              0.1111111111111111,
              "#46039f"
             ],
             [
              0.2222222222222222,
              "#7201a8"
             ],
             [
              0.3333333333333333,
              "#9c179e"
             ],
             [
              0.4444444444444444,
              "#bd3786"
             ],
             [
              0.5555555555555556,
              "#d8576b"
             ],
             [
              0.6666666666666666,
              "#ed7953"
             ],
             [
              0.7777777777777778,
              "#fb9f3a"
             ],
             [
              0.8888888888888888,
              "#fdca26"
             ],
             [
              1,
              "#f0f921"
             ]
            ],
            "type": "contour"
           }
          ],
          "contourcarpet": [
           {
            "colorbar": {
             "outlinewidth": 0,
             "ticks": ""
            },
            "type": "contourcarpet"
           }
          ],
          "heatmap": [
           {
            "colorbar": {
             "outlinewidth": 0,
             "ticks": ""
            },
            "colorscale": [
             [
              0,
              "#0d0887"
             ],
             [
              0.1111111111111111,
              "#46039f"
             ],
             [
              0.2222222222222222,
              "#7201a8"
             ],
             [
              0.3333333333333333,
              "#9c179e"
             ],
             [
              0.4444444444444444,
              "#bd3786"
             ],
             [
              0.5555555555555556,
              "#d8576b"
             ],
             [
              0.6666666666666666,
              "#ed7953"
             ],
             [
              0.7777777777777778,
              "#fb9f3a"
             ],
             [
              0.8888888888888888,
              "#fdca26"
             ],
             [
              1,
              "#f0f921"
             ]
            ],
            "type": "heatmap"
           }
          ],
          "heatmapgl": [
           {
            "colorbar": {
             "outlinewidth": 0,
             "ticks": ""
            },
            "colorscale": [
             [
              0,
              "#0d0887"
             ],
             [
              0.1111111111111111,
              "#46039f"
             ],
             [
              0.2222222222222222,
              "#7201a8"
             ],
             [
              0.3333333333333333,
              "#9c179e"
             ],
             [
              0.4444444444444444,
              "#bd3786"
             ],
             [
              0.5555555555555556,
              "#d8576b"
             ],
             [
              0.6666666666666666,
              "#ed7953"
             ],
             [
              0.7777777777777778,
              "#fb9f3a"
             ],
             [
              0.8888888888888888,
              "#fdca26"
             ],
             [
              1,
              "#f0f921"
             ]
            ],
            "type": "heatmapgl"
           }
          ],
          "histogram": [
           {
            "marker": {
             "pattern": {
              "fillmode": "overlay",
              "size": 10,
              "solidity": 0.2
             }
            },
            "type": "histogram"
           }
          ],
          "histogram2d": [
           {
            "colorbar": {
             "outlinewidth": 0,
             "ticks": ""
            },
            "colorscale": [
             [
              0,
              "#0d0887"
             ],
             [
              0.1111111111111111,
              "#46039f"
             ],
             [
              0.2222222222222222,
              "#7201a8"
             ],
             [
              0.3333333333333333,
              "#9c179e"
             ],
             [
              0.4444444444444444,
              "#bd3786"
             ],
             [
              0.5555555555555556,
              "#d8576b"
             ],
             [
              0.6666666666666666,
              "#ed7953"
             ],
             [
              0.7777777777777778,
              "#fb9f3a"
             ],
             [
              0.8888888888888888,
              "#fdca26"
             ],
             [
              1,
              "#f0f921"
             ]
            ],
            "type": "histogram2d"
           }
          ],
          "histogram2dcontour": [
           {
            "colorbar": {
             "outlinewidth": 0,
             "ticks": ""
            },
            "colorscale": [
             [
              0,
              "#0d0887"
             ],
             [
              0.1111111111111111,
              "#46039f"
             ],
             [
              0.2222222222222222,
              "#7201a8"
             ],
             [
              0.3333333333333333,
              "#9c179e"
             ],
             [
              0.4444444444444444,
              "#bd3786"
             ],
             [
              0.5555555555555556,
              "#d8576b"
             ],
             [
              0.6666666666666666,
              "#ed7953"
             ],
             [
              0.7777777777777778,
              "#fb9f3a"
             ],
             [
              0.8888888888888888,
              "#fdca26"
             ],
             [
              1,
              "#f0f921"
             ]
            ],
            "type": "histogram2dcontour"
           }
          ],
          "mesh3d": [
           {
            "colorbar": {
             "outlinewidth": 0,
             "ticks": ""
            },
            "type": "mesh3d"
           }
          ],
          "parcoords": [
           {
            "line": {
             "colorbar": {
              "outlinewidth": 0,
              "ticks": ""
             }
            },
            "type": "parcoords"
           }
          ],
          "pie": [
           {
            "automargin": true,
            "type": "pie"
           }
          ],
          "scatter": [
           {
            "fillpattern": {
             "fillmode": "overlay",
             "size": 10,
             "solidity": 0.2
            },
            "type": "scatter"
           }
          ],
          "scatter3d": [
           {
            "line": {
             "colorbar": {
              "outlinewidth": 0,
              "ticks": ""
             }
            },
            "marker": {
             "colorbar": {
              "outlinewidth": 0,
              "ticks": ""
             }
            },
            "type": "scatter3d"
           }
          ],
          "scattercarpet": [
           {
            "marker": {
             "colorbar": {
              "outlinewidth": 0,
              "ticks": ""
             }
            },
            "type": "scattercarpet"
           }
          ],
          "scattergeo": [
           {
            "marker": {
             "colorbar": {
              "outlinewidth": 0,
              "ticks": ""
             }
            },
            "type": "scattergeo"
           }
          ],
          "scattergl": [
           {
            "marker": {
             "colorbar": {
              "outlinewidth": 0,
              "ticks": ""
             }
            },
            "type": "scattergl"
           }
          ],
          "scattermapbox": [
           {
            "marker": {
             "colorbar": {
              "outlinewidth": 0,
              "ticks": ""
             }
            },
            "type": "scattermapbox"
           }
          ],
          "scatterpolar": [
           {
            "marker": {
             "colorbar": {
              "outlinewidth": 0,
              "ticks": ""
             }
            },
            "type": "scatterpolar"
           }
          ],
          "scatterpolargl": [
           {
            "marker": {
             "colorbar": {
              "outlinewidth": 0,
              "ticks": ""
             }
            },
            "type": "scatterpolargl"
           }
          ],
          "scatterternary": [
           {
            "marker": {
             "colorbar": {
              "outlinewidth": 0,
              "ticks": ""
             }
            },
            "type": "scatterternary"
           }
          ],
          "surface": [
           {
            "colorbar": {
             "outlinewidth": 0,
             "ticks": ""
            },
            "colorscale": [
             [
              0,
              "#0d0887"
             ],
             [
              0.1111111111111111,
              "#46039f"
             ],
             [
              0.2222222222222222,
              "#7201a8"
             ],
             [
              0.3333333333333333,
              "#9c179e"
             ],
             [
              0.4444444444444444,
              "#bd3786"
             ],
             [
              0.5555555555555556,
              "#d8576b"
             ],
             [
              0.6666666666666666,
              "#ed7953"
             ],
             [
              0.7777777777777778,
              "#fb9f3a"
             ],
             [
              0.8888888888888888,
              "#fdca26"
             ],
             [
              1,
              "#f0f921"
             ]
            ],
            "type": "surface"
           }
          ],
          "table": [
           {
            "cells": {
             "fill": {
              "color": "#EBF0F8"
             },
             "line": {
              "color": "white"
             }
            },
            "header": {
             "fill": {
              "color": "#C8D4E3"
             },
             "line": {
              "color": "white"
             }
            },
            "type": "table"
           }
          ]
         },
         "layout": {
          "annotationdefaults": {
           "arrowcolor": "#2a3f5f",
           "arrowhead": 0,
           "arrowwidth": 1
          },
          "autotypenumbers": "strict",
          "coloraxis": {
           "colorbar": {
            "outlinewidth": 0,
            "ticks": ""
           }
          },
          "colorscale": {
           "diverging": [
            [
             0,
             "#8e0152"
            ],
            [
             0.1,
             "#c51b7d"
            ],
            [
             0.2,
             "#de77ae"
            ],
            [
             0.3,
             "#f1b6da"
            ],
            [
             0.4,
             "#fde0ef"
            ],
            [
             0.5,
             "#f7f7f7"
            ],
            [
             0.6,
             "#e6f5d0"
            ],
            [
             0.7,
             "#b8e186"
            ],
            [
             0.8,
             "#7fbc41"
            ],
            [
             0.9,
             "#4d9221"
            ],
            [
             1,
             "#276419"
            ]
           ],
           "sequential": [
            [
             0,
             "#0d0887"
            ],
            [
             0.1111111111111111,
             "#46039f"
            ],
            [
             0.2222222222222222,
             "#7201a8"
            ],
            [
             0.3333333333333333,
             "#9c179e"
            ],
            [
             0.4444444444444444,
             "#bd3786"
            ],
            [
             0.5555555555555556,
             "#d8576b"
            ],
            [
             0.6666666666666666,
             "#ed7953"
            ],
            [
             0.7777777777777778,
             "#fb9f3a"
            ],
            [
             0.8888888888888888,
             "#fdca26"
            ],
            [
             1,
             "#f0f921"
            ]
           ],
           "sequentialminus": [
            [
             0,
             "#0d0887"
            ],
            [
             0.1111111111111111,
             "#46039f"
            ],
            [
             0.2222222222222222,
             "#7201a8"
            ],
            [
             0.3333333333333333,
             "#9c179e"
            ],
            [
             0.4444444444444444,
             "#bd3786"
            ],
            [
             0.5555555555555556,
             "#d8576b"
            ],
            [
             0.6666666666666666,
             "#ed7953"
            ],
            [
             0.7777777777777778,
             "#fb9f3a"
            ],
            [
             0.8888888888888888,
             "#fdca26"
            ],
            [
             1,
             "#f0f921"
            ]
           ]
          },
          "colorway": [
           "#636efa",
           "#EF553B",
           "#00cc96",
           "#ab63fa",
           "#FFA15A",
           "#19d3f3",
           "#FF6692",
           "#B6E880",
           "#FF97FF",
           "#FECB52"
          ],
          "font": {
           "color": "#2a3f5f"
          },
          "geo": {
           "bgcolor": "white",
           "lakecolor": "white",
           "landcolor": "#E5ECF6",
           "showlakes": true,
           "showland": true,
           "subunitcolor": "white"
          },
          "hoverlabel": {
           "align": "left"
          },
          "hovermode": "closest",
          "mapbox": {
           "style": "light"
          },
          "paper_bgcolor": "white",
          "plot_bgcolor": "#E5ECF6",
          "polar": {
           "angularaxis": {
            "gridcolor": "white",
            "linecolor": "white",
            "ticks": ""
           },
           "bgcolor": "#E5ECF6",
           "radialaxis": {
            "gridcolor": "white",
            "linecolor": "white",
            "ticks": ""
           }
          },
          "scene": {
           "xaxis": {
            "backgroundcolor": "#E5ECF6",
            "gridcolor": "white",
            "gridwidth": 2,
            "linecolor": "white",
            "showbackground": true,
            "ticks": "",
            "zerolinecolor": "white"
           },
           "yaxis": {
            "backgroundcolor": "#E5ECF6",
            "gridcolor": "white",
            "gridwidth": 2,
            "linecolor": "white",
            "showbackground": true,
            "ticks": "",
            "zerolinecolor": "white"
           },
           "zaxis": {
            "backgroundcolor": "#E5ECF6",
            "gridcolor": "white",
            "gridwidth": 2,
            "linecolor": "white",
            "showbackground": true,
            "ticks": "",
            "zerolinecolor": "white"
           }
          },
          "shapedefaults": {
           "line": {
            "color": "#2a3f5f"
           }
          },
          "ternary": {
           "aaxis": {
            "gridcolor": "white",
            "linecolor": "white",
            "ticks": ""
           },
           "baxis": {
            "gridcolor": "white",
            "linecolor": "white",
            "ticks": ""
           },
           "bgcolor": "#E5ECF6",
           "caxis": {
            "gridcolor": "white",
            "linecolor": "white",
            "ticks": ""
           }
          },
          "title": {
           "x": 0.05
          },
          "xaxis": {
           "automargin": true,
           "gridcolor": "white",
           "linecolor": "white",
           "ticks": "",
           "title": {
            "standoff": 15
           },
           "zerolinecolor": "white",
           "zerolinewidth": 2
          },
          "yaxis": {
           "automargin": true,
           "gridcolor": "white",
           "linecolor": "white",
           "ticks": "",
           "title": {
            "standoff": 15
           },
           "zerolinecolor": "white",
           "zerolinewidth": 2
          }
         }
        },
        "xaxis": {
         "anchor": "y",
         "domain": [
          0,
          1
         ],
         "title": {
          "text": "ranking_scratch"
         }
        },
        "yaxis": {
         "anchor": "x",
         "domain": [
          0,
          1
         ],
         "title": {
          "text": "info_age"
         }
        }
       }
      },
      "text/html": [
       "<div>                            <div id=\"a2d5519f-c192-49ac-8b8b-8a4732bf82d6\" class=\"plotly-graph-div\" style=\"height:525px; width:100%;\"></div>            <script type=\"text/javascript\">                require([\"plotly\"], function(Plotly) {                    window.PLOTLYENV=window.PLOTLYENV || {};                                    if (document.getElementById(\"a2d5519f-c192-49ac-8b8b-8a4732bf82d6\")) {                    Plotly.newPlot(                        \"a2d5519f-c192-49ac-8b8b-8a4732bf82d6\",                        [{\"hovertemplate\":\"ranking_scratch=%{x}<br>info_age=%{y}<extra></extra>\",\"legendgroup\":\"\",\"line\":{\"color\":\"#636efa\",\"dash\":\"solid\"},\"marker\":{\"symbol\":\"circle\"},\"mode\":\"lines\",\"name\":\"\",\"orientation\":\"v\",\"showlegend\":false,\"x\":[1,2,3,4,5,6,7,8,9,10,11,12,13,14,15,16,17,18,19,20,21,22,23,24,25,26,27,28,29,30,31,32,33,34,35,36,37,38,39,40,41,42,43,44,45,46,47,48,49,50,51,52,53,54,55,56,57,58,59,60,61,62,63,64,65,66,66,68,69,70,71,72,73,74,75,76,77,78,79,80,81,82,83,84,85,86,87,88,89,90,91,92,93,94,95,96,97,98,99,100,101,102,103,103,105,106,107,108,109,110,111,112,113,114,115,116,117,118,119,120,121,122,123,124,125,126,127,128,129,130,131,132,133,134,135,136,137,138,139,139,141,142,143,144,145,146,147,148,149,150,151,152,153,154,155,156,157,158,159,160,161,162,163,164,165,166,167,168,169,170,171,172,173,174,175,175,177,178,179,180,181,182,183,184,185,186,187,188,189,190,191,192,193,194,195,196,197,198,199,200],\"xaxis\":\"x\",\"y\":[35,35,30,32,34,41,28,37,33,32,41,31,41,35,39,29,37,31,43,33,32,30,27,42,29,30,33,30,37,31,31,37,35,40,35,39,34,39,31,32,46,45,41,43,39,32,33,29,33,43,45,38,35,44,37,42,59,36,37,49,40,37,36,31,45,39,28,48,40,44,47,41,42,42,31,39,43,47,37,31,40,45,37,34,37,36,32,41,34,30,36,44,33,47,33,36,43,45,37,28,40,30,33,44,29,34,40,36,39,40,46,30,37,30,40,34,39,38,44,35,40,47,35,51,41,43,43,34,41,54,29,34,42,39,43,50,42,36,37,34,33,38,32,52,45,49,35,40,30,43,39,37,49,38,43,37,29,38,51,41,43,41,35,50,33,36,50,42,42,40,34,40,50,46,36,47,38,38,45,36,37,39,32,33,44,38,41,41,31,36,36,40,52,49,34,45,42,35,43,37],\"yaxis\":\"y\",\"type\":\"scatter\"}],                        {\"template\":{\"data\":{\"histogram2dcontour\":[{\"type\":\"histogram2dcontour\",\"colorbar\":{\"outlinewidth\":0,\"ticks\":\"\"},\"colorscale\":[[0.0,\"#0d0887\"],[0.1111111111111111,\"#46039f\"],[0.2222222222222222,\"#7201a8\"],[0.3333333333333333,\"#9c179e\"],[0.4444444444444444,\"#bd3786\"],[0.5555555555555556,\"#d8576b\"],[0.6666666666666666,\"#ed7953\"],[0.7777777777777778,\"#fb9f3a\"],[0.8888888888888888,\"#fdca26\"],[1.0,\"#f0f921\"]]}],\"choropleth\":[{\"type\":\"choropleth\",\"colorbar\":{\"outlinewidth\":0,\"ticks\":\"\"}}],\"histogram2d\":[{\"type\":\"histogram2d\",\"colorbar\":{\"outlinewidth\":0,\"ticks\":\"\"},\"colorscale\":[[0.0,\"#0d0887\"],[0.1111111111111111,\"#46039f\"],[0.2222222222222222,\"#7201a8\"],[0.3333333333333333,\"#9c179e\"],[0.4444444444444444,\"#bd3786\"],[0.5555555555555556,\"#d8576b\"],[0.6666666666666666,\"#ed7953\"],[0.7777777777777778,\"#fb9f3a\"],[0.8888888888888888,\"#fdca26\"],[1.0,\"#f0f921\"]]}],\"heatmap\":[{\"type\":\"heatmap\",\"colorbar\":{\"outlinewidth\":0,\"ticks\":\"\"},\"colorscale\":[[0.0,\"#0d0887\"],[0.1111111111111111,\"#46039f\"],[0.2222222222222222,\"#7201a8\"],[0.3333333333333333,\"#9c179e\"],[0.4444444444444444,\"#bd3786\"],[0.5555555555555556,\"#d8576b\"],[0.6666666666666666,\"#ed7953\"],[0.7777777777777778,\"#fb9f3a\"],[0.8888888888888888,\"#fdca26\"],[1.0,\"#f0f921\"]]}],\"heatmapgl\":[{\"type\":\"heatmapgl\",\"colorbar\":{\"outlinewidth\":0,\"ticks\":\"\"},\"colorscale\":[[0.0,\"#0d0887\"],[0.1111111111111111,\"#46039f\"],[0.2222222222222222,\"#7201a8\"],[0.3333333333333333,\"#9c179e\"],[0.4444444444444444,\"#bd3786\"],[0.5555555555555556,\"#d8576b\"],[0.6666666666666666,\"#ed7953\"],[0.7777777777777778,\"#fb9f3a\"],[0.8888888888888888,\"#fdca26\"],[1.0,\"#f0f921\"]]}],\"contourcarpet\":[{\"type\":\"contourcarpet\",\"colorbar\":{\"outlinewidth\":0,\"ticks\":\"\"}}],\"contour\":[{\"type\":\"contour\",\"colorbar\":{\"outlinewidth\":0,\"ticks\":\"\"},\"colorscale\":[[0.0,\"#0d0887\"],[0.1111111111111111,\"#46039f\"],[0.2222222222222222,\"#7201a8\"],[0.3333333333333333,\"#9c179e\"],[0.4444444444444444,\"#bd3786\"],[0.5555555555555556,\"#d8576b\"],[0.6666666666666666,\"#ed7953\"],[0.7777777777777778,\"#fb9f3a\"],[0.8888888888888888,\"#fdca26\"],[1.0,\"#f0f921\"]]}],\"surface\":[{\"type\":\"surface\",\"colorbar\":{\"outlinewidth\":0,\"ticks\":\"\"},\"colorscale\":[[0.0,\"#0d0887\"],[0.1111111111111111,\"#46039f\"],[0.2222222222222222,\"#7201a8\"],[0.3333333333333333,\"#9c179e\"],[0.4444444444444444,\"#bd3786\"],[0.5555555555555556,\"#d8576b\"],[0.6666666666666666,\"#ed7953\"],[0.7777777777777778,\"#fb9f3a\"],[0.8888888888888888,\"#fdca26\"],[1.0,\"#f0f921\"]]}],\"mesh3d\":[{\"type\":\"mesh3d\",\"colorbar\":{\"outlinewidth\":0,\"ticks\":\"\"}}],\"scatter\":[{\"fillpattern\":{\"fillmode\":\"overlay\",\"size\":10,\"solidity\":0.2},\"type\":\"scatter\"}],\"parcoords\":[{\"type\":\"parcoords\",\"line\":{\"colorbar\":{\"outlinewidth\":0,\"ticks\":\"\"}}}],\"scatterpolargl\":[{\"type\":\"scatterpolargl\",\"marker\":{\"colorbar\":{\"outlinewidth\":0,\"ticks\":\"\"}}}],\"bar\":[{\"error_x\":{\"color\":\"#2a3f5f\"},\"error_y\":{\"color\":\"#2a3f5f\"},\"marker\":{\"line\":{\"color\":\"#E5ECF6\",\"width\":0.5},\"pattern\":{\"fillmode\":\"overlay\",\"size\":10,\"solidity\":0.2}},\"type\":\"bar\"}],\"scattergeo\":[{\"type\":\"scattergeo\",\"marker\":{\"colorbar\":{\"outlinewidth\":0,\"ticks\":\"\"}}}],\"scatterpolar\":[{\"type\":\"scatterpolar\",\"marker\":{\"colorbar\":{\"outlinewidth\":0,\"ticks\":\"\"}}}],\"histogram\":[{\"marker\":{\"pattern\":{\"fillmode\":\"overlay\",\"size\":10,\"solidity\":0.2}},\"type\":\"histogram\"}],\"scattergl\":[{\"type\":\"scattergl\",\"marker\":{\"colorbar\":{\"outlinewidth\":0,\"ticks\":\"\"}}}],\"scatter3d\":[{\"type\":\"scatter3d\",\"line\":{\"colorbar\":{\"outlinewidth\":0,\"ticks\":\"\"}},\"marker\":{\"colorbar\":{\"outlinewidth\":0,\"ticks\":\"\"}}}],\"scattermapbox\":[{\"type\":\"scattermapbox\",\"marker\":{\"colorbar\":{\"outlinewidth\":0,\"ticks\":\"\"}}}],\"scatterternary\":[{\"type\":\"scatterternary\",\"marker\":{\"colorbar\":{\"outlinewidth\":0,\"ticks\":\"\"}}}],\"scattercarpet\":[{\"type\":\"scattercarpet\",\"marker\":{\"colorbar\":{\"outlinewidth\":0,\"ticks\":\"\"}}}],\"carpet\":[{\"aaxis\":{\"endlinecolor\":\"#2a3f5f\",\"gridcolor\":\"white\",\"linecolor\":\"white\",\"minorgridcolor\":\"white\",\"startlinecolor\":\"#2a3f5f\"},\"baxis\":{\"endlinecolor\":\"#2a3f5f\",\"gridcolor\":\"white\",\"linecolor\":\"white\",\"minorgridcolor\":\"white\",\"startlinecolor\":\"#2a3f5f\"},\"type\":\"carpet\"}],\"table\":[{\"cells\":{\"fill\":{\"color\":\"#EBF0F8\"},\"line\":{\"color\":\"white\"}},\"header\":{\"fill\":{\"color\":\"#C8D4E3\"},\"line\":{\"color\":\"white\"}},\"type\":\"table\"}],\"barpolar\":[{\"marker\":{\"line\":{\"color\":\"#E5ECF6\",\"width\":0.5},\"pattern\":{\"fillmode\":\"overlay\",\"size\":10,\"solidity\":0.2}},\"type\":\"barpolar\"}],\"pie\":[{\"automargin\":true,\"type\":\"pie\"}]},\"layout\":{\"autotypenumbers\":\"strict\",\"colorway\":[\"#636efa\",\"#EF553B\",\"#00cc96\",\"#ab63fa\",\"#FFA15A\",\"#19d3f3\",\"#FF6692\",\"#B6E880\",\"#FF97FF\",\"#FECB52\"],\"font\":{\"color\":\"#2a3f5f\"},\"hovermode\":\"closest\",\"hoverlabel\":{\"align\":\"left\"},\"paper_bgcolor\":\"white\",\"plot_bgcolor\":\"#E5ECF6\",\"polar\":{\"bgcolor\":\"#E5ECF6\",\"angularaxis\":{\"gridcolor\":\"white\",\"linecolor\":\"white\",\"ticks\":\"\"},\"radialaxis\":{\"gridcolor\":\"white\",\"linecolor\":\"white\",\"ticks\":\"\"}},\"ternary\":{\"bgcolor\":\"#E5ECF6\",\"aaxis\":{\"gridcolor\":\"white\",\"linecolor\":\"white\",\"ticks\":\"\"},\"baxis\":{\"gridcolor\":\"white\",\"linecolor\":\"white\",\"ticks\":\"\"},\"caxis\":{\"gridcolor\":\"white\",\"linecolor\":\"white\",\"ticks\":\"\"}},\"coloraxis\":{\"colorbar\":{\"outlinewidth\":0,\"ticks\":\"\"}},\"colorscale\":{\"sequential\":[[0.0,\"#0d0887\"],[0.1111111111111111,\"#46039f\"],[0.2222222222222222,\"#7201a8\"],[0.3333333333333333,\"#9c179e\"],[0.4444444444444444,\"#bd3786\"],[0.5555555555555556,\"#d8576b\"],[0.6666666666666666,\"#ed7953\"],[0.7777777777777778,\"#fb9f3a\"],[0.8888888888888888,\"#fdca26\"],[1.0,\"#f0f921\"]],\"sequentialminus\":[[0.0,\"#0d0887\"],[0.1111111111111111,\"#46039f\"],[0.2222222222222222,\"#7201a8\"],[0.3333333333333333,\"#9c179e\"],[0.4444444444444444,\"#bd3786\"],[0.5555555555555556,\"#d8576b\"],[0.6666666666666666,\"#ed7953\"],[0.7777777777777778,\"#fb9f3a\"],[0.8888888888888888,\"#fdca26\"],[1.0,\"#f0f921\"]],\"diverging\":[[0,\"#8e0152\"],[0.1,\"#c51b7d\"],[0.2,\"#de77ae\"],[0.3,\"#f1b6da\"],[0.4,\"#fde0ef\"],[0.5,\"#f7f7f7\"],[0.6,\"#e6f5d0\"],[0.7,\"#b8e186\"],[0.8,\"#7fbc41\"],[0.9,\"#4d9221\"],[1,\"#276419\"]]},\"xaxis\":{\"gridcolor\":\"white\",\"linecolor\":\"white\",\"ticks\":\"\",\"title\":{\"standoff\":15},\"zerolinecolor\":\"white\",\"automargin\":true,\"zerolinewidth\":2},\"yaxis\":{\"gridcolor\":\"white\",\"linecolor\":\"white\",\"ticks\":\"\",\"title\":{\"standoff\":15},\"zerolinecolor\":\"white\",\"automargin\":true,\"zerolinewidth\":2},\"scene\":{\"xaxis\":{\"backgroundcolor\":\"#E5ECF6\",\"gridcolor\":\"white\",\"linecolor\":\"white\",\"showbackground\":true,\"ticks\":\"\",\"zerolinecolor\":\"white\",\"gridwidth\":2},\"yaxis\":{\"backgroundcolor\":\"#E5ECF6\",\"gridcolor\":\"white\",\"linecolor\":\"white\",\"showbackground\":true,\"ticks\":\"\",\"zerolinecolor\":\"white\",\"gridwidth\":2},\"zaxis\":{\"backgroundcolor\":\"#E5ECF6\",\"gridcolor\":\"white\",\"linecolor\":\"white\",\"showbackground\":true,\"ticks\":\"\",\"zerolinecolor\":\"white\",\"gridwidth\":2}},\"shapedefaults\":{\"line\":{\"color\":\"#2a3f5f\"}},\"annotationdefaults\":{\"arrowcolor\":\"#2a3f5f\",\"arrowhead\":0,\"arrowwidth\":1},\"geo\":{\"bgcolor\":\"white\",\"landcolor\":\"#E5ECF6\",\"subunitcolor\":\"white\",\"showland\":true,\"showlakes\":true,\"lakecolor\":\"white\"},\"title\":{\"x\":0.05},\"mapbox\":{\"style\":\"light\"}}},\"xaxis\":{\"anchor\":\"y\",\"domain\":[0.0,1.0],\"title\":{\"text\":\"ranking_scratch\"}},\"yaxis\":{\"anchor\":\"x\",\"domain\":[0.0,1.0],\"title\":{\"text\":\"info_age\"}},\"legend\":{\"tracegroupgap\":0},\"margin\":{\"t\":60}},                        {\"responsive\": true}                    ).then(function(){\n",
       "                            \n",
       "var gd = document.getElementById('a2d5519f-c192-49ac-8b8b-8a4732bf82d6');\n",
       "var x = new MutationObserver(function (mutations, observer) {{\n",
       "        var display = window.getComputedStyle(gd).display;\n",
       "        if (!display || display === 'none') {{\n",
       "            console.log([gd, 'removed!']);\n",
       "            Plotly.purge(gd);\n",
       "            observer.disconnect();\n",
       "        }}\n",
       "}});\n",
       "\n",
       "// Listen for the removal of the full notebook cells\n",
       "var notebookContainer = gd.closest('#notebook-container');\n",
       "if (notebookContainer) {{\n",
       "    x.observe(notebookContainer, {childList: true});\n",
       "}}\n",
       "\n",
       "// Listen for the clearing of the current output cell\n",
       "var outputEl = gd.closest('.output');\n",
       "if (outputEl) {{\n",
       "    x.observe(outputEl, {childList: true});\n",
       "}}\n",
       "\n",
       "                        })                };                });            </script>        </div>"
      ]
     },
     "metadata": {},
     "output_type": "display_data"
    },
    {
     "name": "stdout",
     "output_type": "stream",
     "text": [
      "Count   :  200\n",
      "Average : 38.4\n",
      "Median  : 38.0\n",
      "Mode    :   37\n",
      "Lower   :   27\n",
      "Higher  :   59\n"
     ]
    }
   ],
   "source": [
    "fig = px.line(df, x='ranking_scratch', y=\"info_age\")\n",
    "fig.show()\n",
    "stats(df[\"info_age\"])\n",
    "\n",
    "print(\"Same analysis for top 200 finishers:\")\n",
    "fig = px.line(df[:200], x='ranking_scratch', y=\"info_age\")\n",
    "fig.show()\n",
    "stats(df[:200][\"info_age\"])"
   ]
  },
  {
   "cell_type": "markdown",
   "id": "46529681",
   "metadata": {},
   "source": [
    "### UTMB index"
   ]
  },
  {
   "cell_type": "code",
   "execution_count": 7,
   "id": "19e07b55",
   "metadata": {},
   "outputs": [
    {
     "data": {
      "application/vnd.plotly.v1+json": {
       "config": {
        "plotlyServerURL": "https://plot.ly"
       },
       "data": [
        {
         "hovertemplate": "ranking_scratch=%{x}<br>info_index=%{y}<extra></extra>",
         "legendgroup": "",
         "line": {
          "color": "#636efa",
          "dash": "solid"
         },
         "marker": {
          "symbol": "circle"
         },
         "mode": "lines",
         "name": "",
         "showlegend": false,
         "type": "scattergl",
         "x": [
          1,
          2,
          3,
          4,
          5,
          6,
          7,
          8,
          9,
          10,
          11,
          12,
          13,
          14,
          15,
          16,
          17,
          18,
          19,
          20,
          21,
          22,
          23,
          24,
          25,
          26,
          27,
          28,
          29,
          30,
          31,
          32,
          33,
          34,
          35,
          36,
          37,
          38,
          39,
          40,
          41,
          42,
          43,
          44,
          45,
          46,
          47,
          48,
          49,
          50,
          51,
          52,
          53,
          54,
          55,
          56,
          57,
          58,
          59,
          60,
          61,
          62,
          63,
          64,
          65,
          66,
          66,
          68,
          69,
          70,
          71,
          72,
          73,
          74,
          75,
          76,
          77,
          78,
          79,
          80,
          81,
          82,
          83,
          84,
          85,
          86,
          87,
          88,
          89,
          90,
          91,
          92,
          93,
          94,
          95,
          96,
          97,
          98,
          99,
          100,
          101,
          102,
          103,
          103,
          105,
          106,
          107,
          108,
          109,
          110,
          111,
          112,
          113,
          114,
          115,
          116,
          117,
          118,
          119,
          120,
          121,
          122,
          123,
          124,
          125,
          126,
          127,
          128,
          129,
          130,
          131,
          132,
          133,
          134,
          135,
          136,
          137,
          138,
          139,
          139,
          141,
          142,
          143,
          144,
          145,
          146,
          147,
          148,
          149,
          150,
          151,
          152,
          153,
          154,
          155,
          156,
          157,
          158,
          159,
          160,
          161,
          162,
          163,
          164,
          165,
          166,
          167,
          168,
          169,
          170,
          171,
          172,
          173,
          174,
          175,
          175,
          177,
          178,
          179,
          180,
          181,
          182,
          183,
          184,
          185,
          186,
          187,
          188,
          189,
          190,
          191,
          192,
          193,
          194,
          195,
          196,
          197,
          198,
          199,
          200,
          201,
          202,
          203,
          204,
          205,
          206,
          207,
          208,
          209,
          210,
          211,
          212,
          213,
          214,
          215,
          216,
          217,
          218,
          219,
          220,
          221,
          222,
          223,
          224,
          225,
          226,
          227,
          228,
          229,
          230,
          231,
          232,
          233,
          234,
          235,
          236,
          237,
          238,
          239,
          240,
          241,
          242,
          243,
          244,
          245,
          246,
          247,
          248,
          249,
          250,
          251,
          252,
          253,
          254,
          255,
          256,
          257,
          258,
          259,
          260,
          261,
          262,
          263,
          264,
          265,
          266,
          267,
          268,
          269,
          270,
          271,
          272,
          273,
          274,
          275,
          276,
          277,
          278,
          279,
          280,
          281,
          282,
          283,
          284,
          285,
          286,
          287,
          288,
          289,
          290,
          290,
          292,
          293,
          294,
          295,
          296,
          297,
          298,
          299,
          300,
          301,
          301,
          303,
          304,
          305,
          306,
          307,
          308,
          309,
          310,
          310,
          312,
          313,
          314,
          315,
          316,
          317,
          318,
          319,
          320,
          321,
          322,
          323,
          324,
          325,
          326,
          327,
          328,
          329,
          330,
          331,
          332,
          333,
          334,
          335,
          335,
          337,
          338,
          339,
          340,
          341,
          342,
          343,
          344,
          345,
          346,
          347,
          348,
          349,
          350,
          351,
          352,
          353,
          354,
          355,
          356,
          357,
          358,
          359,
          360,
          361,
          362,
          363,
          364,
          365,
          366,
          367,
          368,
          369,
          370,
          371,
          372,
          373,
          374,
          375,
          376,
          377,
          378,
          379,
          380,
          381,
          382,
          383,
          384,
          385,
          386,
          387,
          388,
          389,
          390,
          391,
          392,
          393,
          394,
          395,
          396,
          397,
          398,
          399,
          399,
          401,
          402,
          403,
          404,
          405,
          406,
          407,
          408,
          409,
          410,
          411,
          412,
          413,
          414,
          415,
          416,
          417,
          418,
          419,
          420,
          421,
          422,
          423,
          424,
          425,
          426,
          427,
          428,
          429,
          430,
          431,
          432,
          433,
          434,
          435,
          436,
          437,
          438,
          439,
          440,
          441,
          442,
          443,
          444,
          445,
          446,
          447,
          448,
          449,
          450,
          451,
          452,
          453,
          454,
          455,
          456,
          457,
          458,
          459,
          460,
          461,
          462,
          463,
          464,
          465,
          466,
          467,
          468,
          469,
          470,
          471,
          472,
          473,
          474,
          475,
          476,
          477,
          478,
          479,
          480,
          481,
          482,
          483,
          484,
          485,
          486,
          487,
          488,
          489,
          490,
          491,
          492,
          493,
          494,
          495,
          496,
          497,
          498,
          499,
          500,
          501,
          502,
          503,
          504,
          505,
          506,
          507,
          508,
          509,
          510,
          511,
          512,
          513,
          514,
          515,
          516,
          517,
          518,
          519,
          519,
          521,
          522,
          523,
          524,
          524,
          526,
          527,
          528,
          529,
          530,
          531,
          532,
          533,
          534,
          535,
          536,
          537,
          538,
          539,
          539,
          541,
          542,
          543,
          544,
          545,
          546,
          547,
          548,
          549,
          550,
          551,
          552,
          553,
          554,
          555,
          556,
          557,
          558,
          559,
          560,
          561,
          562,
          563,
          564,
          565,
          566,
          567,
          568,
          569,
          570,
          571,
          572,
          573,
          574,
          575,
          576,
          577,
          578,
          578,
          580,
          581,
          582,
          583,
          584,
          585,
          586,
          587,
          588,
          589,
          590,
          591,
          592,
          593,
          594,
          595,
          596,
          597,
          598,
          599,
          600,
          601,
          602,
          603,
          604,
          605,
          606,
          607,
          608,
          609,
          610,
          611,
          612,
          613,
          614,
          615,
          616,
          617,
          618,
          619,
          620,
          621,
          622,
          623,
          624,
          625,
          626,
          627,
          628,
          629,
          630,
          631,
          632,
          633,
          634,
          635,
          636,
          637,
          638,
          639,
          640,
          641,
          642,
          643,
          644,
          645,
          646,
          647,
          648,
          649,
          650,
          651,
          652,
          653,
          654,
          655,
          656,
          657,
          658,
          659,
          660,
          661,
          662,
          663,
          664,
          665,
          666,
          667,
          668,
          669,
          670,
          671,
          672,
          673,
          674,
          675,
          676,
          677,
          678,
          679,
          680,
          681,
          682,
          683,
          684,
          685,
          686,
          687,
          688,
          689,
          690,
          691,
          692,
          693,
          694,
          695,
          696,
          697,
          698,
          699,
          700,
          701,
          702,
          703,
          704,
          705,
          706,
          707,
          708,
          709,
          710,
          711,
          712,
          713,
          714,
          715,
          716,
          717,
          718,
          719,
          720,
          721,
          722,
          722,
          724,
          725,
          726,
          727,
          728,
          729,
          730,
          731,
          732,
          733,
          734,
          735,
          736,
          736,
          738,
          739,
          740,
          741,
          742,
          743,
          744,
          745,
          746,
          747,
          748,
          749,
          750,
          751,
          752,
          753,
          754,
          755,
          756,
          757,
          758,
          759,
          760,
          761,
          762,
          763,
          764,
          765,
          766,
          767,
          768,
          769,
          770,
          771,
          772,
          773,
          774,
          775,
          776,
          777,
          778,
          779,
          780,
          781,
          782,
          783,
          784,
          785,
          786,
          787,
          788,
          789,
          790,
          791,
          792,
          793,
          794,
          795,
          796,
          797,
          798,
          799,
          800,
          801,
          802,
          803,
          804,
          805,
          806,
          807,
          808,
          809,
          810,
          811,
          812,
          813,
          814,
          815,
          816,
          817,
          818,
          819,
          820,
          821,
          822,
          823,
          824,
          825,
          826,
          827,
          828,
          829,
          830,
          831,
          832,
          833,
          834,
          835,
          836,
          837,
          838,
          839,
          840,
          841,
          842,
          843,
          844,
          845,
          846,
          847,
          848,
          849,
          850,
          851,
          852,
          853,
          854,
          855,
          856,
          857,
          858,
          859,
          860,
          861,
          862,
          863,
          864,
          865,
          866,
          867,
          868,
          869,
          870,
          871,
          872,
          873,
          874,
          875,
          876,
          877,
          878,
          879,
          880,
          881,
          882,
          883,
          884,
          885,
          886,
          887,
          888,
          889,
          890,
          891,
          892,
          893,
          894,
          895,
          896,
          897,
          898,
          899,
          900,
          901,
          902,
          903,
          904,
          905,
          906,
          907,
          908,
          909,
          910,
          911,
          912,
          913,
          914,
          915,
          916,
          917,
          918,
          919,
          920,
          921,
          922,
          923,
          924,
          925,
          926,
          927,
          928,
          929,
          930,
          931,
          932,
          933,
          934,
          935,
          936,
          936,
          938,
          939,
          940,
          941,
          942,
          943,
          944,
          944,
          946,
          947,
          948,
          949,
          950,
          951,
          952,
          953,
          954,
          955,
          956,
          957,
          958,
          959,
          960,
          961,
          962,
          963,
          964,
          965,
          965,
          967,
          968,
          969,
          970,
          971,
          971,
          973,
          974,
          975,
          976,
          977,
          977,
          979,
          980,
          981,
          982,
          982,
          984,
          985,
          986,
          987,
          987,
          989,
          990,
          991,
          992,
          993,
          994,
          995,
          996,
          997,
          998,
          998,
          1000,
          1000,
          1002,
          1003,
          1004,
          1005,
          1006,
          1007,
          1008,
          1009,
          1010,
          1011,
          1012,
          1013,
          1014,
          1015,
          1016,
          1017,
          1018,
          1019,
          1020,
          1021,
          1022,
          1023,
          1024,
          1025,
          1026,
          1027,
          1028,
          1029,
          1030,
          1031,
          1032,
          1033,
          1034,
          1035,
          1036,
          1037,
          1038,
          1039,
          1040,
          1041,
          1042,
          1043,
          1044,
          1045,
          1046,
          1047,
          1048,
          1049,
          1050,
          1051,
          1052,
          1053,
          1054,
          1055,
          1056,
          1057,
          1058,
          1059,
          1060,
          1061,
          1062,
          1063,
          1064,
          1064,
          1066,
          1067,
          1067,
          1069,
          1070,
          1071,
          1072,
          1073,
          1074,
          1075,
          1076,
          1077,
          1078,
          1079,
          1080,
          1081,
          1082,
          1083,
          1084,
          1085,
          1085,
          1087,
          1088,
          1089,
          1090,
          1091,
          1092,
          1093,
          1094,
          1095,
          1096,
          1097,
          1098,
          1099,
          1100,
          1101,
          1102,
          1103,
          1104,
          1105,
          1105,
          1107,
          1108,
          1109,
          1110,
          1110,
          1112,
          1113,
          1114,
          1115,
          1116,
          1117,
          1118,
          1119,
          1120,
          1121,
          1122,
          1123,
          1124,
          1125,
          1126,
          1127,
          1128,
          1129,
          1130,
          1131,
          1132,
          1132,
          1134,
          1135,
          1136,
          1137,
          1138,
          1139,
          1140,
          1141,
          1142,
          1143,
          1144,
          1145,
          1146,
          1147,
          1148,
          1149,
          1150,
          1151,
          1152,
          1153,
          1154,
          1155,
          1156,
          1157,
          1158,
          1159,
          1160,
          1161,
          1162,
          1163,
          1164,
          1165,
          1166,
          1167,
          1168,
          1169,
          1170,
          1171,
          1172,
          1173,
          1174,
          1175,
          1176,
          1177,
          1177,
          1179,
          1180,
          1181,
          1182,
          1183,
          1184,
          1185,
          1186,
          1187,
          1188,
          1189,
          1190,
          1191,
          1192,
          1193,
          1194,
          1195,
          1196,
          1197,
          1198,
          1199,
          1200,
          1201,
          1202,
          1203,
          1204,
          1205,
          1206,
          1207,
          1208,
          1209,
          1210,
          1211,
          1212,
          1213,
          1214,
          1215,
          1216,
          1217,
          1218,
          1219,
          1220,
          1221,
          1222,
          1223,
          1224,
          1224,
          1226,
          1227,
          1228,
          1229,
          1230,
          1230,
          1232,
          1233,
          1234,
          1235,
          1236,
          1237,
          1238,
          1239,
          1240,
          1240,
          1242,
          1243,
          1244,
          1245,
          1246,
          1247,
          1248,
          1249,
          1250,
          1251,
          1252,
          1253,
          1254,
          1255,
          1256,
          1257,
          1258,
          1259,
          1260,
          1261,
          1262,
          1263,
          1264,
          1265,
          1266,
          1267,
          1268,
          1269,
          1270,
          1271,
          1272,
          1273,
          1274,
          1275,
          1276,
          1277,
          1278,
          1279,
          1280,
          1281,
          1282,
          1283,
          1284,
          1285,
          1286,
          1287,
          1287,
          1289,
          1290,
          1291,
          1292,
          1293,
          1294,
          1295,
          1296,
          1297,
          1298,
          1299,
          1300,
          1301,
          1302,
          1303,
          1304,
          1305,
          1306,
          1307,
          1308,
          1308,
          1310,
          1311,
          1312,
          1313,
          1314,
          1315,
          1316,
          1317,
          1318,
          1319,
          1320,
          1321,
          1322,
          1323,
          1324,
          1325,
          1326,
          1327,
          1328,
          1329,
          1330,
          1331,
          1332,
          1333,
          1334,
          1335,
          1336,
          1337,
          1338,
          1339,
          1340,
          1341,
          1342,
          1343,
          1344,
          1345,
          1346,
          1347,
          1348,
          1349,
          1349,
          1351,
          1352,
          1353,
          1354,
          1355,
          1356,
          1357,
          1358,
          1359,
          1360,
          1361,
          1362,
          1363,
          1364,
          1365,
          1366,
          1366,
          1368,
          1368,
          1370,
          1371,
          1372,
          1373,
          1374,
          1375,
          1376,
          1377,
          1378,
          1378,
          1378,
          1381,
          1382,
          1383,
          1384,
          1385,
          1386,
          1387,
          1388,
          1389,
          1390,
          1391,
          1392,
          1393,
          1394,
          1395,
          1395,
          1397,
          1398,
          1399,
          1400,
          1401,
          1402,
          1403,
          1404,
          1405,
          1406,
          1407,
          1408,
          1409,
          1410,
          1411,
          1412,
          1413,
          1414,
          1415,
          1416,
          1417,
          1418,
          1419,
          1420,
          1421,
          1422,
          1423,
          1424,
          1425,
          1426,
          1427,
          1428,
          1429,
          1430,
          1431,
          1432,
          1433,
          1434,
          1435,
          1436,
          1437,
          1438,
          1439,
          1439,
          1441,
          1442,
          1443,
          1444,
          1445,
          1446,
          1447,
          1447,
          1449,
          1450,
          1451,
          1452,
          1453,
          1454,
          1455,
          1456,
          1457,
          1458,
          1459,
          1460,
          1461,
          1462,
          1463,
          1464,
          1465,
          1466,
          1467,
          1468,
          1469,
          1470,
          1471,
          1472,
          1473,
          1474,
          1475,
          1476,
          1477,
          1478,
          1479,
          1480,
          1481,
          1482,
          1483,
          1484,
          1485,
          1486,
          1487,
          1488,
          1489,
          1490,
          1491,
          1492,
          1493,
          1494,
          1495,
          1496,
          1496,
          1498,
          1499,
          1500,
          1501,
          1502,
          1503,
          1504,
          1505,
          1506,
          1507,
          1508,
          1509,
          1510,
          1511,
          1512,
          1513,
          1514,
          1515,
          1516,
          1517,
          1517,
          1519,
          1520,
          1521,
          1522,
          1523,
          1524,
          1525,
          1526,
          1526,
          1528,
          1529,
          1530,
          1531,
          1532,
          1533,
          1533,
          1535,
          1536,
          1537,
          1538,
          1539,
          1540,
          1540,
          1542,
          1543,
          1544,
          1545,
          1546,
          1547,
          1548,
          1549,
          1550,
          1551,
          1552,
          1553,
          1554,
          1554,
          1556,
          1557,
          1558,
          1559,
          1560,
          1561,
          1562,
          1563,
          1564,
          1565,
          1566,
          1567,
          1568,
          1569,
          1570,
          1570,
          1572,
          1572,
          1574,
          1575,
          1576,
          1577,
          1577,
          1579,
          1580,
          1581,
          1582,
          1583,
          1584,
          1585,
          1585,
          1585,
          1588,
          1589,
          1590,
          1591,
          1592,
          1593,
          1594,
          1595,
          1596,
          1597,
          1598,
          1599,
          1600,
          1601,
          1602,
          1603,
          1604,
          1605,
          1605,
          1607,
          1608,
          1609,
          1610,
          1611,
          1611,
          1613,
          1613,
          1615,
          1616,
          1617,
          1618,
          1618,
          1620,
          1620,
          1622,
          1623,
          1624,
          1625,
          1626,
          1627,
          1628,
          1629,
          1630,
          1631,
          1632,
          1633,
          1634,
          1635,
          1636,
          1637,
          1638,
          1639,
          1640,
          1641,
          1642,
          1642,
          1644,
          1645,
          1646,
          1647,
          1648,
          1649,
          1650,
          1651,
          1652,
          1653,
          1654,
          1655,
          1656,
          1657,
          1658,
          1658,
          1660,
          1661,
          1662,
          1663,
          1664,
          1665,
          1666,
          1667,
          1668,
          1669,
          1670,
          1671,
          1672,
          1673,
          1674,
          1675,
          1676,
          1677,
          1678,
          1679,
          1680,
          1681,
          1682,
          1683,
          1684,
          1685,
          1686,
          1687,
          1688,
          1689,
          1690,
          1691,
          1692,
          1693,
          1694,
          1695,
          1696,
          1697,
          1698,
          1699,
          1699,
          1701,
          1702,
          1703,
          1704,
          1704,
          1706,
          1707,
          1708,
          1709,
          1710,
          1711,
          1712,
          1713,
          1714,
          1715,
          1716,
          1717,
          1718,
          1719,
          1720,
          1721,
          1722,
          1723,
          1724,
          1725,
          1726,
          1727,
          1727,
          1729,
          1730,
          1731,
          1732,
          1733,
          1734,
          1735,
          1736,
          1737,
          1738,
          1739,
          1740,
          1741,
          1742,
          1743,
          1744,
          1745,
          1746,
          1747,
          1748,
          1749,
          1750,
          1751,
          1752,
          1753,
          1754,
          1755,
          1756,
          1757,
          1758,
          1759,
          1760,
          1761,
          1762,
          1763,
          1764,
          1765,
          1766,
          1767,
          1767,
          1769,
          1770,
          1771,
          1772,
          1773,
          1774,
          1775,
          1776,
          1777,
          1778,
          1779,
          1780,
          1781,
          1782,
          1783,
          1784,
          1785,
          1786,
          1787,
          1788,
          1789
         ],
         "xaxis": "x",
         "y": [
          945,
          876,
          905,
          936,
          880,
          863,
          840,
          857,
          874,
          917,
          851,
          857,
          830,
          881,
          824,
          869,
          822,
          826,
          832,
          880,
          805,
          784,
          861,
          809,
          827,
          807,
          832,
          815,
          755,
          848,
          832,
          848,
          825,
          840,
          820,
          836,
          845,
          807,
          810,
          761,
          801,
          847,
          837,
          820,
          828,
          829,
          749,
          814,
          755,
          809,
          762,
          861,
          799,
          861,
          775,
          674,
          684,
          710,
          822,
          726,
          719,
          737,
          717,
          776,
          730,
          809,
          743,
          712,
          754,
          758,
          841,
          798,
          796,
          768,
          759,
          764,
          745,
          741,
          813,
          819,
          829,
          681,
          567,
          739,
          780,
          732,
          732,
          658,
          721,
          734,
          653,
          636,
          753,
          778,
          777,
          648,
          695,
          701,
          724,
          745,
          703,
          712,
          699,
          661,
          623,
          714,
          603,
          706,
          702,
          681,
          640,
          674,
          805,
          682,
          790,
          715,
          707,
          636,
          788,
          740,
          729,
          670,
          715,
          721,
          842,
          781,
          675,
          732,
          649,
          714,
          692,
          742,
          658,
          745,
          649,
          629,
          651,
          630,
          661,
          699,
          707,
          718,
          695,
          585,
          704,
          595,
          682,
          748,
          868,
          728,
          678,
          695,
          725,
          699,
          674,
          604,
          684,
          670,
          648,
          589,
          727,
          686,
          754,
          571,
          638,
          711,
          612,
          720,
          808,
          605,
          644,
          641,
          702,
          697,
          707,
          685,
          702,
          614,
          646,
          776,
          683,
          null,
          719,
          817,
          739,
          736,
          615,
          705,
          694,
          641,
          658,
          758,
          660,
          629,
          729,
          666,
          645,
          750,
          598,
          691,
          584,
          622,
          655,
          674,
          749,
          645,
          695,
          612,
          647,
          755,
          712,
          632,
          388,
          709,
          706,
          644,
          721,
          744,
          718,
          null,
          690,
          660,
          756,
          636,
          641,
          607,
          650,
          574,
          662,
          624,
          586,
          659,
          628,
          653,
          685,
          635,
          714,
          719,
          756,
          581,
          666,
          605,
          697,
          599,
          581,
          665,
          688,
          687,
          723,
          629,
          626,
          617,
          626,
          702,
          622,
          628,
          700,
          623,
          736,
          608,
          684,
          608,
          661,
          617,
          581,
          677,
          652,
          604,
          677,
          667,
          679,
          621,
          588,
          622,
          701,
          727,
          597,
          641,
          540,
          683,
          677,
          729,
          632,
          662,
          600,
          589,
          620,
          727,
          561,
          658,
          746,
          642,
          611,
          643,
          654,
          null,
          630,
          725,
          482,
          600,
          615,
          675,
          643,
          630,
          717,
          685,
          675,
          589,
          669,
          658,
          704,
          616,
          708,
          662,
          null,
          624,
          638,
          null,
          606,
          756,
          641,
          723,
          634,
          587,
          707,
          627,
          623,
          620,
          652,
          572,
          610,
          564,
          583,
          596,
          640,
          645,
          626,
          665,
          622,
          688,
          629,
          623,
          580,
          590,
          604,
          589,
          627,
          592,
          720,
          658,
          634,
          570,
          705,
          680,
          739,
          593,
          614,
          618,
          723,
          null,
          633,
          537,
          656,
          626,
          626,
          605,
          626,
          550,
          655,
          636,
          null,
          664,
          556,
          584,
          776,
          696,
          739,
          604,
          657,
          546,
          679,
          null,
          621,
          673,
          675,
          664,
          600,
          652,
          621,
          676,
          605,
          585,
          543,
          721,
          666,
          628,
          623,
          585,
          590,
          null,
          589,
          624,
          540,
          648,
          676,
          595,
          434,
          587,
          617,
          590,
          637,
          577,
          626,
          637,
          668,
          624,
          730,
          649,
          576,
          529,
          550,
          578,
          656,
          665,
          614,
          618,
          588,
          619,
          627,
          675,
          567,
          555,
          485,
          538,
          572,
          622,
          641,
          602,
          541,
          null,
          616,
          null,
          581,
          537,
          543,
          601,
          572,
          581,
          675,
          null,
          587,
          542,
          580,
          590,
          781,
          604,
          627,
          558,
          null,
          583,
          591,
          548,
          541,
          611,
          540,
          711,
          613,
          681,
          667,
          562,
          602,
          555,
          606,
          576,
          774,
          577,
          695,
          588,
          629,
          607,
          547,
          590,
          597,
          554,
          567,
          574,
          545,
          570,
          597,
          495,
          562,
          615,
          743,
          616,
          null,
          616,
          537,
          589,
          634,
          697,
          null,
          590,
          603,
          674,
          576,
          663,
          528,
          614,
          604,
          574,
          594,
          648,
          589,
          604,
          579,
          550,
          622,
          557,
          703,
          607,
          630,
          520,
          589,
          495,
          622,
          580,
          568,
          642,
          593,
          576,
          621,
          732,
          591,
          597,
          539,
          585,
          609,
          587,
          502,
          637,
          530,
          553,
          553,
          645,
          734,
          641,
          589,
          563,
          638,
          568,
          665,
          606,
          589,
          579,
          558,
          562,
          567,
          552,
          593,
          689,
          568,
          564,
          592,
          593,
          525,
          541,
          644,
          644,
          582,
          553,
          599,
          605,
          594,
          null,
          585,
          699,
          null,
          null,
          602,
          558,
          544,
          564,
          437,
          602,
          605,
          518,
          616,
          608,
          599,
          529,
          538,
          561,
          456,
          607,
          701,
          626,
          619,
          524,
          517,
          591,
          576,
          615,
          564,
          575,
          628,
          493,
          577,
          577,
          634,
          682,
          700,
          620,
          521,
          591,
          549,
          589,
          626,
          561,
          null,
          617,
          null,
          null,
          570,
          601,
          658,
          553,
          628,
          586,
          616,
          563,
          566,
          571,
          663,
          677,
          520,
          545,
          501,
          499,
          610,
          488,
          561,
          533,
          595,
          603,
          549,
          580,
          551,
          534,
          666,
          522,
          null,
          620,
          543,
          647,
          561,
          560,
          420,
          505,
          594,
          602,
          515,
          585,
          540,
          705,
          670,
          542,
          577,
          668,
          549,
          507,
          null,
          663,
          572,
          504,
          639,
          566,
          608,
          566,
          null,
          495,
          467,
          null,
          535,
          608,
          668,
          640,
          722,
          602,
          570,
          null,
          584,
          521,
          543,
          555,
          546,
          561,
          540,
          620,
          567,
          587,
          594,
          603,
          553,
          556,
          569,
          559,
          491,
          null,
          757,
          521,
          612,
          620,
          519,
          509,
          553,
          552,
          502,
          527,
          559,
          617,
          593,
          544,
          617,
          647,
          549,
          556,
          479,
          580,
          678,
          640,
          515,
          527,
          579,
          613,
          494,
          565,
          624,
          null,
          null,
          547,
          633,
          525,
          505,
          479,
          518,
          531,
          556,
          564,
          547,
          503,
          652,
          530,
          574,
          613,
          574,
          574,
          589,
          653,
          525,
          543,
          582,
          599,
          642,
          645,
          575,
          727,
          558,
          551,
          526,
          564,
          489,
          null,
          563,
          563,
          548,
          508,
          594,
          648,
          605,
          524,
          523,
          595,
          512,
          443,
          553,
          489,
          606,
          517,
          668,
          557,
          612,
          649,
          579,
          536,
          545,
          518,
          537,
          605,
          485,
          469,
          649,
          597,
          488,
          541,
          620,
          587,
          586,
          504,
          649,
          628,
          669,
          653,
          540,
          622,
          500,
          549,
          537,
          487,
          486,
          483,
          563,
          594,
          535,
          564,
          624,
          591,
          574,
          502,
          498,
          533,
          535,
          591,
          535,
          576,
          555,
          701,
          631,
          null,
          635,
          660,
          571,
          558,
          513,
          556,
          549,
          600,
          548,
          505,
          610,
          529,
          541,
          529,
          555,
          625,
          504,
          556,
          605,
          662,
          557,
          595,
          786,
          565,
          478,
          505,
          522,
          509,
          609,
          619,
          522,
          523,
          578,
          592,
          589,
          586,
          458,
          556,
          659,
          549,
          521,
          505,
          559,
          null,
          626,
          600,
          565,
          587,
          683,
          584,
          514,
          507,
          530,
          596,
          null,
          535,
          530,
          560,
          619,
          534,
          574,
          670,
          551,
          600,
          553,
          557,
          626,
          617,
          621,
          499,
          426,
          595,
          521,
          545,
          537,
          471,
          532,
          532,
          613,
          543,
          645,
          676,
          531,
          597,
          485,
          556,
          592,
          482,
          496,
          540,
          500,
          551,
          592,
          522,
          604,
          540,
          506,
          507,
          512,
          543,
          539,
          499,
          526,
          452,
          506,
          564,
          570,
          438,
          548,
          502,
          635,
          548,
          607,
          481,
          null,
          590,
          493,
          476,
          500,
          634,
          534,
          523,
          507,
          579,
          495,
          482,
          507,
          618,
          539,
          550,
          543,
          498,
          642,
          678,
          589,
          459,
          444,
          527,
          533,
          493,
          588,
          588,
          606,
          504,
          534,
          547,
          596,
          545,
          544,
          475,
          504,
          525,
          521,
          576,
          576,
          496,
          520,
          461,
          616,
          516,
          null,
          509,
          494,
          524,
          676,
          574,
          575,
          522,
          529,
          null,
          617,
          512,
          526,
          518,
          611,
          601,
          519,
          524,
          573,
          null,
          512,
          null,
          596,
          560,
          461,
          544,
          561,
          484,
          576,
          551,
          544,
          527,
          621,
          566,
          694,
          507,
          546,
          542,
          574,
          479,
          525,
          556,
          512,
          558,
          570,
          513,
          584,
          593,
          null,
          442,
          445,
          504,
          449,
          485,
          571,
          496,
          628,
          546,
          486,
          554,
          546,
          523,
          594,
          539,
          608,
          511,
          532,
          636,
          497,
          568,
          625,
          553,
          545,
          569,
          554,
          545,
          599,
          629,
          577,
          520,
          549,
          553,
          540,
          526,
          null,
          503,
          600,
          427,
          489,
          660,
          467,
          531,
          null,
          500,
          584,
          507,
          683,
          420,
          482,
          574,
          493,
          539,
          419,
          511,
          636,
          558,
          524,
          576,
          469,
          560,
          536,
          546,
          611,
          672,
          519,
          507,
          478,
          533,
          561,
          542,
          491,
          566,
          null,
          553,
          529,
          446,
          494,
          374,
          591,
          555,
          498,
          514,
          485,
          576,
          493,
          null,
          586,
          493,
          null,
          436,
          547,
          510,
          446,
          507,
          508,
          630,
          574,
          606,
          501,
          532,
          434,
          552,
          676,
          447,
          523,
          481,
          566,
          null,
          520,
          583,
          null,
          556,
          454,
          483,
          572,
          520,
          500,
          691,
          549,
          552,
          444,
          568,
          538,
          615,
          475,
          635,
          513,
          505,
          null,
          442,
          482,
          452,
          451,
          499,
          526,
          616,
          436,
          465,
          578,
          450,
          625,
          585,
          589,
          445,
          535,
          485,
          560,
          528,
          631,
          562,
          563,
          537,
          442,
          449,
          551,
          617,
          515,
          451,
          592,
          576,
          477,
          543,
          541,
          522,
          479,
          455,
          494,
          431,
          508,
          458,
          445,
          547,
          550,
          599,
          490,
          545,
          596,
          526,
          448,
          566,
          461,
          523,
          494,
          477,
          497,
          520,
          535,
          null,
          498,
          461,
          500,
          528,
          564,
          566,
          null,
          531,
          null,
          440,
          524,
          470,
          568,
          468,
          556,
          575,
          575,
          535,
          499,
          590,
          548,
          435,
          652,
          554,
          421,
          490,
          480,
          449,
          467,
          519,
          509,
          501,
          559,
          591,
          null,
          498,
          501,
          670,
          422,
          561,
          475,
          476,
          null,
          null,
          null,
          499,
          485,
          453,
          578,
          400,
          603,
          465,
          472,
          509,
          522,
          533,
          495,
          544,
          461,
          437,
          528,
          478,
          514,
          511,
          514,
          537,
          536,
          558,
          551,
          396,
          598,
          null,
          458,
          445,
          519,
          563,
          543,
          534,
          512,
          509,
          600,
          508,
          538,
          398,
          553,
          512,
          544,
          506,
          523,
          487,
          503,
          482,
          536,
          445,
          468,
          522,
          null,
          528,
          541,
          561,
          587,
          442,
          430,
          549,
          554,
          468,
          473,
          472,
          515,
          544,
          533,
          465,
          null,
          null,
          null,
          560,
          538,
          455,
          480,
          433,
          526,
          501,
          477,
          536,
          546,
          549,
          423,
          438,
          527,
          543,
          484,
          570,
          443,
          664,
          null,
          null,
          614,
          441,
          491,
          539,
          538,
          520,
          null,
          445,
          428,
          531,
          538,
          512,
          456,
          558,
          464,
          419,
          521,
          497,
          508,
          481,
          610,
          null,
          393,
          437,
          510,
          447,
          513,
          545,
          391,
          498,
          668,
          488,
          586,
          473,
          425,
          466,
          515,
          479,
          718,
          426,
          503,
          504,
          533,
          623,
          563,
          418,
          448,
          476,
          455,
          546,
          527,
          474,
          450,
          528,
          483,
          510,
          473,
          451,
          444,
          532,
          457,
          503,
          459,
          442,
          441,
          462,
          438,
          416,
          548,
          461,
          null,
          475,
          521,
          539,
          520,
          584,
          524,
          574,
          536,
          440,
          483,
          494,
          524,
          561,
          454,
          438,
          670,
          475,
          486,
          430,
          502,
          458,
          468,
          548,
          501,
          422,
          489,
          410,
          498,
          575,
          598,
          487,
          492,
          472,
          483,
          525,
          485,
          523,
          577,
          511,
          428,
          522,
          557,
          529,
          469,
          521,
          526,
          559,
          397,
          611,
          463,
          437,
          501,
          506,
          478,
          487,
          null,
          464,
          476,
          472,
          439,
          476,
          495,
          490,
          536,
          null,
          575,
          479,
          403,
          492,
          432,
          413,
          null,
          460,
          582,
          655,
          433,
          484,
          452,
          485,
          443,
          594,
          445,
          571,
          456,
          522,
          592,
          null,
          484,
          539,
          445,
          493,
          530,
          421,
          627,
          418,
          530,
          501,
          469,
          451,
          541,
          529,
          489,
          438,
          543,
          486,
          420,
          550,
          528,
          413,
          447,
          null,
          604,
          468,
          476,
          571,
          517,
          598,
          434,
          447,
          522,
          481,
          454,
          479,
          408,
          503,
          521,
          460,
          439,
          461,
          437,
          404,
          463,
          530,
          542,
          519,
          536,
          489,
          547,
          672,
          537,
          467,
          527,
          448,
          453,
          501,
          575,
          487,
          521,
          548,
          488,
          595,
          555,
          570,
          461,
          477,
          418,
          458,
          520,
          null,
          532,
          524,
          523,
          610,
          496,
          511,
          407,
          571,
          476,
          453,
          445,
          489,
          458,
          407,
          419,
          607,
          432,
          581,
          479,
          535,
          557,
          465,
          536,
          418,
          573,
          489,
          510,
          498,
          499,
          488,
          406,
          null,
          null,
          567,
          592,
          429,
          448,
          449,
          469,
          612,
          480,
          505,
          399,
          457,
          null,
          486,
          463,
          543,
          559,
          532,
          547,
          510,
          532,
          490,
          null,
          484,
          473,
          437,
          443,
          475,
          427,
          null,
          464,
          533,
          443,
          538,
          350,
          null,
          569,
          489,
          458,
          582,
          465,
          513,
          468,
          376,
          466,
          460,
          439,
          399,
          419,
          443,
          494,
          525,
          474,
          529,
          434,
          499,
          394,
          528,
          485,
          479,
          452,
          480,
          545,
          null,
          508,
          597,
          550,
          433,
          501,
          459,
          476,
          432,
          459,
          480,
          563,
          471,
          603,
          528,
          388,
          376,
          354,
          424,
          441,
          350,
          429,
          428,
          539,
          444,
          575,
          null,
          505,
          484,
          430,
          429,
          409,
          423,
          480,
          459,
          521,
          554,
          479,
          417,
          546,
          430,
          542,
          463,
          null,
          532,
          445,
          445,
          null,
          503,
          454,
          418,
          485,
          451,
          422,
          580,
          538,
          467,
          478,
          464,
          423,
          531,
          452,
          516,
          533,
          458,
          424,
          411,
          443,
          453,
          488,
          477,
          468,
          490,
          444,
          522,
          468,
          501,
          462,
          577,
          390,
          441,
          null,
          497,
          467,
          442,
          464,
          503,
          423,
          415,
          506,
          495,
          415
         ],
         "yaxis": "y"
        }
       ],
       "layout": {
        "legend": {
         "tracegroupgap": 0
        },
        "margin": {
         "t": 60
        },
        "template": {
         "data": {
          "bar": [
           {
            "error_x": {
             "color": "#2a3f5f"
            },
            "error_y": {
             "color": "#2a3f5f"
            },
            "marker": {
             "line": {
              "color": "#E5ECF6",
              "width": 0.5
             },
             "pattern": {
              "fillmode": "overlay",
              "size": 10,
              "solidity": 0.2
             }
            },
            "type": "bar"
           }
          ],
          "barpolar": [
           {
            "marker": {
             "line": {
              "color": "#E5ECF6",
              "width": 0.5
             },
             "pattern": {
              "fillmode": "overlay",
              "size": 10,
              "solidity": 0.2
             }
            },
            "type": "barpolar"
           }
          ],
          "carpet": [
           {
            "aaxis": {
             "endlinecolor": "#2a3f5f",
             "gridcolor": "white",
             "linecolor": "white",
             "minorgridcolor": "white",
             "startlinecolor": "#2a3f5f"
            },
            "baxis": {
             "endlinecolor": "#2a3f5f",
             "gridcolor": "white",
             "linecolor": "white",
             "minorgridcolor": "white",
             "startlinecolor": "#2a3f5f"
            },
            "type": "carpet"
           }
          ],
          "choropleth": [
           {
            "colorbar": {
             "outlinewidth": 0,
             "ticks": ""
            },
            "type": "choropleth"
           }
          ],
          "contour": [
           {
            "colorbar": {
             "outlinewidth": 0,
             "ticks": ""
            },
            "colorscale": [
             [
              0,
              "#0d0887"
             ],
             [
              0.1111111111111111,
              "#46039f"
             ],
             [
              0.2222222222222222,
              "#7201a8"
             ],
             [
              0.3333333333333333,
              "#9c179e"
             ],
             [
              0.4444444444444444,
              "#bd3786"
             ],
             [
              0.5555555555555556,
              "#d8576b"
             ],
             [
              0.6666666666666666,
              "#ed7953"
             ],
             [
              0.7777777777777778,
              "#fb9f3a"
             ],
             [
              0.8888888888888888,
              "#fdca26"
             ],
             [
              1,
              "#f0f921"
             ]
            ],
            "type": "contour"
           }
          ],
          "contourcarpet": [
           {
            "colorbar": {
             "outlinewidth": 0,
             "ticks": ""
            },
            "type": "contourcarpet"
           }
          ],
          "heatmap": [
           {
            "colorbar": {
             "outlinewidth": 0,
             "ticks": ""
            },
            "colorscale": [
             [
              0,
              "#0d0887"
             ],
             [
              0.1111111111111111,
              "#46039f"
             ],
             [
              0.2222222222222222,
              "#7201a8"
             ],
             [
              0.3333333333333333,
              "#9c179e"
             ],
             [
              0.4444444444444444,
              "#bd3786"
             ],
             [
              0.5555555555555556,
              "#d8576b"
             ],
             [
              0.6666666666666666,
              "#ed7953"
             ],
             [
              0.7777777777777778,
              "#fb9f3a"
             ],
             [
              0.8888888888888888,
              "#fdca26"
             ],
             [
              1,
              "#f0f921"
             ]
            ],
            "type": "heatmap"
           }
          ],
          "heatmapgl": [
           {
            "colorbar": {
             "outlinewidth": 0,
             "ticks": ""
            },
            "colorscale": [
             [
              0,
              "#0d0887"
             ],
             [
              0.1111111111111111,
              "#46039f"
             ],
             [
              0.2222222222222222,
              "#7201a8"
             ],
             [
              0.3333333333333333,
              "#9c179e"
             ],
             [
              0.4444444444444444,
              "#bd3786"
             ],
             [
              0.5555555555555556,
              "#d8576b"
             ],
             [
              0.6666666666666666,
              "#ed7953"
             ],
             [
              0.7777777777777778,
              "#fb9f3a"
             ],
             [
              0.8888888888888888,
              "#fdca26"
             ],
             [
              1,
              "#f0f921"
             ]
            ],
            "type": "heatmapgl"
           }
          ],
          "histogram": [
           {
            "marker": {
             "pattern": {
              "fillmode": "overlay",
              "size": 10,
              "solidity": 0.2
             }
            },
            "type": "histogram"
           }
          ],
          "histogram2d": [
           {
            "colorbar": {
             "outlinewidth": 0,
             "ticks": ""
            },
            "colorscale": [
             [
              0,
              "#0d0887"
             ],
             [
              0.1111111111111111,
              "#46039f"
             ],
             [
              0.2222222222222222,
              "#7201a8"
             ],
             [
              0.3333333333333333,
              "#9c179e"
             ],
             [
              0.4444444444444444,
              "#bd3786"
             ],
             [
              0.5555555555555556,
              "#d8576b"
             ],
             [
              0.6666666666666666,
              "#ed7953"
             ],
             [
              0.7777777777777778,
              "#fb9f3a"
             ],
             [
              0.8888888888888888,
              "#fdca26"
             ],
             [
              1,
              "#f0f921"
             ]
            ],
            "type": "histogram2d"
           }
          ],
          "histogram2dcontour": [
           {
            "colorbar": {
             "outlinewidth": 0,
             "ticks": ""
            },
            "colorscale": [
             [
              0,
              "#0d0887"
             ],
             [
              0.1111111111111111,
              "#46039f"
             ],
             [
              0.2222222222222222,
              "#7201a8"
             ],
             [
              0.3333333333333333,
              "#9c179e"
             ],
             [
              0.4444444444444444,
              "#bd3786"
             ],
             [
              0.5555555555555556,
              "#d8576b"
             ],
             [
              0.6666666666666666,
              "#ed7953"
             ],
             [
              0.7777777777777778,
              "#fb9f3a"
             ],
             [
              0.8888888888888888,
              "#fdca26"
             ],
             [
              1,
              "#f0f921"
             ]
            ],
            "type": "histogram2dcontour"
           }
          ],
          "mesh3d": [
           {
            "colorbar": {
             "outlinewidth": 0,
             "ticks": ""
            },
            "type": "mesh3d"
           }
          ],
          "parcoords": [
           {
            "line": {
             "colorbar": {
              "outlinewidth": 0,
              "ticks": ""
             }
            },
            "type": "parcoords"
           }
          ],
          "pie": [
           {
            "automargin": true,
            "type": "pie"
           }
          ],
          "scatter": [
           {
            "fillpattern": {
             "fillmode": "overlay",
             "size": 10,
             "solidity": 0.2
            },
            "type": "scatter"
           }
          ],
          "scatter3d": [
           {
            "line": {
             "colorbar": {
              "outlinewidth": 0,
              "ticks": ""
             }
            },
            "marker": {
             "colorbar": {
              "outlinewidth": 0,
              "ticks": ""
             }
            },
            "type": "scatter3d"
           }
          ],
          "scattercarpet": [
           {
            "marker": {
             "colorbar": {
              "outlinewidth": 0,
              "ticks": ""
             }
            },
            "type": "scattercarpet"
           }
          ],
          "scattergeo": [
           {
            "marker": {
             "colorbar": {
              "outlinewidth": 0,
              "ticks": ""
             }
            },
            "type": "scattergeo"
           }
          ],
          "scattergl": [
           {
            "marker": {
             "colorbar": {
              "outlinewidth": 0,
              "ticks": ""
             }
            },
            "type": "scattergl"
           }
          ],
          "scattermapbox": [
           {
            "marker": {
             "colorbar": {
              "outlinewidth": 0,
              "ticks": ""
             }
            },
            "type": "scattermapbox"
           }
          ],
          "scatterpolar": [
           {
            "marker": {
             "colorbar": {
              "outlinewidth": 0,
              "ticks": ""
             }
            },
            "type": "scatterpolar"
           }
          ],
          "scatterpolargl": [
           {
            "marker": {
             "colorbar": {
              "outlinewidth": 0,
              "ticks": ""
             }
            },
            "type": "scatterpolargl"
           }
          ],
          "scatterternary": [
           {
            "marker": {
             "colorbar": {
              "outlinewidth": 0,
              "ticks": ""
             }
            },
            "type": "scatterternary"
           }
          ],
          "surface": [
           {
            "colorbar": {
             "outlinewidth": 0,
             "ticks": ""
            },
            "colorscale": [
             [
              0,
              "#0d0887"
             ],
             [
              0.1111111111111111,
              "#46039f"
             ],
             [
              0.2222222222222222,
              "#7201a8"
             ],
             [
              0.3333333333333333,
              "#9c179e"
             ],
             [
              0.4444444444444444,
              "#bd3786"
             ],
             [
              0.5555555555555556,
              "#d8576b"
             ],
             [
              0.6666666666666666,
              "#ed7953"
             ],
             [
              0.7777777777777778,
              "#fb9f3a"
             ],
             [
              0.8888888888888888,
              "#fdca26"
             ],
             [
              1,
              "#f0f921"
             ]
            ],
            "type": "surface"
           }
          ],
          "table": [
           {
            "cells": {
             "fill": {
              "color": "#EBF0F8"
             },
             "line": {
              "color": "white"
             }
            },
            "header": {
             "fill": {
              "color": "#C8D4E3"
             },
             "line": {
              "color": "white"
             }
            },
            "type": "table"
           }
          ]
         },
         "layout": {
          "annotationdefaults": {
           "arrowcolor": "#2a3f5f",
           "arrowhead": 0,
           "arrowwidth": 1
          },
          "autotypenumbers": "strict",
          "coloraxis": {
           "colorbar": {
            "outlinewidth": 0,
            "ticks": ""
           }
          },
          "colorscale": {
           "diverging": [
            [
             0,
             "#8e0152"
            ],
            [
             0.1,
             "#c51b7d"
            ],
            [
             0.2,
             "#de77ae"
            ],
            [
             0.3,
             "#f1b6da"
            ],
            [
             0.4,
             "#fde0ef"
            ],
            [
             0.5,
             "#f7f7f7"
            ],
            [
             0.6,
             "#e6f5d0"
            ],
            [
             0.7,
             "#b8e186"
            ],
            [
             0.8,
             "#7fbc41"
            ],
            [
             0.9,
             "#4d9221"
            ],
            [
             1,
             "#276419"
            ]
           ],
           "sequential": [
            [
             0,
             "#0d0887"
            ],
            [
             0.1111111111111111,
             "#46039f"
            ],
            [
             0.2222222222222222,
             "#7201a8"
            ],
            [
             0.3333333333333333,
             "#9c179e"
            ],
            [
             0.4444444444444444,
             "#bd3786"
            ],
            [
             0.5555555555555556,
             "#d8576b"
            ],
            [
             0.6666666666666666,
             "#ed7953"
            ],
            [
             0.7777777777777778,
             "#fb9f3a"
            ],
            [
             0.8888888888888888,
             "#fdca26"
            ],
            [
             1,
             "#f0f921"
            ]
           ],
           "sequentialminus": [
            [
             0,
             "#0d0887"
            ],
            [
             0.1111111111111111,
             "#46039f"
            ],
            [
             0.2222222222222222,
             "#7201a8"
            ],
            [
             0.3333333333333333,
             "#9c179e"
            ],
            [
             0.4444444444444444,
             "#bd3786"
            ],
            [
             0.5555555555555556,
             "#d8576b"
            ],
            [
             0.6666666666666666,
             "#ed7953"
            ],
            [
             0.7777777777777778,
             "#fb9f3a"
            ],
            [
             0.8888888888888888,
             "#fdca26"
            ],
            [
             1,
             "#f0f921"
            ]
           ]
          },
          "colorway": [
           "#636efa",
           "#EF553B",
           "#00cc96",
           "#ab63fa",
           "#FFA15A",
           "#19d3f3",
           "#FF6692",
           "#B6E880",
           "#FF97FF",
           "#FECB52"
          ],
          "font": {
           "color": "#2a3f5f"
          },
          "geo": {
           "bgcolor": "white",
           "lakecolor": "white",
           "landcolor": "#E5ECF6",
           "showlakes": true,
           "showland": true,
           "subunitcolor": "white"
          },
          "hoverlabel": {
           "align": "left"
          },
          "hovermode": "closest",
          "mapbox": {
           "style": "light"
          },
          "paper_bgcolor": "white",
          "plot_bgcolor": "#E5ECF6",
          "polar": {
           "angularaxis": {
            "gridcolor": "white",
            "linecolor": "white",
            "ticks": ""
           },
           "bgcolor": "#E5ECF6",
           "radialaxis": {
            "gridcolor": "white",
            "linecolor": "white",
            "ticks": ""
           }
          },
          "scene": {
           "xaxis": {
            "backgroundcolor": "#E5ECF6",
            "gridcolor": "white",
            "gridwidth": 2,
            "linecolor": "white",
            "showbackground": true,
            "ticks": "",
            "zerolinecolor": "white"
           },
           "yaxis": {
            "backgroundcolor": "#E5ECF6",
            "gridcolor": "white",
            "gridwidth": 2,
            "linecolor": "white",
            "showbackground": true,
            "ticks": "",
            "zerolinecolor": "white"
           },
           "zaxis": {
            "backgroundcolor": "#E5ECF6",
            "gridcolor": "white",
            "gridwidth": 2,
            "linecolor": "white",
            "showbackground": true,
            "ticks": "",
            "zerolinecolor": "white"
           }
          },
          "shapedefaults": {
           "line": {
            "color": "#2a3f5f"
           }
          },
          "ternary": {
           "aaxis": {
            "gridcolor": "white",
            "linecolor": "white",
            "ticks": ""
           },
           "baxis": {
            "gridcolor": "white",
            "linecolor": "white",
            "ticks": ""
           },
           "bgcolor": "#E5ECF6",
           "caxis": {
            "gridcolor": "white",
            "linecolor": "white",
            "ticks": ""
           }
          },
          "title": {
           "x": 0.05
          },
          "xaxis": {
           "automargin": true,
           "gridcolor": "white",
           "linecolor": "white",
           "ticks": "",
           "title": {
            "standoff": 15
           },
           "zerolinecolor": "white",
           "zerolinewidth": 2
          },
          "yaxis": {
           "automargin": true,
           "gridcolor": "white",
           "linecolor": "white",
           "ticks": "",
           "title": {
            "standoff": 15
           },
           "zerolinecolor": "white",
           "zerolinewidth": 2
          }
         }
        },
        "xaxis": {
         "anchor": "y",
         "domain": [
          0,
          1
         ],
         "title": {
          "text": "ranking_scratch"
         }
        },
        "yaxis": {
         "anchor": "x",
         "domain": [
          0,
          1
         ],
         "title": {
          "text": "info_index"
         }
        }
       }
      },
      "text/html": [
       "<div>                            <div id=\"f3cd9a15-246d-462f-b598-e486b78b9259\" class=\"plotly-graph-div\" style=\"height:525px; width:100%;\"></div>            <script type=\"text/javascript\">                require([\"plotly\"], function(Plotly) {                    window.PLOTLYENV=window.PLOTLYENV || {};                                    if (document.getElementById(\"f3cd9a15-246d-462f-b598-e486b78b9259\")) {                    Plotly.newPlot(                        \"f3cd9a15-246d-462f-b598-e486b78b9259\",                        [{\"hovertemplate\":\"ranking_scratch=%{x}<br>info_index=%{y}<extra></extra>\",\"legendgroup\":\"\",\"line\":{\"color\":\"#636efa\",\"dash\":\"solid\"},\"marker\":{\"symbol\":\"circle\"},\"mode\":\"lines\",\"name\":\"\",\"showlegend\":false,\"x\":[1,2,3,4,5,6,7,8,9,10,11,12,13,14,15,16,17,18,19,20,21,22,23,24,25,26,27,28,29,30,31,32,33,34,35,36,37,38,39,40,41,42,43,44,45,46,47,48,49,50,51,52,53,54,55,56,57,58,59,60,61,62,63,64,65,66,66,68,69,70,71,72,73,74,75,76,77,78,79,80,81,82,83,84,85,86,87,88,89,90,91,92,93,94,95,96,97,98,99,100,101,102,103,103,105,106,107,108,109,110,111,112,113,114,115,116,117,118,119,120,121,122,123,124,125,126,127,128,129,130,131,132,133,134,135,136,137,138,139,139,141,142,143,144,145,146,147,148,149,150,151,152,153,154,155,156,157,158,159,160,161,162,163,164,165,166,167,168,169,170,171,172,173,174,175,175,177,178,179,180,181,182,183,184,185,186,187,188,189,190,191,192,193,194,195,196,197,198,199,200,201,202,203,204,205,206,207,208,209,210,211,212,213,214,215,216,217,218,219,220,221,222,223,224,225,226,227,228,229,230,231,232,233,234,235,236,237,238,239,240,241,242,243,244,245,246,247,248,249,250,251,252,253,254,255,256,257,258,259,260,261,262,263,264,265,266,267,268,269,270,271,272,273,274,275,276,277,278,279,280,281,282,283,284,285,286,287,288,289,290,290,292,293,294,295,296,297,298,299,300,301,301,303,304,305,306,307,308,309,310,310,312,313,314,315,316,317,318,319,320,321,322,323,324,325,326,327,328,329,330,331,332,333,334,335,335,337,338,339,340,341,342,343,344,345,346,347,348,349,350,351,352,353,354,355,356,357,358,359,360,361,362,363,364,365,366,367,368,369,370,371,372,373,374,375,376,377,378,379,380,381,382,383,384,385,386,387,388,389,390,391,392,393,394,395,396,397,398,399,399,401,402,403,404,405,406,407,408,409,410,411,412,413,414,415,416,417,418,419,420,421,422,423,424,425,426,427,428,429,430,431,432,433,434,435,436,437,438,439,440,441,442,443,444,445,446,447,448,449,450,451,452,453,454,455,456,457,458,459,460,461,462,463,464,465,466,467,468,469,470,471,472,473,474,475,476,477,478,479,480,481,482,483,484,485,486,487,488,489,490,491,492,493,494,495,496,497,498,499,500,501,502,503,504,505,506,507,508,509,510,511,512,513,514,515,516,517,518,519,519,521,522,523,524,524,526,527,528,529,530,531,532,533,534,535,536,537,538,539,539,541,542,543,544,545,546,547,548,549,550,551,552,553,554,555,556,557,558,559,560,561,562,563,564,565,566,567,568,569,570,571,572,573,574,575,576,577,578,578,580,581,582,583,584,585,586,587,588,589,590,591,592,593,594,595,596,597,598,599,600,601,602,603,604,605,606,607,608,609,610,611,612,613,614,615,616,617,618,619,620,621,622,623,624,625,626,627,628,629,630,631,632,633,634,635,636,637,638,639,640,641,642,643,644,645,646,647,648,649,650,651,652,653,654,655,656,657,658,659,660,661,662,663,664,665,666,667,668,669,670,671,672,673,674,675,676,677,678,679,680,681,682,683,684,685,686,687,688,689,690,691,692,693,694,695,696,697,698,699,700,701,702,703,704,705,706,707,708,709,710,711,712,713,714,715,716,717,718,719,720,721,722,722,724,725,726,727,728,729,730,731,732,733,734,735,736,736,738,739,740,741,742,743,744,745,746,747,748,749,750,751,752,753,754,755,756,757,758,759,760,761,762,763,764,765,766,767,768,769,770,771,772,773,774,775,776,777,778,779,780,781,782,783,784,785,786,787,788,789,790,791,792,793,794,795,796,797,798,799,800,801,802,803,804,805,806,807,808,809,810,811,812,813,814,815,816,817,818,819,820,821,822,823,824,825,826,827,828,829,830,831,832,833,834,835,836,837,838,839,840,841,842,843,844,845,846,847,848,849,850,851,852,853,854,855,856,857,858,859,860,861,862,863,864,865,866,867,868,869,870,871,872,873,874,875,876,877,878,879,880,881,882,883,884,885,886,887,888,889,890,891,892,893,894,895,896,897,898,899,900,901,902,903,904,905,906,907,908,909,910,911,912,913,914,915,916,917,918,919,920,921,922,923,924,925,926,927,928,929,930,931,932,933,934,935,936,936,938,939,940,941,942,943,944,944,946,947,948,949,950,951,952,953,954,955,956,957,958,959,960,961,962,963,964,965,965,967,968,969,970,971,971,973,974,975,976,977,977,979,980,981,982,982,984,985,986,987,987,989,990,991,992,993,994,995,996,997,998,998,1000,1000,1002,1003,1004,1005,1006,1007,1008,1009,1010,1011,1012,1013,1014,1015,1016,1017,1018,1019,1020,1021,1022,1023,1024,1025,1026,1027,1028,1029,1030,1031,1032,1033,1034,1035,1036,1037,1038,1039,1040,1041,1042,1043,1044,1045,1046,1047,1048,1049,1050,1051,1052,1053,1054,1055,1056,1057,1058,1059,1060,1061,1062,1063,1064,1064,1066,1067,1067,1069,1070,1071,1072,1073,1074,1075,1076,1077,1078,1079,1080,1081,1082,1083,1084,1085,1085,1087,1088,1089,1090,1091,1092,1093,1094,1095,1096,1097,1098,1099,1100,1101,1102,1103,1104,1105,1105,1107,1108,1109,1110,1110,1112,1113,1114,1115,1116,1117,1118,1119,1120,1121,1122,1123,1124,1125,1126,1127,1128,1129,1130,1131,1132,1132,1134,1135,1136,1137,1138,1139,1140,1141,1142,1143,1144,1145,1146,1147,1148,1149,1150,1151,1152,1153,1154,1155,1156,1157,1158,1159,1160,1161,1162,1163,1164,1165,1166,1167,1168,1169,1170,1171,1172,1173,1174,1175,1176,1177,1177,1179,1180,1181,1182,1183,1184,1185,1186,1187,1188,1189,1190,1191,1192,1193,1194,1195,1196,1197,1198,1199,1200,1201,1202,1203,1204,1205,1206,1207,1208,1209,1210,1211,1212,1213,1214,1215,1216,1217,1218,1219,1220,1221,1222,1223,1224,1224,1226,1227,1228,1229,1230,1230,1232,1233,1234,1235,1236,1237,1238,1239,1240,1240,1242,1243,1244,1245,1246,1247,1248,1249,1250,1251,1252,1253,1254,1255,1256,1257,1258,1259,1260,1261,1262,1263,1264,1265,1266,1267,1268,1269,1270,1271,1272,1273,1274,1275,1276,1277,1278,1279,1280,1281,1282,1283,1284,1285,1286,1287,1287,1289,1290,1291,1292,1293,1294,1295,1296,1297,1298,1299,1300,1301,1302,1303,1304,1305,1306,1307,1308,1308,1310,1311,1312,1313,1314,1315,1316,1317,1318,1319,1320,1321,1322,1323,1324,1325,1326,1327,1328,1329,1330,1331,1332,1333,1334,1335,1336,1337,1338,1339,1340,1341,1342,1343,1344,1345,1346,1347,1348,1349,1349,1351,1352,1353,1354,1355,1356,1357,1358,1359,1360,1361,1362,1363,1364,1365,1366,1366,1368,1368,1370,1371,1372,1373,1374,1375,1376,1377,1378,1378,1378,1381,1382,1383,1384,1385,1386,1387,1388,1389,1390,1391,1392,1393,1394,1395,1395,1397,1398,1399,1400,1401,1402,1403,1404,1405,1406,1407,1408,1409,1410,1411,1412,1413,1414,1415,1416,1417,1418,1419,1420,1421,1422,1423,1424,1425,1426,1427,1428,1429,1430,1431,1432,1433,1434,1435,1436,1437,1438,1439,1439,1441,1442,1443,1444,1445,1446,1447,1447,1449,1450,1451,1452,1453,1454,1455,1456,1457,1458,1459,1460,1461,1462,1463,1464,1465,1466,1467,1468,1469,1470,1471,1472,1473,1474,1475,1476,1477,1478,1479,1480,1481,1482,1483,1484,1485,1486,1487,1488,1489,1490,1491,1492,1493,1494,1495,1496,1496,1498,1499,1500,1501,1502,1503,1504,1505,1506,1507,1508,1509,1510,1511,1512,1513,1514,1515,1516,1517,1517,1519,1520,1521,1522,1523,1524,1525,1526,1526,1528,1529,1530,1531,1532,1533,1533,1535,1536,1537,1538,1539,1540,1540,1542,1543,1544,1545,1546,1547,1548,1549,1550,1551,1552,1553,1554,1554,1556,1557,1558,1559,1560,1561,1562,1563,1564,1565,1566,1567,1568,1569,1570,1570,1572,1572,1574,1575,1576,1577,1577,1579,1580,1581,1582,1583,1584,1585,1585,1585,1588,1589,1590,1591,1592,1593,1594,1595,1596,1597,1598,1599,1600,1601,1602,1603,1604,1605,1605,1607,1608,1609,1610,1611,1611,1613,1613,1615,1616,1617,1618,1618,1620,1620,1622,1623,1624,1625,1626,1627,1628,1629,1630,1631,1632,1633,1634,1635,1636,1637,1638,1639,1640,1641,1642,1642,1644,1645,1646,1647,1648,1649,1650,1651,1652,1653,1654,1655,1656,1657,1658,1658,1660,1661,1662,1663,1664,1665,1666,1667,1668,1669,1670,1671,1672,1673,1674,1675,1676,1677,1678,1679,1680,1681,1682,1683,1684,1685,1686,1687,1688,1689,1690,1691,1692,1693,1694,1695,1696,1697,1698,1699,1699,1701,1702,1703,1704,1704,1706,1707,1708,1709,1710,1711,1712,1713,1714,1715,1716,1717,1718,1719,1720,1721,1722,1723,1724,1725,1726,1727,1727,1729,1730,1731,1732,1733,1734,1735,1736,1737,1738,1739,1740,1741,1742,1743,1744,1745,1746,1747,1748,1749,1750,1751,1752,1753,1754,1755,1756,1757,1758,1759,1760,1761,1762,1763,1764,1765,1766,1767,1767,1769,1770,1771,1772,1773,1774,1775,1776,1777,1778,1779,1780,1781,1782,1783,1784,1785,1786,1787,1788,1789],\"xaxis\":\"x\",\"y\":[945.0,876.0,905.0,936.0,880.0,863.0,840.0,857.0,874.0,917.0,851.0,857.0,830.0,881.0,824.0,869.0,822.0,826.0,832.0,880.0,805.0,784.0,861.0,809.0,827.0,807.0,832.0,815.0,755.0,848.0,832.0,848.0,825.0,840.0,820.0,836.0,845.0,807.0,810.0,761.0,801.0,847.0,837.0,820.0,828.0,829.0,749.0,814.0,755.0,809.0,762.0,861.0,799.0,861.0,775.0,674.0,684.0,710.0,822.0,726.0,719.0,737.0,717.0,776.0,730.0,809.0,743.0,712.0,754.0,758.0,841.0,798.0,796.0,768.0,759.0,764.0,745.0,741.0,813.0,819.0,829.0,681.0,567.0,739.0,780.0,732.0,732.0,658.0,721.0,734.0,653.0,636.0,753.0,778.0,777.0,648.0,695.0,701.0,724.0,745.0,703.0,712.0,699.0,661.0,623.0,714.0,603.0,706.0,702.0,681.0,640.0,674.0,805.0,682.0,790.0,715.0,707.0,636.0,788.0,740.0,729.0,670.0,715.0,721.0,842.0,781.0,675.0,732.0,649.0,714.0,692.0,742.0,658.0,745.0,649.0,629.0,651.0,630.0,661.0,699.0,707.0,718.0,695.0,585.0,704.0,595.0,682.0,748.0,868.0,728.0,678.0,695.0,725.0,699.0,674.0,604.0,684.0,670.0,648.0,589.0,727.0,686.0,754.0,571.0,638.0,711.0,612.0,720.0,808.0,605.0,644.0,641.0,702.0,697.0,707.0,685.0,702.0,614.0,646.0,776.0,683.0,null,719.0,817.0,739.0,736.0,615.0,705.0,694.0,641.0,658.0,758.0,660.0,629.0,729.0,666.0,645.0,750.0,598.0,691.0,584.0,622.0,655.0,674.0,749.0,645.0,695.0,612.0,647.0,755.0,712.0,632.0,388.0,709.0,706.0,644.0,721.0,744.0,718.0,null,690.0,660.0,756.0,636.0,641.0,607.0,650.0,574.0,662.0,624.0,586.0,659.0,628.0,653.0,685.0,635.0,714.0,719.0,756.0,581.0,666.0,605.0,697.0,599.0,581.0,665.0,688.0,687.0,723.0,629.0,626.0,617.0,626.0,702.0,622.0,628.0,700.0,623.0,736.0,608.0,684.0,608.0,661.0,617.0,581.0,677.0,652.0,604.0,677.0,667.0,679.0,621.0,588.0,622.0,701.0,727.0,597.0,641.0,540.0,683.0,677.0,729.0,632.0,662.0,600.0,589.0,620.0,727.0,561.0,658.0,746.0,642.0,611.0,643.0,654.0,null,630.0,725.0,482.0,600.0,615.0,675.0,643.0,630.0,717.0,685.0,675.0,589.0,669.0,658.0,704.0,616.0,708.0,662.0,null,624.0,638.0,null,606.0,756.0,641.0,723.0,634.0,587.0,707.0,627.0,623.0,620.0,652.0,572.0,610.0,564.0,583.0,596.0,640.0,645.0,626.0,665.0,622.0,688.0,629.0,623.0,580.0,590.0,604.0,589.0,627.0,592.0,720.0,658.0,634.0,570.0,705.0,680.0,739.0,593.0,614.0,618.0,723.0,null,633.0,537.0,656.0,626.0,626.0,605.0,626.0,550.0,655.0,636.0,null,664.0,556.0,584.0,776.0,696.0,739.0,604.0,657.0,546.0,679.0,null,621.0,673.0,675.0,664.0,600.0,652.0,621.0,676.0,605.0,585.0,543.0,721.0,666.0,628.0,623.0,585.0,590.0,null,589.0,624.0,540.0,648.0,676.0,595.0,434.0,587.0,617.0,590.0,637.0,577.0,626.0,637.0,668.0,624.0,730.0,649.0,576.0,529.0,550.0,578.0,656.0,665.0,614.0,618.0,588.0,619.0,627.0,675.0,567.0,555.0,485.0,538.0,572.0,622.0,641.0,602.0,541.0,null,616.0,null,581.0,537.0,543.0,601.0,572.0,581.0,675.0,null,587.0,542.0,580.0,590.0,781.0,604.0,627.0,558.0,null,583.0,591.0,548.0,541.0,611.0,540.0,711.0,613.0,681.0,667.0,562.0,602.0,555.0,606.0,576.0,774.0,577.0,695.0,588.0,629.0,607.0,547.0,590.0,597.0,554.0,567.0,574.0,545.0,570.0,597.0,495.0,562.0,615.0,743.0,616.0,null,616.0,537.0,589.0,634.0,697.0,null,590.0,603.0,674.0,576.0,663.0,528.0,614.0,604.0,574.0,594.0,648.0,589.0,604.0,579.0,550.0,622.0,557.0,703.0,607.0,630.0,520.0,589.0,495.0,622.0,580.0,568.0,642.0,593.0,576.0,621.0,732.0,591.0,597.0,539.0,585.0,609.0,587.0,502.0,637.0,530.0,553.0,553.0,645.0,734.0,641.0,589.0,563.0,638.0,568.0,665.0,606.0,589.0,579.0,558.0,562.0,567.0,552.0,593.0,689.0,568.0,564.0,592.0,593.0,525.0,541.0,644.0,644.0,582.0,553.0,599.0,605.0,594.0,null,585.0,699.0,null,null,602.0,558.0,544.0,564.0,437.0,602.0,605.0,518.0,616.0,608.0,599.0,529.0,538.0,561.0,456.0,607.0,701.0,626.0,619.0,524.0,517.0,591.0,576.0,615.0,564.0,575.0,628.0,493.0,577.0,577.0,634.0,682.0,700.0,620.0,521.0,591.0,549.0,589.0,626.0,561.0,null,617.0,null,null,570.0,601.0,658.0,553.0,628.0,586.0,616.0,563.0,566.0,571.0,663.0,677.0,520.0,545.0,501.0,499.0,610.0,488.0,561.0,533.0,595.0,603.0,549.0,580.0,551.0,534.0,666.0,522.0,null,620.0,543.0,647.0,561.0,560.0,420.0,505.0,594.0,602.0,515.0,585.0,540.0,705.0,670.0,542.0,577.0,668.0,549.0,507.0,null,663.0,572.0,504.0,639.0,566.0,608.0,566.0,null,495.0,467.0,null,535.0,608.0,668.0,640.0,722.0,602.0,570.0,null,584.0,521.0,543.0,555.0,546.0,561.0,540.0,620.0,567.0,587.0,594.0,603.0,553.0,556.0,569.0,559.0,491.0,null,757.0,521.0,612.0,620.0,519.0,509.0,553.0,552.0,502.0,527.0,559.0,617.0,593.0,544.0,617.0,647.0,549.0,556.0,479.0,580.0,678.0,640.0,515.0,527.0,579.0,613.0,494.0,565.0,624.0,null,null,547.0,633.0,525.0,505.0,479.0,518.0,531.0,556.0,564.0,547.0,503.0,652.0,530.0,574.0,613.0,574.0,574.0,589.0,653.0,525.0,543.0,582.0,599.0,642.0,645.0,575.0,727.0,558.0,551.0,526.0,564.0,489.0,null,563.0,563.0,548.0,508.0,594.0,648.0,605.0,524.0,523.0,595.0,512.0,443.0,553.0,489.0,606.0,517.0,668.0,557.0,612.0,649.0,579.0,536.0,545.0,518.0,537.0,605.0,485.0,469.0,649.0,597.0,488.0,541.0,620.0,587.0,586.0,504.0,649.0,628.0,669.0,653.0,540.0,622.0,500.0,549.0,537.0,487.0,486.0,483.0,563.0,594.0,535.0,564.0,624.0,591.0,574.0,502.0,498.0,533.0,535.0,591.0,535.0,576.0,555.0,701.0,631.0,null,635.0,660.0,571.0,558.0,513.0,556.0,549.0,600.0,548.0,505.0,610.0,529.0,541.0,529.0,555.0,625.0,504.0,556.0,605.0,662.0,557.0,595.0,786.0,565.0,478.0,505.0,522.0,509.0,609.0,619.0,522.0,523.0,578.0,592.0,589.0,586.0,458.0,556.0,659.0,549.0,521.0,505.0,559.0,null,626.0,600.0,565.0,587.0,683.0,584.0,514.0,507.0,530.0,596.0,null,535.0,530.0,560.0,619.0,534.0,574.0,670.0,551.0,600.0,553.0,557.0,626.0,617.0,621.0,499.0,426.0,595.0,521.0,545.0,537.0,471.0,532.0,532.0,613.0,543.0,645.0,676.0,531.0,597.0,485.0,556.0,592.0,482.0,496.0,540.0,500.0,551.0,592.0,522.0,604.0,540.0,506.0,507.0,512.0,543.0,539.0,499.0,526.0,452.0,506.0,564.0,570.0,438.0,548.0,502.0,635.0,548.0,607.0,481.0,null,590.0,493.0,476.0,500.0,634.0,534.0,523.0,507.0,579.0,495.0,482.0,507.0,618.0,539.0,550.0,543.0,498.0,642.0,678.0,589.0,459.0,444.0,527.0,533.0,493.0,588.0,588.0,606.0,504.0,534.0,547.0,596.0,545.0,544.0,475.0,504.0,525.0,521.0,576.0,576.0,496.0,520.0,461.0,616.0,516.0,null,509.0,494.0,524.0,676.0,574.0,575.0,522.0,529.0,null,617.0,512.0,526.0,518.0,611.0,601.0,519.0,524.0,573.0,null,512.0,null,596.0,560.0,461.0,544.0,561.0,484.0,576.0,551.0,544.0,527.0,621.0,566.0,694.0,507.0,546.0,542.0,574.0,479.0,525.0,556.0,512.0,558.0,570.0,513.0,584.0,593.0,null,442.0,445.0,504.0,449.0,485.0,571.0,496.0,628.0,546.0,486.0,554.0,546.0,523.0,594.0,539.0,608.0,511.0,532.0,636.0,497.0,568.0,625.0,553.0,545.0,569.0,554.0,545.0,599.0,629.0,577.0,520.0,549.0,553.0,540.0,526.0,null,503.0,600.0,427.0,489.0,660.0,467.0,531.0,null,500.0,584.0,507.0,683.0,420.0,482.0,574.0,493.0,539.0,419.0,511.0,636.0,558.0,524.0,576.0,469.0,560.0,536.0,546.0,611.0,672.0,519.0,507.0,478.0,533.0,561.0,542.0,491.0,566.0,null,553.0,529.0,446.0,494.0,374.0,591.0,555.0,498.0,514.0,485.0,576.0,493.0,null,586.0,493.0,null,436.0,547.0,510.0,446.0,507.0,508.0,630.0,574.0,606.0,501.0,532.0,434.0,552.0,676.0,447.0,523.0,481.0,566.0,null,520.0,583.0,null,556.0,454.0,483.0,572.0,520.0,500.0,691.0,549.0,552.0,444.0,568.0,538.0,615.0,475.0,635.0,513.0,505.0,null,442.0,482.0,452.0,451.0,499.0,526.0,616.0,436.0,465.0,578.0,450.0,625.0,585.0,589.0,445.0,535.0,485.0,560.0,528.0,631.0,562.0,563.0,537.0,442.0,449.0,551.0,617.0,515.0,451.0,592.0,576.0,477.0,543.0,541.0,522.0,479.0,455.0,494.0,431.0,508.0,458.0,445.0,547.0,550.0,599.0,490.0,545.0,596.0,526.0,448.0,566.0,461.0,523.0,494.0,477.0,497.0,520.0,535.0,null,498.0,461.0,500.0,528.0,564.0,566.0,null,531.0,null,440.0,524.0,470.0,568.0,468.0,556.0,575.0,575.0,535.0,499.0,590.0,548.0,435.0,652.0,554.0,421.0,490.0,480.0,449.0,467.0,519.0,509.0,501.0,559.0,591.0,null,498.0,501.0,670.0,422.0,561.0,475.0,476.0,null,null,null,499.0,485.0,453.0,578.0,400.0,603.0,465.0,472.0,509.0,522.0,533.0,495.0,544.0,461.0,437.0,528.0,478.0,514.0,511.0,514.0,537.0,536.0,558.0,551.0,396.0,598.0,null,458.0,445.0,519.0,563.0,543.0,534.0,512.0,509.0,600.0,508.0,538.0,398.0,553.0,512.0,544.0,506.0,523.0,487.0,503.0,482.0,536.0,445.0,468.0,522.0,null,528.0,541.0,561.0,587.0,442.0,430.0,549.0,554.0,468.0,473.0,472.0,515.0,544.0,533.0,465.0,null,null,null,560.0,538.0,455.0,480.0,433.0,526.0,501.0,477.0,536.0,546.0,549.0,423.0,438.0,527.0,543.0,484.0,570.0,443.0,664.0,null,null,614.0,441.0,491.0,539.0,538.0,520.0,null,445.0,428.0,531.0,538.0,512.0,456.0,558.0,464.0,419.0,521.0,497.0,508.0,481.0,610.0,null,393.0,437.0,510.0,447.0,513.0,545.0,391.0,498.0,668.0,488.0,586.0,473.0,425.0,466.0,515.0,479.0,718.0,426.0,503.0,504.0,533.0,623.0,563.0,418.0,448.0,476.0,455.0,546.0,527.0,474.0,450.0,528.0,483.0,510.0,473.0,451.0,444.0,532.0,457.0,503.0,459.0,442.0,441.0,462.0,438.0,416.0,548.0,461.0,null,475.0,521.0,539.0,520.0,584.0,524.0,574.0,536.0,440.0,483.0,494.0,524.0,561.0,454.0,438.0,670.0,475.0,486.0,430.0,502.0,458.0,468.0,548.0,501.0,422.0,489.0,410.0,498.0,575.0,598.0,487.0,492.0,472.0,483.0,525.0,485.0,523.0,577.0,511.0,428.0,522.0,557.0,529.0,469.0,521.0,526.0,559.0,397.0,611.0,463.0,437.0,501.0,506.0,478.0,487.0,null,464.0,476.0,472.0,439.0,476.0,495.0,490.0,536.0,null,575.0,479.0,403.0,492.0,432.0,413.0,null,460.0,582.0,655.0,433.0,484.0,452.0,485.0,443.0,594.0,445.0,571.0,456.0,522.0,592.0,null,484.0,539.0,445.0,493.0,530.0,421.0,627.0,418.0,530.0,501.0,469.0,451.0,541.0,529.0,489.0,438.0,543.0,486.0,420.0,550.0,528.0,413.0,447.0,null,604.0,468.0,476.0,571.0,517.0,598.0,434.0,447.0,522.0,481.0,454.0,479.0,408.0,503.0,521.0,460.0,439.0,461.0,437.0,404.0,463.0,530.0,542.0,519.0,536.0,489.0,547.0,672.0,537.0,467.0,527.0,448.0,453.0,501.0,575.0,487.0,521.0,548.0,488.0,595.0,555.0,570.0,461.0,477.0,418.0,458.0,520.0,null,532.0,524.0,523.0,610.0,496.0,511.0,407.0,571.0,476.0,453.0,445.0,489.0,458.0,407.0,419.0,607.0,432.0,581.0,479.0,535.0,557.0,465.0,536.0,418.0,573.0,489.0,510.0,498.0,499.0,488.0,406.0,null,null,567.0,592.0,429.0,448.0,449.0,469.0,612.0,480.0,505.0,399.0,457.0,null,486.0,463.0,543.0,559.0,532.0,547.0,510.0,532.0,490.0,null,484.0,473.0,437.0,443.0,475.0,427.0,null,464.0,533.0,443.0,538.0,350.0,null,569.0,489.0,458.0,582.0,465.0,513.0,468.0,376.0,466.0,460.0,439.0,399.0,419.0,443.0,494.0,525.0,474.0,529.0,434.0,499.0,394.0,528.0,485.0,479.0,452.0,480.0,545.0,null,508.0,597.0,550.0,433.0,501.0,459.0,476.0,432.0,459.0,480.0,563.0,471.0,603.0,528.0,388.0,376.0,354.0,424.0,441.0,350.0,429.0,428.0,539.0,444.0,575.0,null,505.0,484.0,430.0,429.0,409.0,423.0,480.0,459.0,521.0,554.0,479.0,417.0,546.0,430.0,542.0,463.0,null,532.0,445.0,445.0,null,503.0,454.0,418.0,485.0,451.0,422.0,580.0,538.0,467.0,478.0,464.0,423.0,531.0,452.0,516.0,533.0,458.0,424.0,411.0,443.0,453.0,488.0,477.0,468.0,490.0,444.0,522.0,468.0,501.0,462.0,577.0,390.0,441.0,null,497.0,467.0,442.0,464.0,503.0,423.0,415.0,506.0,495.0,415.0],\"yaxis\":\"y\",\"type\":\"scattergl\"}],                        {\"template\":{\"data\":{\"histogram2dcontour\":[{\"type\":\"histogram2dcontour\",\"colorbar\":{\"outlinewidth\":0,\"ticks\":\"\"},\"colorscale\":[[0.0,\"#0d0887\"],[0.1111111111111111,\"#46039f\"],[0.2222222222222222,\"#7201a8\"],[0.3333333333333333,\"#9c179e\"],[0.4444444444444444,\"#bd3786\"],[0.5555555555555556,\"#d8576b\"],[0.6666666666666666,\"#ed7953\"],[0.7777777777777778,\"#fb9f3a\"],[0.8888888888888888,\"#fdca26\"],[1.0,\"#f0f921\"]]}],\"choropleth\":[{\"type\":\"choropleth\",\"colorbar\":{\"outlinewidth\":0,\"ticks\":\"\"}}],\"histogram2d\":[{\"type\":\"histogram2d\",\"colorbar\":{\"outlinewidth\":0,\"ticks\":\"\"},\"colorscale\":[[0.0,\"#0d0887\"],[0.1111111111111111,\"#46039f\"],[0.2222222222222222,\"#7201a8\"],[0.3333333333333333,\"#9c179e\"],[0.4444444444444444,\"#bd3786\"],[0.5555555555555556,\"#d8576b\"],[0.6666666666666666,\"#ed7953\"],[0.7777777777777778,\"#fb9f3a\"],[0.8888888888888888,\"#fdca26\"],[1.0,\"#f0f921\"]]}],\"heatmap\":[{\"type\":\"heatmap\",\"colorbar\":{\"outlinewidth\":0,\"ticks\":\"\"},\"colorscale\":[[0.0,\"#0d0887\"],[0.1111111111111111,\"#46039f\"],[0.2222222222222222,\"#7201a8\"],[0.3333333333333333,\"#9c179e\"],[0.4444444444444444,\"#bd3786\"],[0.5555555555555556,\"#d8576b\"],[0.6666666666666666,\"#ed7953\"],[0.7777777777777778,\"#fb9f3a\"],[0.8888888888888888,\"#fdca26\"],[1.0,\"#f0f921\"]]}],\"heatmapgl\":[{\"type\":\"heatmapgl\",\"colorbar\":{\"outlinewidth\":0,\"ticks\":\"\"},\"colorscale\":[[0.0,\"#0d0887\"],[0.1111111111111111,\"#46039f\"],[0.2222222222222222,\"#7201a8\"],[0.3333333333333333,\"#9c179e\"],[0.4444444444444444,\"#bd3786\"],[0.5555555555555556,\"#d8576b\"],[0.6666666666666666,\"#ed7953\"],[0.7777777777777778,\"#fb9f3a\"],[0.8888888888888888,\"#fdca26\"],[1.0,\"#f0f921\"]]}],\"contourcarpet\":[{\"type\":\"contourcarpet\",\"colorbar\":{\"outlinewidth\":0,\"ticks\":\"\"}}],\"contour\":[{\"type\":\"contour\",\"colorbar\":{\"outlinewidth\":0,\"ticks\":\"\"},\"colorscale\":[[0.0,\"#0d0887\"],[0.1111111111111111,\"#46039f\"],[0.2222222222222222,\"#7201a8\"],[0.3333333333333333,\"#9c179e\"],[0.4444444444444444,\"#bd3786\"],[0.5555555555555556,\"#d8576b\"],[0.6666666666666666,\"#ed7953\"],[0.7777777777777778,\"#fb9f3a\"],[0.8888888888888888,\"#fdca26\"],[1.0,\"#f0f921\"]]}],\"surface\":[{\"type\":\"surface\",\"colorbar\":{\"outlinewidth\":0,\"ticks\":\"\"},\"colorscale\":[[0.0,\"#0d0887\"],[0.1111111111111111,\"#46039f\"],[0.2222222222222222,\"#7201a8\"],[0.3333333333333333,\"#9c179e\"],[0.4444444444444444,\"#bd3786\"],[0.5555555555555556,\"#d8576b\"],[0.6666666666666666,\"#ed7953\"],[0.7777777777777778,\"#fb9f3a\"],[0.8888888888888888,\"#fdca26\"],[1.0,\"#f0f921\"]]}],\"mesh3d\":[{\"type\":\"mesh3d\",\"colorbar\":{\"outlinewidth\":0,\"ticks\":\"\"}}],\"scatter\":[{\"fillpattern\":{\"fillmode\":\"overlay\",\"size\":10,\"solidity\":0.2},\"type\":\"scatter\"}],\"parcoords\":[{\"type\":\"parcoords\",\"line\":{\"colorbar\":{\"outlinewidth\":0,\"ticks\":\"\"}}}],\"scatterpolargl\":[{\"type\":\"scatterpolargl\",\"marker\":{\"colorbar\":{\"outlinewidth\":0,\"ticks\":\"\"}}}],\"bar\":[{\"error_x\":{\"color\":\"#2a3f5f\"},\"error_y\":{\"color\":\"#2a3f5f\"},\"marker\":{\"line\":{\"color\":\"#E5ECF6\",\"width\":0.5},\"pattern\":{\"fillmode\":\"overlay\",\"size\":10,\"solidity\":0.2}},\"type\":\"bar\"}],\"scattergeo\":[{\"type\":\"scattergeo\",\"marker\":{\"colorbar\":{\"outlinewidth\":0,\"ticks\":\"\"}}}],\"scatterpolar\":[{\"type\":\"scatterpolar\",\"marker\":{\"colorbar\":{\"outlinewidth\":0,\"ticks\":\"\"}}}],\"histogram\":[{\"marker\":{\"pattern\":{\"fillmode\":\"overlay\",\"size\":10,\"solidity\":0.2}},\"type\":\"histogram\"}],\"scattergl\":[{\"type\":\"scattergl\",\"marker\":{\"colorbar\":{\"outlinewidth\":0,\"ticks\":\"\"}}}],\"scatter3d\":[{\"type\":\"scatter3d\",\"line\":{\"colorbar\":{\"outlinewidth\":0,\"ticks\":\"\"}},\"marker\":{\"colorbar\":{\"outlinewidth\":0,\"ticks\":\"\"}}}],\"scattermapbox\":[{\"type\":\"scattermapbox\",\"marker\":{\"colorbar\":{\"outlinewidth\":0,\"ticks\":\"\"}}}],\"scatterternary\":[{\"type\":\"scatterternary\",\"marker\":{\"colorbar\":{\"outlinewidth\":0,\"ticks\":\"\"}}}],\"scattercarpet\":[{\"type\":\"scattercarpet\",\"marker\":{\"colorbar\":{\"outlinewidth\":0,\"ticks\":\"\"}}}],\"carpet\":[{\"aaxis\":{\"endlinecolor\":\"#2a3f5f\",\"gridcolor\":\"white\",\"linecolor\":\"white\",\"minorgridcolor\":\"white\",\"startlinecolor\":\"#2a3f5f\"},\"baxis\":{\"endlinecolor\":\"#2a3f5f\",\"gridcolor\":\"white\",\"linecolor\":\"white\",\"minorgridcolor\":\"white\",\"startlinecolor\":\"#2a3f5f\"},\"type\":\"carpet\"}],\"table\":[{\"cells\":{\"fill\":{\"color\":\"#EBF0F8\"},\"line\":{\"color\":\"white\"}},\"header\":{\"fill\":{\"color\":\"#C8D4E3\"},\"line\":{\"color\":\"white\"}},\"type\":\"table\"}],\"barpolar\":[{\"marker\":{\"line\":{\"color\":\"#E5ECF6\",\"width\":0.5},\"pattern\":{\"fillmode\":\"overlay\",\"size\":10,\"solidity\":0.2}},\"type\":\"barpolar\"}],\"pie\":[{\"automargin\":true,\"type\":\"pie\"}]},\"layout\":{\"autotypenumbers\":\"strict\",\"colorway\":[\"#636efa\",\"#EF553B\",\"#00cc96\",\"#ab63fa\",\"#FFA15A\",\"#19d3f3\",\"#FF6692\",\"#B6E880\",\"#FF97FF\",\"#FECB52\"],\"font\":{\"color\":\"#2a3f5f\"},\"hovermode\":\"closest\",\"hoverlabel\":{\"align\":\"left\"},\"paper_bgcolor\":\"white\",\"plot_bgcolor\":\"#E5ECF6\",\"polar\":{\"bgcolor\":\"#E5ECF6\",\"angularaxis\":{\"gridcolor\":\"white\",\"linecolor\":\"white\",\"ticks\":\"\"},\"radialaxis\":{\"gridcolor\":\"white\",\"linecolor\":\"white\",\"ticks\":\"\"}},\"ternary\":{\"bgcolor\":\"#E5ECF6\",\"aaxis\":{\"gridcolor\":\"white\",\"linecolor\":\"white\",\"ticks\":\"\"},\"baxis\":{\"gridcolor\":\"white\",\"linecolor\":\"white\",\"ticks\":\"\"},\"caxis\":{\"gridcolor\":\"white\",\"linecolor\":\"white\",\"ticks\":\"\"}},\"coloraxis\":{\"colorbar\":{\"outlinewidth\":0,\"ticks\":\"\"}},\"colorscale\":{\"sequential\":[[0.0,\"#0d0887\"],[0.1111111111111111,\"#46039f\"],[0.2222222222222222,\"#7201a8\"],[0.3333333333333333,\"#9c179e\"],[0.4444444444444444,\"#bd3786\"],[0.5555555555555556,\"#d8576b\"],[0.6666666666666666,\"#ed7953\"],[0.7777777777777778,\"#fb9f3a\"],[0.8888888888888888,\"#fdca26\"],[1.0,\"#f0f921\"]],\"sequentialminus\":[[0.0,\"#0d0887\"],[0.1111111111111111,\"#46039f\"],[0.2222222222222222,\"#7201a8\"],[0.3333333333333333,\"#9c179e\"],[0.4444444444444444,\"#bd3786\"],[0.5555555555555556,\"#d8576b\"],[0.6666666666666666,\"#ed7953\"],[0.7777777777777778,\"#fb9f3a\"],[0.8888888888888888,\"#fdca26\"],[1.0,\"#f0f921\"]],\"diverging\":[[0,\"#8e0152\"],[0.1,\"#c51b7d\"],[0.2,\"#de77ae\"],[0.3,\"#f1b6da\"],[0.4,\"#fde0ef\"],[0.5,\"#f7f7f7\"],[0.6,\"#e6f5d0\"],[0.7,\"#b8e186\"],[0.8,\"#7fbc41\"],[0.9,\"#4d9221\"],[1,\"#276419\"]]},\"xaxis\":{\"gridcolor\":\"white\",\"linecolor\":\"white\",\"ticks\":\"\",\"title\":{\"standoff\":15},\"zerolinecolor\":\"white\",\"automargin\":true,\"zerolinewidth\":2},\"yaxis\":{\"gridcolor\":\"white\",\"linecolor\":\"white\",\"ticks\":\"\",\"title\":{\"standoff\":15},\"zerolinecolor\":\"white\",\"automargin\":true,\"zerolinewidth\":2},\"scene\":{\"xaxis\":{\"backgroundcolor\":\"#E5ECF6\",\"gridcolor\":\"white\",\"linecolor\":\"white\",\"showbackground\":true,\"ticks\":\"\",\"zerolinecolor\":\"white\",\"gridwidth\":2},\"yaxis\":{\"backgroundcolor\":\"#E5ECF6\",\"gridcolor\":\"white\",\"linecolor\":\"white\",\"showbackground\":true,\"ticks\":\"\",\"zerolinecolor\":\"white\",\"gridwidth\":2},\"zaxis\":{\"backgroundcolor\":\"#E5ECF6\",\"gridcolor\":\"white\",\"linecolor\":\"white\",\"showbackground\":true,\"ticks\":\"\",\"zerolinecolor\":\"white\",\"gridwidth\":2}},\"shapedefaults\":{\"line\":{\"color\":\"#2a3f5f\"}},\"annotationdefaults\":{\"arrowcolor\":\"#2a3f5f\",\"arrowhead\":0,\"arrowwidth\":1},\"geo\":{\"bgcolor\":\"white\",\"landcolor\":\"#E5ECF6\",\"subunitcolor\":\"white\",\"showland\":true,\"showlakes\":true,\"lakecolor\":\"white\"},\"title\":{\"x\":0.05},\"mapbox\":{\"style\":\"light\"}}},\"xaxis\":{\"anchor\":\"y\",\"domain\":[0.0,1.0],\"title\":{\"text\":\"ranking_scratch\"}},\"yaxis\":{\"anchor\":\"x\",\"domain\":[0.0,1.0],\"title\":{\"text\":\"info_index\"}},\"legend\":{\"tracegroupgap\":0},\"margin\":{\"t\":60}},                        {\"responsive\": true}                    ).then(function(){\n",
       "                            \n",
       "var gd = document.getElementById('f3cd9a15-246d-462f-b598-e486b78b9259');\n",
       "var x = new MutationObserver(function (mutations, observer) {{\n",
       "        var display = window.getComputedStyle(gd).display;\n",
       "        if (!display || display === 'none') {{\n",
       "            console.log([gd, 'removed!']);\n",
       "            Plotly.purge(gd);\n",
       "            observer.disconnect();\n",
       "        }}\n",
       "}});\n",
       "\n",
       "// Listen for the removal of the full notebook cells\n",
       "var notebookContainer = gd.closest('#notebook-container');\n",
       "if (notebookContainer) {{\n",
       "    x.observe(notebookContainer, {childList: true});\n",
       "}}\n",
       "\n",
       "// Listen for the clearing of the current output cell\n",
       "var outputEl = gd.closest('.output');\n",
       "if (outputEl) {{\n",
       "    x.observe(outputEl, {childList: true});\n",
       "}}\n",
       "\n",
       "                        })                };                });            </script>        </div>"
      ]
     },
     "metadata": {},
     "output_type": "display_data"
    },
    {
     "name": "stdout",
     "output_type": "stream",
     "text": [
      "Count   : 1708\n",
      "Average : 572.4\n",
      "Median  : 559.0\n",
      "Mode    : 589.0\n",
      "Lower   : 350.0\n",
      "Higher  : 945.0\n",
      "Same analysis for top 200 finishers:\n"
     ]
    },
    {
     "data": {
      "application/vnd.plotly.v1+json": {
       "config": {
        "plotlyServerURL": "https://plot.ly"
       },
       "data": [
        {
         "hovertemplate": "ranking_scratch=%{x}<br>info_index=%{y}<extra></extra>",
         "legendgroup": "",
         "line": {
          "color": "#636efa",
          "dash": "solid"
         },
         "marker": {
          "symbol": "circle"
         },
         "mode": "lines",
         "name": "",
         "orientation": "v",
         "showlegend": false,
         "type": "scatter",
         "x": [
          1,
          2,
          3,
          4,
          5,
          6,
          7,
          8,
          9,
          10,
          11,
          12,
          13,
          14,
          15,
          16,
          17,
          18,
          19,
          20,
          21,
          22,
          23,
          24,
          25,
          26,
          27,
          28,
          29,
          30,
          31,
          32,
          33,
          34,
          35,
          36,
          37,
          38,
          39,
          40,
          41,
          42,
          43,
          44,
          45,
          46,
          47,
          48,
          49,
          50,
          51,
          52,
          53,
          54,
          55,
          56,
          57,
          58,
          59,
          60,
          61,
          62,
          63,
          64,
          65,
          66,
          66,
          68,
          69,
          70,
          71,
          72,
          73,
          74,
          75,
          76,
          77,
          78,
          79,
          80,
          81,
          82,
          83,
          84,
          85,
          86,
          87,
          88,
          89,
          90,
          91,
          92,
          93,
          94,
          95,
          96,
          97,
          98,
          99,
          100,
          101,
          102,
          103,
          103,
          105,
          106,
          107,
          108,
          109,
          110,
          111,
          112,
          113,
          114,
          115,
          116,
          117,
          118,
          119,
          120,
          121,
          122,
          123,
          124,
          125,
          126,
          127,
          128,
          129,
          130,
          131,
          132,
          133,
          134,
          135,
          136,
          137,
          138,
          139,
          139,
          141,
          142,
          143,
          144,
          145,
          146,
          147,
          148,
          149,
          150,
          151,
          152,
          153,
          154,
          155,
          156,
          157,
          158,
          159,
          160,
          161,
          162,
          163,
          164,
          165,
          166,
          167,
          168,
          169,
          170,
          171,
          172,
          173,
          174,
          175,
          175,
          177,
          178,
          179,
          180,
          181,
          182,
          183,
          184,
          185,
          186,
          187,
          188,
          189,
          190,
          191,
          192,
          193,
          194,
          195,
          196,
          197,
          198,
          199,
          200
         ],
         "xaxis": "x",
         "y": [
          945,
          876,
          905,
          936,
          880,
          863,
          840,
          857,
          874,
          917,
          851,
          857,
          830,
          881,
          824,
          869,
          822,
          826,
          832,
          880,
          805,
          784,
          861,
          809,
          827,
          807,
          832,
          815,
          755,
          848,
          832,
          848,
          825,
          840,
          820,
          836,
          845,
          807,
          810,
          761,
          801,
          847,
          837,
          820,
          828,
          829,
          749,
          814,
          755,
          809,
          762,
          861,
          799,
          861,
          775,
          674,
          684,
          710,
          822,
          726,
          719,
          737,
          717,
          776,
          730,
          809,
          743,
          712,
          754,
          758,
          841,
          798,
          796,
          768,
          759,
          764,
          745,
          741,
          813,
          819,
          829,
          681,
          567,
          739,
          780,
          732,
          732,
          658,
          721,
          734,
          653,
          636,
          753,
          778,
          777,
          648,
          695,
          701,
          724,
          745,
          703,
          712,
          699,
          661,
          623,
          714,
          603,
          706,
          702,
          681,
          640,
          674,
          805,
          682,
          790,
          715,
          707,
          636,
          788,
          740,
          729,
          670,
          715,
          721,
          842,
          781,
          675,
          732,
          649,
          714,
          692,
          742,
          658,
          745,
          649,
          629,
          651,
          630,
          661,
          699,
          707,
          718,
          695,
          585,
          704,
          595,
          682,
          748,
          868,
          728,
          678,
          695,
          725,
          699,
          674,
          604,
          684,
          670,
          648,
          589,
          727,
          686,
          754,
          571,
          638,
          711,
          612,
          720,
          808,
          605,
          644,
          641,
          702,
          697,
          707,
          685,
          702,
          614,
          646,
          776,
          683,
          null,
          719,
          817,
          739,
          736,
          615,
          705,
          694,
          641,
          658,
          758,
          660,
          629,
          729,
          666,
          645,
          750,
          598,
          691
         ],
         "yaxis": "y"
        }
       ],
       "layout": {
        "legend": {
         "tracegroupgap": 0
        },
        "margin": {
         "t": 60
        },
        "template": {
         "data": {
          "bar": [
           {
            "error_x": {
             "color": "#2a3f5f"
            },
            "error_y": {
             "color": "#2a3f5f"
            },
            "marker": {
             "line": {
              "color": "#E5ECF6",
              "width": 0.5
             },
             "pattern": {
              "fillmode": "overlay",
              "size": 10,
              "solidity": 0.2
             }
            },
            "type": "bar"
           }
          ],
          "barpolar": [
           {
            "marker": {
             "line": {
              "color": "#E5ECF6",
              "width": 0.5
             },
             "pattern": {
              "fillmode": "overlay",
              "size": 10,
              "solidity": 0.2
             }
            },
            "type": "barpolar"
           }
          ],
          "carpet": [
           {
            "aaxis": {
             "endlinecolor": "#2a3f5f",
             "gridcolor": "white",
             "linecolor": "white",
             "minorgridcolor": "white",
             "startlinecolor": "#2a3f5f"
            },
            "baxis": {
             "endlinecolor": "#2a3f5f",
             "gridcolor": "white",
             "linecolor": "white",
             "minorgridcolor": "white",
             "startlinecolor": "#2a3f5f"
            },
            "type": "carpet"
           }
          ],
          "choropleth": [
           {
            "colorbar": {
             "outlinewidth": 0,
             "ticks": ""
            },
            "type": "choropleth"
           }
          ],
          "contour": [
           {
            "colorbar": {
             "outlinewidth": 0,
             "ticks": ""
            },
            "colorscale": [
             [
              0,
              "#0d0887"
             ],
             [
              0.1111111111111111,
              "#46039f"
             ],
             [
              0.2222222222222222,
              "#7201a8"
             ],
             [
              0.3333333333333333,
              "#9c179e"
             ],
             [
              0.4444444444444444,
              "#bd3786"
             ],
             [
              0.5555555555555556,
              "#d8576b"
             ],
             [
              0.6666666666666666,
              "#ed7953"
             ],
             [
              0.7777777777777778,
              "#fb9f3a"
             ],
             [
              0.8888888888888888,
              "#fdca26"
             ],
             [
              1,
              "#f0f921"
             ]
            ],
            "type": "contour"
           }
          ],
          "contourcarpet": [
           {
            "colorbar": {
             "outlinewidth": 0,
             "ticks": ""
            },
            "type": "contourcarpet"
           }
          ],
          "heatmap": [
           {
            "colorbar": {
             "outlinewidth": 0,
             "ticks": ""
            },
            "colorscale": [
             [
              0,
              "#0d0887"
             ],
             [
              0.1111111111111111,
              "#46039f"
             ],
             [
              0.2222222222222222,
              "#7201a8"
             ],
             [
              0.3333333333333333,
              "#9c179e"
             ],
             [
              0.4444444444444444,
              "#bd3786"
             ],
             [
              0.5555555555555556,
              "#d8576b"
             ],
             [
              0.6666666666666666,
              "#ed7953"
             ],
             [
              0.7777777777777778,
              "#fb9f3a"
             ],
             [
              0.8888888888888888,
              "#fdca26"
             ],
             [
              1,
              "#f0f921"
             ]
            ],
            "type": "heatmap"
           }
          ],
          "heatmapgl": [
           {
            "colorbar": {
             "outlinewidth": 0,
             "ticks": ""
            },
            "colorscale": [
             [
              0,
              "#0d0887"
             ],
             [
              0.1111111111111111,
              "#46039f"
             ],
             [
              0.2222222222222222,
              "#7201a8"
             ],
             [
              0.3333333333333333,
              "#9c179e"
             ],
             [
              0.4444444444444444,
              "#bd3786"
             ],
             [
              0.5555555555555556,
              "#d8576b"
             ],
             [
              0.6666666666666666,
              "#ed7953"
             ],
             [
              0.7777777777777778,
              "#fb9f3a"
             ],
             [
              0.8888888888888888,
              "#fdca26"
             ],
             [
              1,
              "#f0f921"
             ]
            ],
            "type": "heatmapgl"
           }
          ],
          "histogram": [
           {
            "marker": {
             "pattern": {
              "fillmode": "overlay",
              "size": 10,
              "solidity": 0.2
             }
            },
            "type": "histogram"
           }
          ],
          "histogram2d": [
           {
            "colorbar": {
             "outlinewidth": 0,
             "ticks": ""
            },
            "colorscale": [
             [
              0,
              "#0d0887"
             ],
             [
              0.1111111111111111,
              "#46039f"
             ],
             [
              0.2222222222222222,
              "#7201a8"
             ],
             [
              0.3333333333333333,
              "#9c179e"
             ],
             [
              0.4444444444444444,
              "#bd3786"
             ],
             [
              0.5555555555555556,
              "#d8576b"
             ],
             [
              0.6666666666666666,
              "#ed7953"
             ],
             [
              0.7777777777777778,
              "#fb9f3a"
             ],
             [
              0.8888888888888888,
              "#fdca26"
             ],
             [
              1,
              "#f0f921"
             ]
            ],
            "type": "histogram2d"
           }
          ],
          "histogram2dcontour": [
           {
            "colorbar": {
             "outlinewidth": 0,
             "ticks": ""
            },
            "colorscale": [
             [
              0,
              "#0d0887"
             ],
             [
              0.1111111111111111,
              "#46039f"
             ],
             [
              0.2222222222222222,
              "#7201a8"
             ],
             [
              0.3333333333333333,
              "#9c179e"
             ],
             [
              0.4444444444444444,
              "#bd3786"
             ],
             [
              0.5555555555555556,
              "#d8576b"
             ],
             [
              0.6666666666666666,
              "#ed7953"
             ],
             [
              0.7777777777777778,
              "#fb9f3a"
             ],
             [
              0.8888888888888888,
              "#fdca26"
             ],
             [
              1,
              "#f0f921"
             ]
            ],
            "type": "histogram2dcontour"
           }
          ],
          "mesh3d": [
           {
            "colorbar": {
             "outlinewidth": 0,
             "ticks": ""
            },
            "type": "mesh3d"
           }
          ],
          "parcoords": [
           {
            "line": {
             "colorbar": {
              "outlinewidth": 0,
              "ticks": ""
             }
            },
            "type": "parcoords"
           }
          ],
          "pie": [
           {
            "automargin": true,
            "type": "pie"
           }
          ],
          "scatter": [
           {
            "fillpattern": {
             "fillmode": "overlay",
             "size": 10,
             "solidity": 0.2
            },
            "type": "scatter"
           }
          ],
          "scatter3d": [
           {
            "line": {
             "colorbar": {
              "outlinewidth": 0,
              "ticks": ""
             }
            },
            "marker": {
             "colorbar": {
              "outlinewidth": 0,
              "ticks": ""
             }
            },
            "type": "scatter3d"
           }
          ],
          "scattercarpet": [
           {
            "marker": {
             "colorbar": {
              "outlinewidth": 0,
              "ticks": ""
             }
            },
            "type": "scattercarpet"
           }
          ],
          "scattergeo": [
           {
            "marker": {
             "colorbar": {
              "outlinewidth": 0,
              "ticks": ""
             }
            },
            "type": "scattergeo"
           }
          ],
          "scattergl": [
           {
            "marker": {
             "colorbar": {
              "outlinewidth": 0,
              "ticks": ""
             }
            },
            "type": "scattergl"
           }
          ],
          "scattermapbox": [
           {
            "marker": {
             "colorbar": {
              "outlinewidth": 0,
              "ticks": ""
             }
            },
            "type": "scattermapbox"
           }
          ],
          "scatterpolar": [
           {
            "marker": {
             "colorbar": {
              "outlinewidth": 0,
              "ticks": ""
             }
            },
            "type": "scatterpolar"
           }
          ],
          "scatterpolargl": [
           {
            "marker": {
             "colorbar": {
              "outlinewidth": 0,
              "ticks": ""
             }
            },
            "type": "scatterpolargl"
           }
          ],
          "scatterternary": [
           {
            "marker": {
             "colorbar": {
              "outlinewidth": 0,
              "ticks": ""
             }
            },
            "type": "scatterternary"
           }
          ],
          "surface": [
           {
            "colorbar": {
             "outlinewidth": 0,
             "ticks": ""
            },
            "colorscale": [
             [
              0,
              "#0d0887"
             ],
             [
              0.1111111111111111,
              "#46039f"
             ],
             [
              0.2222222222222222,
              "#7201a8"
             ],
             [
              0.3333333333333333,
              "#9c179e"
             ],
             [
              0.4444444444444444,
              "#bd3786"
             ],
             [
              0.5555555555555556,
              "#d8576b"
             ],
             [
              0.6666666666666666,
              "#ed7953"
             ],
             [
              0.7777777777777778,
              "#fb9f3a"
             ],
             [
              0.8888888888888888,
              "#fdca26"
             ],
             [
              1,
              "#f0f921"
             ]
            ],
            "type": "surface"
           }
          ],
          "table": [
           {
            "cells": {
             "fill": {
              "color": "#EBF0F8"
             },
             "line": {
              "color": "white"
             }
            },
            "header": {
             "fill": {
              "color": "#C8D4E3"
             },
             "line": {
              "color": "white"
             }
            },
            "type": "table"
           }
          ]
         },
         "layout": {
          "annotationdefaults": {
           "arrowcolor": "#2a3f5f",
           "arrowhead": 0,
           "arrowwidth": 1
          },
          "autotypenumbers": "strict",
          "coloraxis": {
           "colorbar": {
            "outlinewidth": 0,
            "ticks": ""
           }
          },
          "colorscale": {
           "diverging": [
            [
             0,
             "#8e0152"
            ],
            [
             0.1,
             "#c51b7d"
            ],
            [
             0.2,
             "#de77ae"
            ],
            [
             0.3,
             "#f1b6da"
            ],
            [
             0.4,
             "#fde0ef"
            ],
            [
             0.5,
             "#f7f7f7"
            ],
            [
             0.6,
             "#e6f5d0"
            ],
            [
             0.7,
             "#b8e186"
            ],
            [
             0.8,
             "#7fbc41"
            ],
            [
             0.9,
             "#4d9221"
            ],
            [
             1,
             "#276419"
            ]
           ],
           "sequential": [
            [
             0,
             "#0d0887"
            ],
            [
             0.1111111111111111,
             "#46039f"
            ],
            [
             0.2222222222222222,
             "#7201a8"
            ],
            [
             0.3333333333333333,
             "#9c179e"
            ],
            [
             0.4444444444444444,
             "#bd3786"
            ],
            [
             0.5555555555555556,
             "#d8576b"
            ],
            [
             0.6666666666666666,
             "#ed7953"
            ],
            [
             0.7777777777777778,
             "#fb9f3a"
            ],
            [
             0.8888888888888888,
             "#fdca26"
            ],
            [
             1,
             "#f0f921"
            ]
           ],
           "sequentialminus": [
            [
             0,
             "#0d0887"
            ],
            [
             0.1111111111111111,
             "#46039f"
            ],
            [
             0.2222222222222222,
             "#7201a8"
            ],
            [
             0.3333333333333333,
             "#9c179e"
            ],
            [
             0.4444444444444444,
             "#bd3786"
            ],
            [
             0.5555555555555556,
             "#d8576b"
            ],
            [
             0.6666666666666666,
             "#ed7953"
            ],
            [
             0.7777777777777778,
             "#fb9f3a"
            ],
            [
             0.8888888888888888,
             "#fdca26"
            ],
            [
             1,
             "#f0f921"
            ]
           ]
          },
          "colorway": [
           "#636efa",
           "#EF553B",
           "#00cc96",
           "#ab63fa",
           "#FFA15A",
           "#19d3f3",
           "#FF6692",
           "#B6E880",
           "#FF97FF",
           "#FECB52"
          ],
          "font": {
           "color": "#2a3f5f"
          },
          "geo": {
           "bgcolor": "white",
           "lakecolor": "white",
           "landcolor": "#E5ECF6",
           "showlakes": true,
           "showland": true,
           "subunitcolor": "white"
          },
          "hoverlabel": {
           "align": "left"
          },
          "hovermode": "closest",
          "mapbox": {
           "style": "light"
          },
          "paper_bgcolor": "white",
          "plot_bgcolor": "#E5ECF6",
          "polar": {
           "angularaxis": {
            "gridcolor": "white",
            "linecolor": "white",
            "ticks": ""
           },
           "bgcolor": "#E5ECF6",
           "radialaxis": {
            "gridcolor": "white",
            "linecolor": "white",
            "ticks": ""
           }
          },
          "scene": {
           "xaxis": {
            "backgroundcolor": "#E5ECF6",
            "gridcolor": "white",
            "gridwidth": 2,
            "linecolor": "white",
            "showbackground": true,
            "ticks": "",
            "zerolinecolor": "white"
           },
           "yaxis": {
            "backgroundcolor": "#E5ECF6",
            "gridcolor": "white",
            "gridwidth": 2,
            "linecolor": "white",
            "showbackground": true,
            "ticks": "",
            "zerolinecolor": "white"
           },
           "zaxis": {
            "backgroundcolor": "#E5ECF6",
            "gridcolor": "white",
            "gridwidth": 2,
            "linecolor": "white",
            "showbackground": true,
            "ticks": "",
            "zerolinecolor": "white"
           }
          },
          "shapedefaults": {
           "line": {
            "color": "#2a3f5f"
           }
          },
          "ternary": {
           "aaxis": {
            "gridcolor": "white",
            "linecolor": "white",
            "ticks": ""
           },
           "baxis": {
            "gridcolor": "white",
            "linecolor": "white",
            "ticks": ""
           },
           "bgcolor": "#E5ECF6",
           "caxis": {
            "gridcolor": "white",
            "linecolor": "white",
            "ticks": ""
           }
          },
          "title": {
           "x": 0.05
          },
          "xaxis": {
           "automargin": true,
           "gridcolor": "white",
           "linecolor": "white",
           "ticks": "",
           "title": {
            "standoff": 15
           },
           "zerolinecolor": "white",
           "zerolinewidth": 2
          },
          "yaxis": {
           "automargin": true,
           "gridcolor": "white",
           "linecolor": "white",
           "ticks": "",
           "title": {
            "standoff": 15
           },
           "zerolinecolor": "white",
           "zerolinewidth": 2
          }
         }
        },
        "xaxis": {
         "anchor": "y",
         "domain": [
          0,
          1
         ],
         "title": {
          "text": "ranking_scratch"
         }
        },
        "yaxis": {
         "anchor": "x",
         "domain": [
          0,
          1
         ],
         "title": {
          "text": "info_index"
         }
        }
       }
      },
      "text/html": [
       "<div>                            <div id=\"9a9ce805-f88e-4f1a-b2e5-ebbe3f3015a0\" class=\"plotly-graph-div\" style=\"height:525px; width:100%;\"></div>            <script type=\"text/javascript\">                require([\"plotly\"], function(Plotly) {                    window.PLOTLYENV=window.PLOTLYENV || {};                                    if (document.getElementById(\"9a9ce805-f88e-4f1a-b2e5-ebbe3f3015a0\")) {                    Plotly.newPlot(                        \"9a9ce805-f88e-4f1a-b2e5-ebbe3f3015a0\",                        [{\"hovertemplate\":\"ranking_scratch=%{x}<br>info_index=%{y}<extra></extra>\",\"legendgroup\":\"\",\"line\":{\"color\":\"#636efa\",\"dash\":\"solid\"},\"marker\":{\"symbol\":\"circle\"},\"mode\":\"lines\",\"name\":\"\",\"orientation\":\"v\",\"showlegend\":false,\"x\":[1,2,3,4,5,6,7,8,9,10,11,12,13,14,15,16,17,18,19,20,21,22,23,24,25,26,27,28,29,30,31,32,33,34,35,36,37,38,39,40,41,42,43,44,45,46,47,48,49,50,51,52,53,54,55,56,57,58,59,60,61,62,63,64,65,66,66,68,69,70,71,72,73,74,75,76,77,78,79,80,81,82,83,84,85,86,87,88,89,90,91,92,93,94,95,96,97,98,99,100,101,102,103,103,105,106,107,108,109,110,111,112,113,114,115,116,117,118,119,120,121,122,123,124,125,126,127,128,129,130,131,132,133,134,135,136,137,138,139,139,141,142,143,144,145,146,147,148,149,150,151,152,153,154,155,156,157,158,159,160,161,162,163,164,165,166,167,168,169,170,171,172,173,174,175,175,177,178,179,180,181,182,183,184,185,186,187,188,189,190,191,192,193,194,195,196,197,198,199,200],\"xaxis\":\"x\",\"y\":[945.0,876.0,905.0,936.0,880.0,863.0,840.0,857.0,874.0,917.0,851.0,857.0,830.0,881.0,824.0,869.0,822.0,826.0,832.0,880.0,805.0,784.0,861.0,809.0,827.0,807.0,832.0,815.0,755.0,848.0,832.0,848.0,825.0,840.0,820.0,836.0,845.0,807.0,810.0,761.0,801.0,847.0,837.0,820.0,828.0,829.0,749.0,814.0,755.0,809.0,762.0,861.0,799.0,861.0,775.0,674.0,684.0,710.0,822.0,726.0,719.0,737.0,717.0,776.0,730.0,809.0,743.0,712.0,754.0,758.0,841.0,798.0,796.0,768.0,759.0,764.0,745.0,741.0,813.0,819.0,829.0,681.0,567.0,739.0,780.0,732.0,732.0,658.0,721.0,734.0,653.0,636.0,753.0,778.0,777.0,648.0,695.0,701.0,724.0,745.0,703.0,712.0,699.0,661.0,623.0,714.0,603.0,706.0,702.0,681.0,640.0,674.0,805.0,682.0,790.0,715.0,707.0,636.0,788.0,740.0,729.0,670.0,715.0,721.0,842.0,781.0,675.0,732.0,649.0,714.0,692.0,742.0,658.0,745.0,649.0,629.0,651.0,630.0,661.0,699.0,707.0,718.0,695.0,585.0,704.0,595.0,682.0,748.0,868.0,728.0,678.0,695.0,725.0,699.0,674.0,604.0,684.0,670.0,648.0,589.0,727.0,686.0,754.0,571.0,638.0,711.0,612.0,720.0,808.0,605.0,644.0,641.0,702.0,697.0,707.0,685.0,702.0,614.0,646.0,776.0,683.0,null,719.0,817.0,739.0,736.0,615.0,705.0,694.0,641.0,658.0,758.0,660.0,629.0,729.0,666.0,645.0,750.0,598.0,691.0],\"yaxis\":\"y\",\"type\":\"scatter\"}],                        {\"template\":{\"data\":{\"histogram2dcontour\":[{\"type\":\"histogram2dcontour\",\"colorbar\":{\"outlinewidth\":0,\"ticks\":\"\"},\"colorscale\":[[0.0,\"#0d0887\"],[0.1111111111111111,\"#46039f\"],[0.2222222222222222,\"#7201a8\"],[0.3333333333333333,\"#9c179e\"],[0.4444444444444444,\"#bd3786\"],[0.5555555555555556,\"#d8576b\"],[0.6666666666666666,\"#ed7953\"],[0.7777777777777778,\"#fb9f3a\"],[0.8888888888888888,\"#fdca26\"],[1.0,\"#f0f921\"]]}],\"choropleth\":[{\"type\":\"choropleth\",\"colorbar\":{\"outlinewidth\":0,\"ticks\":\"\"}}],\"histogram2d\":[{\"type\":\"histogram2d\",\"colorbar\":{\"outlinewidth\":0,\"ticks\":\"\"},\"colorscale\":[[0.0,\"#0d0887\"],[0.1111111111111111,\"#46039f\"],[0.2222222222222222,\"#7201a8\"],[0.3333333333333333,\"#9c179e\"],[0.4444444444444444,\"#bd3786\"],[0.5555555555555556,\"#d8576b\"],[0.6666666666666666,\"#ed7953\"],[0.7777777777777778,\"#fb9f3a\"],[0.8888888888888888,\"#fdca26\"],[1.0,\"#f0f921\"]]}],\"heatmap\":[{\"type\":\"heatmap\",\"colorbar\":{\"outlinewidth\":0,\"ticks\":\"\"},\"colorscale\":[[0.0,\"#0d0887\"],[0.1111111111111111,\"#46039f\"],[0.2222222222222222,\"#7201a8\"],[0.3333333333333333,\"#9c179e\"],[0.4444444444444444,\"#bd3786\"],[0.5555555555555556,\"#d8576b\"],[0.6666666666666666,\"#ed7953\"],[0.7777777777777778,\"#fb9f3a\"],[0.8888888888888888,\"#fdca26\"],[1.0,\"#f0f921\"]]}],\"heatmapgl\":[{\"type\":\"heatmapgl\",\"colorbar\":{\"outlinewidth\":0,\"ticks\":\"\"},\"colorscale\":[[0.0,\"#0d0887\"],[0.1111111111111111,\"#46039f\"],[0.2222222222222222,\"#7201a8\"],[0.3333333333333333,\"#9c179e\"],[0.4444444444444444,\"#bd3786\"],[0.5555555555555556,\"#d8576b\"],[0.6666666666666666,\"#ed7953\"],[0.7777777777777778,\"#fb9f3a\"],[0.8888888888888888,\"#fdca26\"],[1.0,\"#f0f921\"]]}],\"contourcarpet\":[{\"type\":\"contourcarpet\",\"colorbar\":{\"outlinewidth\":0,\"ticks\":\"\"}}],\"contour\":[{\"type\":\"contour\",\"colorbar\":{\"outlinewidth\":0,\"ticks\":\"\"},\"colorscale\":[[0.0,\"#0d0887\"],[0.1111111111111111,\"#46039f\"],[0.2222222222222222,\"#7201a8\"],[0.3333333333333333,\"#9c179e\"],[0.4444444444444444,\"#bd3786\"],[0.5555555555555556,\"#d8576b\"],[0.6666666666666666,\"#ed7953\"],[0.7777777777777778,\"#fb9f3a\"],[0.8888888888888888,\"#fdca26\"],[1.0,\"#f0f921\"]]}],\"surface\":[{\"type\":\"surface\",\"colorbar\":{\"outlinewidth\":0,\"ticks\":\"\"},\"colorscale\":[[0.0,\"#0d0887\"],[0.1111111111111111,\"#46039f\"],[0.2222222222222222,\"#7201a8\"],[0.3333333333333333,\"#9c179e\"],[0.4444444444444444,\"#bd3786\"],[0.5555555555555556,\"#d8576b\"],[0.6666666666666666,\"#ed7953\"],[0.7777777777777778,\"#fb9f3a\"],[0.8888888888888888,\"#fdca26\"],[1.0,\"#f0f921\"]]}],\"mesh3d\":[{\"type\":\"mesh3d\",\"colorbar\":{\"outlinewidth\":0,\"ticks\":\"\"}}],\"scatter\":[{\"fillpattern\":{\"fillmode\":\"overlay\",\"size\":10,\"solidity\":0.2},\"type\":\"scatter\"}],\"parcoords\":[{\"type\":\"parcoords\",\"line\":{\"colorbar\":{\"outlinewidth\":0,\"ticks\":\"\"}}}],\"scatterpolargl\":[{\"type\":\"scatterpolargl\",\"marker\":{\"colorbar\":{\"outlinewidth\":0,\"ticks\":\"\"}}}],\"bar\":[{\"error_x\":{\"color\":\"#2a3f5f\"},\"error_y\":{\"color\":\"#2a3f5f\"},\"marker\":{\"line\":{\"color\":\"#E5ECF6\",\"width\":0.5},\"pattern\":{\"fillmode\":\"overlay\",\"size\":10,\"solidity\":0.2}},\"type\":\"bar\"}],\"scattergeo\":[{\"type\":\"scattergeo\",\"marker\":{\"colorbar\":{\"outlinewidth\":0,\"ticks\":\"\"}}}],\"scatterpolar\":[{\"type\":\"scatterpolar\",\"marker\":{\"colorbar\":{\"outlinewidth\":0,\"ticks\":\"\"}}}],\"histogram\":[{\"marker\":{\"pattern\":{\"fillmode\":\"overlay\",\"size\":10,\"solidity\":0.2}},\"type\":\"histogram\"}],\"scattergl\":[{\"type\":\"scattergl\",\"marker\":{\"colorbar\":{\"outlinewidth\":0,\"ticks\":\"\"}}}],\"scatter3d\":[{\"type\":\"scatter3d\",\"line\":{\"colorbar\":{\"outlinewidth\":0,\"ticks\":\"\"}},\"marker\":{\"colorbar\":{\"outlinewidth\":0,\"ticks\":\"\"}}}],\"scattermapbox\":[{\"type\":\"scattermapbox\",\"marker\":{\"colorbar\":{\"outlinewidth\":0,\"ticks\":\"\"}}}],\"scatterternary\":[{\"type\":\"scatterternary\",\"marker\":{\"colorbar\":{\"outlinewidth\":0,\"ticks\":\"\"}}}],\"scattercarpet\":[{\"type\":\"scattercarpet\",\"marker\":{\"colorbar\":{\"outlinewidth\":0,\"ticks\":\"\"}}}],\"carpet\":[{\"aaxis\":{\"endlinecolor\":\"#2a3f5f\",\"gridcolor\":\"white\",\"linecolor\":\"white\",\"minorgridcolor\":\"white\",\"startlinecolor\":\"#2a3f5f\"},\"baxis\":{\"endlinecolor\":\"#2a3f5f\",\"gridcolor\":\"white\",\"linecolor\":\"white\",\"minorgridcolor\":\"white\",\"startlinecolor\":\"#2a3f5f\"},\"type\":\"carpet\"}],\"table\":[{\"cells\":{\"fill\":{\"color\":\"#EBF0F8\"},\"line\":{\"color\":\"white\"}},\"header\":{\"fill\":{\"color\":\"#C8D4E3\"},\"line\":{\"color\":\"white\"}},\"type\":\"table\"}],\"barpolar\":[{\"marker\":{\"line\":{\"color\":\"#E5ECF6\",\"width\":0.5},\"pattern\":{\"fillmode\":\"overlay\",\"size\":10,\"solidity\":0.2}},\"type\":\"barpolar\"}],\"pie\":[{\"automargin\":true,\"type\":\"pie\"}]},\"layout\":{\"autotypenumbers\":\"strict\",\"colorway\":[\"#636efa\",\"#EF553B\",\"#00cc96\",\"#ab63fa\",\"#FFA15A\",\"#19d3f3\",\"#FF6692\",\"#B6E880\",\"#FF97FF\",\"#FECB52\"],\"font\":{\"color\":\"#2a3f5f\"},\"hovermode\":\"closest\",\"hoverlabel\":{\"align\":\"left\"},\"paper_bgcolor\":\"white\",\"plot_bgcolor\":\"#E5ECF6\",\"polar\":{\"bgcolor\":\"#E5ECF6\",\"angularaxis\":{\"gridcolor\":\"white\",\"linecolor\":\"white\",\"ticks\":\"\"},\"radialaxis\":{\"gridcolor\":\"white\",\"linecolor\":\"white\",\"ticks\":\"\"}},\"ternary\":{\"bgcolor\":\"#E5ECF6\",\"aaxis\":{\"gridcolor\":\"white\",\"linecolor\":\"white\",\"ticks\":\"\"},\"baxis\":{\"gridcolor\":\"white\",\"linecolor\":\"white\",\"ticks\":\"\"},\"caxis\":{\"gridcolor\":\"white\",\"linecolor\":\"white\",\"ticks\":\"\"}},\"coloraxis\":{\"colorbar\":{\"outlinewidth\":0,\"ticks\":\"\"}},\"colorscale\":{\"sequential\":[[0.0,\"#0d0887\"],[0.1111111111111111,\"#46039f\"],[0.2222222222222222,\"#7201a8\"],[0.3333333333333333,\"#9c179e\"],[0.4444444444444444,\"#bd3786\"],[0.5555555555555556,\"#d8576b\"],[0.6666666666666666,\"#ed7953\"],[0.7777777777777778,\"#fb9f3a\"],[0.8888888888888888,\"#fdca26\"],[1.0,\"#f0f921\"]],\"sequentialminus\":[[0.0,\"#0d0887\"],[0.1111111111111111,\"#46039f\"],[0.2222222222222222,\"#7201a8\"],[0.3333333333333333,\"#9c179e\"],[0.4444444444444444,\"#bd3786\"],[0.5555555555555556,\"#d8576b\"],[0.6666666666666666,\"#ed7953\"],[0.7777777777777778,\"#fb9f3a\"],[0.8888888888888888,\"#fdca26\"],[1.0,\"#f0f921\"]],\"diverging\":[[0,\"#8e0152\"],[0.1,\"#c51b7d\"],[0.2,\"#de77ae\"],[0.3,\"#f1b6da\"],[0.4,\"#fde0ef\"],[0.5,\"#f7f7f7\"],[0.6,\"#e6f5d0\"],[0.7,\"#b8e186\"],[0.8,\"#7fbc41\"],[0.9,\"#4d9221\"],[1,\"#276419\"]]},\"xaxis\":{\"gridcolor\":\"white\",\"linecolor\":\"white\",\"ticks\":\"\",\"title\":{\"standoff\":15},\"zerolinecolor\":\"white\",\"automargin\":true,\"zerolinewidth\":2},\"yaxis\":{\"gridcolor\":\"white\",\"linecolor\":\"white\",\"ticks\":\"\",\"title\":{\"standoff\":15},\"zerolinecolor\":\"white\",\"automargin\":true,\"zerolinewidth\":2},\"scene\":{\"xaxis\":{\"backgroundcolor\":\"#E5ECF6\",\"gridcolor\":\"white\",\"linecolor\":\"white\",\"showbackground\":true,\"ticks\":\"\",\"zerolinecolor\":\"white\",\"gridwidth\":2},\"yaxis\":{\"backgroundcolor\":\"#E5ECF6\",\"gridcolor\":\"white\",\"linecolor\":\"white\",\"showbackground\":true,\"ticks\":\"\",\"zerolinecolor\":\"white\",\"gridwidth\":2},\"zaxis\":{\"backgroundcolor\":\"#E5ECF6\",\"gridcolor\":\"white\",\"linecolor\":\"white\",\"showbackground\":true,\"ticks\":\"\",\"zerolinecolor\":\"white\",\"gridwidth\":2}},\"shapedefaults\":{\"line\":{\"color\":\"#2a3f5f\"}},\"annotationdefaults\":{\"arrowcolor\":\"#2a3f5f\",\"arrowhead\":0,\"arrowwidth\":1},\"geo\":{\"bgcolor\":\"white\",\"landcolor\":\"#E5ECF6\",\"subunitcolor\":\"white\",\"showland\":true,\"showlakes\":true,\"lakecolor\":\"white\"},\"title\":{\"x\":0.05},\"mapbox\":{\"style\":\"light\"}}},\"xaxis\":{\"anchor\":\"y\",\"domain\":[0.0,1.0],\"title\":{\"text\":\"ranking_scratch\"}},\"yaxis\":{\"anchor\":\"x\",\"domain\":[0.0,1.0],\"title\":{\"text\":\"info_index\"}},\"legend\":{\"tracegroupgap\":0},\"margin\":{\"t\":60}},                        {\"responsive\": true}                    ).then(function(){\n",
       "                            \n",
       "var gd = document.getElementById('9a9ce805-f88e-4f1a-b2e5-ebbe3f3015a0');\n",
       "var x = new MutationObserver(function (mutations, observer) {{\n",
       "        var display = window.getComputedStyle(gd).display;\n",
       "        if (!display || display === 'none') {{\n",
       "            console.log([gd, 'removed!']);\n",
       "            Plotly.purge(gd);\n",
       "            observer.disconnect();\n",
       "        }}\n",
       "}});\n",
       "\n",
       "// Listen for the removal of the full notebook cells\n",
       "var notebookContainer = gd.closest('#notebook-container');\n",
       "if (notebookContainer) {{\n",
       "    x.observe(notebookContainer, {childList: true});\n",
       "}}\n",
       "\n",
       "// Listen for the clearing of the current output cell\n",
       "var outputEl = gd.closest('.output');\n",
       "if (outputEl) {{\n",
       "    x.observe(outputEl, {childList: true});\n",
       "}}\n",
       "\n",
       "                        })                };                });            </script>        </div>"
      ]
     },
     "metadata": {},
     "output_type": "display_data"
    },
    {
     "name": "stdout",
     "output_type": "stream",
     "text": [
      "Count   :  199\n",
      "Average : 741.3\n",
      "Median  : 732.0\n",
      "Mode    : 832.0\n",
      "Lower   : 567.0\n",
      "Higher  : 945.0\n"
     ]
    }
   ],
   "source": [
    "fig = px.line(df, x='ranking_scratch', y=\"info_index\")\n",
    "fig.show()\n",
    "stats(df[\"info_index\"])\n",
    "\n",
    "print(\"Same analysis for top 200 finishers:\")\n",
    "fig = px.line(df[:200], x='ranking_scratch', y=\"info_index\")\n",
    "fig.show()\n",
    "stats(df[:200][\"info_index\"])"
   ]
  },
  {
   "cell_type": "markdown",
   "id": "d870f47f",
   "metadata": {},
   "source": [
    "### Time of arrival\n",
    "\n",
    "The time difference from the first arrived. Not sure about the unit of measurement... it's an automatic conversion from type deltaTime, so could be something like milliseconds. Don't really care, I was interested into the curve"
   ]
  },
  {
   "cell_type": "code",
   "execution_count": 8,
   "id": "472e331a",
   "metadata": {},
   "outputs": [
    {
     "data": {
      "application/vnd.plotly.v1+json": {
       "config": {
        "plotlyServerURL": "https://plot.ly"
       },
       "data": [
        {
         "hovertemplate": "ranking_scratch=%{x}<br>diffToFirst=%{y}<extra></extra>",
         "legendgroup": "",
         "line": {
          "color": "#636efa",
          "dash": "solid"
         },
         "marker": {
          "symbol": "circle"
         },
         "mode": "lines",
         "name": "",
         "showlegend": false,
         "type": "scattergl",
         "x": [
          1,
          2,
          3,
          4,
          5,
          6,
          7,
          8,
          9,
          10,
          11,
          12,
          13,
          14,
          15,
          16,
          17,
          18,
          19,
          20,
          21,
          22,
          23,
          24,
          25,
          26,
          27,
          28,
          29,
          30,
          31,
          32,
          33,
          34,
          35,
          36,
          37,
          38,
          39,
          40,
          41,
          42,
          43,
          44,
          45,
          46,
          47,
          48,
          49,
          50,
          51,
          52,
          53,
          54,
          55,
          56,
          57,
          58,
          59,
          60,
          61,
          62,
          63,
          64,
          65,
          66,
          66,
          68,
          69,
          70,
          71,
          72,
          73,
          74,
          75,
          76,
          77,
          78,
          79,
          80,
          81,
          82,
          83,
          84,
          85,
          86,
          87,
          88,
          89,
          90,
          91,
          92,
          93,
          94,
          95,
          96,
          97,
          98,
          99,
          100,
          101,
          102,
          103,
          103,
          105,
          106,
          107,
          108,
          109,
          110,
          111,
          112,
          113,
          114,
          115,
          116,
          117,
          118,
          119,
          120,
          121,
          122,
          123,
          124,
          125,
          126,
          127,
          128,
          129,
          130,
          131,
          132,
          133,
          134,
          135,
          136,
          137,
          138,
          139,
          139,
          141,
          142,
          143,
          144,
          145,
          146,
          147,
          148,
          149,
          150,
          151,
          152,
          153,
          154,
          155,
          156,
          157,
          158,
          159,
          160,
          161,
          162,
          163,
          164,
          165,
          166,
          167,
          168,
          169,
          170,
          171,
          172,
          173,
          174,
          175,
          175,
          177,
          178,
          179,
          180,
          181,
          182,
          183,
          184,
          185,
          186,
          187,
          188,
          189,
          190,
          191,
          192,
          193,
          194,
          195,
          196,
          197,
          198,
          199,
          200,
          201,
          202,
          203,
          204,
          205,
          206,
          207,
          208,
          209,
          210,
          211,
          212,
          213,
          214,
          215,
          216,
          217,
          218,
          219,
          220,
          221,
          222,
          223,
          224,
          225,
          226,
          227,
          228,
          229,
          230,
          231,
          232,
          233,
          234,
          235,
          236,
          237,
          238,
          239,
          240,
          241,
          242,
          243,
          244,
          245,
          246,
          247,
          248,
          249,
          250,
          251,
          252,
          253,
          254,
          255,
          256,
          257,
          258,
          259,
          260,
          261,
          262,
          263,
          264,
          265,
          266,
          267,
          268,
          269,
          270,
          271,
          272,
          273,
          274,
          275,
          276,
          277,
          278,
          279,
          280,
          281,
          282,
          283,
          284,
          285,
          286,
          287,
          288,
          289,
          290,
          290,
          292,
          293,
          294,
          295,
          296,
          297,
          298,
          299,
          300,
          301,
          301,
          303,
          304,
          305,
          306,
          307,
          308,
          309,
          310,
          310,
          312,
          313,
          314,
          315,
          316,
          317,
          318,
          319,
          320,
          321,
          322,
          323,
          324,
          325,
          326,
          327,
          328,
          329,
          330,
          331,
          332,
          333,
          334,
          335,
          335,
          337,
          338,
          339,
          340,
          341,
          342,
          343,
          344,
          345,
          346,
          347,
          348,
          349,
          350,
          351,
          352,
          353,
          354,
          355,
          356,
          357,
          358,
          359,
          360,
          361,
          362,
          363,
          364,
          365,
          366,
          367,
          368,
          369,
          370,
          371,
          372,
          373,
          374,
          375,
          376,
          377,
          378,
          379,
          380,
          381,
          382,
          383,
          384,
          385,
          386,
          387,
          388,
          389,
          390,
          391,
          392,
          393,
          394,
          395,
          396,
          397,
          398,
          399,
          399,
          401,
          402,
          403,
          404,
          405,
          406,
          407,
          408,
          409,
          410,
          411,
          412,
          413,
          414,
          415,
          416,
          417,
          418,
          419,
          420,
          421,
          422,
          423,
          424,
          425,
          426,
          427,
          428,
          429,
          430,
          431,
          432,
          433,
          434,
          435,
          436,
          437,
          438,
          439,
          440,
          441,
          442,
          443,
          444,
          445,
          446,
          447,
          448,
          449,
          450,
          451,
          452,
          453,
          454,
          455,
          456,
          457,
          458,
          459,
          460,
          461,
          462,
          463,
          464,
          465,
          466,
          467,
          468,
          469,
          470,
          471,
          472,
          473,
          474,
          475,
          476,
          477,
          478,
          479,
          480,
          481,
          482,
          483,
          484,
          485,
          486,
          487,
          488,
          489,
          490,
          491,
          492,
          493,
          494,
          495,
          496,
          497,
          498,
          499,
          500,
          501,
          502,
          503,
          504,
          505,
          506,
          507,
          508,
          509,
          510,
          511,
          512,
          513,
          514,
          515,
          516,
          517,
          518,
          519,
          519,
          521,
          522,
          523,
          524,
          524,
          526,
          527,
          528,
          529,
          530,
          531,
          532,
          533,
          534,
          535,
          536,
          537,
          538,
          539,
          539,
          541,
          542,
          543,
          544,
          545,
          546,
          547,
          548,
          549,
          550,
          551,
          552,
          553,
          554,
          555,
          556,
          557,
          558,
          559,
          560,
          561,
          562,
          563,
          564,
          565,
          566,
          567,
          568,
          569,
          570,
          571,
          572,
          573,
          574,
          575,
          576,
          577,
          578,
          578,
          580,
          581,
          582,
          583,
          584,
          585,
          586,
          587,
          588,
          589,
          590,
          591,
          592,
          593,
          594,
          595,
          596,
          597,
          598,
          599,
          600,
          601,
          602,
          603,
          604,
          605,
          606,
          607,
          608,
          609,
          610,
          611,
          612,
          613,
          614,
          615,
          616,
          617,
          618,
          619,
          620,
          621,
          622,
          623,
          624,
          625,
          626,
          627,
          628,
          629,
          630,
          631,
          632,
          633,
          634,
          635,
          636,
          637,
          638,
          639,
          640,
          641,
          642,
          643,
          644,
          645,
          646,
          647,
          648,
          649,
          650,
          651,
          652,
          653,
          654,
          655,
          656,
          657,
          658,
          659,
          660,
          661,
          662,
          663,
          664,
          665,
          666,
          667,
          668,
          669,
          670,
          671,
          672,
          673,
          674,
          675,
          676,
          677,
          678,
          679,
          680,
          681,
          682,
          683,
          684,
          685,
          686,
          687,
          688,
          689,
          690,
          691,
          692,
          693,
          694,
          695,
          696,
          697,
          698,
          699,
          700,
          701,
          702,
          703,
          704,
          705,
          706,
          707,
          708,
          709,
          710,
          711,
          712,
          713,
          714,
          715,
          716,
          717,
          718,
          719,
          720,
          721,
          722,
          722,
          724,
          725,
          726,
          727,
          728,
          729,
          730,
          731,
          732,
          733,
          734,
          735,
          736,
          736,
          738,
          739,
          740,
          741,
          742,
          743,
          744,
          745,
          746,
          747,
          748,
          749,
          750,
          751,
          752,
          753,
          754,
          755,
          756,
          757,
          758,
          759,
          760,
          761,
          762,
          763,
          764,
          765,
          766,
          767,
          768,
          769,
          770,
          771,
          772,
          773,
          774,
          775,
          776,
          777,
          778,
          779,
          780,
          781,
          782,
          783,
          784,
          785,
          786,
          787,
          788,
          789,
          790,
          791,
          792,
          793,
          794,
          795,
          796,
          797,
          798,
          799,
          800,
          801,
          802,
          803,
          804,
          805,
          806,
          807,
          808,
          809,
          810,
          811,
          812,
          813,
          814,
          815,
          816,
          817,
          818,
          819,
          820,
          821,
          822,
          823,
          824,
          825,
          826,
          827,
          828,
          829,
          830,
          831,
          832,
          833,
          834,
          835,
          836,
          837,
          838,
          839,
          840,
          841,
          842,
          843,
          844,
          845,
          846,
          847,
          848,
          849,
          850,
          851,
          852,
          853,
          854,
          855,
          856,
          857,
          858,
          859,
          860,
          861,
          862,
          863,
          864,
          865,
          866,
          867,
          868,
          869,
          870,
          871,
          872,
          873,
          874,
          875,
          876,
          877,
          878,
          879,
          880,
          881,
          882,
          883,
          884,
          885,
          886,
          887,
          888,
          889,
          890,
          891,
          892,
          893,
          894,
          895,
          896,
          897,
          898,
          899,
          900,
          901,
          902,
          903,
          904,
          905,
          906,
          907,
          908,
          909,
          910,
          911,
          912,
          913,
          914,
          915,
          916,
          917,
          918,
          919,
          920,
          921,
          922,
          923,
          924,
          925,
          926,
          927,
          928,
          929,
          930,
          931,
          932,
          933,
          934,
          935,
          936,
          936,
          938,
          939,
          940,
          941,
          942,
          943,
          944,
          944,
          946,
          947,
          948,
          949,
          950,
          951,
          952,
          953,
          954,
          955,
          956,
          957,
          958,
          959,
          960,
          961,
          962,
          963,
          964,
          965,
          965,
          967,
          968,
          969,
          970,
          971,
          971,
          973,
          974,
          975,
          976,
          977,
          977,
          979,
          980,
          981,
          982,
          982,
          984,
          985,
          986,
          987,
          987,
          989,
          990,
          991,
          992,
          993,
          994,
          995,
          996,
          997,
          998,
          998,
          1000,
          1000,
          1002,
          1003,
          1004,
          1005,
          1006,
          1007,
          1008,
          1009,
          1010,
          1011,
          1012,
          1013,
          1014,
          1015,
          1016,
          1017,
          1018,
          1019,
          1020,
          1021,
          1022,
          1023,
          1024,
          1025,
          1026,
          1027,
          1028,
          1029,
          1030,
          1031,
          1032,
          1033,
          1034,
          1035,
          1036,
          1037,
          1038,
          1039,
          1040,
          1041,
          1042,
          1043,
          1044,
          1045,
          1046,
          1047,
          1048,
          1049,
          1050,
          1051,
          1052,
          1053,
          1054,
          1055,
          1056,
          1057,
          1058,
          1059,
          1060,
          1061,
          1062,
          1063,
          1064,
          1064,
          1066,
          1067,
          1067,
          1069,
          1070,
          1071,
          1072,
          1073,
          1074,
          1075,
          1076,
          1077,
          1078,
          1079,
          1080,
          1081,
          1082,
          1083,
          1084,
          1085,
          1085,
          1087,
          1088,
          1089,
          1090,
          1091,
          1092,
          1093,
          1094,
          1095,
          1096,
          1097,
          1098,
          1099,
          1100,
          1101,
          1102,
          1103,
          1104,
          1105,
          1105,
          1107,
          1108,
          1109,
          1110,
          1110,
          1112,
          1113,
          1114,
          1115,
          1116,
          1117,
          1118,
          1119,
          1120,
          1121,
          1122,
          1123,
          1124,
          1125,
          1126,
          1127,
          1128,
          1129,
          1130,
          1131,
          1132,
          1132,
          1134,
          1135,
          1136,
          1137,
          1138,
          1139,
          1140,
          1141,
          1142,
          1143,
          1144,
          1145,
          1146,
          1147,
          1148,
          1149,
          1150,
          1151,
          1152,
          1153,
          1154,
          1155,
          1156,
          1157,
          1158,
          1159,
          1160,
          1161,
          1162,
          1163,
          1164,
          1165,
          1166,
          1167,
          1168,
          1169,
          1170,
          1171,
          1172,
          1173,
          1174,
          1175,
          1176,
          1177,
          1177,
          1179,
          1180,
          1181,
          1182,
          1183,
          1184,
          1185,
          1186,
          1187,
          1188,
          1189,
          1190,
          1191,
          1192,
          1193,
          1194,
          1195,
          1196,
          1197,
          1198,
          1199,
          1200,
          1201,
          1202,
          1203,
          1204,
          1205,
          1206,
          1207,
          1208,
          1209,
          1210,
          1211,
          1212,
          1213,
          1214,
          1215,
          1216,
          1217,
          1218,
          1219,
          1220,
          1221,
          1222,
          1223,
          1224,
          1224,
          1226,
          1227,
          1228,
          1229,
          1230,
          1230,
          1232,
          1233,
          1234,
          1235,
          1236,
          1237,
          1238,
          1239,
          1240,
          1240,
          1242,
          1243,
          1244,
          1245,
          1246,
          1247,
          1248,
          1249,
          1250,
          1251,
          1252,
          1253,
          1254,
          1255,
          1256,
          1257,
          1258,
          1259,
          1260,
          1261,
          1262,
          1263,
          1264,
          1265,
          1266,
          1267,
          1268,
          1269,
          1270,
          1271,
          1272,
          1273,
          1274,
          1275,
          1276,
          1277,
          1278,
          1279,
          1280,
          1281,
          1282,
          1283,
          1284,
          1285,
          1286,
          1287,
          1287,
          1289,
          1290,
          1291,
          1292,
          1293,
          1294,
          1295,
          1296,
          1297,
          1298,
          1299,
          1300,
          1301,
          1302,
          1303,
          1304,
          1305,
          1306,
          1307,
          1308,
          1308,
          1310,
          1311,
          1312,
          1313,
          1314,
          1315,
          1316,
          1317,
          1318,
          1319,
          1320,
          1321,
          1322,
          1323,
          1324,
          1325,
          1326,
          1327,
          1328,
          1329,
          1330,
          1331,
          1332,
          1333,
          1334,
          1335,
          1336,
          1337,
          1338,
          1339,
          1340,
          1341,
          1342,
          1343,
          1344,
          1345,
          1346,
          1347,
          1348,
          1349,
          1349,
          1351,
          1352,
          1353,
          1354,
          1355,
          1356,
          1357,
          1358,
          1359,
          1360,
          1361,
          1362,
          1363,
          1364,
          1365,
          1366,
          1366,
          1368,
          1368,
          1370,
          1371,
          1372,
          1373,
          1374,
          1375,
          1376,
          1377,
          1378,
          1378,
          1378,
          1381,
          1382,
          1383,
          1384,
          1385,
          1386,
          1387,
          1388,
          1389,
          1390,
          1391,
          1392,
          1393,
          1394,
          1395,
          1395,
          1397,
          1398,
          1399,
          1400,
          1401,
          1402,
          1403,
          1404,
          1405,
          1406,
          1407,
          1408,
          1409,
          1410,
          1411,
          1412,
          1413,
          1414,
          1415,
          1416,
          1417,
          1418,
          1419,
          1420,
          1421,
          1422,
          1423,
          1424,
          1425,
          1426,
          1427,
          1428,
          1429,
          1430,
          1431,
          1432,
          1433,
          1434,
          1435,
          1436,
          1437,
          1438,
          1439,
          1439,
          1441,
          1442,
          1443,
          1444,
          1445,
          1446,
          1447,
          1447,
          1449,
          1450,
          1451,
          1452,
          1453,
          1454,
          1455,
          1456,
          1457,
          1458,
          1459,
          1460,
          1461,
          1462,
          1463,
          1464,
          1465,
          1466,
          1467,
          1468,
          1469,
          1470,
          1471,
          1472,
          1473,
          1474,
          1475,
          1476,
          1477,
          1478,
          1479,
          1480,
          1481,
          1482,
          1483,
          1484,
          1485,
          1486,
          1487,
          1488,
          1489,
          1490,
          1491,
          1492,
          1493,
          1494,
          1495,
          1496,
          1496,
          1498,
          1499,
          1500,
          1501,
          1502,
          1503,
          1504,
          1505,
          1506,
          1507,
          1508,
          1509,
          1510,
          1511,
          1512,
          1513,
          1514,
          1515,
          1516,
          1517,
          1517,
          1519,
          1520,
          1521,
          1522,
          1523,
          1524,
          1525,
          1526,
          1526,
          1528,
          1529,
          1530,
          1531,
          1532,
          1533,
          1533,
          1535,
          1536,
          1537,
          1538,
          1539,
          1540,
          1540,
          1542,
          1543,
          1544,
          1545,
          1546,
          1547,
          1548,
          1549,
          1550,
          1551,
          1552,
          1553,
          1554,
          1554,
          1556,
          1557,
          1558,
          1559,
          1560,
          1561,
          1562,
          1563,
          1564,
          1565,
          1566,
          1567,
          1568,
          1569,
          1570,
          1570,
          1572,
          1572,
          1574,
          1575,
          1576,
          1577,
          1577,
          1579,
          1580,
          1581,
          1582,
          1583,
          1584,
          1585,
          1585,
          1585,
          1588,
          1589,
          1590,
          1591,
          1592,
          1593,
          1594,
          1595,
          1596,
          1597,
          1598,
          1599,
          1600,
          1601,
          1602,
          1603,
          1604,
          1605,
          1605,
          1607,
          1608,
          1609,
          1610,
          1611,
          1611,
          1613,
          1613,
          1615,
          1616,
          1617,
          1618,
          1618,
          1620,
          1620,
          1622,
          1623,
          1624,
          1625,
          1626,
          1627,
          1628,
          1629,
          1630,
          1631,
          1632,
          1633,
          1634,
          1635,
          1636,
          1637,
          1638,
          1639,
          1640,
          1641,
          1642,
          1642,
          1644,
          1645,
          1646,
          1647,
          1648,
          1649,
          1650,
          1651,
          1652,
          1653,
          1654,
          1655,
          1656,
          1657,
          1658,
          1658,
          1660,
          1661,
          1662,
          1663,
          1664,
          1665,
          1666,
          1667,
          1668,
          1669,
          1670,
          1671,
          1672,
          1673,
          1674,
          1675,
          1676,
          1677,
          1678,
          1679,
          1680,
          1681,
          1682,
          1683,
          1684,
          1685,
          1686,
          1687,
          1688,
          1689,
          1690,
          1691,
          1692,
          1693,
          1694,
          1695,
          1696,
          1697,
          1698,
          1699,
          1699,
          1701,
          1702,
          1703,
          1704,
          1704,
          1706,
          1707,
          1708,
          1709,
          1710,
          1711,
          1712,
          1713,
          1714,
          1715,
          1716,
          1717,
          1718,
          1719,
          1720,
          1721,
          1722,
          1723,
          1724,
          1725,
          1726,
          1727,
          1727,
          1729,
          1730,
          1731,
          1732,
          1733,
          1734,
          1735,
          1736,
          1737,
          1738,
          1739,
          1740,
          1741,
          1742,
          1743,
          1744,
          1745,
          1746,
          1747,
          1748,
          1749,
          1750,
          1751,
          1752,
          1753,
          1754,
          1755,
          1756,
          1757,
          1758,
          1759,
          1760,
          1761,
          1762,
          1763,
          1764,
          1765,
          1766,
          1767,
          1767,
          1769,
          1770,
          1771,
          1772,
          1773,
          1774,
          1775,
          1776,
          1777,
          1778,
          1779,
          1780,
          1781,
          1782,
          1783,
          1784,
          1785,
          1786,
          1787,
          1788,
          1789
         ],
         "xaxis": "x",
         "y": [
          0,
          320000000000,
          2705000000000,
          4962000000000,
          5900000000000,
          5924000000000,
          6375000000000,
          7006000000000,
          8308000000000,
          8389000000000,
          9298000000000,
          9423000000000,
          9489000000000,
          10000000000000,
          10235000000000,
          10950000000000,
          11095000000000,
          11160000000000,
          11652000000000,
          11709000000000,
          12133000000000,
          12342000000000,
          13144000000000,
          13384000000000,
          13556000000000,
          13721000000000,
          13993000000000,
          14104000000000,
          14154000000000,
          14733000000000,
          14931000000000,
          15276000000000,
          15297000000000,
          15354000000000,
          15813000000000,
          15942000000000,
          16024000000000,
          16293000000000,
          16762000000000,
          16912000000000,
          17403000000000,
          17418000000000,
          17489000000000,
          17996000000000,
          18113000000000,
          18460000000000,
          19094000000000,
          19111000000000,
          19235000000000,
          19317000000000,
          19701000000000,
          19962000000000,
          20257000000000,
          20489000000000,
          21688000000000,
          22230000000000,
          22629000000000,
          22752000000000,
          23026000000000,
          23068000000000,
          24156000000000,
          24189000000000,
          24228000000000,
          24246000000000,
          24268000000000,
          24458000000000,
          24458000000000,
          24540000000000,
          24727000000000,
          25123000000000,
          25168000000000,
          25353000000000,
          26266000000000,
          26680000000000,
          26691000000000,
          26847000000000,
          26899000000000,
          27205000000000,
          27334000000000,
          27537000000000,
          27609000000000,
          27736000000000,
          27764000000000,
          28024000000000,
          28146000000000,
          28158000000000,
          28267000000000,
          28456000000000,
          28528000000000,
          28838000000000,
          28947000000000,
          29496000000000,
          29522000000000,
          29564000000000,
          30233000000000,
          30279000000000,
          30359000000000,
          30421000000000,
          30712000000000,
          30728000000000,
          31127000000000,
          31186000000000,
          31241000000000,
          31241000000000,
          31282000000000,
          31295000000000,
          31532000000000,
          31568000000000,
          31611000000000,
          31652000000000,
          31857000000000,
          31922000000000,
          32010000000000,
          32068000000000,
          32127000000000,
          32142000000000,
          32252000000000,
          32321000000000,
          32362000000000,
          32416000000000,
          32487000000000,
          32703000000000,
          32868000000000,
          33032000000000,
          33107000000000,
          33336000000000,
          33342000000000,
          33351000000000,
          33364000000000,
          33550000000000,
          33600000000000,
          33613000000000,
          33641000000000,
          33654000000000,
          33701000000000,
          34090000000000,
          34120000000000,
          34207000000000,
          34261000000000,
          34261000000000,
          34384000000000,
          34504000000000,
          34754000000000,
          34784000000000,
          34824000000000,
          34933000000000,
          34947000000000,
          35092000000000,
          35114000000000,
          35192000000000,
          35387000000000,
          35610000000000,
          35652000000000,
          35739000000000,
          35873000000000,
          35927000000000,
          36026000000000,
          36101000000000,
          36283000000000,
          36291000000000,
          36645000000000,
          36708000000000,
          36763000000000,
          36825000000000,
          36970000000000,
          36986000000000,
          37225000000000,
          37280000000000,
          37323000000000,
          37350000000000,
          37431000000000,
          37477000000000,
          37906000000000,
          38061000000000,
          38110000000000,
          38110000000000,
          38128000000000,
          38189000000000,
          38327000000000,
          38345000000000,
          38599000000000,
          38693000000000,
          38743000000000,
          38803000000000,
          38829000000000,
          38889000000000,
          38968000000000,
          39007000000000,
          39165000000000,
          39270000000000,
          39444000000000,
          39480000000000,
          39518000000000,
          39842000000000,
          39851000000000,
          39869000000000,
          39898000000000,
          40123000000000,
          40186000000000,
          40467000000000,
          40751000000000,
          40778000000000,
          40851000000000,
          40857000000000,
          40989000000000,
          41065000000000,
          41158000000000,
          41264000000000,
          41414000000000,
          41425000000000,
          41536000000000,
          41604000000000,
          41679000000000,
          41736000000000,
          41751000000000,
          41762000000000,
          41830000000000,
          41841000000000,
          41892000000000,
          41906000000000,
          42028000000000,
          42111000000000,
          42149000000000,
          42176000000000,
          42227000000000,
          42250000000000,
          42325000000000,
          42330000000000,
          42393000000000,
          42446000000000,
          42595000000000,
          42604000000000,
          42606000000000,
          42624000000000,
          42650000000000,
          42836000000000,
          42907000000000,
          42920000000000,
          42994000000000,
          43084000000000,
          43112000000000,
          43127000000000,
          43215000000000,
          43216000000000,
          43222000000000,
          43338000000000,
          43341000000000,
          43622000000000,
          43631000000000,
          43711000000000,
          44066000000000,
          44178000000000,
          44191000000000,
          44249000000000,
          44250000000000,
          44297000000000,
          44304000000000,
          44537000000000,
          44556000000000,
          44566000000000,
          44585000000000,
          44644000000000,
          44704000000000,
          44720000000000,
          44758000000000,
          44764000000000,
          44800000000000,
          44845000000000,
          44954000000000,
          45241000000000,
          45361000000000,
          45362000000000,
          45395000000000,
          45416000000000,
          45478000000000,
          45528000000000,
          45636000000000,
          45663000000000,
          45699000000000,
          45706000000000,
          45714000000000,
          45728000000000,
          45735000000000,
          46059000000000,
          46192000000000,
          46351000000000,
          46505000000000,
          46519000000000,
          46613000000000,
          46884000000000,
          46884000000000,
          46936000000000,
          46963000000000,
          47269000000000,
          47326000000000,
          47340000000000,
          47457000000000,
          47494000000000,
          47556000000000,
          47598000000000,
          47832000000000,
          47832000000000,
          47968000000000,
          48015000000000,
          48107000000000,
          48132000000000,
          48149000000000,
          48194000000000,
          48359000000000,
          48379000000000,
          48379000000000,
          48670000000000,
          48672000000000,
          48714000000000,
          48826000000000,
          48846000000000,
          48935000000000,
          48972000000000,
          49092000000000,
          49207000000000,
          49345000000000,
          49430000000000,
          49461000000000,
          49505000000000,
          49555000000000,
          49619000000000,
          49664000000000,
          49692000000000,
          49743000000000,
          49762000000000,
          49798000000000,
          49813000000000,
          49833000000000,
          49860000000000,
          49865000000000,
          49865000000000,
          49867000000000,
          49976000000000,
          50018000000000,
          50019000000000,
          50025000000000,
          50119000000000,
          50156000000000,
          50235000000000,
          50365000000000,
          50388000000000,
          50432000000000,
          50448000000000,
          50561000000000,
          50804000000000,
          50859000000000,
          50862000000000,
          50946000000000,
          51016000000000,
          51074000000000,
          51209000000000,
          51227000000000,
          51257000000000,
          51413000000000,
          51426000000000,
          51644000000000,
          51684000000000,
          51707000000000,
          51756000000000,
          51823000000000,
          51891000000000,
          51904000000000,
          51926000000000,
          51927000000000,
          51973000000000,
          52027000000000,
          52132000000000,
          52142000000000,
          52178000000000,
          52179000000000,
          52190000000000,
          52243000000000,
          52315000000000,
          52356000000000,
          52392000000000,
          52523000000000,
          52538000000000,
          52626000000000,
          52651000000000,
          52785000000000,
          53062000000000,
          53103000000000,
          53111000000000,
          53120000000000,
          53141000000000,
          53169000000000,
          53230000000000,
          53235000000000,
          53315000000000,
          53363000000000,
          53451000000000,
          53616000000000,
          53660000000000,
          53898000000000,
          53898000000000,
          53958000000000,
          54154000000000,
          54246000000000,
          54293000000000,
          54318000000000,
          54372000000000,
          54424000000000,
          54448000000000,
          54461000000000,
          54477000000000,
          54504000000000,
          54515000000000,
          54549000000000,
          54606000000000,
          54607000000000,
          54616000000000,
          54617000000000,
          54626000000000,
          54657000000000,
          54690000000000,
          54697000000000,
          54714000000000,
          54742000000000,
          54761000000000,
          54762000000000,
          54774000000000,
          54817000000000,
          54858000000000,
          54965000000000,
          55148000000000,
          55160000000000,
          55174000000000,
          55175000000000,
          55179000000000,
          55189000000000,
          55227000000000,
          55257000000000,
          55344000000000,
          55390000000000,
          55524000000000,
          55531000000000,
          55537000000000,
          55547000000000,
          55690000000000,
          55692000000000,
          55923000000000,
          55948000000000,
          55983000000000,
          56010000000000,
          56018000000000,
          56042000000000,
          56070000000000,
          56165000000000,
          56205000000000,
          56372000000000,
          56545000000000,
          56568000000000,
          56570000000000,
          56634000000000,
          56670000000000,
          56689000000000,
          56743000000000,
          56775000000000,
          56808000000000,
          56849000000000,
          57045000000000,
          57145000000000,
          57222000000000,
          57223000000000,
          57235000000000,
          57270000000000,
          57277000000000,
          57287000000000,
          57310000000000,
          57468000000000,
          57559000000000,
          57607000000000,
          57636000000000,
          57681000000000,
          57756000000000,
          57758000000000,
          57852000000000,
          57914000000000,
          57960000000000,
          57970000000000,
          57998000000000,
          58016000000000,
          58061000000000,
          58095000000000,
          58161000000000,
          58217000000000,
          58236000000000,
          58322000000000,
          58473000000000,
          58518000000000,
          58697000000000,
          58851000000000,
          58864000000000,
          58972000000000,
          59233000000000,
          59235000000000,
          59304000000000,
          59338000000000,
          59362000000000,
          59384000000000,
          59476000000000,
          59671000000000,
          59687000000000,
          59747000000000,
          59774000000000,
          59891000000000,
          59924000000000,
          59927000000000,
          59932000000000,
          59959000000000,
          59987000000000,
          60105000000000,
          60192000000000,
          60249000000000,
          60249000000000,
          60305000000000,
          60329000000000,
          60497000000000,
          60572000000000,
          60572000000000,
          60602000000000,
          60649000000000,
          60704000000000,
          60725000000000,
          60788000000000,
          61074000000000,
          61084000000000,
          61130000000000,
          61186000000000,
          61189000000000,
          61237000000000,
          61242000000000,
          61250000000000,
          61263000000000,
          61263000000000,
          61440000000000,
          61458000000000,
          61539000000000,
          61653000000000,
          61731000000000,
          61739000000000,
          61959000000000,
          62019000000000,
          62112000000000,
          62129000000000,
          62260000000000,
          62312000000000,
          62320000000000,
          62333000000000,
          62346000000000,
          62348000000000,
          62367000000000,
          62372000000000,
          62540000000000,
          62544000000000,
          62571000000000,
          62581000000000,
          62611000000000,
          62632000000000,
          62660000000000,
          62681000000000,
          62713000000000,
          62846000000000,
          62853000000000,
          62859000000000,
          62866000000000,
          62891000000000,
          62982000000000,
          63019000000000,
          63033000000000,
          63125000000000,
          63227000000000,
          63267000000000,
          63267000000000,
          63284000000000,
          63354000000000,
          63442000000000,
          63487000000000,
          63567000000000,
          63580000000000,
          63611000000000,
          63612000000000,
          63767000000000,
          63775000000000,
          63816000000000,
          63888000000000,
          64013000000000,
          64033000000000,
          64048000000000,
          64049000000000,
          64055000000000,
          64089000000000,
          64109000000000,
          64128000000000,
          64149000000000,
          64209000000000,
          64211000000000,
          64257000000000,
          64280000000000,
          64281000000000,
          64298000000000,
          64317000000000,
          64352000000000,
          64359000000000,
          64361000000000,
          64422000000000,
          64426000000000,
          64468000000000,
          64472000000000,
          64503000000000,
          64514000000000,
          64606000000000,
          64653000000000,
          64656000000000,
          64700000000000,
          64711000000000,
          64794000000000,
          64819000000000,
          64874000000000,
          64875000000000,
          64881000000000,
          64931000000000,
          65209000000000,
          65216000000000,
          65364000000000,
          65428000000000,
          65447000000000,
          65533000000000,
          65554000000000,
          65577000000000,
          65640000000000,
          65750000000000,
          65754000000000,
          65789000000000,
          65790000000000,
          65794000000000,
          65796000000000,
          65799000000000,
          65804000000000,
          65810000000000,
          65812000000000,
          65861000000000,
          65893000000000,
          65900000000000,
          66007000000000,
          66008000000000,
          66042000000000,
          66062000000000,
          66076000000000,
          66100000000000,
          66112000000000,
          66133000000000,
          66182000000000,
          66210000000000,
          66217000000000,
          66258000000000,
          66269000000000,
          66285000000000,
          66376000000000,
          66430000000000,
          66438000000000,
          66458000000000,
          66481000000000,
          66506000000000,
          66515000000000,
          66528000000000,
          66568000000000,
          66572000000000,
          66580000000000,
          66601000000000,
          66645000000000,
          66664000000000,
          66681000000000,
          66692000000000,
          66746000000000,
          66753000000000,
          66754000000000,
          66833000000000,
          66834000000000,
          66843000000000,
          66851000000000,
          66855000000000,
          66859000000000,
          66878000000000,
          67013000000000,
          67016000000000,
          67054000000000,
          67066000000000,
          67070000000000,
          67098000000000,
          67134000000000,
          67171000000000,
          67311000000000,
          67319000000000,
          67394000000000,
          67400000000000,
          67446000000000,
          67503000000000,
          67544000000000,
          67566000000000,
          67567000000000,
          67605000000000,
          67684000000000,
          67719000000000,
          67724000000000,
          67829000000000,
          67867000000000,
          67887000000000,
          67933000000000,
          67977000000000,
          68023000000000,
          68024000000000,
          68149000000000,
          68196000000000,
          68203000000000,
          68249000000000,
          68312000000000,
          68312000000000,
          68313000000000,
          68356000000000,
          68361000000000,
          68367000000000,
          68373000000000,
          68399000000000,
          68424000000000,
          68425000000000,
          68455000000000,
          68472000000000,
          68532000000000,
          68542000000000,
          68585000000000,
          68585000000000,
          68608000000000,
          68609000000000,
          68672000000000,
          68732000000000,
          68760000000000,
          68789000000000,
          68913000000000,
          68935000000000,
          68976000000000,
          69028000000000,
          69068000000000,
          69073000000000,
          69090000000000,
          69179000000000,
          69185000000000,
          69191000000000,
          69247000000000,
          69289000000000,
          69292000000000,
          69303000000000,
          69343000000000,
          69344000000000,
          69382000000000,
          69391000000000,
          69430000000000,
          69450000000000,
          69460000000000,
          69521000000000,
          69540000000000,
          69745000000000,
          69808000000000,
          69824000000000,
          69834000000000,
          69838000000000,
          69850000000000,
          69938000000000,
          69953000000000,
          69960000000000,
          70018000000000,
          70059000000000,
          70060000000000,
          70064000000000,
          70080000000000,
          70087000000000,
          70162000000000,
          70190000000000,
          70193000000000,
          70209000000000,
          70222000000000,
          70326000000000,
          70338000000000,
          70345000000000,
          70602000000000,
          70656000000000,
          70666000000000,
          70677000000000,
          70708000000000,
          70753000000000,
          70757000000000,
          70793000000000,
          70833000000000,
          70844000000000,
          70845000000000,
          70877000000000,
          70903000000000,
          70914000000000,
          70929000000000,
          70941000000000,
          70950000000000,
          70958000000000,
          70977000000000,
          71016000000000,
          71062000000000,
          71064000000000,
          71081000000000,
          71114000000000,
          71133000000000,
          71147000000000,
          71186000000000,
          71190000000000,
          71197000000000,
          71234000000000,
          71245000000000,
          71267000000000,
          71288000000000,
          71306000000000,
          71307000000000,
          71337000000000,
          71349000000000,
          71394000000000,
          71398000000000,
          71432000000000,
          71502000000000,
          71525000000000,
          71537000000000,
          71547000000000,
          71548000000000,
          71552000000000,
          71602000000000,
          71622000000000,
          71625000000000,
          71714000000000,
          71717000000000,
          71771000000000,
          71778000000000,
          71795000000000,
          71848000000000,
          71947000000000,
          72007000000000,
          72011000000000,
          72071000000000,
          72082000000000,
          72086000000000,
          72105000000000,
          72116000000000,
          72146000000000,
          72170000000000,
          72209000000000,
          72234000000000,
          72334000000000,
          72374000000000,
          72398000000000,
          72406000000000,
          72413000000000,
          72416000000000,
          72419000000000,
          72424000000000,
          72438000000000,
          72452000000000,
          72455000000000,
          72537000000000,
          72544000000000,
          72555000000000,
          72562000000000,
          72579000000000,
          72612000000000,
          72624000000000,
          72671000000000,
          72672000000000,
          72682000000000,
          72726000000000,
          72735000000000,
          72791000000000,
          72822000000000,
          72871000000000,
          73111000000000,
          73178000000000,
          73200000000000,
          73235000000000,
          73319000000000,
          73329000000000,
          73360000000000,
          73367000000000,
          73375000000000,
          73386000000000,
          73387000000000,
          73396000000000,
          73427000000000,
          73474000000000,
          73479000000000,
          73502000000000,
          73585000000000,
          73607000000000,
          73611000000000,
          73673000000000,
          73674000000000,
          73723000000000,
          73777000000000,
          73788000000000,
          73789000000000,
          73792000000000,
          73812000000000,
          73834000000000,
          73846000000000,
          73849000000000,
          73920000000000,
          73957000000000,
          73961000000000,
          74074000000000,
          74132000000000,
          74134000000000,
          74183000000000,
          74184000000000,
          74202000000000,
          74275000000000,
          74298000000000,
          74312000000000,
          74318000000000,
          74338000000000,
          74374000000000,
          74384000000000,
          74396000000000,
          74441000000000,
          74480000000000,
          74482000000000,
          74493000000000,
          74566000000000,
          74583000000000,
          74590000000000,
          74590000000000,
          74646000000000,
          74777000000000,
          74784000000000,
          74812000000000,
          74949000000000,
          75006000000000,
          75057000000000,
          75057000000000,
          75064000000000,
          75069000000000,
          75072000000000,
          75076000000000,
          75094000000000,
          75115000000000,
          75160000000000,
          75246000000000,
          75268000000000,
          75276000000000,
          75278000000000,
          75304000000000,
          75313000000000,
          75366000000000,
          75372000000000,
          75464000000000,
          75474000000000,
          75483000000000,
          75495000000000,
          75541000000000,
          75541000000000,
          75550000000000,
          75579000000000,
          75621000000000,
          75639000000000,
          75693000000000,
          75693000000000,
          75702000000000,
          75766000000000,
          75859000000000,
          75862000000000,
          75946000000000,
          75946000000000,
          75952000000000,
          75959000000000,
          76082000000000,
          76091000000000,
          76091000000000,
          76097000000000,
          76259000000000,
          76302000000000,
          76315000000000,
          76315000000000,
          76322000000000,
          76330000000000,
          76342000000000,
          76345000000000,
          76390000000000,
          76412000000000,
          76426000000000,
          76475000000000,
          76493000000000,
          76516000000000,
          76516000000000,
          76571000000000,
          76571000000000,
          76577000000000,
          76581000000000,
          76589000000000,
          76597000000000,
          76603000000000,
          76666000000000,
          76722000000000,
          76791000000000,
          76807000000000,
          76866000000000,
          76877000000000,
          76894000000000,
          76982000000000,
          76983000000000,
          76984000000000,
          77013000000000,
          77085000000000,
          77101000000000,
          77191000000000,
          77255000000000,
          77256000000000,
          77269000000000,
          77281000000000,
          77286000000000,
          77320000000000,
          77333000000000,
          77351000000000,
          77374000000000,
          77419000000000,
          77432000000000,
          77451000000000,
          77452000000000,
          77487000000000,
          77531000000000,
          77548000000000,
          77559000000000,
          77565000000000,
          77577000000000,
          77630000000000,
          77698000000000,
          77723000000000,
          77749000000000,
          77788000000000,
          77790000000000,
          77795000000000,
          77796000000000,
          77798000000000,
          77802000000000,
          77870000000000,
          77966000000000,
          77972000000000,
          77996000000000,
          78020000000000,
          78085000000000,
          78116000000000,
          78130000000000,
          78143000000000,
          78155000000000,
          78280000000000,
          78284000000000,
          78311000000000,
          78347000000000,
          78352000000000,
          78352000000000,
          78397000000000,
          78398000000000,
          78398000000000,
          78404000000000,
          78413000000000,
          78451000000000,
          78462000000000,
          78486000000000,
          78508000000000,
          78514000000000,
          78605000000000,
          78630000000000,
          78636000000000,
          78639000000000,
          78667000000000,
          78722000000000,
          78747000000000,
          78769000000000,
          78786000000000,
          78806000000000,
          78806000000000,
          78854000000000,
          78869000000000,
          78906000000000,
          78952000000000,
          78980000000000,
          78993000000000,
          79044000000000,
          79055000000000,
          79104000000000,
          79120000000000,
          79149000000000,
          79152000000000,
          79196000000000,
          79199000000000,
          79227000000000,
          79230000000000,
          79235000000000,
          79239000000000,
          79244000000000,
          79244000000000,
          79262000000000,
          79275000000000,
          79289000000000,
          79339000000000,
          79339000000000,
          79340000000000,
          79352000000000,
          79355000000000,
          79360000000000,
          79364000000000,
          79366000000000,
          79407000000000,
          79432000000000,
          79448000000000,
          79466000000000,
          79477000000000,
          79484000000000,
          79494000000000,
          79503000000000,
          79565000000000,
          79614000000000,
          79632000000000,
          79698000000000,
          79718000000000,
          79752000000000,
          79778000000000,
          79778000000000,
          79784000000000,
          79793000000000,
          79862000000000,
          79888000000000,
          79925000000000,
          80073000000000,
          80144000000000,
          80165000000000,
          80189000000000,
          80206000000000,
          80214000000000,
          80221000000000,
          80268000000000,
          80288000000000,
          80322000000000,
          80342000000000,
          80389000000000,
          80413000000000,
          80538000000000,
          80540000000000,
          80561000000000,
          80608000000000,
          80642000000000,
          80643000000000,
          80668000000000,
          80689000000000,
          80697000000000,
          80741000000000,
          80808000000000,
          80842000000000,
          80867000000000,
          80875000000000,
          80898000000000,
          80990000000000,
          80997000000000,
          81255000000000,
          81262000000000,
          81288000000000,
          81294000000000,
          81322000000000,
          81328000000000,
          81348000000000,
          81396000000000,
          81405000000000,
          81405000000000,
          81442000000000,
          81487000000000,
          81497000000000,
          81510000000000,
          81513000000000,
          81540000000000,
          81651000000000,
          81661000000000,
          81703000000000,
          81711000000000,
          81759000000000,
          81827000000000,
          81833000000000,
          81860000000000,
          81888000000000,
          81964000000000,
          82050000000000,
          82088000000000,
          82105000000000,
          82121000000000,
          82163000000000,
          82193000000000,
          82201000000000,
          82212000000000,
          82254000000000,
          82261000000000,
          82360000000000,
          82427000000000,
          82481000000000,
          82506000000000,
          82534000000000,
          82605000000000,
          82651000000000,
          82711000000000,
          82791000000000,
          82801000000000,
          82824000000000,
          82839000000000,
          82909000000000,
          82911000000000,
          82912000000000,
          83078000000000,
          83092000000000,
          83123000000000,
          83141000000000,
          83161000000000,
          83161000000000,
          83168000000000,
          83220000000000,
          83246000000000,
          83251000000000,
          83285000000000,
          83285000000000,
          83315000000000,
          83366000000000,
          83411000000000,
          83447000000000,
          83448000000000,
          83610000000000,
          83669000000000,
          83733000000000,
          83742000000000,
          83742000000000,
          83805000000000,
          83823000000000,
          83904000000000,
          83905000000000,
          83935000000000,
          83975000000000,
          83985000000000,
          84029000000000,
          84081000000000,
          84103000000000,
          84123000000000,
          84124000000000,
          84128000000000,
          84247000000000,
          84256000000000,
          84270000000000,
          84324000000000,
          84345000000000,
          84362000000000,
          84369000000000,
          84394000000000,
          84403000000000,
          84524000000000,
          84569000000000,
          84734000000000,
          84751000000000,
          84769000000000,
          84825000000000,
          84858000000000,
          84868000000000,
          84923000000000,
          84951000000000,
          84959000000000,
          85005000000000,
          85022000000000,
          85033000000000,
          85055000000000,
          85058000000000,
          85064000000000,
          85074000000000,
          85083000000000,
          85158000000000,
          85170000000000,
          85204000000000,
          85222000000000,
          85291000000000,
          85291000000000,
          85301000000000,
          85395000000000,
          85451000000000,
          85464000000000,
          85501000000000,
          85523000000000,
          85559000000000,
          85566000000000,
          85585000000000,
          85623000000000,
          85655000000000,
          85665000000000,
          85678000000000,
          85822000000000,
          85827000000000,
          85840000000000,
          85841000000000,
          85920000000000,
          85954000000000,
          86007000000000,
          86007000000000,
          86012000000000,
          86034000000000,
          86041000000000,
          86043000000000,
          86054000000000,
          86072000000000,
          86081000000000,
          86146000000000,
          86220000000000,
          86229000000000,
          86239000000000,
          86251000000000,
          86308000000000,
          86317000000000,
          86320000000000,
          86326000000000,
          86365000000000,
          86403000000000,
          86406000000000,
          86482000000000,
          86510000000000,
          86585000000000,
          86601000000000,
          86624000000000,
          86642000000000,
          86644000000000,
          86679000000000,
          86695000000000,
          86717000000000,
          86787000000000,
          86902000000000,
          86903000000000,
          86911000000000,
          86974000000000,
          86987000000000,
          87005000000000,
          87039000000000,
          87044000000000,
          87049000000000,
          87057000000000,
          87057000000000,
          87058000000000,
          87091000000000,
          87106000000000,
          87122000000000,
          87155000000000,
          87168000000000,
          87191000000000,
          87245000000000,
          87294000000000,
          87339000000000,
          87355000000000,
          87369000000000,
          87390000000000,
          87452000000000,
          87480000000000,
          87521000000000,
          87521000000000,
          87561000000000,
          87561000000000,
          87584000000000,
          87587000000000,
          87592000000000,
          87601000000000,
          87645000000000,
          87717000000000,
          87735000000000,
          87740000000000,
          87746000000000,
          87746000000000,
          87746000000000,
          87787000000000,
          87792000000000,
          87799000000000,
          87803000000000,
          87805000000000,
          87816000000000,
          87835000000000,
          87851000000000,
          87866000000000,
          87884000000000,
          87899000000000,
          87929000000000,
          87936000000000,
          87939000000000,
          87980000000000,
          87980000000000,
          87995000000000,
          88006000000000,
          88037000000000,
          88045000000000,
          88054000000000,
          88063000000000,
          88068000000000,
          88070000000000,
          88127000000000,
          88160000000000,
          88178000000000,
          88191000000000,
          88202000000000,
          88203000000000,
          88220000000000,
          88229000000000,
          88235000000000,
          88266000000000,
          88267000000000,
          88269000000000,
          88270000000000,
          88295000000000,
          88327000000000,
          88348000000000,
          88358000000000,
          88438000000000,
          88448000000000,
          88480000000000,
          88487000000000,
          88496000000000,
          88526000000000,
          88532000000000,
          88580000000000,
          88609000000000,
          88644000000000,
          88651000000000,
          88669000000000,
          88672000000000,
          88677000000000,
          88685000000000,
          88708000000000,
          88750000000000,
          88776000000000,
          88776000000000,
          88779000000000,
          88790000000000,
          88812000000000,
          88875000000000,
          88876000000000,
          88903000000000,
          88938000000000,
          88938000000000,
          88957000000000,
          88958000000000,
          88959000000000,
          88973000000000,
          88989000000000,
          89016000000000,
          89017000000000,
          89025000000000,
          89064000000000,
          89087000000000,
          89115000000000,
          89135000000000,
          89138000000000,
          89150000000000,
          89178000000000,
          89184000000000,
          89185000000000,
          89196000000000,
          89199000000000,
          89209000000000,
          89210000000000,
          89241000000000,
          89306000000000,
          89308000000000,
          89309000000000,
          89313000000000,
          89315000000000,
          89316000000000,
          89320000000000,
          89337000000000,
          89376000000000,
          89448000000000,
          89452000000000,
          89464000000000,
          89567000000000,
          89580000000000,
          89623000000000,
          89629000000000,
          89709000000000,
          89741000000000,
          89746000000000,
          89790000000000,
          89820000000000,
          89852000000000,
          89855000000000,
          89896000000000,
          89906000000000,
          89931000000000,
          89931000000000,
          89932000000000,
          89945000000000,
          89956000000000,
          89994000000000,
          90022000000000,
          90023000000000,
          90043000000000,
          90047000000000,
          90158000000000,
          90183000000000,
          90193000000000,
          90226000000000,
          90232000000000,
          90284000000000,
          90297000000000,
          90312000000000,
          90354000000000,
          90409000000000,
          90414000000000,
          90428000000000,
          90428000000000,
          90431000000000,
          90436000000000,
          90457000000000,
          90466000000000,
          90628000000000,
          90710000000000,
          90716000000000,
          90763000000000,
          90763000000000,
          90765000000000,
          90769000000000,
          90778000000000,
          90820000000000,
          90833000000000,
          90925000000000,
          90925000000000,
          90926000000000,
          90931000000000,
          90975000000000,
          90990000000000,
          90996000000000,
          91014000000000,
          91014000000000,
          91015000000000,
          91017000000000,
          91021000000000,
          91035000000000,
          91044000000000,
          91047000000000,
          91055000000000,
          91059000000000,
          91074000000000,
          91075000000000,
          91182000000000,
          91183000000000,
          91198000000000,
          91198000000000,
          91213000000000,
          91225000000000,
          91258000000000,
          91264000000000,
          91288000000000,
          91315000000000,
          91316000000000,
          91341000000000,
          91345000000000,
          91353000000000,
          91366000000000,
          91371000000000,
          91376000000000,
          91450000000000,
          91457000000000,
          91457000000000,
          91458000000000,
          91458000000000,
          91501000000000,
          91504000000000,
          91508000000000,
          91513000000000,
          91513000000000,
          91514000000000,
          91523000000000,
          91531000000000,
          91537000000000,
          91538000000000,
          91639000000000,
          91647000000000,
          91647000000000,
          91647000000000,
          91661000000000,
          91663000000000,
          91678000000000,
          91687000000000,
          91757000000000,
          91766000000000,
          91790000000000,
          91800000000000,
          91806000000000,
          91890000000000,
          91939000000000,
          92019000000000,
          92062000000000,
          92065000000000,
          92067000000000,
          92098000000000,
          92120000000000,
          92121000000000,
          92121000000000,
          92123000000000,
          92131000000000,
          92189000000000,
          92209000000000,
          92211000000000,
          92211000000000,
          92212000000000,
          92212000000000,
          92229000000000,
          92236000000000,
          92237000000000,
          92250000000000,
          92250000000000,
          92278000000000,
          92278000000000,
          92290000000000,
          92294000000000,
          92306000000000,
          92373000000000,
          92375000000000,
          92389000000000,
          92390000000000,
          92476000000000,
          92512000000000,
          92532000000000,
          92546000000000,
          92597000000000,
          92621000000000,
          92622000000000,
          92633000000000,
          92789000000000,
          92799000000000,
          92812000000000,
          92815000000000,
          92816000000000,
          92818000000000,
          92818000000000,
          92824000000000,
          92825000000000,
          92856000000000,
          92869000000000,
          92940000000000,
          92948000000000,
          92958000000000,
          92959000000000,
          92961000000000,
          92986000000000,
          92999000000000,
          93028000000000,
          93038000000000,
          93040000000000,
          93041000000000,
          93041000000000,
          93073000000000,
          93102000000000,
          93244000000000,
          93252000000000,
          93264000000000,
          93311000000000,
          93328000000000,
          93336000000000,
          93358000000000,
          93378000000000,
          93404000000000,
          93409000000000,
          93450000000000,
          93458000000000,
          93535000000000,
          93589000000000,
          93595000000000,
          93596000000000,
          93600000000000,
          93603000000000,
          93622000000000,
          93627000000000,
          93637000000000,
          93639000000000,
          93657000000000,
          93686000000000,
          93688000000000,
          93691000000000,
          93700000000000,
          93717000000000,
          93751000000000,
          93759000000000,
          93760000000000,
          93781000000000,
          93790000000000,
          93870000000000,
          93881000000000,
          93898000000000,
          93927000000000,
          93928000000000,
          93928000000000,
          93953000000000,
          93966000000000,
          93972000000000,
          93973000000000,
          93973000000000,
          93976000000000,
          93977000000000,
          94028000000000,
          94037000000000,
          94039000000000,
          94042000000000,
          94046000000000,
          94052000000000,
          94067000000000,
          94073000000000,
          94074000000000,
          94078000000000,
          94114000000000,
          94139000000000,
          94158000000000,
          94163000000000,
          94188000000000,
          94210000000000,
          94212000000000,
          94217000000000,
          94234000000000,
          94243000000000,
          94243000000000,
          94254000000000,
          94259000000000,
          94317000000000,
          94333000000000,
          94346000000000,
          94349000000000,
          94358000000000,
          94364000000000,
          94402000000000,
          94433000000000,
          94452000000000,
          94453000000000,
          94456000000000,
          94468000000000,
          94538000000000,
          94611000000000,
          94651000000000,
          94690000000000,
          94703000000000,
          94704000000000,
          94716000000000,
          94748000000000,
          94816000000000,
          94822000000000,
          94825000000000,
          94843000000000,
          94848000000000,
          94889000000000,
          94902000000000,
          94934000000000,
          94936000000000,
          94947000000000,
          94949000000000,
          94960000000000,
          95017000000000,
          95054000000000,
          95076000000000,
          95103000000000,
          95137000000000,
          95137000000000,
          95141000000000,
          95188000000000,
          95230000000000,
          95271000000000,
          95313000000000,
          95321000000000,
          95338000000000,
          95341000000000,
          95348000000000,
          95362000000000,
          95471000000000,
          95539000000000,
          95584000000000,
          95596000000000,
          95636000000000,
          95646000000000,
          95680000000000,
          95813000000000,
          95814000000000,
          97154000000000,
          98543000000000
         ],
         "yaxis": "y"
        }
       ],
       "layout": {
        "legend": {
         "tracegroupgap": 0
        },
        "margin": {
         "t": 60
        },
        "template": {
         "data": {
          "bar": [
           {
            "error_x": {
             "color": "#2a3f5f"
            },
            "error_y": {
             "color": "#2a3f5f"
            },
            "marker": {
             "line": {
              "color": "#E5ECF6",
              "width": 0.5
             },
             "pattern": {
              "fillmode": "overlay",
              "size": 10,
              "solidity": 0.2
             }
            },
            "type": "bar"
           }
          ],
          "barpolar": [
           {
            "marker": {
             "line": {
              "color": "#E5ECF6",
              "width": 0.5
             },
             "pattern": {
              "fillmode": "overlay",
              "size": 10,
              "solidity": 0.2
             }
            },
            "type": "barpolar"
           }
          ],
          "carpet": [
           {
            "aaxis": {
             "endlinecolor": "#2a3f5f",
             "gridcolor": "white",
             "linecolor": "white",
             "minorgridcolor": "white",
             "startlinecolor": "#2a3f5f"
            },
            "baxis": {
             "endlinecolor": "#2a3f5f",
             "gridcolor": "white",
             "linecolor": "white",
             "minorgridcolor": "white",
             "startlinecolor": "#2a3f5f"
            },
            "type": "carpet"
           }
          ],
          "choropleth": [
           {
            "colorbar": {
             "outlinewidth": 0,
             "ticks": ""
            },
            "type": "choropleth"
           }
          ],
          "contour": [
           {
            "colorbar": {
             "outlinewidth": 0,
             "ticks": ""
            },
            "colorscale": [
             [
              0,
              "#0d0887"
             ],
             [
              0.1111111111111111,
              "#46039f"
             ],
             [
              0.2222222222222222,
              "#7201a8"
             ],
             [
              0.3333333333333333,
              "#9c179e"
             ],
             [
              0.4444444444444444,
              "#bd3786"
             ],
             [
              0.5555555555555556,
              "#d8576b"
             ],
             [
              0.6666666666666666,
              "#ed7953"
             ],
             [
              0.7777777777777778,
              "#fb9f3a"
             ],
             [
              0.8888888888888888,
              "#fdca26"
             ],
             [
              1,
              "#f0f921"
             ]
            ],
            "type": "contour"
           }
          ],
          "contourcarpet": [
           {
            "colorbar": {
             "outlinewidth": 0,
             "ticks": ""
            },
            "type": "contourcarpet"
           }
          ],
          "heatmap": [
           {
            "colorbar": {
             "outlinewidth": 0,
             "ticks": ""
            },
            "colorscale": [
             [
              0,
              "#0d0887"
             ],
             [
              0.1111111111111111,
              "#46039f"
             ],
             [
              0.2222222222222222,
              "#7201a8"
             ],
             [
              0.3333333333333333,
              "#9c179e"
             ],
             [
              0.4444444444444444,
              "#bd3786"
             ],
             [
              0.5555555555555556,
              "#d8576b"
             ],
             [
              0.6666666666666666,
              "#ed7953"
             ],
             [
              0.7777777777777778,
              "#fb9f3a"
             ],
             [
              0.8888888888888888,
              "#fdca26"
             ],
             [
              1,
              "#f0f921"
             ]
            ],
            "type": "heatmap"
           }
          ],
          "heatmapgl": [
           {
            "colorbar": {
             "outlinewidth": 0,
             "ticks": ""
            },
            "colorscale": [
             [
              0,
              "#0d0887"
             ],
             [
              0.1111111111111111,
              "#46039f"
             ],
             [
              0.2222222222222222,
              "#7201a8"
             ],
             [
              0.3333333333333333,
              "#9c179e"
             ],
             [
              0.4444444444444444,
              "#bd3786"
             ],
             [
              0.5555555555555556,
              "#d8576b"
             ],
             [
              0.6666666666666666,
              "#ed7953"
             ],
             [
              0.7777777777777778,
              "#fb9f3a"
             ],
             [
              0.8888888888888888,
              "#fdca26"
             ],
             [
              1,
              "#f0f921"
             ]
            ],
            "type": "heatmapgl"
           }
          ],
          "histogram": [
           {
            "marker": {
             "pattern": {
              "fillmode": "overlay",
              "size": 10,
              "solidity": 0.2
             }
            },
            "type": "histogram"
           }
          ],
          "histogram2d": [
           {
            "colorbar": {
             "outlinewidth": 0,
             "ticks": ""
            },
            "colorscale": [
             [
              0,
              "#0d0887"
             ],
             [
              0.1111111111111111,
              "#46039f"
             ],
             [
              0.2222222222222222,
              "#7201a8"
             ],
             [
              0.3333333333333333,
              "#9c179e"
             ],
             [
              0.4444444444444444,
              "#bd3786"
             ],
             [
              0.5555555555555556,
              "#d8576b"
             ],
             [
              0.6666666666666666,
              "#ed7953"
             ],
             [
              0.7777777777777778,
              "#fb9f3a"
             ],
             [
              0.8888888888888888,
              "#fdca26"
             ],
             [
              1,
              "#f0f921"
             ]
            ],
            "type": "histogram2d"
           }
          ],
          "histogram2dcontour": [
           {
            "colorbar": {
             "outlinewidth": 0,
             "ticks": ""
            },
            "colorscale": [
             [
              0,
              "#0d0887"
             ],
             [
              0.1111111111111111,
              "#46039f"
             ],
             [
              0.2222222222222222,
              "#7201a8"
             ],
             [
              0.3333333333333333,
              "#9c179e"
             ],
             [
              0.4444444444444444,
              "#bd3786"
             ],
             [
              0.5555555555555556,
              "#d8576b"
             ],
             [
              0.6666666666666666,
              "#ed7953"
             ],
             [
              0.7777777777777778,
              "#fb9f3a"
             ],
             [
              0.8888888888888888,
              "#fdca26"
             ],
             [
              1,
              "#f0f921"
             ]
            ],
            "type": "histogram2dcontour"
           }
          ],
          "mesh3d": [
           {
            "colorbar": {
             "outlinewidth": 0,
             "ticks": ""
            },
            "type": "mesh3d"
           }
          ],
          "parcoords": [
           {
            "line": {
             "colorbar": {
              "outlinewidth": 0,
              "ticks": ""
             }
            },
            "type": "parcoords"
           }
          ],
          "pie": [
           {
            "automargin": true,
            "type": "pie"
           }
          ],
          "scatter": [
           {
            "fillpattern": {
             "fillmode": "overlay",
             "size": 10,
             "solidity": 0.2
            },
            "type": "scatter"
           }
          ],
          "scatter3d": [
           {
            "line": {
             "colorbar": {
              "outlinewidth": 0,
              "ticks": ""
             }
            },
            "marker": {
             "colorbar": {
              "outlinewidth": 0,
              "ticks": ""
             }
            },
            "type": "scatter3d"
           }
          ],
          "scattercarpet": [
           {
            "marker": {
             "colorbar": {
              "outlinewidth": 0,
              "ticks": ""
             }
            },
            "type": "scattercarpet"
           }
          ],
          "scattergeo": [
           {
            "marker": {
             "colorbar": {
              "outlinewidth": 0,
              "ticks": ""
             }
            },
            "type": "scattergeo"
           }
          ],
          "scattergl": [
           {
            "marker": {
             "colorbar": {
              "outlinewidth": 0,
              "ticks": ""
             }
            },
            "type": "scattergl"
           }
          ],
          "scattermapbox": [
           {
            "marker": {
             "colorbar": {
              "outlinewidth": 0,
              "ticks": ""
             }
            },
            "type": "scattermapbox"
           }
          ],
          "scatterpolar": [
           {
            "marker": {
             "colorbar": {
              "outlinewidth": 0,
              "ticks": ""
             }
            },
            "type": "scatterpolar"
           }
          ],
          "scatterpolargl": [
           {
            "marker": {
             "colorbar": {
              "outlinewidth": 0,
              "ticks": ""
             }
            },
            "type": "scatterpolargl"
           }
          ],
          "scatterternary": [
           {
            "marker": {
             "colorbar": {
              "outlinewidth": 0,
              "ticks": ""
             }
            },
            "type": "scatterternary"
           }
          ],
          "surface": [
           {
            "colorbar": {
             "outlinewidth": 0,
             "ticks": ""
            },
            "colorscale": [
             [
              0,
              "#0d0887"
             ],
             [
              0.1111111111111111,
              "#46039f"
             ],
             [
              0.2222222222222222,
              "#7201a8"
             ],
             [
              0.3333333333333333,
              "#9c179e"
             ],
             [
              0.4444444444444444,
              "#bd3786"
             ],
             [
              0.5555555555555556,
              "#d8576b"
             ],
             [
              0.6666666666666666,
              "#ed7953"
             ],
             [
              0.7777777777777778,
              "#fb9f3a"
             ],
             [
              0.8888888888888888,
              "#fdca26"
             ],
             [
              1,
              "#f0f921"
             ]
            ],
            "type": "surface"
           }
          ],
          "table": [
           {
            "cells": {
             "fill": {
              "color": "#EBF0F8"
             },
             "line": {
              "color": "white"
             }
            },
            "header": {
             "fill": {
              "color": "#C8D4E3"
             },
             "line": {
              "color": "white"
             }
            },
            "type": "table"
           }
          ]
         },
         "layout": {
          "annotationdefaults": {
           "arrowcolor": "#2a3f5f",
           "arrowhead": 0,
           "arrowwidth": 1
          },
          "autotypenumbers": "strict",
          "coloraxis": {
           "colorbar": {
            "outlinewidth": 0,
            "ticks": ""
           }
          },
          "colorscale": {
           "diverging": [
            [
             0,
             "#8e0152"
            ],
            [
             0.1,
             "#c51b7d"
            ],
            [
             0.2,
             "#de77ae"
            ],
            [
             0.3,
             "#f1b6da"
            ],
            [
             0.4,
             "#fde0ef"
            ],
            [
             0.5,
             "#f7f7f7"
            ],
            [
             0.6,
             "#e6f5d0"
            ],
            [
             0.7,
             "#b8e186"
            ],
            [
             0.8,
             "#7fbc41"
            ],
            [
             0.9,
             "#4d9221"
            ],
            [
             1,
             "#276419"
            ]
           ],
           "sequential": [
            [
             0,
             "#0d0887"
            ],
            [
             0.1111111111111111,
             "#46039f"
            ],
            [
             0.2222222222222222,
             "#7201a8"
            ],
            [
             0.3333333333333333,
             "#9c179e"
            ],
            [
             0.4444444444444444,
             "#bd3786"
            ],
            [
             0.5555555555555556,
             "#d8576b"
            ],
            [
             0.6666666666666666,
             "#ed7953"
            ],
            [
             0.7777777777777778,
             "#fb9f3a"
            ],
            [
             0.8888888888888888,
             "#fdca26"
            ],
            [
             1,
             "#f0f921"
            ]
           ],
           "sequentialminus": [
            [
             0,
             "#0d0887"
            ],
            [
             0.1111111111111111,
             "#46039f"
            ],
            [
             0.2222222222222222,
             "#7201a8"
            ],
            [
             0.3333333333333333,
             "#9c179e"
            ],
            [
             0.4444444444444444,
             "#bd3786"
            ],
            [
             0.5555555555555556,
             "#d8576b"
            ],
            [
             0.6666666666666666,
             "#ed7953"
            ],
            [
             0.7777777777777778,
             "#fb9f3a"
            ],
            [
             0.8888888888888888,
             "#fdca26"
            ],
            [
             1,
             "#f0f921"
            ]
           ]
          },
          "colorway": [
           "#636efa",
           "#EF553B",
           "#00cc96",
           "#ab63fa",
           "#FFA15A",
           "#19d3f3",
           "#FF6692",
           "#B6E880",
           "#FF97FF",
           "#FECB52"
          ],
          "font": {
           "color": "#2a3f5f"
          },
          "geo": {
           "bgcolor": "white",
           "lakecolor": "white",
           "landcolor": "#E5ECF6",
           "showlakes": true,
           "showland": true,
           "subunitcolor": "white"
          },
          "hoverlabel": {
           "align": "left"
          },
          "hovermode": "closest",
          "mapbox": {
           "style": "light"
          },
          "paper_bgcolor": "white",
          "plot_bgcolor": "#E5ECF6",
          "polar": {
           "angularaxis": {
            "gridcolor": "white",
            "linecolor": "white",
            "ticks": ""
           },
           "bgcolor": "#E5ECF6",
           "radialaxis": {
            "gridcolor": "white",
            "linecolor": "white",
            "ticks": ""
           }
          },
          "scene": {
           "xaxis": {
            "backgroundcolor": "#E5ECF6",
            "gridcolor": "white",
            "gridwidth": 2,
            "linecolor": "white",
            "showbackground": true,
            "ticks": "",
            "zerolinecolor": "white"
           },
           "yaxis": {
            "backgroundcolor": "#E5ECF6",
            "gridcolor": "white",
            "gridwidth": 2,
            "linecolor": "white",
            "showbackground": true,
            "ticks": "",
            "zerolinecolor": "white"
           },
           "zaxis": {
            "backgroundcolor": "#E5ECF6",
            "gridcolor": "white",
            "gridwidth": 2,
            "linecolor": "white",
            "showbackground": true,
            "ticks": "",
            "zerolinecolor": "white"
           }
          },
          "shapedefaults": {
           "line": {
            "color": "#2a3f5f"
           }
          },
          "ternary": {
           "aaxis": {
            "gridcolor": "white",
            "linecolor": "white",
            "ticks": ""
           },
           "baxis": {
            "gridcolor": "white",
            "linecolor": "white",
            "ticks": ""
           },
           "bgcolor": "#E5ECF6",
           "caxis": {
            "gridcolor": "white",
            "linecolor": "white",
            "ticks": ""
           }
          },
          "title": {
           "x": 0.05
          },
          "xaxis": {
           "automargin": true,
           "gridcolor": "white",
           "linecolor": "white",
           "ticks": "",
           "title": {
            "standoff": 15
           },
           "zerolinecolor": "white",
           "zerolinewidth": 2
          },
          "yaxis": {
           "automargin": true,
           "gridcolor": "white",
           "linecolor": "white",
           "ticks": "",
           "title": {
            "standoff": 15
           },
           "zerolinecolor": "white",
           "zerolinewidth": 2
          }
         }
        },
        "xaxis": {
         "anchor": "y",
         "domain": [
          0,
          1
         ],
         "title": {
          "text": "ranking_scratch"
         }
        },
        "yaxis": {
         "anchor": "x",
         "domain": [
          0,
          1
         ],
         "title": {
          "text": "diffToFirst"
         }
        }
       }
      },
      "text/html": [
       "<div>                            <div id=\"f9f46708-cbda-4cf7-8c53-5174745f9e6c\" class=\"plotly-graph-div\" style=\"height:525px; width:100%;\"></div>            <script type=\"text/javascript\">                require([\"plotly\"], function(Plotly) {                    window.PLOTLYENV=window.PLOTLYENV || {};                                    if (document.getElementById(\"f9f46708-cbda-4cf7-8c53-5174745f9e6c\")) {                    Plotly.newPlot(                        \"f9f46708-cbda-4cf7-8c53-5174745f9e6c\",                        [{\"hovertemplate\":\"ranking_scratch=%{x}<br>diffToFirst=%{y}<extra></extra>\",\"legendgroup\":\"\",\"line\":{\"color\":\"#636efa\",\"dash\":\"solid\"},\"marker\":{\"symbol\":\"circle\"},\"mode\":\"lines\",\"name\":\"\",\"showlegend\":false,\"x\":[1,2,3,4,5,6,7,8,9,10,11,12,13,14,15,16,17,18,19,20,21,22,23,24,25,26,27,28,29,30,31,32,33,34,35,36,37,38,39,40,41,42,43,44,45,46,47,48,49,50,51,52,53,54,55,56,57,58,59,60,61,62,63,64,65,66,66,68,69,70,71,72,73,74,75,76,77,78,79,80,81,82,83,84,85,86,87,88,89,90,91,92,93,94,95,96,97,98,99,100,101,102,103,103,105,106,107,108,109,110,111,112,113,114,115,116,117,118,119,120,121,122,123,124,125,126,127,128,129,130,131,132,133,134,135,136,137,138,139,139,141,142,143,144,145,146,147,148,149,150,151,152,153,154,155,156,157,158,159,160,161,162,163,164,165,166,167,168,169,170,171,172,173,174,175,175,177,178,179,180,181,182,183,184,185,186,187,188,189,190,191,192,193,194,195,196,197,198,199,200,201,202,203,204,205,206,207,208,209,210,211,212,213,214,215,216,217,218,219,220,221,222,223,224,225,226,227,228,229,230,231,232,233,234,235,236,237,238,239,240,241,242,243,244,245,246,247,248,249,250,251,252,253,254,255,256,257,258,259,260,261,262,263,264,265,266,267,268,269,270,271,272,273,274,275,276,277,278,279,280,281,282,283,284,285,286,287,288,289,290,290,292,293,294,295,296,297,298,299,300,301,301,303,304,305,306,307,308,309,310,310,312,313,314,315,316,317,318,319,320,321,322,323,324,325,326,327,328,329,330,331,332,333,334,335,335,337,338,339,340,341,342,343,344,345,346,347,348,349,350,351,352,353,354,355,356,357,358,359,360,361,362,363,364,365,366,367,368,369,370,371,372,373,374,375,376,377,378,379,380,381,382,383,384,385,386,387,388,389,390,391,392,393,394,395,396,397,398,399,399,401,402,403,404,405,406,407,408,409,410,411,412,413,414,415,416,417,418,419,420,421,422,423,424,425,426,427,428,429,430,431,432,433,434,435,436,437,438,439,440,441,442,443,444,445,446,447,448,449,450,451,452,453,454,455,456,457,458,459,460,461,462,463,464,465,466,467,468,469,470,471,472,473,474,475,476,477,478,479,480,481,482,483,484,485,486,487,488,489,490,491,492,493,494,495,496,497,498,499,500,501,502,503,504,505,506,507,508,509,510,511,512,513,514,515,516,517,518,519,519,521,522,523,524,524,526,527,528,529,530,531,532,533,534,535,536,537,538,539,539,541,542,543,544,545,546,547,548,549,550,551,552,553,554,555,556,557,558,559,560,561,562,563,564,565,566,567,568,569,570,571,572,573,574,575,576,577,578,578,580,581,582,583,584,585,586,587,588,589,590,591,592,593,594,595,596,597,598,599,600,601,602,603,604,605,606,607,608,609,610,611,612,613,614,615,616,617,618,619,620,621,622,623,624,625,626,627,628,629,630,631,632,633,634,635,636,637,638,639,640,641,642,643,644,645,646,647,648,649,650,651,652,653,654,655,656,657,658,659,660,661,662,663,664,665,666,667,668,669,670,671,672,673,674,675,676,677,678,679,680,681,682,683,684,685,686,687,688,689,690,691,692,693,694,695,696,697,698,699,700,701,702,703,704,705,706,707,708,709,710,711,712,713,714,715,716,717,718,719,720,721,722,722,724,725,726,727,728,729,730,731,732,733,734,735,736,736,738,739,740,741,742,743,744,745,746,747,748,749,750,751,752,753,754,755,756,757,758,759,760,761,762,763,764,765,766,767,768,769,770,771,772,773,774,775,776,777,778,779,780,781,782,783,784,785,786,787,788,789,790,791,792,793,794,795,796,797,798,799,800,801,802,803,804,805,806,807,808,809,810,811,812,813,814,815,816,817,818,819,820,821,822,823,824,825,826,827,828,829,830,831,832,833,834,835,836,837,838,839,840,841,842,843,844,845,846,847,848,849,850,851,852,853,854,855,856,857,858,859,860,861,862,863,864,865,866,867,868,869,870,871,872,873,874,875,876,877,878,879,880,881,882,883,884,885,886,887,888,889,890,891,892,893,894,895,896,897,898,899,900,901,902,903,904,905,906,907,908,909,910,911,912,913,914,915,916,917,918,919,920,921,922,923,924,925,926,927,928,929,930,931,932,933,934,935,936,936,938,939,940,941,942,943,944,944,946,947,948,949,950,951,952,953,954,955,956,957,958,959,960,961,962,963,964,965,965,967,968,969,970,971,971,973,974,975,976,977,977,979,980,981,982,982,984,985,986,987,987,989,990,991,992,993,994,995,996,997,998,998,1000,1000,1002,1003,1004,1005,1006,1007,1008,1009,1010,1011,1012,1013,1014,1015,1016,1017,1018,1019,1020,1021,1022,1023,1024,1025,1026,1027,1028,1029,1030,1031,1032,1033,1034,1035,1036,1037,1038,1039,1040,1041,1042,1043,1044,1045,1046,1047,1048,1049,1050,1051,1052,1053,1054,1055,1056,1057,1058,1059,1060,1061,1062,1063,1064,1064,1066,1067,1067,1069,1070,1071,1072,1073,1074,1075,1076,1077,1078,1079,1080,1081,1082,1083,1084,1085,1085,1087,1088,1089,1090,1091,1092,1093,1094,1095,1096,1097,1098,1099,1100,1101,1102,1103,1104,1105,1105,1107,1108,1109,1110,1110,1112,1113,1114,1115,1116,1117,1118,1119,1120,1121,1122,1123,1124,1125,1126,1127,1128,1129,1130,1131,1132,1132,1134,1135,1136,1137,1138,1139,1140,1141,1142,1143,1144,1145,1146,1147,1148,1149,1150,1151,1152,1153,1154,1155,1156,1157,1158,1159,1160,1161,1162,1163,1164,1165,1166,1167,1168,1169,1170,1171,1172,1173,1174,1175,1176,1177,1177,1179,1180,1181,1182,1183,1184,1185,1186,1187,1188,1189,1190,1191,1192,1193,1194,1195,1196,1197,1198,1199,1200,1201,1202,1203,1204,1205,1206,1207,1208,1209,1210,1211,1212,1213,1214,1215,1216,1217,1218,1219,1220,1221,1222,1223,1224,1224,1226,1227,1228,1229,1230,1230,1232,1233,1234,1235,1236,1237,1238,1239,1240,1240,1242,1243,1244,1245,1246,1247,1248,1249,1250,1251,1252,1253,1254,1255,1256,1257,1258,1259,1260,1261,1262,1263,1264,1265,1266,1267,1268,1269,1270,1271,1272,1273,1274,1275,1276,1277,1278,1279,1280,1281,1282,1283,1284,1285,1286,1287,1287,1289,1290,1291,1292,1293,1294,1295,1296,1297,1298,1299,1300,1301,1302,1303,1304,1305,1306,1307,1308,1308,1310,1311,1312,1313,1314,1315,1316,1317,1318,1319,1320,1321,1322,1323,1324,1325,1326,1327,1328,1329,1330,1331,1332,1333,1334,1335,1336,1337,1338,1339,1340,1341,1342,1343,1344,1345,1346,1347,1348,1349,1349,1351,1352,1353,1354,1355,1356,1357,1358,1359,1360,1361,1362,1363,1364,1365,1366,1366,1368,1368,1370,1371,1372,1373,1374,1375,1376,1377,1378,1378,1378,1381,1382,1383,1384,1385,1386,1387,1388,1389,1390,1391,1392,1393,1394,1395,1395,1397,1398,1399,1400,1401,1402,1403,1404,1405,1406,1407,1408,1409,1410,1411,1412,1413,1414,1415,1416,1417,1418,1419,1420,1421,1422,1423,1424,1425,1426,1427,1428,1429,1430,1431,1432,1433,1434,1435,1436,1437,1438,1439,1439,1441,1442,1443,1444,1445,1446,1447,1447,1449,1450,1451,1452,1453,1454,1455,1456,1457,1458,1459,1460,1461,1462,1463,1464,1465,1466,1467,1468,1469,1470,1471,1472,1473,1474,1475,1476,1477,1478,1479,1480,1481,1482,1483,1484,1485,1486,1487,1488,1489,1490,1491,1492,1493,1494,1495,1496,1496,1498,1499,1500,1501,1502,1503,1504,1505,1506,1507,1508,1509,1510,1511,1512,1513,1514,1515,1516,1517,1517,1519,1520,1521,1522,1523,1524,1525,1526,1526,1528,1529,1530,1531,1532,1533,1533,1535,1536,1537,1538,1539,1540,1540,1542,1543,1544,1545,1546,1547,1548,1549,1550,1551,1552,1553,1554,1554,1556,1557,1558,1559,1560,1561,1562,1563,1564,1565,1566,1567,1568,1569,1570,1570,1572,1572,1574,1575,1576,1577,1577,1579,1580,1581,1582,1583,1584,1585,1585,1585,1588,1589,1590,1591,1592,1593,1594,1595,1596,1597,1598,1599,1600,1601,1602,1603,1604,1605,1605,1607,1608,1609,1610,1611,1611,1613,1613,1615,1616,1617,1618,1618,1620,1620,1622,1623,1624,1625,1626,1627,1628,1629,1630,1631,1632,1633,1634,1635,1636,1637,1638,1639,1640,1641,1642,1642,1644,1645,1646,1647,1648,1649,1650,1651,1652,1653,1654,1655,1656,1657,1658,1658,1660,1661,1662,1663,1664,1665,1666,1667,1668,1669,1670,1671,1672,1673,1674,1675,1676,1677,1678,1679,1680,1681,1682,1683,1684,1685,1686,1687,1688,1689,1690,1691,1692,1693,1694,1695,1696,1697,1698,1699,1699,1701,1702,1703,1704,1704,1706,1707,1708,1709,1710,1711,1712,1713,1714,1715,1716,1717,1718,1719,1720,1721,1722,1723,1724,1725,1726,1727,1727,1729,1730,1731,1732,1733,1734,1735,1736,1737,1738,1739,1740,1741,1742,1743,1744,1745,1746,1747,1748,1749,1750,1751,1752,1753,1754,1755,1756,1757,1758,1759,1760,1761,1762,1763,1764,1765,1766,1767,1767,1769,1770,1771,1772,1773,1774,1775,1776,1777,1778,1779,1780,1781,1782,1783,1784,1785,1786,1787,1788,1789],\"xaxis\":\"x\",\"y\":[0,320000000000,2705000000000,4962000000000,5900000000000,5924000000000,6375000000000,7006000000000,8308000000000,8389000000000,9298000000000,9423000000000,9489000000000,10000000000000,10235000000000,10950000000000,11095000000000,11160000000000,11652000000000,11709000000000,12133000000000,12342000000000,13144000000000,13384000000000,13556000000000,13721000000000,13993000000000,14104000000000,14154000000000,14733000000000,14931000000000,15276000000000,15297000000000,15354000000000,15813000000000,15942000000000,16024000000000,16293000000000,16762000000000,16912000000000,17403000000000,17418000000000,17489000000000,17996000000000,18113000000000,18460000000000,19094000000000,19111000000000,19235000000000,19317000000000,19701000000000,19962000000000,20257000000000,20489000000000,21688000000000,22230000000000,22629000000000,22752000000000,23026000000000,23068000000000,24156000000000,24189000000000,24228000000000,24246000000000,24268000000000,24458000000000,24458000000000,24540000000000,24727000000000,25123000000000,25168000000000,25353000000000,26266000000000,26680000000000,26691000000000,26847000000000,26899000000000,27205000000000,27334000000000,27537000000000,27609000000000,27736000000000,27764000000000,28024000000000,28146000000000,28158000000000,28267000000000,28456000000000,28528000000000,28838000000000,28947000000000,29496000000000,29522000000000,29564000000000,30233000000000,30279000000000,30359000000000,30421000000000,30712000000000,30728000000000,31127000000000,31186000000000,31241000000000,31241000000000,31282000000000,31295000000000,31532000000000,31568000000000,31611000000000,31652000000000,31857000000000,31922000000000,32010000000000,32068000000000,32127000000000,32142000000000,32252000000000,32321000000000,32362000000000,32416000000000,32487000000000,32703000000000,32868000000000,33032000000000,33107000000000,33336000000000,33342000000000,33351000000000,33364000000000,33550000000000,33600000000000,33613000000000,33641000000000,33654000000000,33701000000000,34090000000000,34120000000000,34207000000000,34261000000000,34261000000000,34384000000000,34504000000000,34754000000000,34784000000000,34824000000000,34933000000000,34947000000000,35092000000000,35114000000000,35192000000000,35387000000000,35610000000000,35652000000000,35739000000000,35873000000000,35927000000000,36026000000000,36101000000000,36283000000000,36291000000000,36645000000000,36708000000000,36763000000000,36825000000000,36970000000000,36986000000000,37225000000000,37280000000000,37323000000000,37350000000000,37431000000000,37477000000000,37906000000000,38061000000000,38110000000000,38110000000000,38128000000000,38189000000000,38327000000000,38345000000000,38599000000000,38693000000000,38743000000000,38803000000000,38829000000000,38889000000000,38968000000000,39007000000000,39165000000000,39270000000000,39444000000000,39480000000000,39518000000000,39842000000000,39851000000000,39869000000000,39898000000000,40123000000000,40186000000000,40467000000000,40751000000000,40778000000000,40851000000000,40857000000000,40989000000000,41065000000000,41158000000000,41264000000000,41414000000000,41425000000000,41536000000000,41604000000000,41679000000000,41736000000000,41751000000000,41762000000000,41830000000000,41841000000000,41892000000000,41906000000000,42028000000000,42111000000000,42149000000000,42176000000000,42227000000000,42250000000000,42325000000000,42330000000000,42393000000000,42446000000000,42595000000000,42604000000000,42606000000000,42624000000000,42650000000000,42836000000000,42907000000000,42920000000000,42994000000000,43084000000000,43112000000000,43127000000000,43215000000000,43216000000000,43222000000000,43338000000000,43341000000000,43622000000000,43631000000000,43711000000000,44066000000000,44178000000000,44191000000000,44249000000000,44250000000000,44297000000000,44304000000000,44537000000000,44556000000000,44566000000000,44585000000000,44644000000000,44704000000000,44720000000000,44758000000000,44764000000000,44800000000000,44845000000000,44954000000000,45241000000000,45361000000000,45362000000000,45395000000000,45416000000000,45478000000000,45528000000000,45636000000000,45663000000000,45699000000000,45706000000000,45714000000000,45728000000000,45735000000000,46059000000000,46192000000000,46351000000000,46505000000000,46519000000000,46613000000000,46884000000000,46884000000000,46936000000000,46963000000000,47269000000000,47326000000000,47340000000000,47457000000000,47494000000000,47556000000000,47598000000000,47832000000000,47832000000000,47968000000000,48015000000000,48107000000000,48132000000000,48149000000000,48194000000000,48359000000000,48379000000000,48379000000000,48670000000000,48672000000000,48714000000000,48826000000000,48846000000000,48935000000000,48972000000000,49092000000000,49207000000000,49345000000000,49430000000000,49461000000000,49505000000000,49555000000000,49619000000000,49664000000000,49692000000000,49743000000000,49762000000000,49798000000000,49813000000000,49833000000000,49860000000000,49865000000000,49865000000000,49867000000000,49976000000000,50018000000000,50019000000000,50025000000000,50119000000000,50156000000000,50235000000000,50365000000000,50388000000000,50432000000000,50448000000000,50561000000000,50804000000000,50859000000000,50862000000000,50946000000000,51016000000000,51074000000000,51209000000000,51227000000000,51257000000000,51413000000000,51426000000000,51644000000000,51684000000000,51707000000000,51756000000000,51823000000000,51891000000000,51904000000000,51926000000000,51927000000000,51973000000000,52027000000000,52132000000000,52142000000000,52178000000000,52179000000000,52190000000000,52243000000000,52315000000000,52356000000000,52392000000000,52523000000000,52538000000000,52626000000000,52651000000000,52785000000000,53062000000000,53103000000000,53111000000000,53120000000000,53141000000000,53169000000000,53230000000000,53235000000000,53315000000000,53363000000000,53451000000000,53616000000000,53660000000000,53898000000000,53898000000000,53958000000000,54154000000000,54246000000000,54293000000000,54318000000000,54372000000000,54424000000000,54448000000000,54461000000000,54477000000000,54504000000000,54515000000000,54549000000000,54606000000000,54607000000000,54616000000000,54617000000000,54626000000000,54657000000000,54690000000000,54697000000000,54714000000000,54742000000000,54761000000000,54762000000000,54774000000000,54817000000000,54858000000000,54965000000000,55148000000000,55160000000000,55174000000000,55175000000000,55179000000000,55189000000000,55227000000000,55257000000000,55344000000000,55390000000000,55524000000000,55531000000000,55537000000000,55547000000000,55690000000000,55692000000000,55923000000000,55948000000000,55983000000000,56010000000000,56018000000000,56042000000000,56070000000000,56165000000000,56205000000000,56372000000000,56545000000000,56568000000000,56570000000000,56634000000000,56670000000000,56689000000000,56743000000000,56775000000000,56808000000000,56849000000000,57045000000000,57145000000000,57222000000000,57223000000000,57235000000000,57270000000000,57277000000000,57287000000000,57310000000000,57468000000000,57559000000000,57607000000000,57636000000000,57681000000000,57756000000000,57758000000000,57852000000000,57914000000000,57960000000000,57970000000000,57998000000000,58016000000000,58061000000000,58095000000000,58161000000000,58217000000000,58236000000000,58322000000000,58473000000000,58518000000000,58697000000000,58851000000000,58864000000000,58972000000000,59233000000000,59235000000000,59304000000000,59338000000000,59362000000000,59384000000000,59476000000000,59671000000000,59687000000000,59747000000000,59774000000000,59891000000000,59924000000000,59927000000000,59932000000000,59959000000000,59987000000000,60105000000000,60192000000000,60249000000000,60249000000000,60305000000000,60329000000000,60497000000000,60572000000000,60572000000000,60602000000000,60649000000000,60704000000000,60725000000000,60788000000000,61074000000000,61084000000000,61130000000000,61186000000000,61189000000000,61237000000000,61242000000000,61250000000000,61263000000000,61263000000000,61440000000000,61458000000000,61539000000000,61653000000000,61731000000000,61739000000000,61959000000000,62019000000000,62112000000000,62129000000000,62260000000000,62312000000000,62320000000000,62333000000000,62346000000000,62348000000000,62367000000000,62372000000000,62540000000000,62544000000000,62571000000000,62581000000000,62611000000000,62632000000000,62660000000000,62681000000000,62713000000000,62846000000000,62853000000000,62859000000000,62866000000000,62891000000000,62982000000000,63019000000000,63033000000000,63125000000000,63227000000000,63267000000000,63267000000000,63284000000000,63354000000000,63442000000000,63487000000000,63567000000000,63580000000000,63611000000000,63612000000000,63767000000000,63775000000000,63816000000000,63888000000000,64013000000000,64033000000000,64048000000000,64049000000000,64055000000000,64089000000000,64109000000000,64128000000000,64149000000000,64209000000000,64211000000000,64257000000000,64280000000000,64281000000000,64298000000000,64317000000000,64352000000000,64359000000000,64361000000000,64422000000000,64426000000000,64468000000000,64472000000000,64503000000000,64514000000000,64606000000000,64653000000000,64656000000000,64700000000000,64711000000000,64794000000000,64819000000000,64874000000000,64875000000000,64881000000000,64931000000000,65209000000000,65216000000000,65364000000000,65428000000000,65447000000000,65533000000000,65554000000000,65577000000000,65640000000000,65750000000000,65754000000000,65789000000000,65790000000000,65794000000000,65796000000000,65799000000000,65804000000000,65810000000000,65812000000000,65861000000000,65893000000000,65900000000000,66007000000000,66008000000000,66042000000000,66062000000000,66076000000000,66100000000000,66112000000000,66133000000000,66182000000000,66210000000000,66217000000000,66258000000000,66269000000000,66285000000000,66376000000000,66430000000000,66438000000000,66458000000000,66481000000000,66506000000000,66515000000000,66528000000000,66568000000000,66572000000000,66580000000000,66601000000000,66645000000000,66664000000000,66681000000000,66692000000000,66746000000000,66753000000000,66754000000000,66833000000000,66834000000000,66843000000000,66851000000000,66855000000000,66859000000000,66878000000000,67013000000000,67016000000000,67054000000000,67066000000000,67070000000000,67098000000000,67134000000000,67171000000000,67311000000000,67319000000000,67394000000000,67400000000000,67446000000000,67503000000000,67544000000000,67566000000000,67567000000000,67605000000000,67684000000000,67719000000000,67724000000000,67829000000000,67867000000000,67887000000000,67933000000000,67977000000000,68023000000000,68024000000000,68149000000000,68196000000000,68203000000000,68249000000000,68312000000000,68312000000000,68313000000000,68356000000000,68361000000000,68367000000000,68373000000000,68399000000000,68424000000000,68425000000000,68455000000000,68472000000000,68532000000000,68542000000000,68585000000000,68585000000000,68608000000000,68609000000000,68672000000000,68732000000000,68760000000000,68789000000000,68913000000000,68935000000000,68976000000000,69028000000000,69068000000000,69073000000000,69090000000000,69179000000000,69185000000000,69191000000000,69247000000000,69289000000000,69292000000000,69303000000000,69343000000000,69344000000000,69382000000000,69391000000000,69430000000000,69450000000000,69460000000000,69521000000000,69540000000000,69745000000000,69808000000000,69824000000000,69834000000000,69838000000000,69850000000000,69938000000000,69953000000000,69960000000000,70018000000000,70059000000000,70060000000000,70064000000000,70080000000000,70087000000000,70162000000000,70190000000000,70193000000000,70209000000000,70222000000000,70326000000000,70338000000000,70345000000000,70602000000000,70656000000000,70666000000000,70677000000000,70708000000000,70753000000000,70757000000000,70793000000000,70833000000000,70844000000000,70845000000000,70877000000000,70903000000000,70914000000000,70929000000000,70941000000000,70950000000000,70958000000000,70977000000000,71016000000000,71062000000000,71064000000000,71081000000000,71114000000000,71133000000000,71147000000000,71186000000000,71190000000000,71197000000000,71234000000000,71245000000000,71267000000000,71288000000000,71306000000000,71307000000000,71337000000000,71349000000000,71394000000000,71398000000000,71432000000000,71502000000000,71525000000000,71537000000000,71547000000000,71548000000000,71552000000000,71602000000000,71622000000000,71625000000000,71714000000000,71717000000000,71771000000000,71778000000000,71795000000000,71848000000000,71947000000000,72007000000000,72011000000000,72071000000000,72082000000000,72086000000000,72105000000000,72116000000000,72146000000000,72170000000000,72209000000000,72234000000000,72334000000000,72374000000000,72398000000000,72406000000000,72413000000000,72416000000000,72419000000000,72424000000000,72438000000000,72452000000000,72455000000000,72537000000000,72544000000000,72555000000000,72562000000000,72579000000000,72612000000000,72624000000000,72671000000000,72672000000000,72682000000000,72726000000000,72735000000000,72791000000000,72822000000000,72871000000000,73111000000000,73178000000000,73200000000000,73235000000000,73319000000000,73329000000000,73360000000000,73367000000000,73375000000000,73386000000000,73387000000000,73396000000000,73427000000000,73474000000000,73479000000000,73502000000000,73585000000000,73607000000000,73611000000000,73673000000000,73674000000000,73723000000000,73777000000000,73788000000000,73789000000000,73792000000000,73812000000000,73834000000000,73846000000000,73849000000000,73920000000000,73957000000000,73961000000000,74074000000000,74132000000000,74134000000000,74183000000000,74184000000000,74202000000000,74275000000000,74298000000000,74312000000000,74318000000000,74338000000000,74374000000000,74384000000000,74396000000000,74441000000000,74480000000000,74482000000000,74493000000000,74566000000000,74583000000000,74590000000000,74590000000000,74646000000000,74777000000000,74784000000000,74812000000000,74949000000000,75006000000000,75057000000000,75057000000000,75064000000000,75069000000000,75072000000000,75076000000000,75094000000000,75115000000000,75160000000000,75246000000000,75268000000000,75276000000000,75278000000000,75304000000000,75313000000000,75366000000000,75372000000000,75464000000000,75474000000000,75483000000000,75495000000000,75541000000000,75541000000000,75550000000000,75579000000000,75621000000000,75639000000000,75693000000000,75693000000000,75702000000000,75766000000000,75859000000000,75862000000000,75946000000000,75946000000000,75952000000000,75959000000000,76082000000000,76091000000000,76091000000000,76097000000000,76259000000000,76302000000000,76315000000000,76315000000000,76322000000000,76330000000000,76342000000000,76345000000000,76390000000000,76412000000000,76426000000000,76475000000000,76493000000000,76516000000000,76516000000000,76571000000000,76571000000000,76577000000000,76581000000000,76589000000000,76597000000000,76603000000000,76666000000000,76722000000000,76791000000000,76807000000000,76866000000000,76877000000000,76894000000000,76982000000000,76983000000000,76984000000000,77013000000000,77085000000000,77101000000000,77191000000000,77255000000000,77256000000000,77269000000000,77281000000000,77286000000000,77320000000000,77333000000000,77351000000000,77374000000000,77419000000000,77432000000000,77451000000000,77452000000000,77487000000000,77531000000000,77548000000000,77559000000000,77565000000000,77577000000000,77630000000000,77698000000000,77723000000000,77749000000000,77788000000000,77790000000000,77795000000000,77796000000000,77798000000000,77802000000000,77870000000000,77966000000000,77972000000000,77996000000000,78020000000000,78085000000000,78116000000000,78130000000000,78143000000000,78155000000000,78280000000000,78284000000000,78311000000000,78347000000000,78352000000000,78352000000000,78397000000000,78398000000000,78398000000000,78404000000000,78413000000000,78451000000000,78462000000000,78486000000000,78508000000000,78514000000000,78605000000000,78630000000000,78636000000000,78639000000000,78667000000000,78722000000000,78747000000000,78769000000000,78786000000000,78806000000000,78806000000000,78854000000000,78869000000000,78906000000000,78952000000000,78980000000000,78993000000000,79044000000000,79055000000000,79104000000000,79120000000000,79149000000000,79152000000000,79196000000000,79199000000000,79227000000000,79230000000000,79235000000000,79239000000000,79244000000000,79244000000000,79262000000000,79275000000000,79289000000000,79339000000000,79339000000000,79340000000000,79352000000000,79355000000000,79360000000000,79364000000000,79366000000000,79407000000000,79432000000000,79448000000000,79466000000000,79477000000000,79484000000000,79494000000000,79503000000000,79565000000000,79614000000000,79632000000000,79698000000000,79718000000000,79752000000000,79778000000000,79778000000000,79784000000000,79793000000000,79862000000000,79888000000000,79925000000000,80073000000000,80144000000000,80165000000000,80189000000000,80206000000000,80214000000000,80221000000000,80268000000000,80288000000000,80322000000000,80342000000000,80389000000000,80413000000000,80538000000000,80540000000000,80561000000000,80608000000000,80642000000000,80643000000000,80668000000000,80689000000000,80697000000000,80741000000000,80808000000000,80842000000000,80867000000000,80875000000000,80898000000000,80990000000000,80997000000000,81255000000000,81262000000000,81288000000000,81294000000000,81322000000000,81328000000000,81348000000000,81396000000000,81405000000000,81405000000000,81442000000000,81487000000000,81497000000000,81510000000000,81513000000000,81540000000000,81651000000000,81661000000000,81703000000000,81711000000000,81759000000000,81827000000000,81833000000000,81860000000000,81888000000000,81964000000000,82050000000000,82088000000000,82105000000000,82121000000000,82163000000000,82193000000000,82201000000000,82212000000000,82254000000000,82261000000000,82360000000000,82427000000000,82481000000000,82506000000000,82534000000000,82605000000000,82651000000000,82711000000000,82791000000000,82801000000000,82824000000000,82839000000000,82909000000000,82911000000000,82912000000000,83078000000000,83092000000000,83123000000000,83141000000000,83161000000000,83161000000000,83168000000000,83220000000000,83246000000000,83251000000000,83285000000000,83285000000000,83315000000000,83366000000000,83411000000000,83447000000000,83448000000000,83610000000000,83669000000000,83733000000000,83742000000000,83742000000000,83805000000000,83823000000000,83904000000000,83905000000000,83935000000000,83975000000000,83985000000000,84029000000000,84081000000000,84103000000000,84123000000000,84124000000000,84128000000000,84247000000000,84256000000000,84270000000000,84324000000000,84345000000000,84362000000000,84369000000000,84394000000000,84403000000000,84524000000000,84569000000000,84734000000000,84751000000000,84769000000000,84825000000000,84858000000000,84868000000000,84923000000000,84951000000000,84959000000000,85005000000000,85022000000000,85033000000000,85055000000000,85058000000000,85064000000000,85074000000000,85083000000000,85158000000000,85170000000000,85204000000000,85222000000000,85291000000000,85291000000000,85301000000000,85395000000000,85451000000000,85464000000000,85501000000000,85523000000000,85559000000000,85566000000000,85585000000000,85623000000000,85655000000000,85665000000000,85678000000000,85822000000000,85827000000000,85840000000000,85841000000000,85920000000000,85954000000000,86007000000000,86007000000000,86012000000000,86034000000000,86041000000000,86043000000000,86054000000000,86072000000000,86081000000000,86146000000000,86220000000000,86229000000000,86239000000000,86251000000000,86308000000000,86317000000000,86320000000000,86326000000000,86365000000000,86403000000000,86406000000000,86482000000000,86510000000000,86585000000000,86601000000000,86624000000000,86642000000000,86644000000000,86679000000000,86695000000000,86717000000000,86787000000000,86902000000000,86903000000000,86911000000000,86974000000000,86987000000000,87005000000000,87039000000000,87044000000000,87049000000000,87057000000000,87057000000000,87058000000000,87091000000000,87106000000000,87122000000000,87155000000000,87168000000000,87191000000000,87245000000000,87294000000000,87339000000000,87355000000000,87369000000000,87390000000000,87452000000000,87480000000000,87521000000000,87521000000000,87561000000000,87561000000000,87584000000000,87587000000000,87592000000000,87601000000000,87645000000000,87717000000000,87735000000000,87740000000000,87746000000000,87746000000000,87746000000000,87787000000000,87792000000000,87799000000000,87803000000000,87805000000000,87816000000000,87835000000000,87851000000000,87866000000000,87884000000000,87899000000000,87929000000000,87936000000000,87939000000000,87980000000000,87980000000000,87995000000000,88006000000000,88037000000000,88045000000000,88054000000000,88063000000000,88068000000000,88070000000000,88127000000000,88160000000000,88178000000000,88191000000000,88202000000000,88203000000000,88220000000000,88229000000000,88235000000000,88266000000000,88267000000000,88269000000000,88270000000000,88295000000000,88327000000000,88348000000000,88358000000000,88438000000000,88448000000000,88480000000000,88487000000000,88496000000000,88526000000000,88532000000000,88580000000000,88609000000000,88644000000000,88651000000000,88669000000000,88672000000000,88677000000000,88685000000000,88708000000000,88750000000000,88776000000000,88776000000000,88779000000000,88790000000000,88812000000000,88875000000000,88876000000000,88903000000000,88938000000000,88938000000000,88957000000000,88958000000000,88959000000000,88973000000000,88989000000000,89016000000000,89017000000000,89025000000000,89064000000000,89087000000000,89115000000000,89135000000000,89138000000000,89150000000000,89178000000000,89184000000000,89185000000000,89196000000000,89199000000000,89209000000000,89210000000000,89241000000000,89306000000000,89308000000000,89309000000000,89313000000000,89315000000000,89316000000000,89320000000000,89337000000000,89376000000000,89448000000000,89452000000000,89464000000000,89567000000000,89580000000000,89623000000000,89629000000000,89709000000000,89741000000000,89746000000000,89790000000000,89820000000000,89852000000000,89855000000000,89896000000000,89906000000000,89931000000000,89931000000000,89932000000000,89945000000000,89956000000000,89994000000000,90022000000000,90023000000000,90043000000000,90047000000000,90158000000000,90183000000000,90193000000000,90226000000000,90232000000000,90284000000000,90297000000000,90312000000000,90354000000000,90409000000000,90414000000000,90428000000000,90428000000000,90431000000000,90436000000000,90457000000000,90466000000000,90628000000000,90710000000000,90716000000000,90763000000000,90763000000000,90765000000000,90769000000000,90778000000000,90820000000000,90833000000000,90925000000000,90925000000000,90926000000000,90931000000000,90975000000000,90990000000000,90996000000000,91014000000000,91014000000000,91015000000000,91017000000000,91021000000000,91035000000000,91044000000000,91047000000000,91055000000000,91059000000000,91074000000000,91075000000000,91182000000000,91183000000000,91198000000000,91198000000000,91213000000000,91225000000000,91258000000000,91264000000000,91288000000000,91315000000000,91316000000000,91341000000000,91345000000000,91353000000000,91366000000000,91371000000000,91376000000000,91450000000000,91457000000000,91457000000000,91458000000000,91458000000000,91501000000000,91504000000000,91508000000000,91513000000000,91513000000000,91514000000000,91523000000000,91531000000000,91537000000000,91538000000000,91639000000000,91647000000000,91647000000000,91647000000000,91661000000000,91663000000000,91678000000000,91687000000000,91757000000000,91766000000000,91790000000000,91800000000000,91806000000000,91890000000000,91939000000000,92019000000000,92062000000000,92065000000000,92067000000000,92098000000000,92120000000000,92121000000000,92121000000000,92123000000000,92131000000000,92189000000000,92209000000000,92211000000000,92211000000000,92212000000000,92212000000000,92229000000000,92236000000000,92237000000000,92250000000000,92250000000000,92278000000000,92278000000000,92290000000000,92294000000000,92306000000000,92373000000000,92375000000000,92389000000000,92390000000000,92476000000000,92512000000000,92532000000000,92546000000000,92597000000000,92621000000000,92622000000000,92633000000000,92789000000000,92799000000000,92812000000000,92815000000000,92816000000000,92818000000000,92818000000000,92824000000000,92825000000000,92856000000000,92869000000000,92940000000000,92948000000000,92958000000000,92959000000000,92961000000000,92986000000000,92999000000000,93028000000000,93038000000000,93040000000000,93041000000000,93041000000000,93073000000000,93102000000000,93244000000000,93252000000000,93264000000000,93311000000000,93328000000000,93336000000000,93358000000000,93378000000000,93404000000000,93409000000000,93450000000000,93458000000000,93535000000000,93589000000000,93595000000000,93596000000000,93600000000000,93603000000000,93622000000000,93627000000000,93637000000000,93639000000000,93657000000000,93686000000000,93688000000000,93691000000000,93700000000000,93717000000000,93751000000000,93759000000000,93760000000000,93781000000000,93790000000000,93870000000000,93881000000000,93898000000000,93927000000000,93928000000000,93928000000000,93953000000000,93966000000000,93972000000000,93973000000000,93973000000000,93976000000000,93977000000000,94028000000000,94037000000000,94039000000000,94042000000000,94046000000000,94052000000000,94067000000000,94073000000000,94074000000000,94078000000000,94114000000000,94139000000000,94158000000000,94163000000000,94188000000000,94210000000000,94212000000000,94217000000000,94234000000000,94243000000000,94243000000000,94254000000000,94259000000000,94317000000000,94333000000000,94346000000000,94349000000000,94358000000000,94364000000000,94402000000000,94433000000000,94452000000000,94453000000000,94456000000000,94468000000000,94538000000000,94611000000000,94651000000000,94690000000000,94703000000000,94704000000000,94716000000000,94748000000000,94816000000000,94822000000000,94825000000000,94843000000000,94848000000000,94889000000000,94902000000000,94934000000000,94936000000000,94947000000000,94949000000000,94960000000000,95017000000000,95054000000000,95076000000000,95103000000000,95137000000000,95137000000000,95141000000000,95188000000000,95230000000000,95271000000000,95313000000000,95321000000000,95338000000000,95341000000000,95348000000000,95362000000000,95471000000000,95539000000000,95584000000000,95596000000000,95636000000000,95646000000000,95680000000000,95813000000000,95814000000000,97154000000000,98543000000000],\"yaxis\":\"y\",\"type\":\"scattergl\"}],                        {\"template\":{\"data\":{\"histogram2dcontour\":[{\"type\":\"histogram2dcontour\",\"colorbar\":{\"outlinewidth\":0,\"ticks\":\"\"},\"colorscale\":[[0.0,\"#0d0887\"],[0.1111111111111111,\"#46039f\"],[0.2222222222222222,\"#7201a8\"],[0.3333333333333333,\"#9c179e\"],[0.4444444444444444,\"#bd3786\"],[0.5555555555555556,\"#d8576b\"],[0.6666666666666666,\"#ed7953\"],[0.7777777777777778,\"#fb9f3a\"],[0.8888888888888888,\"#fdca26\"],[1.0,\"#f0f921\"]]}],\"choropleth\":[{\"type\":\"choropleth\",\"colorbar\":{\"outlinewidth\":0,\"ticks\":\"\"}}],\"histogram2d\":[{\"type\":\"histogram2d\",\"colorbar\":{\"outlinewidth\":0,\"ticks\":\"\"},\"colorscale\":[[0.0,\"#0d0887\"],[0.1111111111111111,\"#46039f\"],[0.2222222222222222,\"#7201a8\"],[0.3333333333333333,\"#9c179e\"],[0.4444444444444444,\"#bd3786\"],[0.5555555555555556,\"#d8576b\"],[0.6666666666666666,\"#ed7953\"],[0.7777777777777778,\"#fb9f3a\"],[0.8888888888888888,\"#fdca26\"],[1.0,\"#f0f921\"]]}],\"heatmap\":[{\"type\":\"heatmap\",\"colorbar\":{\"outlinewidth\":0,\"ticks\":\"\"},\"colorscale\":[[0.0,\"#0d0887\"],[0.1111111111111111,\"#46039f\"],[0.2222222222222222,\"#7201a8\"],[0.3333333333333333,\"#9c179e\"],[0.4444444444444444,\"#bd3786\"],[0.5555555555555556,\"#d8576b\"],[0.6666666666666666,\"#ed7953\"],[0.7777777777777778,\"#fb9f3a\"],[0.8888888888888888,\"#fdca26\"],[1.0,\"#f0f921\"]]}],\"heatmapgl\":[{\"type\":\"heatmapgl\",\"colorbar\":{\"outlinewidth\":0,\"ticks\":\"\"},\"colorscale\":[[0.0,\"#0d0887\"],[0.1111111111111111,\"#46039f\"],[0.2222222222222222,\"#7201a8\"],[0.3333333333333333,\"#9c179e\"],[0.4444444444444444,\"#bd3786\"],[0.5555555555555556,\"#d8576b\"],[0.6666666666666666,\"#ed7953\"],[0.7777777777777778,\"#fb9f3a\"],[0.8888888888888888,\"#fdca26\"],[1.0,\"#f0f921\"]]}],\"contourcarpet\":[{\"type\":\"contourcarpet\",\"colorbar\":{\"outlinewidth\":0,\"ticks\":\"\"}}],\"contour\":[{\"type\":\"contour\",\"colorbar\":{\"outlinewidth\":0,\"ticks\":\"\"},\"colorscale\":[[0.0,\"#0d0887\"],[0.1111111111111111,\"#46039f\"],[0.2222222222222222,\"#7201a8\"],[0.3333333333333333,\"#9c179e\"],[0.4444444444444444,\"#bd3786\"],[0.5555555555555556,\"#d8576b\"],[0.6666666666666666,\"#ed7953\"],[0.7777777777777778,\"#fb9f3a\"],[0.8888888888888888,\"#fdca26\"],[1.0,\"#f0f921\"]]}],\"surface\":[{\"type\":\"surface\",\"colorbar\":{\"outlinewidth\":0,\"ticks\":\"\"},\"colorscale\":[[0.0,\"#0d0887\"],[0.1111111111111111,\"#46039f\"],[0.2222222222222222,\"#7201a8\"],[0.3333333333333333,\"#9c179e\"],[0.4444444444444444,\"#bd3786\"],[0.5555555555555556,\"#d8576b\"],[0.6666666666666666,\"#ed7953\"],[0.7777777777777778,\"#fb9f3a\"],[0.8888888888888888,\"#fdca26\"],[1.0,\"#f0f921\"]]}],\"mesh3d\":[{\"type\":\"mesh3d\",\"colorbar\":{\"outlinewidth\":0,\"ticks\":\"\"}}],\"scatter\":[{\"fillpattern\":{\"fillmode\":\"overlay\",\"size\":10,\"solidity\":0.2},\"type\":\"scatter\"}],\"parcoords\":[{\"type\":\"parcoords\",\"line\":{\"colorbar\":{\"outlinewidth\":0,\"ticks\":\"\"}}}],\"scatterpolargl\":[{\"type\":\"scatterpolargl\",\"marker\":{\"colorbar\":{\"outlinewidth\":0,\"ticks\":\"\"}}}],\"bar\":[{\"error_x\":{\"color\":\"#2a3f5f\"},\"error_y\":{\"color\":\"#2a3f5f\"},\"marker\":{\"line\":{\"color\":\"#E5ECF6\",\"width\":0.5},\"pattern\":{\"fillmode\":\"overlay\",\"size\":10,\"solidity\":0.2}},\"type\":\"bar\"}],\"scattergeo\":[{\"type\":\"scattergeo\",\"marker\":{\"colorbar\":{\"outlinewidth\":0,\"ticks\":\"\"}}}],\"scatterpolar\":[{\"type\":\"scatterpolar\",\"marker\":{\"colorbar\":{\"outlinewidth\":0,\"ticks\":\"\"}}}],\"histogram\":[{\"marker\":{\"pattern\":{\"fillmode\":\"overlay\",\"size\":10,\"solidity\":0.2}},\"type\":\"histogram\"}],\"scattergl\":[{\"type\":\"scattergl\",\"marker\":{\"colorbar\":{\"outlinewidth\":0,\"ticks\":\"\"}}}],\"scatter3d\":[{\"type\":\"scatter3d\",\"line\":{\"colorbar\":{\"outlinewidth\":0,\"ticks\":\"\"}},\"marker\":{\"colorbar\":{\"outlinewidth\":0,\"ticks\":\"\"}}}],\"scattermapbox\":[{\"type\":\"scattermapbox\",\"marker\":{\"colorbar\":{\"outlinewidth\":0,\"ticks\":\"\"}}}],\"scatterternary\":[{\"type\":\"scatterternary\",\"marker\":{\"colorbar\":{\"outlinewidth\":0,\"ticks\":\"\"}}}],\"scattercarpet\":[{\"type\":\"scattercarpet\",\"marker\":{\"colorbar\":{\"outlinewidth\":0,\"ticks\":\"\"}}}],\"carpet\":[{\"aaxis\":{\"endlinecolor\":\"#2a3f5f\",\"gridcolor\":\"white\",\"linecolor\":\"white\",\"minorgridcolor\":\"white\",\"startlinecolor\":\"#2a3f5f\"},\"baxis\":{\"endlinecolor\":\"#2a3f5f\",\"gridcolor\":\"white\",\"linecolor\":\"white\",\"minorgridcolor\":\"white\",\"startlinecolor\":\"#2a3f5f\"},\"type\":\"carpet\"}],\"table\":[{\"cells\":{\"fill\":{\"color\":\"#EBF0F8\"},\"line\":{\"color\":\"white\"}},\"header\":{\"fill\":{\"color\":\"#C8D4E3\"},\"line\":{\"color\":\"white\"}},\"type\":\"table\"}],\"barpolar\":[{\"marker\":{\"line\":{\"color\":\"#E5ECF6\",\"width\":0.5},\"pattern\":{\"fillmode\":\"overlay\",\"size\":10,\"solidity\":0.2}},\"type\":\"barpolar\"}],\"pie\":[{\"automargin\":true,\"type\":\"pie\"}]},\"layout\":{\"autotypenumbers\":\"strict\",\"colorway\":[\"#636efa\",\"#EF553B\",\"#00cc96\",\"#ab63fa\",\"#FFA15A\",\"#19d3f3\",\"#FF6692\",\"#B6E880\",\"#FF97FF\",\"#FECB52\"],\"font\":{\"color\":\"#2a3f5f\"},\"hovermode\":\"closest\",\"hoverlabel\":{\"align\":\"left\"},\"paper_bgcolor\":\"white\",\"plot_bgcolor\":\"#E5ECF6\",\"polar\":{\"bgcolor\":\"#E5ECF6\",\"angularaxis\":{\"gridcolor\":\"white\",\"linecolor\":\"white\",\"ticks\":\"\"},\"radialaxis\":{\"gridcolor\":\"white\",\"linecolor\":\"white\",\"ticks\":\"\"}},\"ternary\":{\"bgcolor\":\"#E5ECF6\",\"aaxis\":{\"gridcolor\":\"white\",\"linecolor\":\"white\",\"ticks\":\"\"},\"baxis\":{\"gridcolor\":\"white\",\"linecolor\":\"white\",\"ticks\":\"\"},\"caxis\":{\"gridcolor\":\"white\",\"linecolor\":\"white\",\"ticks\":\"\"}},\"coloraxis\":{\"colorbar\":{\"outlinewidth\":0,\"ticks\":\"\"}},\"colorscale\":{\"sequential\":[[0.0,\"#0d0887\"],[0.1111111111111111,\"#46039f\"],[0.2222222222222222,\"#7201a8\"],[0.3333333333333333,\"#9c179e\"],[0.4444444444444444,\"#bd3786\"],[0.5555555555555556,\"#d8576b\"],[0.6666666666666666,\"#ed7953\"],[0.7777777777777778,\"#fb9f3a\"],[0.8888888888888888,\"#fdca26\"],[1.0,\"#f0f921\"]],\"sequentialminus\":[[0.0,\"#0d0887\"],[0.1111111111111111,\"#46039f\"],[0.2222222222222222,\"#7201a8\"],[0.3333333333333333,\"#9c179e\"],[0.4444444444444444,\"#bd3786\"],[0.5555555555555556,\"#d8576b\"],[0.6666666666666666,\"#ed7953\"],[0.7777777777777778,\"#fb9f3a\"],[0.8888888888888888,\"#fdca26\"],[1.0,\"#f0f921\"]],\"diverging\":[[0,\"#8e0152\"],[0.1,\"#c51b7d\"],[0.2,\"#de77ae\"],[0.3,\"#f1b6da\"],[0.4,\"#fde0ef\"],[0.5,\"#f7f7f7\"],[0.6,\"#e6f5d0\"],[0.7,\"#b8e186\"],[0.8,\"#7fbc41\"],[0.9,\"#4d9221\"],[1,\"#276419\"]]},\"xaxis\":{\"gridcolor\":\"white\",\"linecolor\":\"white\",\"ticks\":\"\",\"title\":{\"standoff\":15},\"zerolinecolor\":\"white\",\"automargin\":true,\"zerolinewidth\":2},\"yaxis\":{\"gridcolor\":\"white\",\"linecolor\":\"white\",\"ticks\":\"\",\"title\":{\"standoff\":15},\"zerolinecolor\":\"white\",\"automargin\":true,\"zerolinewidth\":2},\"scene\":{\"xaxis\":{\"backgroundcolor\":\"#E5ECF6\",\"gridcolor\":\"white\",\"linecolor\":\"white\",\"showbackground\":true,\"ticks\":\"\",\"zerolinecolor\":\"white\",\"gridwidth\":2},\"yaxis\":{\"backgroundcolor\":\"#E5ECF6\",\"gridcolor\":\"white\",\"linecolor\":\"white\",\"showbackground\":true,\"ticks\":\"\",\"zerolinecolor\":\"white\",\"gridwidth\":2},\"zaxis\":{\"backgroundcolor\":\"#E5ECF6\",\"gridcolor\":\"white\",\"linecolor\":\"white\",\"showbackground\":true,\"ticks\":\"\",\"zerolinecolor\":\"white\",\"gridwidth\":2}},\"shapedefaults\":{\"line\":{\"color\":\"#2a3f5f\"}},\"annotationdefaults\":{\"arrowcolor\":\"#2a3f5f\",\"arrowhead\":0,\"arrowwidth\":1},\"geo\":{\"bgcolor\":\"white\",\"landcolor\":\"#E5ECF6\",\"subunitcolor\":\"white\",\"showland\":true,\"showlakes\":true,\"lakecolor\":\"white\"},\"title\":{\"x\":0.05},\"mapbox\":{\"style\":\"light\"}}},\"xaxis\":{\"anchor\":\"y\",\"domain\":[0.0,1.0],\"title\":{\"text\":\"ranking_scratch\"}},\"yaxis\":{\"anchor\":\"x\",\"domain\":[0.0,1.0],\"title\":{\"text\":\"diffToFirst\"}},\"legend\":{\"tracegroupgap\":0},\"margin\":{\"t\":60}},                        {\"responsive\": true}                    ).then(function(){\n",
       "                            \n",
       "var gd = document.getElementById('f9f46708-cbda-4cf7-8c53-5174745f9e6c');\n",
       "var x = new MutationObserver(function (mutations, observer) {{\n",
       "        var display = window.getComputedStyle(gd).display;\n",
       "        if (!display || display === 'none') {{\n",
       "            console.log([gd, 'removed!']);\n",
       "            Plotly.purge(gd);\n",
       "            observer.disconnect();\n",
       "        }}\n",
       "}});\n",
       "\n",
       "// Listen for the removal of the full notebook cells\n",
       "var notebookContainer = gd.closest('#notebook-container');\n",
       "if (notebookContainer) {{\n",
       "    x.observe(notebookContainer, {childList: true});\n",
       "}}\n",
       "\n",
       "// Listen for the clearing of the current output cell\n",
       "var outputEl = gd.closest('.output');\n",
       "if (outputEl) {{\n",
       "    x.observe(outputEl, {childList: true});\n",
       "}}\n",
       "\n",
       "                        })                };                });            </script>        </div>"
      ]
     },
     "metadata": {},
     "output_type": "display_data"
    },
    {
     "name": "stdout",
     "output_type": "stream",
     "text": [
      "Same analysis for top 200 finishers:\n"
     ]
    },
    {
     "data": {
      "application/vnd.plotly.v1+json": {
       "config": {
        "plotlyServerURL": "https://plot.ly"
       },
       "data": [
        {
         "hovertemplate": "ranking_scratch=%{x}<br>diffToFirst=%{y}<extra></extra>",
         "legendgroup": "",
         "line": {
          "color": "#636efa",
          "dash": "solid"
         },
         "marker": {
          "symbol": "circle"
         },
         "mode": "lines",
         "name": "",
         "orientation": "h",
         "showlegend": false,
         "type": "scatter",
         "x": [
          1,
          2,
          3,
          4,
          5,
          6,
          7,
          8,
          9,
          10,
          11,
          12,
          13,
          14,
          15,
          16,
          17,
          18,
          19,
          20,
          21,
          22,
          23,
          24,
          25,
          26,
          27,
          28,
          29,
          30,
          31,
          32,
          33,
          34,
          35,
          36,
          37,
          38,
          39,
          40,
          41,
          42,
          43,
          44,
          45,
          46,
          47,
          48,
          49,
          50,
          51,
          52,
          53,
          54,
          55,
          56,
          57,
          58,
          59,
          60,
          61,
          62,
          63,
          64,
          65,
          66,
          66,
          68,
          69,
          70,
          71,
          72,
          73,
          74,
          75,
          76,
          77,
          78,
          79,
          80,
          81,
          82,
          83,
          84,
          85,
          86,
          87,
          88,
          89,
          90,
          91,
          92,
          93,
          94,
          95,
          96,
          97,
          98,
          99,
          100,
          101,
          102,
          103,
          103,
          105,
          106,
          107,
          108,
          109,
          110,
          111,
          112,
          113,
          114,
          115,
          116,
          117,
          118,
          119,
          120,
          121,
          122,
          123,
          124,
          125,
          126,
          127,
          128,
          129,
          130,
          131,
          132,
          133,
          134,
          135,
          136,
          137,
          138,
          139,
          139,
          141,
          142,
          143,
          144,
          145,
          146,
          147,
          148,
          149,
          150,
          151,
          152,
          153,
          154,
          155,
          156,
          157,
          158,
          159,
          160,
          161,
          162,
          163,
          164,
          165,
          166,
          167,
          168,
          169,
          170,
          171,
          172,
          173,
          174,
          175,
          175,
          177,
          178,
          179,
          180,
          181,
          182,
          183,
          184,
          185,
          186,
          187,
          188,
          189,
          190,
          191,
          192,
          193,
          194,
          195,
          196,
          197,
          198,
          199,
          200
         ],
         "xaxis": "x",
         "y": [
          0,
          320000000000,
          2705000000000,
          4962000000000,
          5900000000000,
          5924000000000,
          6375000000000,
          7006000000000,
          8308000000000,
          8389000000000,
          9298000000000,
          9423000000000,
          9489000000000,
          10000000000000,
          10235000000000,
          10950000000000,
          11095000000000,
          11160000000000,
          11652000000000,
          11709000000000,
          12133000000000,
          12342000000000,
          13144000000000,
          13384000000000,
          13556000000000,
          13721000000000,
          13993000000000,
          14104000000000,
          14154000000000,
          14733000000000,
          14931000000000,
          15276000000000,
          15297000000000,
          15354000000000,
          15813000000000,
          15942000000000,
          16024000000000,
          16293000000000,
          16762000000000,
          16912000000000,
          17403000000000,
          17418000000000,
          17489000000000,
          17996000000000,
          18113000000000,
          18460000000000,
          19094000000000,
          19111000000000,
          19235000000000,
          19317000000000,
          19701000000000,
          19962000000000,
          20257000000000,
          20489000000000,
          21688000000000,
          22230000000000,
          22629000000000,
          22752000000000,
          23026000000000,
          23068000000000,
          24156000000000,
          24189000000000,
          24228000000000,
          24246000000000,
          24268000000000,
          24458000000000,
          24458000000000,
          24540000000000,
          24727000000000,
          25123000000000,
          25168000000000,
          25353000000000,
          26266000000000,
          26680000000000,
          26691000000000,
          26847000000000,
          26899000000000,
          27205000000000,
          27334000000000,
          27537000000000,
          27609000000000,
          27736000000000,
          27764000000000,
          28024000000000,
          28146000000000,
          28158000000000,
          28267000000000,
          28456000000000,
          28528000000000,
          28838000000000,
          28947000000000,
          29496000000000,
          29522000000000,
          29564000000000,
          30233000000000,
          30279000000000,
          30359000000000,
          30421000000000,
          30712000000000,
          30728000000000,
          31127000000000,
          31186000000000,
          31241000000000,
          31241000000000,
          31282000000000,
          31295000000000,
          31532000000000,
          31568000000000,
          31611000000000,
          31652000000000,
          31857000000000,
          31922000000000,
          32010000000000,
          32068000000000,
          32127000000000,
          32142000000000,
          32252000000000,
          32321000000000,
          32362000000000,
          32416000000000,
          32487000000000,
          32703000000000,
          32868000000000,
          33032000000000,
          33107000000000,
          33336000000000,
          33342000000000,
          33351000000000,
          33364000000000,
          33550000000000,
          33600000000000,
          33613000000000,
          33641000000000,
          33654000000000,
          33701000000000,
          34090000000000,
          34120000000000,
          34207000000000,
          34261000000000,
          34261000000000,
          34384000000000,
          34504000000000,
          34754000000000,
          34784000000000,
          34824000000000,
          34933000000000,
          34947000000000,
          35092000000000,
          35114000000000,
          35192000000000,
          35387000000000,
          35610000000000,
          35652000000000,
          35739000000000,
          35873000000000,
          35927000000000,
          36026000000000,
          36101000000000,
          36283000000000,
          36291000000000,
          36645000000000,
          36708000000000,
          36763000000000,
          36825000000000,
          36970000000000,
          36986000000000,
          37225000000000,
          37280000000000,
          37323000000000,
          37350000000000,
          37431000000000,
          37477000000000,
          37906000000000,
          38061000000000,
          38110000000000,
          38110000000000,
          38128000000000,
          38189000000000,
          38327000000000,
          38345000000000,
          38599000000000,
          38693000000000,
          38743000000000,
          38803000000000,
          38829000000000,
          38889000000000,
          38968000000000,
          39007000000000,
          39165000000000,
          39270000000000,
          39444000000000,
          39480000000000,
          39518000000000,
          39842000000000,
          39851000000000,
          39869000000000,
          39898000000000,
          40123000000000,
          40186000000000,
          40467000000000
         ],
         "yaxis": "y"
        }
       ],
       "layout": {
        "legend": {
         "tracegroupgap": 0
        },
        "margin": {
         "t": 60
        },
        "template": {
         "data": {
          "bar": [
           {
            "error_x": {
             "color": "#2a3f5f"
            },
            "error_y": {
             "color": "#2a3f5f"
            },
            "marker": {
             "line": {
              "color": "#E5ECF6",
              "width": 0.5
             },
             "pattern": {
              "fillmode": "overlay",
              "size": 10,
              "solidity": 0.2
             }
            },
            "type": "bar"
           }
          ],
          "barpolar": [
           {
            "marker": {
             "line": {
              "color": "#E5ECF6",
              "width": 0.5
             },
             "pattern": {
              "fillmode": "overlay",
              "size": 10,
              "solidity": 0.2
             }
            },
            "type": "barpolar"
           }
          ],
          "carpet": [
           {
            "aaxis": {
             "endlinecolor": "#2a3f5f",
             "gridcolor": "white",
             "linecolor": "white",
             "minorgridcolor": "white",
             "startlinecolor": "#2a3f5f"
            },
            "baxis": {
             "endlinecolor": "#2a3f5f",
             "gridcolor": "white",
             "linecolor": "white",
             "minorgridcolor": "white",
             "startlinecolor": "#2a3f5f"
            },
            "type": "carpet"
           }
          ],
          "choropleth": [
           {
            "colorbar": {
             "outlinewidth": 0,
             "ticks": ""
            },
            "type": "choropleth"
           }
          ],
          "contour": [
           {
            "colorbar": {
             "outlinewidth": 0,
             "ticks": ""
            },
            "colorscale": [
             [
              0,
              "#0d0887"
             ],
             [
              0.1111111111111111,
              "#46039f"
             ],
             [
              0.2222222222222222,
              "#7201a8"
             ],
             [
              0.3333333333333333,
              "#9c179e"
             ],
             [
              0.4444444444444444,
              "#bd3786"
             ],
             [
              0.5555555555555556,
              "#d8576b"
             ],
             [
              0.6666666666666666,
              "#ed7953"
             ],
             [
              0.7777777777777778,
              "#fb9f3a"
             ],
             [
              0.8888888888888888,
              "#fdca26"
             ],
             [
              1,
              "#f0f921"
             ]
            ],
            "type": "contour"
           }
          ],
          "contourcarpet": [
           {
            "colorbar": {
             "outlinewidth": 0,
             "ticks": ""
            },
            "type": "contourcarpet"
           }
          ],
          "heatmap": [
           {
            "colorbar": {
             "outlinewidth": 0,
             "ticks": ""
            },
            "colorscale": [
             [
              0,
              "#0d0887"
             ],
             [
              0.1111111111111111,
              "#46039f"
             ],
             [
              0.2222222222222222,
              "#7201a8"
             ],
             [
              0.3333333333333333,
              "#9c179e"
             ],
             [
              0.4444444444444444,
              "#bd3786"
             ],
             [
              0.5555555555555556,
              "#d8576b"
             ],
             [
              0.6666666666666666,
              "#ed7953"
             ],
             [
              0.7777777777777778,
              "#fb9f3a"
             ],
             [
              0.8888888888888888,
              "#fdca26"
             ],
             [
              1,
              "#f0f921"
             ]
            ],
            "type": "heatmap"
           }
          ],
          "heatmapgl": [
           {
            "colorbar": {
             "outlinewidth": 0,
             "ticks": ""
            },
            "colorscale": [
             [
              0,
              "#0d0887"
             ],
             [
              0.1111111111111111,
              "#46039f"
             ],
             [
              0.2222222222222222,
              "#7201a8"
             ],
             [
              0.3333333333333333,
              "#9c179e"
             ],
             [
              0.4444444444444444,
              "#bd3786"
             ],
             [
              0.5555555555555556,
              "#d8576b"
             ],
             [
              0.6666666666666666,
              "#ed7953"
             ],
             [
              0.7777777777777778,
              "#fb9f3a"
             ],
             [
              0.8888888888888888,
              "#fdca26"
             ],
             [
              1,
              "#f0f921"
             ]
            ],
            "type": "heatmapgl"
           }
          ],
          "histogram": [
           {
            "marker": {
             "pattern": {
              "fillmode": "overlay",
              "size": 10,
              "solidity": 0.2
             }
            },
            "type": "histogram"
           }
          ],
          "histogram2d": [
           {
            "colorbar": {
             "outlinewidth": 0,
             "ticks": ""
            },
            "colorscale": [
             [
              0,
              "#0d0887"
             ],
             [
              0.1111111111111111,
              "#46039f"
             ],
             [
              0.2222222222222222,
              "#7201a8"
             ],
             [
              0.3333333333333333,
              "#9c179e"
             ],
             [
              0.4444444444444444,
              "#bd3786"
             ],
             [
              0.5555555555555556,
              "#d8576b"
             ],
             [
              0.6666666666666666,
              "#ed7953"
             ],
             [
              0.7777777777777778,
              "#fb9f3a"
             ],
             [
              0.8888888888888888,
              "#fdca26"
             ],
             [
              1,
              "#f0f921"
             ]
            ],
            "type": "histogram2d"
           }
          ],
          "histogram2dcontour": [
           {
            "colorbar": {
             "outlinewidth": 0,
             "ticks": ""
            },
            "colorscale": [
             [
              0,
              "#0d0887"
             ],
             [
              0.1111111111111111,
              "#46039f"
             ],
             [
              0.2222222222222222,
              "#7201a8"
             ],
             [
              0.3333333333333333,
              "#9c179e"
             ],
             [
              0.4444444444444444,
              "#bd3786"
             ],
             [
              0.5555555555555556,
              "#d8576b"
             ],
             [
              0.6666666666666666,
              "#ed7953"
             ],
             [
              0.7777777777777778,
              "#fb9f3a"
             ],
             [
              0.8888888888888888,
              "#fdca26"
             ],
             [
              1,
              "#f0f921"
             ]
            ],
            "type": "histogram2dcontour"
           }
          ],
          "mesh3d": [
           {
            "colorbar": {
             "outlinewidth": 0,
             "ticks": ""
            },
            "type": "mesh3d"
           }
          ],
          "parcoords": [
           {
            "line": {
             "colorbar": {
              "outlinewidth": 0,
              "ticks": ""
             }
            },
            "type": "parcoords"
           }
          ],
          "pie": [
           {
            "automargin": true,
            "type": "pie"
           }
          ],
          "scatter": [
           {
            "fillpattern": {
             "fillmode": "overlay",
             "size": 10,
             "solidity": 0.2
            },
            "type": "scatter"
           }
          ],
          "scatter3d": [
           {
            "line": {
             "colorbar": {
              "outlinewidth": 0,
              "ticks": ""
             }
            },
            "marker": {
             "colorbar": {
              "outlinewidth": 0,
              "ticks": ""
             }
            },
            "type": "scatter3d"
           }
          ],
          "scattercarpet": [
           {
            "marker": {
             "colorbar": {
              "outlinewidth": 0,
              "ticks": ""
             }
            },
            "type": "scattercarpet"
           }
          ],
          "scattergeo": [
           {
            "marker": {
             "colorbar": {
              "outlinewidth": 0,
              "ticks": ""
             }
            },
            "type": "scattergeo"
           }
          ],
          "scattergl": [
           {
            "marker": {
             "colorbar": {
              "outlinewidth": 0,
              "ticks": ""
             }
            },
            "type": "scattergl"
           }
          ],
          "scattermapbox": [
           {
            "marker": {
             "colorbar": {
              "outlinewidth": 0,
              "ticks": ""
             }
            },
            "type": "scattermapbox"
           }
          ],
          "scatterpolar": [
           {
            "marker": {
             "colorbar": {
              "outlinewidth": 0,
              "ticks": ""
             }
            },
            "type": "scatterpolar"
           }
          ],
          "scatterpolargl": [
           {
            "marker": {
             "colorbar": {
              "outlinewidth": 0,
              "ticks": ""
             }
            },
            "type": "scatterpolargl"
           }
          ],
          "scatterternary": [
           {
            "marker": {
             "colorbar": {
              "outlinewidth": 0,
              "ticks": ""
             }
            },
            "type": "scatterternary"
           }
          ],
          "surface": [
           {
            "colorbar": {
             "outlinewidth": 0,
             "ticks": ""
            },
            "colorscale": [
             [
              0,
              "#0d0887"
             ],
             [
              0.1111111111111111,
              "#46039f"
             ],
             [
              0.2222222222222222,
              "#7201a8"
             ],
             [
              0.3333333333333333,
              "#9c179e"
             ],
             [
              0.4444444444444444,
              "#bd3786"
             ],
             [
              0.5555555555555556,
              "#d8576b"
             ],
             [
              0.6666666666666666,
              "#ed7953"
             ],
             [
              0.7777777777777778,
              "#fb9f3a"
             ],
             [
              0.8888888888888888,
              "#fdca26"
             ],
             [
              1,
              "#f0f921"
             ]
            ],
            "type": "surface"
           }
          ],
          "table": [
           {
            "cells": {
             "fill": {
              "color": "#EBF0F8"
             },
             "line": {
              "color": "white"
             }
            },
            "header": {
             "fill": {
              "color": "#C8D4E3"
             },
             "line": {
              "color": "white"
             }
            },
            "type": "table"
           }
          ]
         },
         "layout": {
          "annotationdefaults": {
           "arrowcolor": "#2a3f5f",
           "arrowhead": 0,
           "arrowwidth": 1
          },
          "autotypenumbers": "strict",
          "coloraxis": {
           "colorbar": {
            "outlinewidth": 0,
            "ticks": ""
           }
          },
          "colorscale": {
           "diverging": [
            [
             0,
             "#8e0152"
            ],
            [
             0.1,
             "#c51b7d"
            ],
            [
             0.2,
             "#de77ae"
            ],
            [
             0.3,
             "#f1b6da"
            ],
            [
             0.4,
             "#fde0ef"
            ],
            [
             0.5,
             "#f7f7f7"
            ],
            [
             0.6,
             "#e6f5d0"
            ],
            [
             0.7,
             "#b8e186"
            ],
            [
             0.8,
             "#7fbc41"
            ],
            [
             0.9,
             "#4d9221"
            ],
            [
             1,
             "#276419"
            ]
           ],
           "sequential": [
            [
             0,
             "#0d0887"
            ],
            [
             0.1111111111111111,
             "#46039f"
            ],
            [
             0.2222222222222222,
             "#7201a8"
            ],
            [
             0.3333333333333333,
             "#9c179e"
            ],
            [
             0.4444444444444444,
             "#bd3786"
            ],
            [
             0.5555555555555556,
             "#d8576b"
            ],
            [
             0.6666666666666666,
             "#ed7953"
            ],
            [
             0.7777777777777778,
             "#fb9f3a"
            ],
            [
             0.8888888888888888,
             "#fdca26"
            ],
            [
             1,
             "#f0f921"
            ]
           ],
           "sequentialminus": [
            [
             0,
             "#0d0887"
            ],
            [
             0.1111111111111111,
             "#46039f"
            ],
            [
             0.2222222222222222,
             "#7201a8"
            ],
            [
             0.3333333333333333,
             "#9c179e"
            ],
            [
             0.4444444444444444,
             "#bd3786"
            ],
            [
             0.5555555555555556,
             "#d8576b"
            ],
            [
             0.6666666666666666,
             "#ed7953"
            ],
            [
             0.7777777777777778,
             "#fb9f3a"
            ],
            [
             0.8888888888888888,
             "#fdca26"
            ],
            [
             1,
             "#f0f921"
            ]
           ]
          },
          "colorway": [
           "#636efa",
           "#EF553B",
           "#00cc96",
           "#ab63fa",
           "#FFA15A",
           "#19d3f3",
           "#FF6692",
           "#B6E880",
           "#FF97FF",
           "#FECB52"
          ],
          "font": {
           "color": "#2a3f5f"
          },
          "geo": {
           "bgcolor": "white",
           "lakecolor": "white",
           "landcolor": "#E5ECF6",
           "showlakes": true,
           "showland": true,
           "subunitcolor": "white"
          },
          "hoverlabel": {
           "align": "left"
          },
          "hovermode": "closest",
          "mapbox": {
           "style": "light"
          },
          "paper_bgcolor": "white",
          "plot_bgcolor": "#E5ECF6",
          "polar": {
           "angularaxis": {
            "gridcolor": "white",
            "linecolor": "white",
            "ticks": ""
           },
           "bgcolor": "#E5ECF6",
           "radialaxis": {
            "gridcolor": "white",
            "linecolor": "white",
            "ticks": ""
           }
          },
          "scene": {
           "xaxis": {
            "backgroundcolor": "#E5ECF6",
            "gridcolor": "white",
            "gridwidth": 2,
            "linecolor": "white",
            "showbackground": true,
            "ticks": "",
            "zerolinecolor": "white"
           },
           "yaxis": {
            "backgroundcolor": "#E5ECF6",
            "gridcolor": "white",
            "gridwidth": 2,
            "linecolor": "white",
            "showbackground": true,
            "ticks": "",
            "zerolinecolor": "white"
           },
           "zaxis": {
            "backgroundcolor": "#E5ECF6",
            "gridcolor": "white",
            "gridwidth": 2,
            "linecolor": "white",
            "showbackground": true,
            "ticks": "",
            "zerolinecolor": "white"
           }
          },
          "shapedefaults": {
           "line": {
            "color": "#2a3f5f"
           }
          },
          "ternary": {
           "aaxis": {
            "gridcolor": "white",
            "linecolor": "white",
            "ticks": ""
           },
           "baxis": {
            "gridcolor": "white",
            "linecolor": "white",
            "ticks": ""
           },
           "bgcolor": "#E5ECF6",
           "caxis": {
            "gridcolor": "white",
            "linecolor": "white",
            "ticks": ""
           }
          },
          "title": {
           "x": 0.05
          },
          "xaxis": {
           "automargin": true,
           "gridcolor": "white",
           "linecolor": "white",
           "ticks": "",
           "title": {
            "standoff": 15
           },
           "zerolinecolor": "white",
           "zerolinewidth": 2
          },
          "yaxis": {
           "automargin": true,
           "gridcolor": "white",
           "linecolor": "white",
           "ticks": "",
           "title": {
            "standoff": 15
           },
           "zerolinecolor": "white",
           "zerolinewidth": 2
          }
         }
        },
        "xaxis": {
         "anchor": "y",
         "domain": [
          0,
          1
         ],
         "title": {
          "text": "ranking_scratch"
         }
        },
        "yaxis": {
         "anchor": "x",
         "domain": [
          0,
          1
         ],
         "title": {
          "text": "diffToFirst"
         }
        }
       }
      },
      "text/html": [
       "<div>                            <div id=\"a1556124-4fce-49b8-81fa-1c0775e7b6aa\" class=\"plotly-graph-div\" style=\"height:525px; width:100%;\"></div>            <script type=\"text/javascript\">                require([\"plotly\"], function(Plotly) {                    window.PLOTLYENV=window.PLOTLYENV || {};                                    if (document.getElementById(\"a1556124-4fce-49b8-81fa-1c0775e7b6aa\")) {                    Plotly.newPlot(                        \"a1556124-4fce-49b8-81fa-1c0775e7b6aa\",                        [{\"hovertemplate\":\"ranking_scratch=%{x}<br>diffToFirst=%{y}<extra></extra>\",\"legendgroup\":\"\",\"line\":{\"color\":\"#636efa\",\"dash\":\"solid\"},\"marker\":{\"symbol\":\"circle\"},\"mode\":\"lines\",\"name\":\"\",\"orientation\":\"h\",\"showlegend\":false,\"x\":[1,2,3,4,5,6,7,8,9,10,11,12,13,14,15,16,17,18,19,20,21,22,23,24,25,26,27,28,29,30,31,32,33,34,35,36,37,38,39,40,41,42,43,44,45,46,47,48,49,50,51,52,53,54,55,56,57,58,59,60,61,62,63,64,65,66,66,68,69,70,71,72,73,74,75,76,77,78,79,80,81,82,83,84,85,86,87,88,89,90,91,92,93,94,95,96,97,98,99,100,101,102,103,103,105,106,107,108,109,110,111,112,113,114,115,116,117,118,119,120,121,122,123,124,125,126,127,128,129,130,131,132,133,134,135,136,137,138,139,139,141,142,143,144,145,146,147,148,149,150,151,152,153,154,155,156,157,158,159,160,161,162,163,164,165,166,167,168,169,170,171,172,173,174,175,175,177,178,179,180,181,182,183,184,185,186,187,188,189,190,191,192,193,194,195,196,197,198,199,200],\"xaxis\":\"x\",\"y\":[0,320000000000,2705000000000,4962000000000,5900000000000,5924000000000,6375000000000,7006000000000,8308000000000,8389000000000,9298000000000,9423000000000,9489000000000,10000000000000,10235000000000,10950000000000,11095000000000,11160000000000,11652000000000,11709000000000,12133000000000,12342000000000,13144000000000,13384000000000,13556000000000,13721000000000,13993000000000,14104000000000,14154000000000,14733000000000,14931000000000,15276000000000,15297000000000,15354000000000,15813000000000,15942000000000,16024000000000,16293000000000,16762000000000,16912000000000,17403000000000,17418000000000,17489000000000,17996000000000,18113000000000,18460000000000,19094000000000,19111000000000,19235000000000,19317000000000,19701000000000,19962000000000,20257000000000,20489000000000,21688000000000,22230000000000,22629000000000,22752000000000,23026000000000,23068000000000,24156000000000,24189000000000,24228000000000,24246000000000,24268000000000,24458000000000,24458000000000,24540000000000,24727000000000,25123000000000,25168000000000,25353000000000,26266000000000,26680000000000,26691000000000,26847000000000,26899000000000,27205000000000,27334000000000,27537000000000,27609000000000,27736000000000,27764000000000,28024000000000,28146000000000,28158000000000,28267000000000,28456000000000,28528000000000,28838000000000,28947000000000,29496000000000,29522000000000,29564000000000,30233000000000,30279000000000,30359000000000,30421000000000,30712000000000,30728000000000,31127000000000,31186000000000,31241000000000,31241000000000,31282000000000,31295000000000,31532000000000,31568000000000,31611000000000,31652000000000,31857000000000,31922000000000,32010000000000,32068000000000,32127000000000,32142000000000,32252000000000,32321000000000,32362000000000,32416000000000,32487000000000,32703000000000,32868000000000,33032000000000,33107000000000,33336000000000,33342000000000,33351000000000,33364000000000,33550000000000,33600000000000,33613000000000,33641000000000,33654000000000,33701000000000,34090000000000,34120000000000,34207000000000,34261000000000,34261000000000,34384000000000,34504000000000,34754000000000,34784000000000,34824000000000,34933000000000,34947000000000,35092000000000,35114000000000,35192000000000,35387000000000,35610000000000,35652000000000,35739000000000,35873000000000,35927000000000,36026000000000,36101000000000,36283000000000,36291000000000,36645000000000,36708000000000,36763000000000,36825000000000,36970000000000,36986000000000,37225000000000,37280000000000,37323000000000,37350000000000,37431000000000,37477000000000,37906000000000,38061000000000,38110000000000,38110000000000,38128000000000,38189000000000,38327000000000,38345000000000,38599000000000,38693000000000,38743000000000,38803000000000,38829000000000,38889000000000,38968000000000,39007000000000,39165000000000,39270000000000,39444000000000,39480000000000,39518000000000,39842000000000,39851000000000,39869000000000,39898000000000,40123000000000,40186000000000,40467000000000],\"yaxis\":\"y\",\"type\":\"scatter\"}],                        {\"template\":{\"data\":{\"histogram2dcontour\":[{\"type\":\"histogram2dcontour\",\"colorbar\":{\"outlinewidth\":0,\"ticks\":\"\"},\"colorscale\":[[0.0,\"#0d0887\"],[0.1111111111111111,\"#46039f\"],[0.2222222222222222,\"#7201a8\"],[0.3333333333333333,\"#9c179e\"],[0.4444444444444444,\"#bd3786\"],[0.5555555555555556,\"#d8576b\"],[0.6666666666666666,\"#ed7953\"],[0.7777777777777778,\"#fb9f3a\"],[0.8888888888888888,\"#fdca26\"],[1.0,\"#f0f921\"]]}],\"choropleth\":[{\"type\":\"choropleth\",\"colorbar\":{\"outlinewidth\":0,\"ticks\":\"\"}}],\"histogram2d\":[{\"type\":\"histogram2d\",\"colorbar\":{\"outlinewidth\":0,\"ticks\":\"\"},\"colorscale\":[[0.0,\"#0d0887\"],[0.1111111111111111,\"#46039f\"],[0.2222222222222222,\"#7201a8\"],[0.3333333333333333,\"#9c179e\"],[0.4444444444444444,\"#bd3786\"],[0.5555555555555556,\"#d8576b\"],[0.6666666666666666,\"#ed7953\"],[0.7777777777777778,\"#fb9f3a\"],[0.8888888888888888,\"#fdca26\"],[1.0,\"#f0f921\"]]}],\"heatmap\":[{\"type\":\"heatmap\",\"colorbar\":{\"outlinewidth\":0,\"ticks\":\"\"},\"colorscale\":[[0.0,\"#0d0887\"],[0.1111111111111111,\"#46039f\"],[0.2222222222222222,\"#7201a8\"],[0.3333333333333333,\"#9c179e\"],[0.4444444444444444,\"#bd3786\"],[0.5555555555555556,\"#d8576b\"],[0.6666666666666666,\"#ed7953\"],[0.7777777777777778,\"#fb9f3a\"],[0.8888888888888888,\"#fdca26\"],[1.0,\"#f0f921\"]]}],\"heatmapgl\":[{\"type\":\"heatmapgl\",\"colorbar\":{\"outlinewidth\":0,\"ticks\":\"\"},\"colorscale\":[[0.0,\"#0d0887\"],[0.1111111111111111,\"#46039f\"],[0.2222222222222222,\"#7201a8\"],[0.3333333333333333,\"#9c179e\"],[0.4444444444444444,\"#bd3786\"],[0.5555555555555556,\"#d8576b\"],[0.6666666666666666,\"#ed7953\"],[0.7777777777777778,\"#fb9f3a\"],[0.8888888888888888,\"#fdca26\"],[1.0,\"#f0f921\"]]}],\"contourcarpet\":[{\"type\":\"contourcarpet\",\"colorbar\":{\"outlinewidth\":0,\"ticks\":\"\"}}],\"contour\":[{\"type\":\"contour\",\"colorbar\":{\"outlinewidth\":0,\"ticks\":\"\"},\"colorscale\":[[0.0,\"#0d0887\"],[0.1111111111111111,\"#46039f\"],[0.2222222222222222,\"#7201a8\"],[0.3333333333333333,\"#9c179e\"],[0.4444444444444444,\"#bd3786\"],[0.5555555555555556,\"#d8576b\"],[0.6666666666666666,\"#ed7953\"],[0.7777777777777778,\"#fb9f3a\"],[0.8888888888888888,\"#fdca26\"],[1.0,\"#f0f921\"]]}],\"surface\":[{\"type\":\"surface\",\"colorbar\":{\"outlinewidth\":0,\"ticks\":\"\"},\"colorscale\":[[0.0,\"#0d0887\"],[0.1111111111111111,\"#46039f\"],[0.2222222222222222,\"#7201a8\"],[0.3333333333333333,\"#9c179e\"],[0.4444444444444444,\"#bd3786\"],[0.5555555555555556,\"#d8576b\"],[0.6666666666666666,\"#ed7953\"],[0.7777777777777778,\"#fb9f3a\"],[0.8888888888888888,\"#fdca26\"],[1.0,\"#f0f921\"]]}],\"mesh3d\":[{\"type\":\"mesh3d\",\"colorbar\":{\"outlinewidth\":0,\"ticks\":\"\"}}],\"scatter\":[{\"fillpattern\":{\"fillmode\":\"overlay\",\"size\":10,\"solidity\":0.2},\"type\":\"scatter\"}],\"parcoords\":[{\"type\":\"parcoords\",\"line\":{\"colorbar\":{\"outlinewidth\":0,\"ticks\":\"\"}}}],\"scatterpolargl\":[{\"type\":\"scatterpolargl\",\"marker\":{\"colorbar\":{\"outlinewidth\":0,\"ticks\":\"\"}}}],\"bar\":[{\"error_x\":{\"color\":\"#2a3f5f\"},\"error_y\":{\"color\":\"#2a3f5f\"},\"marker\":{\"line\":{\"color\":\"#E5ECF6\",\"width\":0.5},\"pattern\":{\"fillmode\":\"overlay\",\"size\":10,\"solidity\":0.2}},\"type\":\"bar\"}],\"scattergeo\":[{\"type\":\"scattergeo\",\"marker\":{\"colorbar\":{\"outlinewidth\":0,\"ticks\":\"\"}}}],\"scatterpolar\":[{\"type\":\"scatterpolar\",\"marker\":{\"colorbar\":{\"outlinewidth\":0,\"ticks\":\"\"}}}],\"histogram\":[{\"marker\":{\"pattern\":{\"fillmode\":\"overlay\",\"size\":10,\"solidity\":0.2}},\"type\":\"histogram\"}],\"scattergl\":[{\"type\":\"scattergl\",\"marker\":{\"colorbar\":{\"outlinewidth\":0,\"ticks\":\"\"}}}],\"scatter3d\":[{\"type\":\"scatter3d\",\"line\":{\"colorbar\":{\"outlinewidth\":0,\"ticks\":\"\"}},\"marker\":{\"colorbar\":{\"outlinewidth\":0,\"ticks\":\"\"}}}],\"scattermapbox\":[{\"type\":\"scattermapbox\",\"marker\":{\"colorbar\":{\"outlinewidth\":0,\"ticks\":\"\"}}}],\"scatterternary\":[{\"type\":\"scatterternary\",\"marker\":{\"colorbar\":{\"outlinewidth\":0,\"ticks\":\"\"}}}],\"scattercarpet\":[{\"type\":\"scattercarpet\",\"marker\":{\"colorbar\":{\"outlinewidth\":0,\"ticks\":\"\"}}}],\"carpet\":[{\"aaxis\":{\"endlinecolor\":\"#2a3f5f\",\"gridcolor\":\"white\",\"linecolor\":\"white\",\"minorgridcolor\":\"white\",\"startlinecolor\":\"#2a3f5f\"},\"baxis\":{\"endlinecolor\":\"#2a3f5f\",\"gridcolor\":\"white\",\"linecolor\":\"white\",\"minorgridcolor\":\"white\",\"startlinecolor\":\"#2a3f5f\"},\"type\":\"carpet\"}],\"table\":[{\"cells\":{\"fill\":{\"color\":\"#EBF0F8\"},\"line\":{\"color\":\"white\"}},\"header\":{\"fill\":{\"color\":\"#C8D4E3\"},\"line\":{\"color\":\"white\"}},\"type\":\"table\"}],\"barpolar\":[{\"marker\":{\"line\":{\"color\":\"#E5ECF6\",\"width\":0.5},\"pattern\":{\"fillmode\":\"overlay\",\"size\":10,\"solidity\":0.2}},\"type\":\"barpolar\"}],\"pie\":[{\"automargin\":true,\"type\":\"pie\"}]},\"layout\":{\"autotypenumbers\":\"strict\",\"colorway\":[\"#636efa\",\"#EF553B\",\"#00cc96\",\"#ab63fa\",\"#FFA15A\",\"#19d3f3\",\"#FF6692\",\"#B6E880\",\"#FF97FF\",\"#FECB52\"],\"font\":{\"color\":\"#2a3f5f\"},\"hovermode\":\"closest\",\"hoverlabel\":{\"align\":\"left\"},\"paper_bgcolor\":\"white\",\"plot_bgcolor\":\"#E5ECF6\",\"polar\":{\"bgcolor\":\"#E5ECF6\",\"angularaxis\":{\"gridcolor\":\"white\",\"linecolor\":\"white\",\"ticks\":\"\"},\"radialaxis\":{\"gridcolor\":\"white\",\"linecolor\":\"white\",\"ticks\":\"\"}},\"ternary\":{\"bgcolor\":\"#E5ECF6\",\"aaxis\":{\"gridcolor\":\"white\",\"linecolor\":\"white\",\"ticks\":\"\"},\"baxis\":{\"gridcolor\":\"white\",\"linecolor\":\"white\",\"ticks\":\"\"},\"caxis\":{\"gridcolor\":\"white\",\"linecolor\":\"white\",\"ticks\":\"\"}},\"coloraxis\":{\"colorbar\":{\"outlinewidth\":0,\"ticks\":\"\"}},\"colorscale\":{\"sequential\":[[0.0,\"#0d0887\"],[0.1111111111111111,\"#46039f\"],[0.2222222222222222,\"#7201a8\"],[0.3333333333333333,\"#9c179e\"],[0.4444444444444444,\"#bd3786\"],[0.5555555555555556,\"#d8576b\"],[0.6666666666666666,\"#ed7953\"],[0.7777777777777778,\"#fb9f3a\"],[0.8888888888888888,\"#fdca26\"],[1.0,\"#f0f921\"]],\"sequentialminus\":[[0.0,\"#0d0887\"],[0.1111111111111111,\"#46039f\"],[0.2222222222222222,\"#7201a8\"],[0.3333333333333333,\"#9c179e\"],[0.4444444444444444,\"#bd3786\"],[0.5555555555555556,\"#d8576b\"],[0.6666666666666666,\"#ed7953\"],[0.7777777777777778,\"#fb9f3a\"],[0.8888888888888888,\"#fdca26\"],[1.0,\"#f0f921\"]],\"diverging\":[[0,\"#8e0152\"],[0.1,\"#c51b7d\"],[0.2,\"#de77ae\"],[0.3,\"#f1b6da\"],[0.4,\"#fde0ef\"],[0.5,\"#f7f7f7\"],[0.6,\"#e6f5d0\"],[0.7,\"#b8e186\"],[0.8,\"#7fbc41\"],[0.9,\"#4d9221\"],[1,\"#276419\"]]},\"xaxis\":{\"gridcolor\":\"white\",\"linecolor\":\"white\",\"ticks\":\"\",\"title\":{\"standoff\":15},\"zerolinecolor\":\"white\",\"automargin\":true,\"zerolinewidth\":2},\"yaxis\":{\"gridcolor\":\"white\",\"linecolor\":\"white\",\"ticks\":\"\",\"title\":{\"standoff\":15},\"zerolinecolor\":\"white\",\"automargin\":true,\"zerolinewidth\":2},\"scene\":{\"xaxis\":{\"backgroundcolor\":\"#E5ECF6\",\"gridcolor\":\"white\",\"linecolor\":\"white\",\"showbackground\":true,\"ticks\":\"\",\"zerolinecolor\":\"white\",\"gridwidth\":2},\"yaxis\":{\"backgroundcolor\":\"#E5ECF6\",\"gridcolor\":\"white\",\"linecolor\":\"white\",\"showbackground\":true,\"ticks\":\"\",\"zerolinecolor\":\"white\",\"gridwidth\":2},\"zaxis\":{\"backgroundcolor\":\"#E5ECF6\",\"gridcolor\":\"white\",\"linecolor\":\"white\",\"showbackground\":true,\"ticks\":\"\",\"zerolinecolor\":\"white\",\"gridwidth\":2}},\"shapedefaults\":{\"line\":{\"color\":\"#2a3f5f\"}},\"annotationdefaults\":{\"arrowcolor\":\"#2a3f5f\",\"arrowhead\":0,\"arrowwidth\":1},\"geo\":{\"bgcolor\":\"white\",\"landcolor\":\"#E5ECF6\",\"subunitcolor\":\"white\",\"showland\":true,\"showlakes\":true,\"lakecolor\":\"white\"},\"title\":{\"x\":0.05},\"mapbox\":{\"style\":\"light\"}}},\"xaxis\":{\"anchor\":\"y\",\"domain\":[0.0,1.0],\"title\":{\"text\":\"ranking_scratch\"}},\"yaxis\":{\"anchor\":\"x\",\"domain\":[0.0,1.0],\"title\":{\"text\":\"diffToFirst\"}},\"legend\":{\"tracegroupgap\":0},\"margin\":{\"t\":60}},                        {\"responsive\": true}                    ).then(function(){\n",
       "                            \n",
       "var gd = document.getElementById('a1556124-4fce-49b8-81fa-1c0775e7b6aa');\n",
       "var x = new MutationObserver(function (mutations, observer) {{\n",
       "        var display = window.getComputedStyle(gd).display;\n",
       "        if (!display || display === 'none') {{\n",
       "            console.log([gd, 'removed!']);\n",
       "            Plotly.purge(gd);\n",
       "            observer.disconnect();\n",
       "        }}\n",
       "}});\n",
       "\n",
       "// Listen for the removal of the full notebook cells\n",
       "var notebookContainer = gd.closest('#notebook-container');\n",
       "if (notebookContainer) {{\n",
       "    x.observe(notebookContainer, {childList: true});\n",
       "}}\n",
       "\n",
       "// Listen for the clearing of the current output cell\n",
       "var outputEl = gd.closest('.output');\n",
       "if (outputEl) {{\n",
       "    x.observe(outputEl, {childList: true});\n",
       "}}\n",
       "\n",
       "                        })                };                });            </script>        </div>"
      ]
     },
     "metadata": {},
     "output_type": "display_data"
    }
   ],
   "source": [
    "fig = px.line(df, x='ranking_scratch', y=\"diffToFirst\")\n",
    "fig.show()\n",
    "\n",
    "print(\"Same analysis for top 200 finishers:\")\n",
    "fig = px.line(df[:200], x='ranking_scratch', y=\"diffToFirst\")\n",
    "fig.show()"
   ]
  },
  {
   "cell_type": "markdown",
   "id": "110e33e0",
   "metadata": {},
   "source": [
    "### Number of finishers per category"
   ]
  },
  {
   "cell_type": "code",
   "execution_count": 9,
   "id": "f7d87383",
   "metadata": {},
   "outputs": [
    {
     "data": {
      "application/vnd.plotly.v1+json": {
       "config": {
        "plotlyServerURL": "https://plot.ly"
       },
       "data": [
        {
         "alignmentgroup": "True",
         "bingroup": "x",
         "hovertemplate": "info_category=%{x}<br>count=%{y}<extra></extra>",
         "legendgroup": "",
         "marker": {
          "color": "#636efa",
          "pattern": {
           "shape": ""
          }
         },
         "name": "",
         "offsetgroup": "",
         "orientation": "v",
         "showlegend": false,
         "type": "histogram",
         "x": [
          "35-39M",
          "35-39M",
          "20-34M",
          "20-34M",
          "20-34M",
          "40-44M",
          "20-34M",
          "35-39M",
          "20-34M",
          "20-34M",
          "40-44M",
          "20-34M",
          "40-44M",
          "35-39M",
          "35-39M",
          "20-34M",
          "35-39M",
          "20-34M",
          "40-44M",
          "20-34M",
          "20-34M",
          "20-34F",
          "20-34M",
          "40-44M",
          "20-34M",
          "20-34M",
          "20-34M",
          "20-34M",
          "35-39M",
          "20-34M",
          "20-34M",
          "35-39M",
          "35-39M",
          "40-44M",
          "35-39M",
          "35-39M",
          "20-34M",
          "35-39M",
          "20-34M",
          "20-34F",
          "45-49M",
          "45-49M",
          "40-44M",
          "40-44M",
          "35-39M",
          "20-34M",
          "20-34F",
          "20-34M",
          "20-34M",
          "40-44M",
          "45-49M",
          "35-39M",
          "35-39M",
          "40-44M",
          "35-39M",
          "40-44M",
          "55-59M",
          "35-39M",
          "35-39M",
          "45-49F",
          "40-44M",
          "35-39F",
          "35-39M",
          "20-34M",
          "45-49M",
          "35-39M",
          "20-34F",
          "45-49M",
          "40-44M",
          "40-44M",
          "45-49M",
          "40-44M",
          "40-44M",
          "40-44M",
          "20-34F",
          "35-39M",
          "40-44F",
          "45-49M",
          "35-39M",
          "20-34M",
          "40-44M",
          "45-49F",
          "35-39M",
          "20-34M",
          "35-39M",
          "35-39M",
          "20-34M",
          "40-44M",
          "20-34M",
          "20-34M",
          "35-39M",
          "40-44M",
          "20-34M",
          "45-49M",
          "20-34M",
          "35-39M",
          "40-44F",
          "45-49M",
          "35-39F",
          "20-34M",
          "40-44M",
          "20-34M",
          "20-34M",
          "40-44M",
          "20-34M",
          "20-34M",
          "40-44M",
          "35-39M",
          "35-39F",
          "40-44M",
          "45-49M",
          "20-34M",
          "35-39M",
          "20-34M",
          "40-44M",
          "20-34M",
          "35-39M",
          "35-39M",
          "40-44M",
          "35-39M",
          "40-44M",
          "45-49F",
          "35-39M",
          "50-54M",
          "40-44M",
          "40-44M",
          "40-44M",
          "20-34M",
          "40-44M",
          "50-54M",
          "20-34M",
          "20-34F",
          "40-44F",
          "35-39M",
          "40-44M",
          "50-54M",
          "40-44M",
          "35-39M",
          "35-39M",
          "20-34M",
          "20-34M",
          "35-39M",
          "20-34F",
          "50-54M",
          "45-49M",
          "45-49M",
          "35-39M",
          "40-44M",
          "20-34M",
          "40-44M",
          "35-39M",
          "35-39M",
          "45-49M",
          "35-39M",
          "40-44M",
          "35-39M",
          "20-34M",
          "35-39M",
          "50-54M",
          "40-44M",
          "40-44M",
          "40-44M",
          "35-39M",
          "50-54M",
          "20-34M",
          "35-39M",
          "50-54M",
          "40-44M",
          "40-44M",
          "40-44M",
          "20-34M",
          "40-44M",
          "50-54F",
          "45-49M",
          "35-39M",
          "45-49M",
          "35-39M",
          "35-39M",
          "45-49M",
          "35-39M",
          "35-39M",
          "35-39M",
          "20-34F",
          "20-34M",
          "40-44M",
          "35-39M",
          "40-44F",
          "40-44M",
          "20-34M",
          "35-39M",
          "35-39M",
          "40-44M",
          "50-54M",
          "45-49M",
          "20-34M",
          "45-49M",
          "40-44M",
          "35-39M",
          "40-44M",
          "35-39M",
          "35-39M",
          "40-44M",
          "35-39M",
          "45-49M",
          "20-34M",
          "20-34M",
          "35-39M",
          "20-34M",
          "45-49M",
          "35-39M",
          "35-39M",
          "45-49M",
          "20-34F",
          "45-49M",
          "20-34M",
          "20-34M",
          "40-44M",
          "20-34M",
          "20-34M",
          "35-39M",
          "20-34F",
          "50-54M",
          "20-34M",
          "20-34M",
          "40-44F",
          "35-39M",
          "45-49M",
          "35-39M",
          "35-39M",
          "45-49M",
          "40-44M",
          "20-34M",
          "45-49M",
          "60-64M",
          "35-39M",
          "45-49M",
          "45-49M",
          "20-34M",
          "40-44M",
          "40-44M",
          "40-44M",
          "35-39M",
          "45-49M",
          "45-49M",
          "40-44M",
          "50-54M",
          "35-39M",
          "40-44M",
          "50-54M",
          "50-54M",
          "40-44M",
          "20-34M",
          "20-34M",
          "20-34M",
          "20-34M",
          "45-49F",
          "45-49M",
          "65-69M",
          "35-39M",
          "20-34M",
          "20-34F",
          "40-44M",
          "40-44M",
          "20-34M",
          "50-54M",
          "20-34M",
          "20-34M",
          "20-34M",
          "20-34M",
          "20-34F",
          "20-34M",
          "45-49M",
          "35-39M",
          "50-54M",
          "45-49M",
          "40-44M",
          "50-54M",
          "20-34M",
          "20-34M",
          "35-39M",
          "40-44M",
          "20-34M",
          "40-44M",
          "40-44M",
          "50-54M",
          "40-44M",
          "40-44M",
          "20-34M",
          "45-49M",
          "20-34M",
          "20-34M",
          "45-49M",
          "40-44M",
          "35-39M",
          "50-54F",
          "35-39M",
          "55-59M",
          "45-49M",
          "40-44M",
          "40-44M",
          "35-39M",
          "35-39M",
          "40-44M",
          "45-49F",
          "35-39M",
          "40-44M",
          "40-44M",
          "35-39M",
          "35-39M",
          "35-39M",
          "50-54M",
          "60-64M",
          "40-44M",
          "50-54F",
          "35-39M",
          "35-39M",
          "45-49M",
          "40-44M",
          "20-34M",
          "45-49M",
          "35-39M",
          "20-34M",
          "50-54M",
          "35-39M",
          "20-34M",
          "45-49M",
          "35-39M",
          "35-39M",
          "20-34M",
          "40-44M",
          "40-44M",
          "35-39M",
          "35-39M",
          "60-64M",
          "35-39M",
          "45-49M",
          "20-34M",
          "35-39M",
          "50-54M",
          "50-54F",
          "20-34M",
          "40-44M",
          "50-54M",
          "35-39M",
          "45-49M",
          "45-49M",
          "40-44M",
          "40-44M",
          "40-44M",
          "45-49M",
          "40-44M",
          "45-49M",
          "20-34M",
          "40-44M",
          "35-39M",
          "45-49M",
          "35-39M",
          "40-44M",
          "40-44M",
          "55-59M",
          "35-39M",
          "20-34M",
          "50-54M",
          "35-39M",
          "35-39M",
          "50-54M",
          "45-49F",
          "45-49M",
          "35-39M",
          "20-34M",
          "45-49M",
          "45-49M",
          "50-54M",
          "35-39M",
          "40-44M",
          "45-49M",
          "20-34M",
          "20-34M",
          "45-49M",
          "45-49M",
          "35-39F",
          "40-44M",
          "45-49M",
          "35-39M",
          "45-49M",
          "20-34M",
          "35-39M",
          "20-34M",
          "20-34M",
          "40-44M",
          "55-59M",
          "40-44M",
          "45-49M",
          "35-39M",
          "45-49M",
          "45-49M",
          "20-34M",
          "45-49M",
          "35-39M",
          "35-39M",
          "45-49M",
          "20-34M",
          "40-44M",
          "20-34F",
          "50-54F",
          "40-44M",
          "35-39M",
          "45-49M",
          "45-49M",
          "35-39M",
          "45-49M",
          "60-64M",
          "20-34M",
          "35-39F",
          "20-34M",
          "45-49M",
          "45-49M",
          "40-44M",
          "40-44M",
          "20-34M",
          "40-44M",
          "35-39M",
          "45-49M",
          "45-49M",
          "40-44M",
          "45-49M",
          "40-44M",
          "45-49M",
          "45-49M",
          "40-44M",
          "45-49M",
          "50-54M",
          "40-44M",
          "20-34F",
          "45-49M",
          "40-44M",
          "50-54M",
          "55-59M",
          "40-44M",
          "35-39M",
          "60-64M",
          "20-34M",
          "45-49M",
          "50-54M",
          "60-64M",
          "40-44M",
          "35-39M",
          "45-49M",
          "20-34M",
          "35-39M",
          "45-49M",
          "45-49M",
          "35-39M",
          "45-49M",
          "20-34M",
          "35-39M",
          "55-59M",
          "35-39M",
          "45-49M",
          "45-49M",
          "20-34M",
          "45-49M",
          "45-49M",
          "50-54M",
          "40-44M",
          "20-34M",
          "40-44M",
          "35-39M",
          "35-39M",
          "40-44M",
          "50-54M",
          "40-44M",
          "45-49M",
          "40-44M",
          "50-54M",
          "45-49M",
          "35-39M",
          "45-49M",
          "40-44M",
          "45-49M",
          "40-44M",
          "40-44M",
          "45-49M",
          "40-44M",
          "45-49M",
          "40-44M",
          "40-44M",
          "20-34M",
          "50-54M",
          "35-39M",
          "20-34F",
          "20-34M",
          "35-39M",
          "45-49M",
          "45-49M",
          "20-34M",
          "50-54F",
          "35-39M",
          "55-59M",
          "50-54M",
          "55-59M",
          "35-39M",
          "40-44M",
          "50-54M",
          "35-39M",
          "50-54M",
          "50-54M",
          "50-54M",
          "40-44M",
          "50-54M",
          "35-39M",
          "40-44M",
          "40-44M",
          "35-39M",
          "40-44M",
          "50-54M",
          "35-39M",
          "45-49M",
          "20-34M",
          "35-39F",
          "45-49M",
          "45-49M",
          "50-54M",
          "20-34M",
          "40-44M",
          "40-44M",
          "20-34M",
          "40-44M",
          "40-44M",
          "50-54M",
          "45-49M",
          "35-39M",
          "55-59M",
          "20-34M",
          "45-49F",
          "35-39M",
          "45-49M",
          "45-49M",
          "50-54M",
          "20-34M",
          "40-44M",
          "60-64M",
          "45-49M",
          "35-39M",
          "20-34M",
          "40-44F",
          "40-44M",
          "40-44M",
          "40-44M",
          "50-54M",
          "60-64M",
          "40-44M",
          "40-44M",
          "50-54M",
          "45-49F",
          "40-44M",
          "40-44M",
          "45-49M",
          "45-49M",
          "40-44M",
          "20-34M",
          "35-39M",
          "20-34M",
          "45-49M",
          "45-49M",
          "20-34M",
          "45-49F",
          "20-34M",
          "40-44M",
          "50-54M",
          "35-39M",
          "50-54M",
          "40-44M",
          "60-64M",
          "35-39M",
          "20-34F",
          "40-44M",
          "40-44M",
          "40-44M",
          "45-49M",
          "45-49M",
          "45-49M",
          "20-34M",
          "40-44M",
          "40-44M",
          "40-44M",
          "40-44M",
          "45-49M",
          "40-44M",
          "45-49M",
          "50-54M",
          "55-59M",
          "20-34M",
          "40-44M",
          "40-44M",
          "40-44M",
          "50-54M",
          "45-49M",
          "35-39M",
          "45-49M",
          "45-49M",
          "55-59M",
          "50-54M",
          "40-44M",
          "40-44M",
          "20-34F",
          "40-44M",
          "35-39M",
          "50-54M",
          "35-39M",
          "20-34M",
          "50-54M",
          "20-34M",
          "35-39M",
          "45-49M",
          "45-49M",
          "40-44M",
          "55-59F",
          "55-59F",
          "20-34M",
          "20-34M",
          "45-49M",
          "50-54M",
          "45-49M",
          "40-44M",
          "50-54M",
          "50-54M",
          "60-64M",
          "60-64M",
          "45-49M",
          "40-44M",
          "35-39M",
          "45-49M",
          "45-49M",
          "50-54M",
          "50-54M",
          "45-49M",
          "35-39M",
          "20-34M",
          "35-39M",
          "20-34M",
          "55-59M",
          "45-49M",
          "40-44M",
          "45-49M",
          "45-49M",
          "35-39M",
          "35-39F",
          "40-44M",
          "40-44M",
          "20-34M",
          "20-34M",
          "50-54M",
          "35-39M",
          "40-44M",
          "40-44M",
          "40-44M",
          "20-34M",
          "35-39M",
          "20-34M",
          "40-44M",
          "45-49M",
          "40-44F",
          "35-39M",
          "35-39M",
          "50-54M",
          "35-39M",
          "40-44M",
          "20-34M",
          "40-44M",
          "50-54M",
          "40-44M",
          "50-54M",
          "35-39M",
          "20-34M",
          "40-44M",
          "40-44M",
          "55-59M",
          "50-54M",
          "20-34M",
          "35-39F",
          "40-44M",
          "20-34F",
          "40-44M",
          "35-39M",
          "20-34M",
          "40-44M",
          "40-44M",
          "50-54M",
          "20-34F",
          "50-54M",
          "50-54M",
          "55-59M",
          "50-54M",
          "40-44M",
          "40-44M",
          "50-54M",
          "35-39M",
          "40-44M",
          "40-44M",
          "35-39F",
          "55-59M",
          "35-39M",
          "35-39M",
          "40-44M",
          "45-49F",
          "45-49M",
          "20-34M",
          "40-44M",
          "45-49M",
          "45-49M",
          "20-34M",
          "45-49M",
          "40-44M",
          "55-59M",
          "40-44M",
          "35-39M",
          "35-39M",
          "40-44M",
          "20-34M",
          "55-59M",
          "55-59M",
          "50-54M",
          "45-49M",
          "50-54M",
          "50-54M",
          "40-44M",
          "50-54M",
          "40-44M",
          "50-54M",
          "50-54M",
          "55-59M",
          "40-44M",
          "40-44M",
          "35-39M",
          "35-39M",
          "20-34M",
          "35-39M",
          "35-39M",
          "45-49M",
          "40-44M",
          "45-49M",
          "45-49M",
          "40-44M",
          "45-49M",
          "40-44M",
          "45-49M",
          "20-34M",
          "50-54M",
          "40-44M",
          "20-34M",
          "40-44M",
          "50-54M",
          "20-34M",
          "35-39M",
          "45-49M",
          "40-44M",
          "40-44M",
          "50-54M",
          "40-44M",
          "45-49M",
          "50-54M",
          "20-34M",
          "40-44M",
          "50-54M",
          "40-44M",
          "35-39M",
          "40-44M",
          "45-49M",
          "40-44M",
          "20-34F",
          "35-39M",
          "35-39M",
          "35-39M",
          "40-44M",
          "35-39M",
          "40-44M",
          "20-34M",
          "40-44M",
          "45-49M",
          "40-44M",
          "45-49F",
          "45-49M",
          "40-44M",
          "35-39M",
          "50-54M",
          "45-49M",
          "50-54M",
          "35-39M",
          "55-59M",
          "40-44F",
          "50-54M",
          "40-44M",
          "40-44M",
          "45-49M",
          "45-49M",
          "40-44M",
          "20-34M",
          "45-49M",
          "20-34F",
          "20-34M",
          "20-34M",
          "45-49M",
          "40-44M",
          "35-39M",
          "35-39M",
          "40-44M",
          "45-49M",
          "20-34M",
          "40-44M",
          "20-34M",
          "40-44M",
          "40-44M",
          "35-39M",
          "45-49M",
          "45-49F",
          "45-49M",
          "35-39M",
          "35-39M",
          "20-34M",
          "40-44M",
          "40-44M",
          "50-54M",
          "50-54M",
          "40-44M",
          "35-39F",
          "40-44M",
          "45-49M",
          "35-39M",
          "35-39M",
          "55-59M",
          "50-54M",
          "50-54M",
          "35-39M",
          "45-49M",
          "20-34M",
          "35-39M",
          "45-49M",
          "50-54M",
          "35-39M",
          "45-49M",
          "55-59M",
          "55-59M",
          "50-54M",
          "55-59M",
          "50-54M",
          "40-44M",
          "40-44M",
          "40-44M",
          "45-49M",
          "40-44M",
          "40-44M",
          "45-49M",
          "45-49M",
          "35-39F",
          "45-49M",
          "20-34M",
          "50-54M",
          "45-49M",
          "45-49M",
          "20-34M",
          "40-44M",
          "50-54M",
          "45-49M",
          "35-39M",
          "35-39M",
          "55-59M",
          "40-44M",
          "45-49M",
          "45-49M",
          "50-54M",
          "50-54M",
          "45-49M",
          "45-49M",
          "45-49M",
          "40-44M",
          "20-34M",
          "20-34M",
          "45-49M",
          "50-54M",
          "50-54F",
          "45-49M",
          "35-39M",
          "55-59M",
          "40-44M",
          "55-59M",
          "55-59M",
          "35-39F",
          "40-44M",
          "40-44M",
          "50-54M",
          "40-44M",
          "45-49M",
          "50-54M",
          "45-49M",
          "60-64M",
          "35-39M",
          "45-49M",
          "45-49M",
          "50-54M",
          "45-49M",
          "40-44M",
          "45-49M",
          "40-44M",
          "45-49M",
          "40-44M",
          "45-49M",
          "45-49M",
          "35-39M",
          "45-49M",
          "45-49M",
          "50-54M",
          "50-54M",
          "50-54M",
          "20-34M",
          "45-49M",
          "50-54M",
          "45-49M",
          "40-44M",
          "40-44M",
          "45-49M",
          "40-44M",
          "55-59M",
          "45-49M",
          "45-49M",
          "40-44M",
          "20-34M",
          "40-44M",
          "45-49M",
          "50-54M",
          "45-49M",
          "40-44M",
          "50-54M",
          "55-59M",
          "60-64M",
          "45-49M",
          "45-49M",
          "55-59M",
          "55-59M",
          "50-54M",
          "45-49M",
          "40-44M",
          "55-59M",
          "50-54M",
          "40-44M",
          "45-49F",
          "35-39M",
          "45-49F",
          "20-34M",
          "40-44M",
          "20-34M",
          "45-49M",
          "45-49F",
          "35-39M",
          "45-49M",
          "50-54M",
          "20-34M",
          "20-34M",
          "55-59M",
          "35-39M",
          "40-44M",
          "20-34M",
          "50-54M",
          "35-39M",
          "40-44M",
          "35-39M",
          "45-49M",
          "45-49M",
          "55-59M",
          "40-44M",
          "20-34M",
          "20-34M",
          "45-49M",
          "45-49M",
          "50-54M",
          "55-59M",
          "45-49M",
          "55-59M",
          "40-44M",
          "40-44M",
          "45-49M",
          "40-44M",
          "40-44M",
          "40-44M",
          "35-39M",
          "40-44F",
          "40-44M",
          "40-44M",
          "40-44M",
          "55-59M",
          "50-54M",
          "40-44M",
          "20-34M",
          "40-44M",
          "45-49M",
          "45-49M",
          "55-59M",
          "40-44M",
          "45-49M",
          "40-44M",
          "20-34M",
          "40-44M",
          "20-34M",
          "50-54M",
          "40-44M",
          "45-49M",
          "55-59M",
          "50-54M",
          "20-34M",
          "40-44M",
          "45-49M",
          "55-59M",
          "40-44M",
          "50-54M",
          "35-39F",
          "40-44M",
          "35-39M",
          "50-54M",
          "45-49M",
          "40-44M",
          "45-49M",
          "50-54M",
          "45-49M",
          "50-54M",
          "20-34M",
          "45-49M",
          "55-59M",
          "40-44M",
          "20-34M",
          "45-49M",
          "40-44M",
          "35-39M",
          "40-44M",
          "40-44M",
          "45-49M",
          "45-49F",
          "35-39M",
          "50-54M",
          "50-54M",
          "45-49M",
          "50-54M",
          "45-49M",
          "50-54M",
          "50-54F",
          "45-49M",
          "35-39M",
          "35-39M",
          "40-44M",
          "20-34M",
          "20-34M",
          "55-59M",
          "40-44M",
          "45-49M",
          "45-49M",
          "45-49M",
          "50-54M",
          "45-49M",
          "40-44M",
          "20-34M",
          "45-49M",
          "45-49M",
          "45-49M",
          "40-44M",
          "45-49M",
          "50-54M",
          "45-49M",
          "50-54M",
          "50-54M",
          "55-59M",
          "45-49M",
          "45-49M",
          "45-49M",
          "40-44M",
          "45-49M",
          "40-44M",
          "40-44M",
          "45-49M",
          "50-54M",
          "50-54M",
          "35-39M",
          "35-39M",
          "55-59M",
          "45-49M",
          "35-39M",
          "50-54M",
          "50-54M",
          "45-49M",
          "40-44M",
          "45-49M",
          "40-44M",
          "40-44M",
          "35-39M",
          "20-34F",
          "60-64M",
          "20-34M",
          "45-49M",
          "45-49M",
          "45-49M",
          "40-44M",
          "35-39M",
          "45-49M",
          "55-59M",
          "20-34M",
          "45-49M",
          "45-49M",
          "40-44M",
          "55-59M",
          "20-34F",
          "35-39M",
          "40-44M",
          "35-39M",
          "45-49M",
          "45-49M",
          "40-44M",
          "55-59M",
          "50-54M",
          "40-44M",
          "50-54M",
          "55-59M",
          "50-54M",
          "45-49F",
          "45-49M",
          "50-54M",
          "40-44M",
          "50-54M",
          "35-39M",
          "45-49M",
          "50-54M",
          "65-69M",
          "45-49M",
          "50-54M",
          "50-54M",
          "40-44M",
          "45-49M",
          "40-44M",
          "45-49M",
          "35-39M",
          "45-49M",
          "45-49M",
          "40-44M",
          "45-49M",
          "45-49M",
          "40-44M",
          "45-49M",
          "45-49M",
          "50-54M",
          "35-39M",
          "45-49F",
          "40-44M",
          "55-59M",
          "35-39M",
          "35-39M",
          "40-44M",
          "35-39M",
          "20-34M",
          "45-49M",
          "40-44M",
          "55-59M",
          "20-34M",
          "35-39M",
          "50-54M",
          "35-39M",
          "50-54M",
          "40-44M",
          "20-34M",
          "20-34M",
          "40-44M",
          "35-39M",
          "45-49M",
          "50-54M",
          "45-49M",
          "45-49M",
          "40-44M",
          "40-44M",
          "50-54M",
          "40-44M",
          "60-64M",
          "40-44M",
          "45-49M",
          "40-44M",
          "45-49M",
          "50-54M",
          "20-34M",
          "35-39M",
          "60-64M",
          "35-39M",
          "40-44M",
          "45-49M",
          "20-34M",
          "35-39M",
          "45-49M",
          "45-49M",
          "20-34M",
          "45-49M",
          "50-54M",
          "55-59M",
          "50-54M",
          "45-49M",
          "50-54M",
          "55-59M",
          "60-64M",
          "55-59M",
          "20-34M",
          "20-34M",
          "40-44M",
          "45-49M",
          "50-54M",
          "50-54M",
          "45-49M",
          "55-59M",
          "45-49M",
          "45-49M",
          "45-49M",
          "40-44M",
          "50-54M",
          "40-44M",
          "35-39M",
          "35-39M",
          "50-54M",
          "45-49M",
          "50-54M",
          "45-49M",
          "45-49F",
          "60-64M",
          "45-49F",
          "40-44M",
          "45-49M",
          "20-34F",
          "45-49M",
          "50-54M",
          "35-39M",
          "40-44M",
          "40-44M",
          "45-49M",
          "35-39M",
          "55-59M",
          "40-44M",
          "50-54M",
          "60-64M",
          "45-49M",
          "35-39F",
          "45-49M",
          "20-34M",
          "45-49M",
          "45-49M",
          "50-54M",
          "45-49M",
          "50-54M",
          "20-34M",
          "45-49M",
          "35-39F",
          "40-44M",
          "45-49F",
          "35-39M",
          "40-44M",
          "35-39M",
          "35-39M",
          "50-54F",
          "50-54M",
          "40-44M",
          "50-54M",
          "55-59M",
          "40-44M",
          "50-54F",
          "55-59M",
          "45-49M",
          "45-49M",
          "50-54M",
          "45-49M",
          "40-44M",
          "40-44M",
          "50-54M",
          "45-49M",
          "35-39M",
          "45-49M",
          "45-49M",
          "40-44M",
          "50-54M",
          "40-44F",
          "45-49M",
          "50-54M",
          "50-54M",
          "35-39M",
          "40-44F",
          "55-59M",
          "45-49M",
          "55-59M",
          "35-39M",
          "20-34M",
          "60-64M",
          "45-49M",
          "50-54M",
          "40-44M",
          "50-54F",
          "45-49M",
          "40-44M",
          "35-39M",
          "40-44M",
          "45-49F",
          "50-54M",
          "40-44M",
          "35-39M",
          "35-39M",
          "40-44M",
          "45-49M",
          "35-39M",
          "45-49M",
          "40-44M",
          "50-54M",
          "50-54M",
          "40-44M",
          "35-39M",
          "40-44M",
          "35-39M",
          "45-49M",
          "50-54M",
          "20-34M",
          "55-59M",
          "45-49M",
          "40-44M",
          "45-49M",
          "40-44M",
          "40-44M",
          "45-49M",
          "45-49M",
          "45-49M",
          "20-34M",
          "45-49M",
          "50-54F",
          "40-44M",
          "45-49M",
          "40-44M",
          "20-34M",
          "45-49M",
          "45-49M",
          "45-49M",
          "55-59M",
          "50-54F",
          "45-49F",
          "45-49M",
          "45-49M",
          "40-44M",
          "50-54M",
          "40-44M",
          "45-49M",
          "35-39M",
          "35-39M",
          "55-59M",
          "45-49M",
          "40-44M",
          "35-39F",
          "45-49M",
          "50-54M",
          "45-49M",
          "50-54M",
          "35-39M",
          "45-49M",
          "55-59M",
          "55-59M",
          "35-39M",
          "45-49M",
          "45-49M",
          "45-49M",
          "45-49M",
          "35-39M",
          "45-49M",
          "45-49F",
          "40-44M",
          "50-54F",
          "45-49M",
          "55-59M",
          "50-54M",
          "50-54M",
          "50-54M",
          "40-44M",
          "40-44M",
          "50-54M",
          "45-49M",
          "50-54M",
          "40-44M",
          "50-54M",
          "45-49M",
          "35-39M",
          "45-49M",
          "50-54M",
          "45-49M",
          "55-59M",
          "55-59M",
          "40-44M",
          "45-49M",
          "45-49M",
          "40-44M",
          "40-44M",
          "35-39M",
          "20-34M",
          "50-54M",
          "40-44M",
          "40-44M",
          "50-54M",
          "45-49M",
          "35-39M",
          "40-44M",
          "20-34M",
          "55-59M",
          "45-49M",
          "40-44M",
          "45-49M",
          "35-39M",
          "45-49M",
          "50-54M",
          "20-34M",
          "45-49M",
          "45-49M",
          "45-49M",
          "50-54M",
          "50-54F",
          "60-64M",
          "20-34M",
          "40-44M",
          "50-54M",
          "20-34M",
          "40-44M",
          "45-49M",
          "40-44M",
          "45-49M",
          "45-49M",
          "40-44F",
          "35-39F",
          "50-54M",
          "55-59M",
          "40-44M",
          "45-49M",
          "40-44M",
          "35-39M",
          "35-39M",
          "35-39F",
          "40-44M",
          "55-59M",
          "40-44F",
          "45-49M",
          "20-34M",
          "35-39M",
          "45-49M",
          "50-54M",
          "50-54M",
          "40-44M",
          "45-49M",
          "40-44M",
          "40-44M",
          "50-54M",
          "45-49M",
          "55-59M",
          "50-54M",
          "45-49M",
          "50-54M",
          "40-44M",
          "35-39M",
          "35-39M",
          "40-44M",
          "50-54M",
          "35-39M",
          "65-69M",
          "50-54M",
          "40-44M",
          "50-54M",
          "50-54M",
          "55-59M",
          "45-49M",
          "45-49F",
          "20-34M",
          "50-54M",
          "40-44M",
          "40-44F",
          "50-54M",
          "55-59F",
          "45-49M",
          "50-54M",
          "45-49M",
          "55-59M",
          "40-44M",
          "45-49M",
          "50-54M",
          "40-44M",
          "35-39M",
          "60-64M",
          "45-49M",
          "55-59M",
          "40-44M",
          "50-54M",
          "55-59M",
          "35-39M",
          "45-49M",
          "45-49M",
          "40-44M",
          "50-54F",
          "45-49M",
          "40-44M",
          "35-39M",
          "35-39M",
          "40-44M",
          "20-34M",
          "50-54F",
          "50-54M",
          "45-49M",
          "50-54M",
          "45-49M",
          "45-49M",
          "45-49M",
          "20-34M",
          "55-59M",
          "50-54M",
          "45-49M",
          "35-39M",
          "35-39F",
          "40-44M",
          "60-64M",
          "40-44M",
          "40-44M",
          "50-54F",
          "45-49M",
          "20-34M",
          "55-59M",
          "70-74M",
          "20-34F",
          "45-49M",
          "45-49M",
          "50-54M",
          "45-49M",
          "35-39M",
          "40-44M",
          "40-44M",
          "40-44M",
          "35-39M",
          "45-49M",
          "35-39M",
          "40-44M",
          "35-39M",
          "40-44M",
          "45-49M",
          "35-39M",
          "50-54F",
          "40-44M",
          "50-54M",
          "55-59M",
          "50-54M",
          "50-54M",
          "45-49M",
          "40-44F",
          "35-39M",
          "50-54M",
          "50-54M",
          "60-64M",
          "45-49M",
          "40-44M",
          "40-44M",
          "45-49M",
          "35-39M",
          "50-54M",
          "40-44M",
          "35-39M",
          "50-54M",
          "55-59M",
          "40-44M",
          "40-44M",
          "35-39M",
          "40-44M",
          "45-49M",
          "45-49M",
          "40-44M",
          "45-49M",
          "45-49M",
          "40-44M",
          "65-69M",
          "35-39M",
          "60-64M",
          "40-44M",
          "50-54M",
          "40-44F",
          "40-44M",
          "45-49M",
          "50-54M",
          "35-39M",
          "20-34F",
          "45-49F",
          "45-49F",
          "40-44M",
          "45-49M",
          "50-54M",
          "50-54M",
          "35-39M",
          "35-39M",
          "35-39M",
          "50-54M",
          "50-54M",
          "40-44F",
          "45-49M",
          "55-59M",
          "45-49M",
          "50-54M",
          "50-54M",
          "35-39M",
          "55-59F",
          "35-39M",
          "45-49F",
          "45-49F",
          "45-49F",
          "40-44F",
          "50-54M",
          "45-49M",
          "35-39M",
          "45-49M",
          "35-39M",
          "45-49M",
          "40-44M",
          "45-49M",
          "55-59M",
          "40-44M",
          "40-44M",
          "50-54M",
          "40-44M",
          "40-44F",
          "20-34M",
          "20-34M",
          "55-59M",
          "40-44M",
          "20-34M",
          "40-44M",
          "55-59M",
          "55-59M",
          "55-59M",
          "55-59M",
          "50-54M",
          "40-44M",
          "45-49F",
          "45-49M",
          "35-39M",
          "45-49M",
          "45-49M",
          "45-49M",
          "40-44F",
          "65-69M",
          "45-49M",
          "45-49M",
          "35-39M",
          "40-44M",
          "40-44M",
          "40-44M",
          "45-49M",
          "50-54M",
          "40-44M",
          "55-59M",
          "55-59F",
          "45-49M",
          "40-44M",
          "40-44M",
          "50-54F",
          "40-44M",
          "40-44M",
          "55-59M",
          "45-49M",
          "60-64F",
          "40-44M",
          "60-64M",
          "45-49M",
          "35-39M",
          "55-59F",
          "45-49F",
          "50-54M",
          "40-44M",
          "55-59M",
          "35-39M",
          "45-49M",
          "45-49M",
          "35-39M",
          "35-39M",
          "45-49M",
          "55-59M",
          "45-49M",
          "40-44M",
          "50-54F",
          "45-49M",
          "40-44M",
          "55-59M",
          "55-59M",
          "55-59M",
          "45-49M",
          "40-44M",
          "45-49M",
          "45-49M",
          "40-44M",
          "45-49M",
          "45-49M",
          "45-49M",
          "20-34F",
          "40-44F",
          "35-39F",
          "45-49M",
          "45-49M",
          "20-34M",
          "40-44M",
          "40-44M",
          "40-44M",
          "45-49M",
          "40-44M",
          "50-54M",
          "50-54M",
          "40-44M",
          "55-59M",
          "45-49M",
          "50-54M",
          "40-44M",
          "50-54M",
          "40-44M",
          "40-44M",
          "50-54M",
          "45-49M",
          "45-49M",
          "40-44M",
          "35-39M",
          "60-64M",
          "55-59F",
          "50-54M",
          "40-44M",
          "50-54M",
          "50-54M",
          "50-54M",
          "50-54M",
          "50-54M",
          "45-49M",
          "45-49F",
          "45-49M",
          "55-59M",
          "55-59M",
          "45-49M",
          "50-54M",
          "40-44M",
          "55-59M",
          "45-49M",
          "20-34M",
          "45-49M",
          "20-34M",
          "50-54M",
          "45-49M",
          "50-54M",
          "65-69M",
          "40-44M",
          "35-39M",
          "45-49M",
          "35-39M",
          "40-44M",
          "40-44M",
          "35-39M",
          "35-39M",
          "40-44M",
          "40-44M",
          "40-44F",
          "50-54M",
          "50-54M",
          "50-54F",
          "35-39M",
          "40-44M",
          "40-44M",
          "60-64F",
          "40-44M",
          "50-54M",
          "45-49M",
          "40-44M",
          "40-44M",
          "40-44F",
          "50-54F",
          "55-59M",
          "45-49M",
          "20-34M",
          "60-64M",
          "35-39F",
          "60-64M",
          "50-54F",
          "35-39M",
          "45-49M",
          "40-44M",
          "45-49M",
          "55-59M",
          "45-49F",
          "40-44M",
          "50-54M",
          "40-44M",
          "35-39F",
          "55-59M",
          "50-54M"
         ],
         "xaxis": "x",
         "yaxis": "y"
        }
       ],
       "layout": {
        "barmode": "relative",
        "legend": {
         "tracegroupgap": 0
        },
        "margin": {
         "t": 60
        },
        "template": {
         "data": {
          "bar": [
           {
            "error_x": {
             "color": "#2a3f5f"
            },
            "error_y": {
             "color": "#2a3f5f"
            },
            "marker": {
             "line": {
              "color": "#E5ECF6",
              "width": 0.5
             },
             "pattern": {
              "fillmode": "overlay",
              "size": 10,
              "solidity": 0.2
             }
            },
            "type": "bar"
           }
          ],
          "barpolar": [
           {
            "marker": {
             "line": {
              "color": "#E5ECF6",
              "width": 0.5
             },
             "pattern": {
              "fillmode": "overlay",
              "size": 10,
              "solidity": 0.2
             }
            },
            "type": "barpolar"
           }
          ],
          "carpet": [
           {
            "aaxis": {
             "endlinecolor": "#2a3f5f",
             "gridcolor": "white",
             "linecolor": "white",
             "minorgridcolor": "white",
             "startlinecolor": "#2a3f5f"
            },
            "baxis": {
             "endlinecolor": "#2a3f5f",
             "gridcolor": "white",
             "linecolor": "white",
             "minorgridcolor": "white",
             "startlinecolor": "#2a3f5f"
            },
            "type": "carpet"
           }
          ],
          "choropleth": [
           {
            "colorbar": {
             "outlinewidth": 0,
             "ticks": ""
            },
            "type": "choropleth"
           }
          ],
          "contour": [
           {
            "colorbar": {
             "outlinewidth": 0,
             "ticks": ""
            },
            "colorscale": [
             [
              0,
              "#0d0887"
             ],
             [
              0.1111111111111111,
              "#46039f"
             ],
             [
              0.2222222222222222,
              "#7201a8"
             ],
             [
              0.3333333333333333,
              "#9c179e"
             ],
             [
              0.4444444444444444,
              "#bd3786"
             ],
             [
              0.5555555555555556,
              "#d8576b"
             ],
             [
              0.6666666666666666,
              "#ed7953"
             ],
             [
              0.7777777777777778,
              "#fb9f3a"
             ],
             [
              0.8888888888888888,
              "#fdca26"
             ],
             [
              1,
              "#f0f921"
             ]
            ],
            "type": "contour"
           }
          ],
          "contourcarpet": [
           {
            "colorbar": {
             "outlinewidth": 0,
             "ticks": ""
            },
            "type": "contourcarpet"
           }
          ],
          "heatmap": [
           {
            "colorbar": {
             "outlinewidth": 0,
             "ticks": ""
            },
            "colorscale": [
             [
              0,
              "#0d0887"
             ],
             [
              0.1111111111111111,
              "#46039f"
             ],
             [
              0.2222222222222222,
              "#7201a8"
             ],
             [
              0.3333333333333333,
              "#9c179e"
             ],
             [
              0.4444444444444444,
              "#bd3786"
             ],
             [
              0.5555555555555556,
              "#d8576b"
             ],
             [
              0.6666666666666666,
              "#ed7953"
             ],
             [
              0.7777777777777778,
              "#fb9f3a"
             ],
             [
              0.8888888888888888,
              "#fdca26"
             ],
             [
              1,
              "#f0f921"
             ]
            ],
            "type": "heatmap"
           }
          ],
          "heatmapgl": [
           {
            "colorbar": {
             "outlinewidth": 0,
             "ticks": ""
            },
            "colorscale": [
             [
              0,
              "#0d0887"
             ],
             [
              0.1111111111111111,
              "#46039f"
             ],
             [
              0.2222222222222222,
              "#7201a8"
             ],
             [
              0.3333333333333333,
              "#9c179e"
             ],
             [
              0.4444444444444444,
              "#bd3786"
             ],
             [
              0.5555555555555556,
              "#d8576b"
             ],
             [
              0.6666666666666666,
              "#ed7953"
             ],
             [
              0.7777777777777778,
              "#fb9f3a"
             ],
             [
              0.8888888888888888,
              "#fdca26"
             ],
             [
              1,
              "#f0f921"
             ]
            ],
            "type": "heatmapgl"
           }
          ],
          "histogram": [
           {
            "marker": {
             "pattern": {
              "fillmode": "overlay",
              "size": 10,
              "solidity": 0.2
             }
            },
            "type": "histogram"
           }
          ],
          "histogram2d": [
           {
            "colorbar": {
             "outlinewidth": 0,
             "ticks": ""
            },
            "colorscale": [
             [
              0,
              "#0d0887"
             ],
             [
              0.1111111111111111,
              "#46039f"
             ],
             [
              0.2222222222222222,
              "#7201a8"
             ],
             [
              0.3333333333333333,
              "#9c179e"
             ],
             [
              0.4444444444444444,
              "#bd3786"
             ],
             [
              0.5555555555555556,
              "#d8576b"
             ],
             [
              0.6666666666666666,
              "#ed7953"
             ],
             [
              0.7777777777777778,
              "#fb9f3a"
             ],
             [
              0.8888888888888888,
              "#fdca26"
             ],
             [
              1,
              "#f0f921"
             ]
            ],
            "type": "histogram2d"
           }
          ],
          "histogram2dcontour": [
           {
            "colorbar": {
             "outlinewidth": 0,
             "ticks": ""
            },
            "colorscale": [
             [
              0,
              "#0d0887"
             ],
             [
              0.1111111111111111,
              "#46039f"
             ],
             [
              0.2222222222222222,
              "#7201a8"
             ],
             [
              0.3333333333333333,
              "#9c179e"
             ],
             [
              0.4444444444444444,
              "#bd3786"
             ],
             [
              0.5555555555555556,
              "#d8576b"
             ],
             [
              0.6666666666666666,
              "#ed7953"
             ],
             [
              0.7777777777777778,
              "#fb9f3a"
             ],
             [
              0.8888888888888888,
              "#fdca26"
             ],
             [
              1,
              "#f0f921"
             ]
            ],
            "type": "histogram2dcontour"
           }
          ],
          "mesh3d": [
           {
            "colorbar": {
             "outlinewidth": 0,
             "ticks": ""
            },
            "type": "mesh3d"
           }
          ],
          "parcoords": [
           {
            "line": {
             "colorbar": {
              "outlinewidth": 0,
              "ticks": ""
             }
            },
            "type": "parcoords"
           }
          ],
          "pie": [
           {
            "automargin": true,
            "type": "pie"
           }
          ],
          "scatter": [
           {
            "fillpattern": {
             "fillmode": "overlay",
             "size": 10,
             "solidity": 0.2
            },
            "type": "scatter"
           }
          ],
          "scatter3d": [
           {
            "line": {
             "colorbar": {
              "outlinewidth": 0,
              "ticks": ""
             }
            },
            "marker": {
             "colorbar": {
              "outlinewidth": 0,
              "ticks": ""
             }
            },
            "type": "scatter3d"
           }
          ],
          "scattercarpet": [
           {
            "marker": {
             "colorbar": {
              "outlinewidth": 0,
              "ticks": ""
             }
            },
            "type": "scattercarpet"
           }
          ],
          "scattergeo": [
           {
            "marker": {
             "colorbar": {
              "outlinewidth": 0,
              "ticks": ""
             }
            },
            "type": "scattergeo"
           }
          ],
          "scattergl": [
           {
            "marker": {
             "colorbar": {
              "outlinewidth": 0,
              "ticks": ""
             }
            },
            "type": "scattergl"
           }
          ],
          "scattermapbox": [
           {
            "marker": {
             "colorbar": {
              "outlinewidth": 0,
              "ticks": ""
             }
            },
            "type": "scattermapbox"
           }
          ],
          "scatterpolar": [
           {
            "marker": {
             "colorbar": {
              "outlinewidth": 0,
              "ticks": ""
             }
            },
            "type": "scatterpolar"
           }
          ],
          "scatterpolargl": [
           {
            "marker": {
             "colorbar": {
              "outlinewidth": 0,
              "ticks": ""
             }
            },
            "type": "scatterpolargl"
           }
          ],
          "scatterternary": [
           {
            "marker": {
             "colorbar": {
              "outlinewidth": 0,
              "ticks": ""
             }
            },
            "type": "scatterternary"
           }
          ],
          "surface": [
           {
            "colorbar": {
             "outlinewidth": 0,
             "ticks": ""
            },
            "colorscale": [
             [
              0,
              "#0d0887"
             ],
             [
              0.1111111111111111,
              "#46039f"
             ],
             [
              0.2222222222222222,
              "#7201a8"
             ],
             [
              0.3333333333333333,
              "#9c179e"
             ],
             [
              0.4444444444444444,
              "#bd3786"
             ],
             [
              0.5555555555555556,
              "#d8576b"
             ],
             [
              0.6666666666666666,
              "#ed7953"
             ],
             [
              0.7777777777777778,
              "#fb9f3a"
             ],
             [
              0.8888888888888888,
              "#fdca26"
             ],
             [
              1,
              "#f0f921"
             ]
            ],
            "type": "surface"
           }
          ],
          "table": [
           {
            "cells": {
             "fill": {
              "color": "#EBF0F8"
             },
             "line": {
              "color": "white"
             }
            },
            "header": {
             "fill": {
              "color": "#C8D4E3"
             },
             "line": {
              "color": "white"
             }
            },
            "type": "table"
           }
          ]
         },
         "layout": {
          "annotationdefaults": {
           "arrowcolor": "#2a3f5f",
           "arrowhead": 0,
           "arrowwidth": 1
          },
          "autotypenumbers": "strict",
          "coloraxis": {
           "colorbar": {
            "outlinewidth": 0,
            "ticks": ""
           }
          },
          "colorscale": {
           "diverging": [
            [
             0,
             "#8e0152"
            ],
            [
             0.1,
             "#c51b7d"
            ],
            [
             0.2,
             "#de77ae"
            ],
            [
             0.3,
             "#f1b6da"
            ],
            [
             0.4,
             "#fde0ef"
            ],
            [
             0.5,
             "#f7f7f7"
            ],
            [
             0.6,
             "#e6f5d0"
            ],
            [
             0.7,
             "#b8e186"
            ],
            [
             0.8,
             "#7fbc41"
            ],
            [
             0.9,
             "#4d9221"
            ],
            [
             1,
             "#276419"
            ]
           ],
           "sequential": [
            [
             0,
             "#0d0887"
            ],
            [
             0.1111111111111111,
             "#46039f"
            ],
            [
             0.2222222222222222,
             "#7201a8"
            ],
            [
             0.3333333333333333,
             "#9c179e"
            ],
            [
             0.4444444444444444,
             "#bd3786"
            ],
            [
             0.5555555555555556,
             "#d8576b"
            ],
            [
             0.6666666666666666,
             "#ed7953"
            ],
            [
             0.7777777777777778,
             "#fb9f3a"
            ],
            [
             0.8888888888888888,
             "#fdca26"
            ],
            [
             1,
             "#f0f921"
            ]
           ],
           "sequentialminus": [
            [
             0,
             "#0d0887"
            ],
            [
             0.1111111111111111,
             "#46039f"
            ],
            [
             0.2222222222222222,
             "#7201a8"
            ],
            [
             0.3333333333333333,
             "#9c179e"
            ],
            [
             0.4444444444444444,
             "#bd3786"
            ],
            [
             0.5555555555555556,
             "#d8576b"
            ],
            [
             0.6666666666666666,
             "#ed7953"
            ],
            [
             0.7777777777777778,
             "#fb9f3a"
            ],
            [
             0.8888888888888888,
             "#fdca26"
            ],
            [
             1,
             "#f0f921"
            ]
           ]
          },
          "colorway": [
           "#636efa",
           "#EF553B",
           "#00cc96",
           "#ab63fa",
           "#FFA15A",
           "#19d3f3",
           "#FF6692",
           "#B6E880",
           "#FF97FF",
           "#FECB52"
          ],
          "font": {
           "color": "#2a3f5f"
          },
          "geo": {
           "bgcolor": "white",
           "lakecolor": "white",
           "landcolor": "#E5ECF6",
           "showlakes": true,
           "showland": true,
           "subunitcolor": "white"
          },
          "hoverlabel": {
           "align": "left"
          },
          "hovermode": "closest",
          "mapbox": {
           "style": "light"
          },
          "paper_bgcolor": "white",
          "plot_bgcolor": "#E5ECF6",
          "polar": {
           "angularaxis": {
            "gridcolor": "white",
            "linecolor": "white",
            "ticks": ""
           },
           "bgcolor": "#E5ECF6",
           "radialaxis": {
            "gridcolor": "white",
            "linecolor": "white",
            "ticks": ""
           }
          },
          "scene": {
           "xaxis": {
            "backgroundcolor": "#E5ECF6",
            "gridcolor": "white",
            "gridwidth": 2,
            "linecolor": "white",
            "showbackground": true,
            "ticks": "",
            "zerolinecolor": "white"
           },
           "yaxis": {
            "backgroundcolor": "#E5ECF6",
            "gridcolor": "white",
            "gridwidth": 2,
            "linecolor": "white",
            "showbackground": true,
            "ticks": "",
            "zerolinecolor": "white"
           },
           "zaxis": {
            "backgroundcolor": "#E5ECF6",
            "gridcolor": "white",
            "gridwidth": 2,
            "linecolor": "white",
            "showbackground": true,
            "ticks": "",
            "zerolinecolor": "white"
           }
          },
          "shapedefaults": {
           "line": {
            "color": "#2a3f5f"
           }
          },
          "ternary": {
           "aaxis": {
            "gridcolor": "white",
            "linecolor": "white",
            "ticks": ""
           },
           "baxis": {
            "gridcolor": "white",
            "linecolor": "white",
            "ticks": ""
           },
           "bgcolor": "#E5ECF6",
           "caxis": {
            "gridcolor": "white",
            "linecolor": "white",
            "ticks": ""
           }
          },
          "title": {
           "x": 0.05
          },
          "xaxis": {
           "automargin": true,
           "gridcolor": "white",
           "linecolor": "white",
           "ticks": "",
           "title": {
            "standoff": 15
           },
           "zerolinecolor": "white",
           "zerolinewidth": 2
          },
          "yaxis": {
           "automargin": true,
           "gridcolor": "white",
           "linecolor": "white",
           "ticks": "",
           "title": {
            "standoff": 15
           },
           "zerolinecolor": "white",
           "zerolinewidth": 2
          }
         }
        },
        "xaxis": {
         "anchor": "y",
         "domain": [
          0,
          1
         ],
         "title": {
          "text": "info_category"
         }
        },
        "yaxis": {
         "anchor": "x",
         "domain": [
          0,
          1
         ],
         "title": {
          "text": "count"
         }
        }
       }
      },
      "text/html": [
       "<div>                            <div id=\"2ca2170d-d418-4f57-9026-16ec691f1c87\" class=\"plotly-graph-div\" style=\"height:525px; width:100%;\"></div>            <script type=\"text/javascript\">                require([\"plotly\"], function(Plotly) {                    window.PLOTLYENV=window.PLOTLYENV || {};                                    if (document.getElementById(\"2ca2170d-d418-4f57-9026-16ec691f1c87\")) {                    Plotly.newPlot(                        \"2ca2170d-d418-4f57-9026-16ec691f1c87\",                        [{\"alignmentgroup\":\"True\",\"bingroup\":\"x\",\"hovertemplate\":\"info_category=%{x}<br>count=%{y}<extra></extra>\",\"legendgroup\":\"\",\"marker\":{\"color\":\"#636efa\",\"pattern\":{\"shape\":\"\"}},\"name\":\"\",\"offsetgroup\":\"\",\"orientation\":\"v\",\"showlegend\":false,\"x\":[\"35-39M\",\"35-39M\",\"20-34M\",\"20-34M\",\"20-34M\",\"40-44M\",\"20-34M\",\"35-39M\",\"20-34M\",\"20-34M\",\"40-44M\",\"20-34M\",\"40-44M\",\"35-39M\",\"35-39M\",\"20-34M\",\"35-39M\",\"20-34M\",\"40-44M\",\"20-34M\",\"20-34M\",\"20-34F\",\"20-34M\",\"40-44M\",\"20-34M\",\"20-34M\",\"20-34M\",\"20-34M\",\"35-39M\",\"20-34M\",\"20-34M\",\"35-39M\",\"35-39M\",\"40-44M\",\"35-39M\",\"35-39M\",\"20-34M\",\"35-39M\",\"20-34M\",\"20-34F\",\"45-49M\",\"45-49M\",\"40-44M\",\"40-44M\",\"35-39M\",\"20-34M\",\"20-34F\",\"20-34M\",\"20-34M\",\"40-44M\",\"45-49M\",\"35-39M\",\"35-39M\",\"40-44M\",\"35-39M\",\"40-44M\",\"55-59M\",\"35-39M\",\"35-39M\",\"45-49F\",\"40-44M\",\"35-39F\",\"35-39M\",\"20-34M\",\"45-49M\",\"35-39M\",\"20-34F\",\"45-49M\",\"40-44M\",\"40-44M\",\"45-49M\",\"40-44M\",\"40-44M\",\"40-44M\",\"20-34F\",\"35-39M\",\"40-44F\",\"45-49M\",\"35-39M\",\"20-34M\",\"40-44M\",\"45-49F\",\"35-39M\",\"20-34M\",\"35-39M\",\"35-39M\",\"20-34M\",\"40-44M\",\"20-34M\",\"20-34M\",\"35-39M\",\"40-44M\",\"20-34M\",\"45-49M\",\"20-34M\",\"35-39M\",\"40-44F\",\"45-49M\",\"35-39F\",\"20-34M\",\"40-44M\",\"20-34M\",\"20-34M\",\"40-44M\",\"20-34M\",\"20-34M\",\"40-44M\",\"35-39M\",\"35-39F\",\"40-44M\",\"45-49M\",\"20-34M\",\"35-39M\",\"20-34M\",\"40-44M\",\"20-34M\",\"35-39M\",\"35-39M\",\"40-44M\",\"35-39M\",\"40-44M\",\"45-49F\",\"35-39M\",\"50-54M\",\"40-44M\",\"40-44M\",\"40-44M\",\"20-34M\",\"40-44M\",\"50-54M\",\"20-34M\",\"20-34F\",\"40-44F\",\"35-39M\",\"40-44M\",\"50-54M\",\"40-44M\",\"35-39M\",\"35-39M\",\"20-34M\",\"20-34M\",\"35-39M\",\"20-34F\",\"50-54M\",\"45-49M\",\"45-49M\",\"35-39M\",\"40-44M\",\"20-34M\",\"40-44M\",\"35-39M\",\"35-39M\",\"45-49M\",\"35-39M\",\"40-44M\",\"35-39M\",\"20-34M\",\"35-39M\",\"50-54M\",\"40-44M\",\"40-44M\",\"40-44M\",\"35-39M\",\"50-54M\",\"20-34M\",\"35-39M\",\"50-54M\",\"40-44M\",\"40-44M\",\"40-44M\",\"20-34M\",\"40-44M\",\"50-54F\",\"45-49M\",\"35-39M\",\"45-49M\",\"35-39M\",\"35-39M\",\"45-49M\",\"35-39M\",\"35-39M\",\"35-39M\",\"20-34F\",\"20-34M\",\"40-44M\",\"35-39M\",\"40-44F\",\"40-44M\",\"20-34M\",\"35-39M\",\"35-39M\",\"40-44M\",\"50-54M\",\"45-49M\",\"20-34M\",\"45-49M\",\"40-44M\",\"35-39M\",\"40-44M\",\"35-39M\",\"35-39M\",\"40-44M\",\"35-39M\",\"45-49M\",\"20-34M\",\"20-34M\",\"35-39M\",\"20-34M\",\"45-49M\",\"35-39M\",\"35-39M\",\"45-49M\",\"20-34F\",\"45-49M\",\"20-34M\",\"20-34M\",\"40-44M\",\"20-34M\",\"20-34M\",\"35-39M\",\"20-34F\",\"50-54M\",\"20-34M\",\"20-34M\",\"40-44F\",\"35-39M\",\"45-49M\",\"35-39M\",\"35-39M\",\"45-49M\",\"40-44M\",\"20-34M\",\"45-49M\",\"60-64M\",\"35-39M\",\"45-49M\",\"45-49M\",\"20-34M\",\"40-44M\",\"40-44M\",\"40-44M\",\"35-39M\",\"45-49M\",\"45-49M\",\"40-44M\",\"50-54M\",\"35-39M\",\"40-44M\",\"50-54M\",\"50-54M\",\"40-44M\",\"20-34M\",\"20-34M\",\"20-34M\",\"20-34M\",\"45-49F\",\"45-49M\",\"65-69M\",\"35-39M\",\"20-34M\",\"20-34F\",\"40-44M\",\"40-44M\",\"20-34M\",\"50-54M\",\"20-34M\",\"20-34M\",\"20-34M\",\"20-34M\",\"20-34F\",\"20-34M\",\"45-49M\",\"35-39M\",\"50-54M\",\"45-49M\",\"40-44M\",\"50-54M\",\"20-34M\",\"20-34M\",\"35-39M\",\"40-44M\",\"20-34M\",\"40-44M\",\"40-44M\",\"50-54M\",\"40-44M\",\"40-44M\",\"20-34M\",\"45-49M\",\"20-34M\",\"20-34M\",\"45-49M\",\"40-44M\",\"35-39M\",\"50-54F\",\"35-39M\",\"55-59M\",\"45-49M\",\"40-44M\",\"40-44M\",\"35-39M\",\"35-39M\",\"40-44M\",\"45-49F\",\"35-39M\",\"40-44M\",\"40-44M\",\"35-39M\",\"35-39M\",\"35-39M\",\"50-54M\",\"60-64M\",\"40-44M\",\"50-54F\",\"35-39M\",\"35-39M\",\"45-49M\",\"40-44M\",\"20-34M\",\"45-49M\",\"35-39M\",\"20-34M\",\"50-54M\",\"35-39M\",\"20-34M\",\"45-49M\",\"35-39M\",\"35-39M\",\"20-34M\",\"40-44M\",\"40-44M\",\"35-39M\",\"35-39M\",\"60-64M\",\"35-39M\",\"45-49M\",\"20-34M\",\"35-39M\",\"50-54M\",\"50-54F\",\"20-34M\",\"40-44M\",\"50-54M\",\"35-39M\",\"45-49M\",\"45-49M\",\"40-44M\",\"40-44M\",\"40-44M\",\"45-49M\",\"40-44M\",\"45-49M\",\"20-34M\",\"40-44M\",\"35-39M\",\"45-49M\",\"35-39M\",\"40-44M\",\"40-44M\",\"55-59M\",\"35-39M\",\"20-34M\",\"50-54M\",\"35-39M\",\"35-39M\",\"50-54M\",\"45-49F\",\"45-49M\",\"35-39M\",\"20-34M\",\"45-49M\",\"45-49M\",\"50-54M\",\"35-39M\",\"40-44M\",\"45-49M\",\"20-34M\",\"20-34M\",\"45-49M\",\"45-49M\",\"35-39F\",\"40-44M\",\"45-49M\",\"35-39M\",\"45-49M\",\"20-34M\",\"35-39M\",\"20-34M\",\"20-34M\",\"40-44M\",\"55-59M\",\"40-44M\",\"45-49M\",\"35-39M\",\"45-49M\",\"45-49M\",\"20-34M\",\"45-49M\",\"35-39M\",\"35-39M\",\"45-49M\",\"20-34M\",\"40-44M\",\"20-34F\",\"50-54F\",\"40-44M\",\"35-39M\",\"45-49M\",\"45-49M\",\"35-39M\",\"45-49M\",\"60-64M\",\"20-34M\",\"35-39F\",\"20-34M\",\"45-49M\",\"45-49M\",\"40-44M\",\"40-44M\",\"20-34M\",\"40-44M\",\"35-39M\",\"45-49M\",\"45-49M\",\"40-44M\",\"45-49M\",\"40-44M\",\"45-49M\",\"45-49M\",\"40-44M\",\"45-49M\",\"50-54M\",\"40-44M\",\"20-34F\",\"45-49M\",\"40-44M\",\"50-54M\",\"55-59M\",\"40-44M\",\"35-39M\",\"60-64M\",\"20-34M\",\"45-49M\",\"50-54M\",\"60-64M\",\"40-44M\",\"35-39M\",\"45-49M\",\"20-34M\",\"35-39M\",\"45-49M\",\"45-49M\",\"35-39M\",\"45-49M\",\"20-34M\",\"35-39M\",\"55-59M\",\"35-39M\",\"45-49M\",\"45-49M\",\"20-34M\",\"45-49M\",\"45-49M\",\"50-54M\",\"40-44M\",\"20-34M\",\"40-44M\",\"35-39M\",\"35-39M\",\"40-44M\",\"50-54M\",\"40-44M\",\"45-49M\",\"40-44M\",\"50-54M\",\"45-49M\",\"35-39M\",\"45-49M\",\"40-44M\",\"45-49M\",\"40-44M\",\"40-44M\",\"45-49M\",\"40-44M\",\"45-49M\",\"40-44M\",\"40-44M\",\"20-34M\",\"50-54M\",\"35-39M\",\"20-34F\",\"20-34M\",\"35-39M\",\"45-49M\",\"45-49M\",\"20-34M\",\"50-54F\",\"35-39M\",\"55-59M\",\"50-54M\",\"55-59M\",\"35-39M\",\"40-44M\",\"50-54M\",\"35-39M\",\"50-54M\",\"50-54M\",\"50-54M\",\"40-44M\",\"50-54M\",\"35-39M\",\"40-44M\",\"40-44M\",\"35-39M\",\"40-44M\",\"50-54M\",\"35-39M\",\"45-49M\",\"20-34M\",\"35-39F\",\"45-49M\",\"45-49M\",\"50-54M\",\"20-34M\",\"40-44M\",\"40-44M\",\"20-34M\",\"40-44M\",\"40-44M\",\"50-54M\",\"45-49M\",\"35-39M\",\"55-59M\",\"20-34M\",\"45-49F\",\"35-39M\",\"45-49M\",\"45-49M\",\"50-54M\",\"20-34M\",\"40-44M\",\"60-64M\",\"45-49M\",\"35-39M\",\"20-34M\",\"40-44F\",\"40-44M\",\"40-44M\",\"40-44M\",\"50-54M\",\"60-64M\",\"40-44M\",\"40-44M\",\"50-54M\",\"45-49F\",\"40-44M\",\"40-44M\",\"45-49M\",\"45-49M\",\"40-44M\",\"20-34M\",\"35-39M\",\"20-34M\",\"45-49M\",\"45-49M\",\"20-34M\",\"45-49F\",\"20-34M\",\"40-44M\",\"50-54M\",\"35-39M\",\"50-54M\",\"40-44M\",\"60-64M\",\"35-39M\",\"20-34F\",\"40-44M\",\"40-44M\",\"40-44M\",\"45-49M\",\"45-49M\",\"45-49M\",\"20-34M\",\"40-44M\",\"40-44M\",\"40-44M\",\"40-44M\",\"45-49M\",\"40-44M\",\"45-49M\",\"50-54M\",\"55-59M\",\"20-34M\",\"40-44M\",\"40-44M\",\"40-44M\",\"50-54M\",\"45-49M\",\"35-39M\",\"45-49M\",\"45-49M\",\"55-59M\",\"50-54M\",\"40-44M\",\"40-44M\",\"20-34F\",\"40-44M\",\"35-39M\",\"50-54M\",\"35-39M\",\"20-34M\",\"50-54M\",\"20-34M\",\"35-39M\",\"45-49M\",\"45-49M\",\"40-44M\",\"55-59F\",\"55-59F\",\"20-34M\",\"20-34M\",\"45-49M\",\"50-54M\",\"45-49M\",\"40-44M\",\"50-54M\",\"50-54M\",\"60-64M\",\"60-64M\",\"45-49M\",\"40-44M\",\"35-39M\",\"45-49M\",\"45-49M\",\"50-54M\",\"50-54M\",\"45-49M\",\"35-39M\",\"20-34M\",\"35-39M\",\"20-34M\",\"55-59M\",\"45-49M\",\"40-44M\",\"45-49M\",\"45-49M\",\"35-39M\",\"35-39F\",\"40-44M\",\"40-44M\",\"20-34M\",\"20-34M\",\"50-54M\",\"35-39M\",\"40-44M\",\"40-44M\",\"40-44M\",\"20-34M\",\"35-39M\",\"20-34M\",\"40-44M\",\"45-49M\",\"40-44F\",\"35-39M\",\"35-39M\",\"50-54M\",\"35-39M\",\"40-44M\",\"20-34M\",\"40-44M\",\"50-54M\",\"40-44M\",\"50-54M\",\"35-39M\",\"20-34M\",\"40-44M\",\"40-44M\",\"55-59M\",\"50-54M\",\"20-34M\",\"35-39F\",\"40-44M\",\"20-34F\",\"40-44M\",\"35-39M\",\"20-34M\",\"40-44M\",\"40-44M\",\"50-54M\",\"20-34F\",\"50-54M\",\"50-54M\",\"55-59M\",\"50-54M\",\"40-44M\",\"40-44M\",\"50-54M\",\"35-39M\",\"40-44M\",\"40-44M\",\"35-39F\",\"55-59M\",\"35-39M\",\"35-39M\",\"40-44M\",\"45-49F\",\"45-49M\",\"20-34M\",\"40-44M\",\"45-49M\",\"45-49M\",\"20-34M\",\"45-49M\",\"40-44M\",\"55-59M\",\"40-44M\",\"35-39M\",\"35-39M\",\"40-44M\",\"20-34M\",\"55-59M\",\"55-59M\",\"50-54M\",\"45-49M\",\"50-54M\",\"50-54M\",\"40-44M\",\"50-54M\",\"40-44M\",\"50-54M\",\"50-54M\",\"55-59M\",\"40-44M\",\"40-44M\",\"35-39M\",\"35-39M\",\"20-34M\",\"35-39M\",\"35-39M\",\"45-49M\",\"40-44M\",\"45-49M\",\"45-49M\",\"40-44M\",\"45-49M\",\"40-44M\",\"45-49M\",\"20-34M\",\"50-54M\",\"40-44M\",\"20-34M\",\"40-44M\",\"50-54M\",\"20-34M\",\"35-39M\",\"45-49M\",\"40-44M\",\"40-44M\",\"50-54M\",\"40-44M\",\"45-49M\",\"50-54M\",\"20-34M\",\"40-44M\",\"50-54M\",\"40-44M\",\"35-39M\",\"40-44M\",\"45-49M\",\"40-44M\",\"20-34F\",\"35-39M\",\"35-39M\",\"35-39M\",\"40-44M\",\"35-39M\",\"40-44M\",\"20-34M\",\"40-44M\",\"45-49M\",\"40-44M\",\"45-49F\",\"45-49M\",\"40-44M\",\"35-39M\",\"50-54M\",\"45-49M\",\"50-54M\",\"35-39M\",\"55-59M\",\"40-44F\",\"50-54M\",\"40-44M\",\"40-44M\",\"45-49M\",\"45-49M\",\"40-44M\",\"20-34M\",\"45-49M\",\"20-34F\",\"20-34M\",\"20-34M\",\"45-49M\",\"40-44M\",\"35-39M\",\"35-39M\",\"40-44M\",\"45-49M\",\"20-34M\",\"40-44M\",\"20-34M\",\"40-44M\",\"40-44M\",\"35-39M\",\"45-49M\",\"45-49F\",\"45-49M\",\"35-39M\",\"35-39M\",\"20-34M\",\"40-44M\",\"40-44M\",\"50-54M\",\"50-54M\",\"40-44M\",\"35-39F\",\"40-44M\",\"45-49M\",\"35-39M\",\"35-39M\",\"55-59M\",\"50-54M\",\"50-54M\",\"35-39M\",\"45-49M\",\"20-34M\",\"35-39M\",\"45-49M\",\"50-54M\",\"35-39M\",\"45-49M\",\"55-59M\",\"55-59M\",\"50-54M\",\"55-59M\",\"50-54M\",\"40-44M\",\"40-44M\",\"40-44M\",\"45-49M\",\"40-44M\",\"40-44M\",\"45-49M\",\"45-49M\",\"35-39F\",\"45-49M\",\"20-34M\",\"50-54M\",\"45-49M\",\"45-49M\",\"20-34M\",\"40-44M\",\"50-54M\",\"45-49M\",\"35-39M\",\"35-39M\",\"55-59M\",\"40-44M\",\"45-49M\",\"45-49M\",\"50-54M\",\"50-54M\",\"45-49M\",\"45-49M\",\"45-49M\",\"40-44M\",\"20-34M\",\"20-34M\",\"45-49M\",\"50-54M\",\"50-54F\",\"45-49M\",\"35-39M\",\"55-59M\",\"40-44M\",\"55-59M\",\"55-59M\",\"35-39F\",\"40-44M\",\"40-44M\",\"50-54M\",\"40-44M\",\"45-49M\",\"50-54M\",\"45-49M\",\"60-64M\",\"35-39M\",\"45-49M\",\"45-49M\",\"50-54M\",\"45-49M\",\"40-44M\",\"45-49M\",\"40-44M\",\"45-49M\",\"40-44M\",\"45-49M\",\"45-49M\",\"35-39M\",\"45-49M\",\"45-49M\",\"50-54M\",\"50-54M\",\"50-54M\",\"20-34M\",\"45-49M\",\"50-54M\",\"45-49M\",\"40-44M\",\"40-44M\",\"45-49M\",\"40-44M\",\"55-59M\",\"45-49M\",\"45-49M\",\"40-44M\",\"20-34M\",\"40-44M\",\"45-49M\",\"50-54M\",\"45-49M\",\"40-44M\",\"50-54M\",\"55-59M\",\"60-64M\",\"45-49M\",\"45-49M\",\"55-59M\",\"55-59M\",\"50-54M\",\"45-49M\",\"40-44M\",\"55-59M\",\"50-54M\",\"40-44M\",\"45-49F\",\"35-39M\",\"45-49F\",\"20-34M\",\"40-44M\",\"20-34M\",\"45-49M\",\"45-49F\",\"35-39M\",\"45-49M\",\"50-54M\",\"20-34M\",\"20-34M\",\"55-59M\",\"35-39M\",\"40-44M\",\"20-34M\",\"50-54M\",\"35-39M\",\"40-44M\",\"35-39M\",\"45-49M\",\"45-49M\",\"55-59M\",\"40-44M\",\"20-34M\",\"20-34M\",\"45-49M\",\"45-49M\",\"50-54M\",\"55-59M\",\"45-49M\",\"55-59M\",\"40-44M\",\"40-44M\",\"45-49M\",\"40-44M\",\"40-44M\",\"40-44M\",\"35-39M\",\"40-44F\",\"40-44M\",\"40-44M\",\"40-44M\",\"55-59M\",\"50-54M\",\"40-44M\",\"20-34M\",\"40-44M\",\"45-49M\",\"45-49M\",\"55-59M\",\"40-44M\",\"45-49M\",\"40-44M\",\"20-34M\",\"40-44M\",\"20-34M\",\"50-54M\",\"40-44M\",\"45-49M\",\"55-59M\",\"50-54M\",\"20-34M\",\"40-44M\",\"45-49M\",\"55-59M\",\"40-44M\",\"50-54M\",\"35-39F\",\"40-44M\",\"35-39M\",\"50-54M\",\"45-49M\",\"40-44M\",\"45-49M\",\"50-54M\",\"45-49M\",\"50-54M\",\"20-34M\",\"45-49M\",\"55-59M\",\"40-44M\",\"20-34M\",\"45-49M\",\"40-44M\",\"35-39M\",\"40-44M\",\"40-44M\",\"45-49M\",\"45-49F\",\"35-39M\",\"50-54M\",\"50-54M\",\"45-49M\",\"50-54M\",\"45-49M\",\"50-54M\",\"50-54F\",\"45-49M\",\"35-39M\",\"35-39M\",\"40-44M\",\"20-34M\",\"20-34M\",\"55-59M\",\"40-44M\",\"45-49M\",\"45-49M\",\"45-49M\",\"50-54M\",\"45-49M\",\"40-44M\",\"20-34M\",\"45-49M\",\"45-49M\",\"45-49M\",\"40-44M\",\"45-49M\",\"50-54M\",\"45-49M\",\"50-54M\",\"50-54M\",\"55-59M\",\"45-49M\",\"45-49M\",\"45-49M\",\"40-44M\",\"45-49M\",\"40-44M\",\"40-44M\",\"45-49M\",\"50-54M\",\"50-54M\",\"35-39M\",\"35-39M\",\"55-59M\",\"45-49M\",\"35-39M\",\"50-54M\",\"50-54M\",\"45-49M\",\"40-44M\",\"45-49M\",\"40-44M\",\"40-44M\",\"35-39M\",\"20-34F\",\"60-64M\",\"20-34M\",\"45-49M\",\"45-49M\",\"45-49M\",\"40-44M\",\"35-39M\",\"45-49M\",\"55-59M\",\"20-34M\",\"45-49M\",\"45-49M\",\"40-44M\",\"55-59M\",\"20-34F\",\"35-39M\",\"40-44M\",\"35-39M\",\"45-49M\",\"45-49M\",\"40-44M\",\"55-59M\",\"50-54M\",\"40-44M\",\"50-54M\",\"55-59M\",\"50-54M\",\"45-49F\",\"45-49M\",\"50-54M\",\"40-44M\",\"50-54M\",\"35-39M\",\"45-49M\",\"50-54M\",\"65-69M\",\"45-49M\",\"50-54M\",\"50-54M\",\"40-44M\",\"45-49M\",\"40-44M\",\"45-49M\",\"35-39M\",\"45-49M\",\"45-49M\",\"40-44M\",\"45-49M\",\"45-49M\",\"40-44M\",\"45-49M\",\"45-49M\",\"50-54M\",\"35-39M\",\"45-49F\",\"40-44M\",\"55-59M\",\"35-39M\",\"35-39M\",\"40-44M\",\"35-39M\",\"20-34M\",\"45-49M\",\"40-44M\",\"55-59M\",\"20-34M\",\"35-39M\",\"50-54M\",\"35-39M\",\"50-54M\",\"40-44M\",\"20-34M\",\"20-34M\",\"40-44M\",\"35-39M\",\"45-49M\",\"50-54M\",\"45-49M\",\"45-49M\",\"40-44M\",\"40-44M\",\"50-54M\",\"40-44M\",\"60-64M\",\"40-44M\",\"45-49M\",\"40-44M\",\"45-49M\",\"50-54M\",\"20-34M\",\"35-39M\",\"60-64M\",\"35-39M\",\"40-44M\",\"45-49M\",\"20-34M\",\"35-39M\",\"45-49M\",\"45-49M\",\"20-34M\",\"45-49M\",\"50-54M\",\"55-59M\",\"50-54M\",\"45-49M\",\"50-54M\",\"55-59M\",\"60-64M\",\"55-59M\",\"20-34M\",\"20-34M\",\"40-44M\",\"45-49M\",\"50-54M\",\"50-54M\",\"45-49M\",\"55-59M\",\"45-49M\",\"45-49M\",\"45-49M\",\"40-44M\",\"50-54M\",\"40-44M\",\"35-39M\",\"35-39M\",\"50-54M\",\"45-49M\",\"50-54M\",\"45-49M\",\"45-49F\",\"60-64M\",\"45-49F\",\"40-44M\",\"45-49M\",\"20-34F\",\"45-49M\",\"50-54M\",\"35-39M\",\"40-44M\",\"40-44M\",\"45-49M\",\"35-39M\",\"55-59M\",\"40-44M\",\"50-54M\",\"60-64M\",\"45-49M\",\"35-39F\",\"45-49M\",\"20-34M\",\"45-49M\",\"45-49M\",\"50-54M\",\"45-49M\",\"50-54M\",\"20-34M\",\"45-49M\",\"35-39F\",\"40-44M\",\"45-49F\",\"35-39M\",\"40-44M\",\"35-39M\",\"35-39M\",\"50-54F\",\"50-54M\",\"40-44M\",\"50-54M\",\"55-59M\",\"40-44M\",\"50-54F\",\"55-59M\",\"45-49M\",\"45-49M\",\"50-54M\",\"45-49M\",\"40-44M\",\"40-44M\",\"50-54M\",\"45-49M\",\"35-39M\",\"45-49M\",\"45-49M\",\"40-44M\",\"50-54M\",\"40-44F\",\"45-49M\",\"50-54M\",\"50-54M\",\"35-39M\",\"40-44F\",\"55-59M\",\"45-49M\",\"55-59M\",\"35-39M\",\"20-34M\",\"60-64M\",\"45-49M\",\"50-54M\",\"40-44M\",\"50-54F\",\"45-49M\",\"40-44M\",\"35-39M\",\"40-44M\",\"45-49F\",\"50-54M\",\"40-44M\",\"35-39M\",\"35-39M\",\"40-44M\",\"45-49M\",\"35-39M\",\"45-49M\",\"40-44M\",\"50-54M\",\"50-54M\",\"40-44M\",\"35-39M\",\"40-44M\",\"35-39M\",\"45-49M\",\"50-54M\",\"20-34M\",\"55-59M\",\"45-49M\",\"40-44M\",\"45-49M\",\"40-44M\",\"40-44M\",\"45-49M\",\"45-49M\",\"45-49M\",\"20-34M\",\"45-49M\",\"50-54F\",\"40-44M\",\"45-49M\",\"40-44M\",\"20-34M\",\"45-49M\",\"45-49M\",\"45-49M\",\"55-59M\",\"50-54F\",\"45-49F\",\"45-49M\",\"45-49M\",\"40-44M\",\"50-54M\",\"40-44M\",\"45-49M\",\"35-39M\",\"35-39M\",\"55-59M\",\"45-49M\",\"40-44M\",\"35-39F\",\"45-49M\",\"50-54M\",\"45-49M\",\"50-54M\",\"35-39M\",\"45-49M\",\"55-59M\",\"55-59M\",\"35-39M\",\"45-49M\",\"45-49M\",\"45-49M\",\"45-49M\",\"35-39M\",\"45-49M\",\"45-49F\",\"40-44M\",\"50-54F\",\"45-49M\",\"55-59M\",\"50-54M\",\"50-54M\",\"50-54M\",\"40-44M\",\"40-44M\",\"50-54M\",\"45-49M\",\"50-54M\",\"40-44M\",\"50-54M\",\"45-49M\",\"35-39M\",\"45-49M\",\"50-54M\",\"45-49M\",\"55-59M\",\"55-59M\",\"40-44M\",\"45-49M\",\"45-49M\",\"40-44M\",\"40-44M\",\"35-39M\",\"20-34M\",\"50-54M\",\"40-44M\",\"40-44M\",\"50-54M\",\"45-49M\",\"35-39M\",\"40-44M\",\"20-34M\",\"55-59M\",\"45-49M\",\"40-44M\",\"45-49M\",\"35-39M\",\"45-49M\",\"50-54M\",\"20-34M\",\"45-49M\",\"45-49M\",\"45-49M\",\"50-54M\",\"50-54F\",\"60-64M\",\"20-34M\",\"40-44M\",\"50-54M\",\"20-34M\",\"40-44M\",\"45-49M\",\"40-44M\",\"45-49M\",\"45-49M\",\"40-44F\",\"35-39F\",\"50-54M\",\"55-59M\",\"40-44M\",\"45-49M\",\"40-44M\",\"35-39M\",\"35-39M\",\"35-39F\",\"40-44M\",\"55-59M\",\"40-44F\",\"45-49M\",\"20-34M\",\"35-39M\",\"45-49M\",\"50-54M\",\"50-54M\",\"40-44M\",\"45-49M\",\"40-44M\",\"40-44M\",\"50-54M\",\"45-49M\",\"55-59M\",\"50-54M\",\"45-49M\",\"50-54M\",\"40-44M\",\"35-39M\",\"35-39M\",\"40-44M\",\"50-54M\",\"35-39M\",\"65-69M\",\"50-54M\",\"40-44M\",\"50-54M\",\"50-54M\",\"55-59M\",\"45-49M\",\"45-49F\",\"20-34M\",\"50-54M\",\"40-44M\",\"40-44F\",\"50-54M\",\"55-59F\",\"45-49M\",\"50-54M\",\"45-49M\",\"55-59M\",\"40-44M\",\"45-49M\",\"50-54M\",\"40-44M\",\"35-39M\",\"60-64M\",\"45-49M\",\"55-59M\",\"40-44M\",\"50-54M\",\"55-59M\",\"35-39M\",\"45-49M\",\"45-49M\",\"40-44M\",\"50-54F\",\"45-49M\",\"40-44M\",\"35-39M\",\"35-39M\",\"40-44M\",\"20-34M\",\"50-54F\",\"50-54M\",\"45-49M\",\"50-54M\",\"45-49M\",\"45-49M\",\"45-49M\",\"20-34M\",\"55-59M\",\"50-54M\",\"45-49M\",\"35-39M\",\"35-39F\",\"40-44M\",\"60-64M\",\"40-44M\",\"40-44M\",\"50-54F\",\"45-49M\",\"20-34M\",\"55-59M\",\"70-74M\",\"20-34F\",\"45-49M\",\"45-49M\",\"50-54M\",\"45-49M\",\"35-39M\",\"40-44M\",\"40-44M\",\"40-44M\",\"35-39M\",\"45-49M\",\"35-39M\",\"40-44M\",\"35-39M\",\"40-44M\",\"45-49M\",\"35-39M\",\"50-54F\",\"40-44M\",\"50-54M\",\"55-59M\",\"50-54M\",\"50-54M\",\"45-49M\",\"40-44F\",\"35-39M\",\"50-54M\",\"50-54M\",\"60-64M\",\"45-49M\",\"40-44M\",\"40-44M\",\"45-49M\",\"35-39M\",\"50-54M\",\"40-44M\",\"35-39M\",\"50-54M\",\"55-59M\",\"40-44M\",\"40-44M\",\"35-39M\",\"40-44M\",\"45-49M\",\"45-49M\",\"40-44M\",\"45-49M\",\"45-49M\",\"40-44M\",\"65-69M\",\"35-39M\",\"60-64M\",\"40-44M\",\"50-54M\",\"40-44F\",\"40-44M\",\"45-49M\",\"50-54M\",\"35-39M\",\"20-34F\",\"45-49F\",\"45-49F\",\"40-44M\",\"45-49M\",\"50-54M\",\"50-54M\",\"35-39M\",\"35-39M\",\"35-39M\",\"50-54M\",\"50-54M\",\"40-44F\",\"45-49M\",\"55-59M\",\"45-49M\",\"50-54M\",\"50-54M\",\"35-39M\",\"55-59F\",\"35-39M\",\"45-49F\",\"45-49F\",\"45-49F\",\"40-44F\",\"50-54M\",\"45-49M\",\"35-39M\",\"45-49M\",\"35-39M\",\"45-49M\",\"40-44M\",\"45-49M\",\"55-59M\",\"40-44M\",\"40-44M\",\"50-54M\",\"40-44M\",\"40-44F\",\"20-34M\",\"20-34M\",\"55-59M\",\"40-44M\",\"20-34M\",\"40-44M\",\"55-59M\",\"55-59M\",\"55-59M\",\"55-59M\",\"50-54M\",\"40-44M\",\"45-49F\",\"45-49M\",\"35-39M\",\"45-49M\",\"45-49M\",\"45-49M\",\"40-44F\",\"65-69M\",\"45-49M\",\"45-49M\",\"35-39M\",\"40-44M\",\"40-44M\",\"40-44M\",\"45-49M\",\"50-54M\",\"40-44M\",\"55-59M\",\"55-59F\",\"45-49M\",\"40-44M\",\"40-44M\",\"50-54F\",\"40-44M\",\"40-44M\",\"55-59M\",\"45-49M\",\"60-64F\",\"40-44M\",\"60-64M\",\"45-49M\",\"35-39M\",\"55-59F\",\"45-49F\",\"50-54M\",\"40-44M\",\"55-59M\",\"35-39M\",\"45-49M\",\"45-49M\",\"35-39M\",\"35-39M\",\"45-49M\",\"55-59M\",\"45-49M\",\"40-44M\",\"50-54F\",\"45-49M\",\"40-44M\",\"55-59M\",\"55-59M\",\"55-59M\",\"45-49M\",\"40-44M\",\"45-49M\",\"45-49M\",\"40-44M\",\"45-49M\",\"45-49M\",\"45-49M\",\"20-34F\",\"40-44F\",\"35-39F\",\"45-49M\",\"45-49M\",\"20-34M\",\"40-44M\",\"40-44M\",\"40-44M\",\"45-49M\",\"40-44M\",\"50-54M\",\"50-54M\",\"40-44M\",\"55-59M\",\"45-49M\",\"50-54M\",\"40-44M\",\"50-54M\",\"40-44M\",\"40-44M\",\"50-54M\",\"45-49M\",\"45-49M\",\"40-44M\",\"35-39M\",\"60-64M\",\"55-59F\",\"50-54M\",\"40-44M\",\"50-54M\",\"50-54M\",\"50-54M\",\"50-54M\",\"50-54M\",\"45-49M\",\"45-49F\",\"45-49M\",\"55-59M\",\"55-59M\",\"45-49M\",\"50-54M\",\"40-44M\",\"55-59M\",\"45-49M\",\"20-34M\",\"45-49M\",\"20-34M\",\"50-54M\",\"45-49M\",\"50-54M\",\"65-69M\",\"40-44M\",\"35-39M\",\"45-49M\",\"35-39M\",\"40-44M\",\"40-44M\",\"35-39M\",\"35-39M\",\"40-44M\",\"40-44M\",\"40-44F\",\"50-54M\",\"50-54M\",\"50-54F\",\"35-39M\",\"40-44M\",\"40-44M\",\"60-64F\",\"40-44M\",\"50-54M\",\"45-49M\",\"40-44M\",\"40-44M\",\"40-44F\",\"50-54F\",\"55-59M\",\"45-49M\",\"20-34M\",\"60-64M\",\"35-39F\",\"60-64M\",\"50-54F\",\"35-39M\",\"45-49M\",\"40-44M\",\"45-49M\",\"55-59M\",\"45-49F\",\"40-44M\",\"50-54M\",\"40-44M\",\"35-39F\",\"55-59M\",\"50-54M\"],\"xaxis\":\"x\",\"yaxis\":\"y\",\"type\":\"histogram\"}],                        {\"template\":{\"data\":{\"histogram2dcontour\":[{\"type\":\"histogram2dcontour\",\"colorbar\":{\"outlinewidth\":0,\"ticks\":\"\"},\"colorscale\":[[0.0,\"#0d0887\"],[0.1111111111111111,\"#46039f\"],[0.2222222222222222,\"#7201a8\"],[0.3333333333333333,\"#9c179e\"],[0.4444444444444444,\"#bd3786\"],[0.5555555555555556,\"#d8576b\"],[0.6666666666666666,\"#ed7953\"],[0.7777777777777778,\"#fb9f3a\"],[0.8888888888888888,\"#fdca26\"],[1.0,\"#f0f921\"]]}],\"choropleth\":[{\"type\":\"choropleth\",\"colorbar\":{\"outlinewidth\":0,\"ticks\":\"\"}}],\"histogram2d\":[{\"type\":\"histogram2d\",\"colorbar\":{\"outlinewidth\":0,\"ticks\":\"\"},\"colorscale\":[[0.0,\"#0d0887\"],[0.1111111111111111,\"#46039f\"],[0.2222222222222222,\"#7201a8\"],[0.3333333333333333,\"#9c179e\"],[0.4444444444444444,\"#bd3786\"],[0.5555555555555556,\"#d8576b\"],[0.6666666666666666,\"#ed7953\"],[0.7777777777777778,\"#fb9f3a\"],[0.8888888888888888,\"#fdca26\"],[1.0,\"#f0f921\"]]}],\"heatmap\":[{\"type\":\"heatmap\",\"colorbar\":{\"outlinewidth\":0,\"ticks\":\"\"},\"colorscale\":[[0.0,\"#0d0887\"],[0.1111111111111111,\"#46039f\"],[0.2222222222222222,\"#7201a8\"],[0.3333333333333333,\"#9c179e\"],[0.4444444444444444,\"#bd3786\"],[0.5555555555555556,\"#d8576b\"],[0.6666666666666666,\"#ed7953\"],[0.7777777777777778,\"#fb9f3a\"],[0.8888888888888888,\"#fdca26\"],[1.0,\"#f0f921\"]]}],\"heatmapgl\":[{\"type\":\"heatmapgl\",\"colorbar\":{\"outlinewidth\":0,\"ticks\":\"\"},\"colorscale\":[[0.0,\"#0d0887\"],[0.1111111111111111,\"#46039f\"],[0.2222222222222222,\"#7201a8\"],[0.3333333333333333,\"#9c179e\"],[0.4444444444444444,\"#bd3786\"],[0.5555555555555556,\"#d8576b\"],[0.6666666666666666,\"#ed7953\"],[0.7777777777777778,\"#fb9f3a\"],[0.8888888888888888,\"#fdca26\"],[1.0,\"#f0f921\"]]}],\"contourcarpet\":[{\"type\":\"contourcarpet\",\"colorbar\":{\"outlinewidth\":0,\"ticks\":\"\"}}],\"contour\":[{\"type\":\"contour\",\"colorbar\":{\"outlinewidth\":0,\"ticks\":\"\"},\"colorscale\":[[0.0,\"#0d0887\"],[0.1111111111111111,\"#46039f\"],[0.2222222222222222,\"#7201a8\"],[0.3333333333333333,\"#9c179e\"],[0.4444444444444444,\"#bd3786\"],[0.5555555555555556,\"#d8576b\"],[0.6666666666666666,\"#ed7953\"],[0.7777777777777778,\"#fb9f3a\"],[0.8888888888888888,\"#fdca26\"],[1.0,\"#f0f921\"]]}],\"surface\":[{\"type\":\"surface\",\"colorbar\":{\"outlinewidth\":0,\"ticks\":\"\"},\"colorscale\":[[0.0,\"#0d0887\"],[0.1111111111111111,\"#46039f\"],[0.2222222222222222,\"#7201a8\"],[0.3333333333333333,\"#9c179e\"],[0.4444444444444444,\"#bd3786\"],[0.5555555555555556,\"#d8576b\"],[0.6666666666666666,\"#ed7953\"],[0.7777777777777778,\"#fb9f3a\"],[0.8888888888888888,\"#fdca26\"],[1.0,\"#f0f921\"]]}],\"mesh3d\":[{\"type\":\"mesh3d\",\"colorbar\":{\"outlinewidth\":0,\"ticks\":\"\"}}],\"scatter\":[{\"fillpattern\":{\"fillmode\":\"overlay\",\"size\":10,\"solidity\":0.2},\"type\":\"scatter\"}],\"parcoords\":[{\"type\":\"parcoords\",\"line\":{\"colorbar\":{\"outlinewidth\":0,\"ticks\":\"\"}}}],\"scatterpolargl\":[{\"type\":\"scatterpolargl\",\"marker\":{\"colorbar\":{\"outlinewidth\":0,\"ticks\":\"\"}}}],\"bar\":[{\"error_x\":{\"color\":\"#2a3f5f\"},\"error_y\":{\"color\":\"#2a3f5f\"},\"marker\":{\"line\":{\"color\":\"#E5ECF6\",\"width\":0.5},\"pattern\":{\"fillmode\":\"overlay\",\"size\":10,\"solidity\":0.2}},\"type\":\"bar\"}],\"scattergeo\":[{\"type\":\"scattergeo\",\"marker\":{\"colorbar\":{\"outlinewidth\":0,\"ticks\":\"\"}}}],\"scatterpolar\":[{\"type\":\"scatterpolar\",\"marker\":{\"colorbar\":{\"outlinewidth\":0,\"ticks\":\"\"}}}],\"histogram\":[{\"marker\":{\"pattern\":{\"fillmode\":\"overlay\",\"size\":10,\"solidity\":0.2}},\"type\":\"histogram\"}],\"scattergl\":[{\"type\":\"scattergl\",\"marker\":{\"colorbar\":{\"outlinewidth\":0,\"ticks\":\"\"}}}],\"scatter3d\":[{\"type\":\"scatter3d\",\"line\":{\"colorbar\":{\"outlinewidth\":0,\"ticks\":\"\"}},\"marker\":{\"colorbar\":{\"outlinewidth\":0,\"ticks\":\"\"}}}],\"scattermapbox\":[{\"type\":\"scattermapbox\",\"marker\":{\"colorbar\":{\"outlinewidth\":0,\"ticks\":\"\"}}}],\"scatterternary\":[{\"type\":\"scatterternary\",\"marker\":{\"colorbar\":{\"outlinewidth\":0,\"ticks\":\"\"}}}],\"scattercarpet\":[{\"type\":\"scattercarpet\",\"marker\":{\"colorbar\":{\"outlinewidth\":0,\"ticks\":\"\"}}}],\"carpet\":[{\"aaxis\":{\"endlinecolor\":\"#2a3f5f\",\"gridcolor\":\"white\",\"linecolor\":\"white\",\"minorgridcolor\":\"white\",\"startlinecolor\":\"#2a3f5f\"},\"baxis\":{\"endlinecolor\":\"#2a3f5f\",\"gridcolor\":\"white\",\"linecolor\":\"white\",\"minorgridcolor\":\"white\",\"startlinecolor\":\"#2a3f5f\"},\"type\":\"carpet\"}],\"table\":[{\"cells\":{\"fill\":{\"color\":\"#EBF0F8\"},\"line\":{\"color\":\"white\"}},\"header\":{\"fill\":{\"color\":\"#C8D4E3\"},\"line\":{\"color\":\"white\"}},\"type\":\"table\"}],\"barpolar\":[{\"marker\":{\"line\":{\"color\":\"#E5ECF6\",\"width\":0.5},\"pattern\":{\"fillmode\":\"overlay\",\"size\":10,\"solidity\":0.2}},\"type\":\"barpolar\"}],\"pie\":[{\"automargin\":true,\"type\":\"pie\"}]},\"layout\":{\"autotypenumbers\":\"strict\",\"colorway\":[\"#636efa\",\"#EF553B\",\"#00cc96\",\"#ab63fa\",\"#FFA15A\",\"#19d3f3\",\"#FF6692\",\"#B6E880\",\"#FF97FF\",\"#FECB52\"],\"font\":{\"color\":\"#2a3f5f\"},\"hovermode\":\"closest\",\"hoverlabel\":{\"align\":\"left\"},\"paper_bgcolor\":\"white\",\"plot_bgcolor\":\"#E5ECF6\",\"polar\":{\"bgcolor\":\"#E5ECF6\",\"angularaxis\":{\"gridcolor\":\"white\",\"linecolor\":\"white\",\"ticks\":\"\"},\"radialaxis\":{\"gridcolor\":\"white\",\"linecolor\":\"white\",\"ticks\":\"\"}},\"ternary\":{\"bgcolor\":\"#E5ECF6\",\"aaxis\":{\"gridcolor\":\"white\",\"linecolor\":\"white\",\"ticks\":\"\"},\"baxis\":{\"gridcolor\":\"white\",\"linecolor\":\"white\",\"ticks\":\"\"},\"caxis\":{\"gridcolor\":\"white\",\"linecolor\":\"white\",\"ticks\":\"\"}},\"coloraxis\":{\"colorbar\":{\"outlinewidth\":0,\"ticks\":\"\"}},\"colorscale\":{\"sequential\":[[0.0,\"#0d0887\"],[0.1111111111111111,\"#46039f\"],[0.2222222222222222,\"#7201a8\"],[0.3333333333333333,\"#9c179e\"],[0.4444444444444444,\"#bd3786\"],[0.5555555555555556,\"#d8576b\"],[0.6666666666666666,\"#ed7953\"],[0.7777777777777778,\"#fb9f3a\"],[0.8888888888888888,\"#fdca26\"],[1.0,\"#f0f921\"]],\"sequentialminus\":[[0.0,\"#0d0887\"],[0.1111111111111111,\"#46039f\"],[0.2222222222222222,\"#7201a8\"],[0.3333333333333333,\"#9c179e\"],[0.4444444444444444,\"#bd3786\"],[0.5555555555555556,\"#d8576b\"],[0.6666666666666666,\"#ed7953\"],[0.7777777777777778,\"#fb9f3a\"],[0.8888888888888888,\"#fdca26\"],[1.0,\"#f0f921\"]],\"diverging\":[[0,\"#8e0152\"],[0.1,\"#c51b7d\"],[0.2,\"#de77ae\"],[0.3,\"#f1b6da\"],[0.4,\"#fde0ef\"],[0.5,\"#f7f7f7\"],[0.6,\"#e6f5d0\"],[0.7,\"#b8e186\"],[0.8,\"#7fbc41\"],[0.9,\"#4d9221\"],[1,\"#276419\"]]},\"xaxis\":{\"gridcolor\":\"white\",\"linecolor\":\"white\",\"ticks\":\"\",\"title\":{\"standoff\":15},\"zerolinecolor\":\"white\",\"automargin\":true,\"zerolinewidth\":2},\"yaxis\":{\"gridcolor\":\"white\",\"linecolor\":\"white\",\"ticks\":\"\",\"title\":{\"standoff\":15},\"zerolinecolor\":\"white\",\"automargin\":true,\"zerolinewidth\":2},\"scene\":{\"xaxis\":{\"backgroundcolor\":\"#E5ECF6\",\"gridcolor\":\"white\",\"linecolor\":\"white\",\"showbackground\":true,\"ticks\":\"\",\"zerolinecolor\":\"white\",\"gridwidth\":2},\"yaxis\":{\"backgroundcolor\":\"#E5ECF6\",\"gridcolor\":\"white\",\"linecolor\":\"white\",\"showbackground\":true,\"ticks\":\"\",\"zerolinecolor\":\"white\",\"gridwidth\":2},\"zaxis\":{\"backgroundcolor\":\"#E5ECF6\",\"gridcolor\":\"white\",\"linecolor\":\"white\",\"showbackground\":true,\"ticks\":\"\",\"zerolinecolor\":\"white\",\"gridwidth\":2}},\"shapedefaults\":{\"line\":{\"color\":\"#2a3f5f\"}},\"annotationdefaults\":{\"arrowcolor\":\"#2a3f5f\",\"arrowhead\":0,\"arrowwidth\":1},\"geo\":{\"bgcolor\":\"white\",\"landcolor\":\"#E5ECF6\",\"subunitcolor\":\"white\",\"showland\":true,\"showlakes\":true,\"lakecolor\":\"white\"},\"title\":{\"x\":0.05},\"mapbox\":{\"style\":\"light\"}}},\"xaxis\":{\"anchor\":\"y\",\"domain\":[0.0,1.0],\"title\":{\"text\":\"info_category\"}},\"yaxis\":{\"anchor\":\"x\",\"domain\":[0.0,1.0],\"title\":{\"text\":\"count\"}},\"legend\":{\"tracegroupgap\":0},\"margin\":{\"t\":60},\"barmode\":\"relative\"},                        {\"responsive\": true}                    ).then(function(){\n",
       "                            \n",
       "var gd = document.getElementById('2ca2170d-d418-4f57-9026-16ec691f1c87');\n",
       "var x = new MutationObserver(function (mutations, observer) {{\n",
       "        var display = window.getComputedStyle(gd).display;\n",
       "        if (!display || display === 'none') {{\n",
       "            console.log([gd, 'removed!']);\n",
       "            Plotly.purge(gd);\n",
       "            observer.disconnect();\n",
       "        }}\n",
       "}});\n",
       "\n",
       "// Listen for the removal of the full notebook cells\n",
       "var notebookContainer = gd.closest('#notebook-container');\n",
       "if (notebookContainer) {{\n",
       "    x.observe(notebookContainer, {childList: true});\n",
       "}}\n",
       "\n",
       "// Listen for the clearing of the current output cell\n",
       "var outputEl = gd.closest('.output');\n",
       "if (outputEl) {{\n",
       "    x.observe(outputEl, {childList: true});\n",
       "}}\n",
       "\n",
       "                        })                };                });            </script>        </div>"
      ]
     },
     "metadata": {},
     "output_type": "display_data"
    },
    {
     "name": "stdout",
     "output_type": "stream",
     "text": [
      "Same analysis for top 200 finishers:\n"
     ]
    },
    {
     "data": {
      "application/vnd.plotly.v1+json": {
       "config": {
        "plotlyServerURL": "https://plot.ly"
       },
       "data": [
        {
         "alignmentgroup": "True",
         "bingroup": "x",
         "hovertemplate": "info_category=%{x}<br>count=%{y}<extra></extra>",
         "legendgroup": "",
         "marker": {
          "color": "#636efa",
          "pattern": {
           "shape": ""
          }
         },
         "name": "",
         "offsetgroup": "",
         "orientation": "v",
         "showlegend": false,
         "type": "histogram",
         "x": [
          "35-39M",
          "35-39M",
          "20-34M",
          "20-34M",
          "20-34M",
          "40-44M",
          "20-34M",
          "35-39M",
          "20-34M",
          "20-34M",
          "40-44M",
          "20-34M",
          "40-44M",
          "35-39M",
          "35-39M",
          "20-34M",
          "35-39M",
          "20-34M",
          "40-44M",
          "20-34M",
          "20-34M",
          "20-34F",
          "20-34M",
          "40-44M",
          "20-34M",
          "20-34M",
          "20-34M",
          "20-34M",
          "35-39M",
          "20-34M",
          "20-34M",
          "35-39M",
          "35-39M",
          "40-44M",
          "35-39M",
          "35-39M",
          "20-34M",
          "35-39M",
          "20-34M",
          "20-34F",
          "45-49M",
          "45-49M",
          "40-44M",
          "40-44M",
          "35-39M",
          "20-34M",
          "20-34F",
          "20-34M",
          "20-34M",
          "40-44M",
          "45-49M",
          "35-39M",
          "35-39M",
          "40-44M",
          "35-39M",
          "40-44M",
          "55-59M",
          "35-39M",
          "35-39M",
          "45-49F",
          "40-44M",
          "35-39F",
          "35-39M",
          "20-34M",
          "45-49M",
          "35-39M",
          "20-34F",
          "45-49M",
          "40-44M",
          "40-44M",
          "45-49M",
          "40-44M",
          "40-44M",
          "40-44M",
          "20-34F",
          "35-39M",
          "40-44F",
          "45-49M",
          "35-39M",
          "20-34M",
          "40-44M",
          "45-49F",
          "35-39M",
          "20-34M",
          "35-39M",
          "35-39M",
          "20-34M",
          "40-44M",
          "20-34M",
          "20-34M",
          "35-39M",
          "40-44M",
          "20-34M",
          "45-49M",
          "20-34M",
          "35-39M",
          "40-44F",
          "45-49M",
          "35-39F",
          "20-34M",
          "40-44M",
          "20-34M",
          "20-34M",
          "40-44M",
          "20-34M",
          "20-34M",
          "40-44M",
          "35-39M",
          "35-39F",
          "40-44M",
          "45-49M",
          "20-34M",
          "35-39M",
          "20-34M",
          "40-44M",
          "20-34M",
          "35-39M",
          "35-39M",
          "40-44M",
          "35-39M",
          "40-44M",
          "45-49F",
          "35-39M",
          "50-54M",
          "40-44M",
          "40-44M",
          "40-44M",
          "20-34M",
          "40-44M",
          "50-54M",
          "20-34M",
          "20-34F",
          "40-44F",
          "35-39M",
          "40-44M",
          "50-54M",
          "40-44M",
          "35-39M",
          "35-39M",
          "20-34M",
          "20-34M",
          "35-39M",
          "20-34F",
          "50-54M",
          "45-49M",
          "45-49M",
          "35-39M",
          "40-44M",
          "20-34M",
          "40-44M",
          "35-39M",
          "35-39M",
          "45-49M",
          "35-39M",
          "40-44M",
          "35-39M",
          "20-34M",
          "35-39M",
          "50-54M",
          "40-44M",
          "40-44M",
          "40-44M",
          "35-39M",
          "50-54M",
          "20-34M",
          "35-39M",
          "50-54M",
          "40-44M",
          "40-44M",
          "40-44M",
          "20-34M",
          "40-44M",
          "50-54F",
          "45-49M",
          "35-39M",
          "45-49M",
          "35-39M",
          "35-39M",
          "45-49M",
          "35-39M",
          "35-39M",
          "35-39M",
          "20-34F",
          "20-34M",
          "40-44M",
          "35-39M",
          "40-44F",
          "40-44M",
          "20-34M",
          "35-39M",
          "35-39M",
          "40-44M",
          "50-54M",
          "45-49M",
          "20-34M",
          "45-49M",
          "40-44M",
          "35-39M",
          "40-44M",
          "35-39M"
         ],
         "xaxis": "x",
         "yaxis": "y"
        }
       ],
       "layout": {
        "barmode": "relative",
        "legend": {
         "tracegroupgap": 0
        },
        "margin": {
         "t": 60
        },
        "template": {
         "data": {
          "bar": [
           {
            "error_x": {
             "color": "#2a3f5f"
            },
            "error_y": {
             "color": "#2a3f5f"
            },
            "marker": {
             "line": {
              "color": "#E5ECF6",
              "width": 0.5
             },
             "pattern": {
              "fillmode": "overlay",
              "size": 10,
              "solidity": 0.2
             }
            },
            "type": "bar"
           }
          ],
          "barpolar": [
           {
            "marker": {
             "line": {
              "color": "#E5ECF6",
              "width": 0.5
             },
             "pattern": {
              "fillmode": "overlay",
              "size": 10,
              "solidity": 0.2
             }
            },
            "type": "barpolar"
           }
          ],
          "carpet": [
           {
            "aaxis": {
             "endlinecolor": "#2a3f5f",
             "gridcolor": "white",
             "linecolor": "white",
             "minorgridcolor": "white",
             "startlinecolor": "#2a3f5f"
            },
            "baxis": {
             "endlinecolor": "#2a3f5f",
             "gridcolor": "white",
             "linecolor": "white",
             "minorgridcolor": "white",
             "startlinecolor": "#2a3f5f"
            },
            "type": "carpet"
           }
          ],
          "choropleth": [
           {
            "colorbar": {
             "outlinewidth": 0,
             "ticks": ""
            },
            "type": "choropleth"
           }
          ],
          "contour": [
           {
            "colorbar": {
             "outlinewidth": 0,
             "ticks": ""
            },
            "colorscale": [
             [
              0,
              "#0d0887"
             ],
             [
              0.1111111111111111,
              "#46039f"
             ],
             [
              0.2222222222222222,
              "#7201a8"
             ],
             [
              0.3333333333333333,
              "#9c179e"
             ],
             [
              0.4444444444444444,
              "#bd3786"
             ],
             [
              0.5555555555555556,
              "#d8576b"
             ],
             [
              0.6666666666666666,
              "#ed7953"
             ],
             [
              0.7777777777777778,
              "#fb9f3a"
             ],
             [
              0.8888888888888888,
              "#fdca26"
             ],
             [
              1,
              "#f0f921"
             ]
            ],
            "type": "contour"
           }
          ],
          "contourcarpet": [
           {
            "colorbar": {
             "outlinewidth": 0,
             "ticks": ""
            },
            "type": "contourcarpet"
           }
          ],
          "heatmap": [
           {
            "colorbar": {
             "outlinewidth": 0,
             "ticks": ""
            },
            "colorscale": [
             [
              0,
              "#0d0887"
             ],
             [
              0.1111111111111111,
              "#46039f"
             ],
             [
              0.2222222222222222,
              "#7201a8"
             ],
             [
              0.3333333333333333,
              "#9c179e"
             ],
             [
              0.4444444444444444,
              "#bd3786"
             ],
             [
              0.5555555555555556,
              "#d8576b"
             ],
             [
              0.6666666666666666,
              "#ed7953"
             ],
             [
              0.7777777777777778,
              "#fb9f3a"
             ],
             [
              0.8888888888888888,
              "#fdca26"
             ],
             [
              1,
              "#f0f921"
             ]
            ],
            "type": "heatmap"
           }
          ],
          "heatmapgl": [
           {
            "colorbar": {
             "outlinewidth": 0,
             "ticks": ""
            },
            "colorscale": [
             [
              0,
              "#0d0887"
             ],
             [
              0.1111111111111111,
              "#46039f"
             ],
             [
              0.2222222222222222,
              "#7201a8"
             ],
             [
              0.3333333333333333,
              "#9c179e"
             ],
             [
              0.4444444444444444,
              "#bd3786"
             ],
             [
              0.5555555555555556,
              "#d8576b"
             ],
             [
              0.6666666666666666,
              "#ed7953"
             ],
             [
              0.7777777777777778,
              "#fb9f3a"
             ],
             [
              0.8888888888888888,
              "#fdca26"
             ],
             [
              1,
              "#f0f921"
             ]
            ],
            "type": "heatmapgl"
           }
          ],
          "histogram": [
           {
            "marker": {
             "pattern": {
              "fillmode": "overlay",
              "size": 10,
              "solidity": 0.2
             }
            },
            "type": "histogram"
           }
          ],
          "histogram2d": [
           {
            "colorbar": {
             "outlinewidth": 0,
             "ticks": ""
            },
            "colorscale": [
             [
              0,
              "#0d0887"
             ],
             [
              0.1111111111111111,
              "#46039f"
             ],
             [
              0.2222222222222222,
              "#7201a8"
             ],
             [
              0.3333333333333333,
              "#9c179e"
             ],
             [
              0.4444444444444444,
              "#bd3786"
             ],
             [
              0.5555555555555556,
              "#d8576b"
             ],
             [
              0.6666666666666666,
              "#ed7953"
             ],
             [
              0.7777777777777778,
              "#fb9f3a"
             ],
             [
              0.8888888888888888,
              "#fdca26"
             ],
             [
              1,
              "#f0f921"
             ]
            ],
            "type": "histogram2d"
           }
          ],
          "histogram2dcontour": [
           {
            "colorbar": {
             "outlinewidth": 0,
             "ticks": ""
            },
            "colorscale": [
             [
              0,
              "#0d0887"
             ],
             [
              0.1111111111111111,
              "#46039f"
             ],
             [
              0.2222222222222222,
              "#7201a8"
             ],
             [
              0.3333333333333333,
              "#9c179e"
             ],
             [
              0.4444444444444444,
              "#bd3786"
             ],
             [
              0.5555555555555556,
              "#d8576b"
             ],
             [
              0.6666666666666666,
              "#ed7953"
             ],
             [
              0.7777777777777778,
              "#fb9f3a"
             ],
             [
              0.8888888888888888,
              "#fdca26"
             ],
             [
              1,
              "#f0f921"
             ]
            ],
            "type": "histogram2dcontour"
           }
          ],
          "mesh3d": [
           {
            "colorbar": {
             "outlinewidth": 0,
             "ticks": ""
            },
            "type": "mesh3d"
           }
          ],
          "parcoords": [
           {
            "line": {
             "colorbar": {
              "outlinewidth": 0,
              "ticks": ""
             }
            },
            "type": "parcoords"
           }
          ],
          "pie": [
           {
            "automargin": true,
            "type": "pie"
           }
          ],
          "scatter": [
           {
            "fillpattern": {
             "fillmode": "overlay",
             "size": 10,
             "solidity": 0.2
            },
            "type": "scatter"
           }
          ],
          "scatter3d": [
           {
            "line": {
             "colorbar": {
              "outlinewidth": 0,
              "ticks": ""
             }
            },
            "marker": {
             "colorbar": {
              "outlinewidth": 0,
              "ticks": ""
             }
            },
            "type": "scatter3d"
           }
          ],
          "scattercarpet": [
           {
            "marker": {
             "colorbar": {
              "outlinewidth": 0,
              "ticks": ""
             }
            },
            "type": "scattercarpet"
           }
          ],
          "scattergeo": [
           {
            "marker": {
             "colorbar": {
              "outlinewidth": 0,
              "ticks": ""
             }
            },
            "type": "scattergeo"
           }
          ],
          "scattergl": [
           {
            "marker": {
             "colorbar": {
              "outlinewidth": 0,
              "ticks": ""
             }
            },
            "type": "scattergl"
           }
          ],
          "scattermapbox": [
           {
            "marker": {
             "colorbar": {
              "outlinewidth": 0,
              "ticks": ""
             }
            },
            "type": "scattermapbox"
           }
          ],
          "scatterpolar": [
           {
            "marker": {
             "colorbar": {
              "outlinewidth": 0,
              "ticks": ""
             }
            },
            "type": "scatterpolar"
           }
          ],
          "scatterpolargl": [
           {
            "marker": {
             "colorbar": {
              "outlinewidth": 0,
              "ticks": ""
             }
            },
            "type": "scatterpolargl"
           }
          ],
          "scatterternary": [
           {
            "marker": {
             "colorbar": {
              "outlinewidth": 0,
              "ticks": ""
             }
            },
            "type": "scatterternary"
           }
          ],
          "surface": [
           {
            "colorbar": {
             "outlinewidth": 0,
             "ticks": ""
            },
            "colorscale": [
             [
              0,
              "#0d0887"
             ],
             [
              0.1111111111111111,
              "#46039f"
             ],
             [
              0.2222222222222222,
              "#7201a8"
             ],
             [
              0.3333333333333333,
              "#9c179e"
             ],
             [
              0.4444444444444444,
              "#bd3786"
             ],
             [
              0.5555555555555556,
              "#d8576b"
             ],
             [
              0.6666666666666666,
              "#ed7953"
             ],
             [
              0.7777777777777778,
              "#fb9f3a"
             ],
             [
              0.8888888888888888,
              "#fdca26"
             ],
             [
              1,
              "#f0f921"
             ]
            ],
            "type": "surface"
           }
          ],
          "table": [
           {
            "cells": {
             "fill": {
              "color": "#EBF0F8"
             },
             "line": {
              "color": "white"
             }
            },
            "header": {
             "fill": {
              "color": "#C8D4E3"
             },
             "line": {
              "color": "white"
             }
            },
            "type": "table"
           }
          ]
         },
         "layout": {
          "annotationdefaults": {
           "arrowcolor": "#2a3f5f",
           "arrowhead": 0,
           "arrowwidth": 1
          },
          "autotypenumbers": "strict",
          "coloraxis": {
           "colorbar": {
            "outlinewidth": 0,
            "ticks": ""
           }
          },
          "colorscale": {
           "diverging": [
            [
             0,
             "#8e0152"
            ],
            [
             0.1,
             "#c51b7d"
            ],
            [
             0.2,
             "#de77ae"
            ],
            [
             0.3,
             "#f1b6da"
            ],
            [
             0.4,
             "#fde0ef"
            ],
            [
             0.5,
             "#f7f7f7"
            ],
            [
             0.6,
             "#e6f5d0"
            ],
            [
             0.7,
             "#b8e186"
            ],
            [
             0.8,
             "#7fbc41"
            ],
            [
             0.9,
             "#4d9221"
            ],
            [
             1,
             "#276419"
            ]
           ],
           "sequential": [
            [
             0,
             "#0d0887"
            ],
            [
             0.1111111111111111,
             "#46039f"
            ],
            [
             0.2222222222222222,
             "#7201a8"
            ],
            [
             0.3333333333333333,
             "#9c179e"
            ],
            [
             0.4444444444444444,
             "#bd3786"
            ],
            [
             0.5555555555555556,
             "#d8576b"
            ],
            [
             0.6666666666666666,
             "#ed7953"
            ],
            [
             0.7777777777777778,
             "#fb9f3a"
            ],
            [
             0.8888888888888888,
             "#fdca26"
            ],
            [
             1,
             "#f0f921"
            ]
           ],
           "sequentialminus": [
            [
             0,
             "#0d0887"
            ],
            [
             0.1111111111111111,
             "#46039f"
            ],
            [
             0.2222222222222222,
             "#7201a8"
            ],
            [
             0.3333333333333333,
             "#9c179e"
            ],
            [
             0.4444444444444444,
             "#bd3786"
            ],
            [
             0.5555555555555556,
             "#d8576b"
            ],
            [
             0.6666666666666666,
             "#ed7953"
            ],
            [
             0.7777777777777778,
             "#fb9f3a"
            ],
            [
             0.8888888888888888,
             "#fdca26"
            ],
            [
             1,
             "#f0f921"
            ]
           ]
          },
          "colorway": [
           "#636efa",
           "#EF553B",
           "#00cc96",
           "#ab63fa",
           "#FFA15A",
           "#19d3f3",
           "#FF6692",
           "#B6E880",
           "#FF97FF",
           "#FECB52"
          ],
          "font": {
           "color": "#2a3f5f"
          },
          "geo": {
           "bgcolor": "white",
           "lakecolor": "white",
           "landcolor": "#E5ECF6",
           "showlakes": true,
           "showland": true,
           "subunitcolor": "white"
          },
          "hoverlabel": {
           "align": "left"
          },
          "hovermode": "closest",
          "mapbox": {
           "style": "light"
          },
          "paper_bgcolor": "white",
          "plot_bgcolor": "#E5ECF6",
          "polar": {
           "angularaxis": {
            "gridcolor": "white",
            "linecolor": "white",
            "ticks": ""
           },
           "bgcolor": "#E5ECF6",
           "radialaxis": {
            "gridcolor": "white",
            "linecolor": "white",
            "ticks": ""
           }
          },
          "scene": {
           "xaxis": {
            "backgroundcolor": "#E5ECF6",
            "gridcolor": "white",
            "gridwidth": 2,
            "linecolor": "white",
            "showbackground": true,
            "ticks": "",
            "zerolinecolor": "white"
           },
           "yaxis": {
            "backgroundcolor": "#E5ECF6",
            "gridcolor": "white",
            "gridwidth": 2,
            "linecolor": "white",
            "showbackground": true,
            "ticks": "",
            "zerolinecolor": "white"
           },
           "zaxis": {
            "backgroundcolor": "#E5ECF6",
            "gridcolor": "white",
            "gridwidth": 2,
            "linecolor": "white",
            "showbackground": true,
            "ticks": "",
            "zerolinecolor": "white"
           }
          },
          "shapedefaults": {
           "line": {
            "color": "#2a3f5f"
           }
          },
          "ternary": {
           "aaxis": {
            "gridcolor": "white",
            "linecolor": "white",
            "ticks": ""
           },
           "baxis": {
            "gridcolor": "white",
            "linecolor": "white",
            "ticks": ""
           },
           "bgcolor": "#E5ECF6",
           "caxis": {
            "gridcolor": "white",
            "linecolor": "white",
            "ticks": ""
           }
          },
          "title": {
           "x": 0.05
          },
          "xaxis": {
           "automargin": true,
           "gridcolor": "white",
           "linecolor": "white",
           "ticks": "",
           "title": {
            "standoff": 15
           },
           "zerolinecolor": "white",
           "zerolinewidth": 2
          },
          "yaxis": {
           "automargin": true,
           "gridcolor": "white",
           "linecolor": "white",
           "ticks": "",
           "title": {
            "standoff": 15
           },
           "zerolinecolor": "white",
           "zerolinewidth": 2
          }
         }
        },
        "xaxis": {
         "anchor": "y",
         "domain": [
          0,
          1
         ],
         "title": {
          "text": "info_category"
         }
        },
        "yaxis": {
         "anchor": "x",
         "domain": [
          0,
          1
         ],
         "title": {
          "text": "count"
         }
        }
       }
      },
      "text/html": [
       "<div>                            <div id=\"72959658-99c5-4707-ac1c-3d110f2bfdac\" class=\"plotly-graph-div\" style=\"height:525px; width:100%;\"></div>            <script type=\"text/javascript\">                require([\"plotly\"], function(Plotly) {                    window.PLOTLYENV=window.PLOTLYENV || {};                                    if (document.getElementById(\"72959658-99c5-4707-ac1c-3d110f2bfdac\")) {                    Plotly.newPlot(                        \"72959658-99c5-4707-ac1c-3d110f2bfdac\",                        [{\"alignmentgroup\":\"True\",\"bingroup\":\"x\",\"hovertemplate\":\"info_category=%{x}<br>count=%{y}<extra></extra>\",\"legendgroup\":\"\",\"marker\":{\"color\":\"#636efa\",\"pattern\":{\"shape\":\"\"}},\"name\":\"\",\"offsetgroup\":\"\",\"orientation\":\"v\",\"showlegend\":false,\"x\":[\"35-39M\",\"35-39M\",\"20-34M\",\"20-34M\",\"20-34M\",\"40-44M\",\"20-34M\",\"35-39M\",\"20-34M\",\"20-34M\",\"40-44M\",\"20-34M\",\"40-44M\",\"35-39M\",\"35-39M\",\"20-34M\",\"35-39M\",\"20-34M\",\"40-44M\",\"20-34M\",\"20-34M\",\"20-34F\",\"20-34M\",\"40-44M\",\"20-34M\",\"20-34M\",\"20-34M\",\"20-34M\",\"35-39M\",\"20-34M\",\"20-34M\",\"35-39M\",\"35-39M\",\"40-44M\",\"35-39M\",\"35-39M\",\"20-34M\",\"35-39M\",\"20-34M\",\"20-34F\",\"45-49M\",\"45-49M\",\"40-44M\",\"40-44M\",\"35-39M\",\"20-34M\",\"20-34F\",\"20-34M\",\"20-34M\",\"40-44M\",\"45-49M\",\"35-39M\",\"35-39M\",\"40-44M\",\"35-39M\",\"40-44M\",\"55-59M\",\"35-39M\",\"35-39M\",\"45-49F\",\"40-44M\",\"35-39F\",\"35-39M\",\"20-34M\",\"45-49M\",\"35-39M\",\"20-34F\",\"45-49M\",\"40-44M\",\"40-44M\",\"45-49M\",\"40-44M\",\"40-44M\",\"40-44M\",\"20-34F\",\"35-39M\",\"40-44F\",\"45-49M\",\"35-39M\",\"20-34M\",\"40-44M\",\"45-49F\",\"35-39M\",\"20-34M\",\"35-39M\",\"35-39M\",\"20-34M\",\"40-44M\",\"20-34M\",\"20-34M\",\"35-39M\",\"40-44M\",\"20-34M\",\"45-49M\",\"20-34M\",\"35-39M\",\"40-44F\",\"45-49M\",\"35-39F\",\"20-34M\",\"40-44M\",\"20-34M\",\"20-34M\",\"40-44M\",\"20-34M\",\"20-34M\",\"40-44M\",\"35-39M\",\"35-39F\",\"40-44M\",\"45-49M\",\"20-34M\",\"35-39M\",\"20-34M\",\"40-44M\",\"20-34M\",\"35-39M\",\"35-39M\",\"40-44M\",\"35-39M\",\"40-44M\",\"45-49F\",\"35-39M\",\"50-54M\",\"40-44M\",\"40-44M\",\"40-44M\",\"20-34M\",\"40-44M\",\"50-54M\",\"20-34M\",\"20-34F\",\"40-44F\",\"35-39M\",\"40-44M\",\"50-54M\",\"40-44M\",\"35-39M\",\"35-39M\",\"20-34M\",\"20-34M\",\"35-39M\",\"20-34F\",\"50-54M\",\"45-49M\",\"45-49M\",\"35-39M\",\"40-44M\",\"20-34M\",\"40-44M\",\"35-39M\",\"35-39M\",\"45-49M\",\"35-39M\",\"40-44M\",\"35-39M\",\"20-34M\",\"35-39M\",\"50-54M\",\"40-44M\",\"40-44M\",\"40-44M\",\"35-39M\",\"50-54M\",\"20-34M\",\"35-39M\",\"50-54M\",\"40-44M\",\"40-44M\",\"40-44M\",\"20-34M\",\"40-44M\",\"50-54F\",\"45-49M\",\"35-39M\",\"45-49M\",\"35-39M\",\"35-39M\",\"45-49M\",\"35-39M\",\"35-39M\",\"35-39M\",\"20-34F\",\"20-34M\",\"40-44M\",\"35-39M\",\"40-44F\",\"40-44M\",\"20-34M\",\"35-39M\",\"35-39M\",\"40-44M\",\"50-54M\",\"45-49M\",\"20-34M\",\"45-49M\",\"40-44M\",\"35-39M\",\"40-44M\",\"35-39M\"],\"xaxis\":\"x\",\"yaxis\":\"y\",\"type\":\"histogram\"}],                        {\"template\":{\"data\":{\"histogram2dcontour\":[{\"type\":\"histogram2dcontour\",\"colorbar\":{\"outlinewidth\":0,\"ticks\":\"\"},\"colorscale\":[[0.0,\"#0d0887\"],[0.1111111111111111,\"#46039f\"],[0.2222222222222222,\"#7201a8\"],[0.3333333333333333,\"#9c179e\"],[0.4444444444444444,\"#bd3786\"],[0.5555555555555556,\"#d8576b\"],[0.6666666666666666,\"#ed7953\"],[0.7777777777777778,\"#fb9f3a\"],[0.8888888888888888,\"#fdca26\"],[1.0,\"#f0f921\"]]}],\"choropleth\":[{\"type\":\"choropleth\",\"colorbar\":{\"outlinewidth\":0,\"ticks\":\"\"}}],\"histogram2d\":[{\"type\":\"histogram2d\",\"colorbar\":{\"outlinewidth\":0,\"ticks\":\"\"},\"colorscale\":[[0.0,\"#0d0887\"],[0.1111111111111111,\"#46039f\"],[0.2222222222222222,\"#7201a8\"],[0.3333333333333333,\"#9c179e\"],[0.4444444444444444,\"#bd3786\"],[0.5555555555555556,\"#d8576b\"],[0.6666666666666666,\"#ed7953\"],[0.7777777777777778,\"#fb9f3a\"],[0.8888888888888888,\"#fdca26\"],[1.0,\"#f0f921\"]]}],\"heatmap\":[{\"type\":\"heatmap\",\"colorbar\":{\"outlinewidth\":0,\"ticks\":\"\"},\"colorscale\":[[0.0,\"#0d0887\"],[0.1111111111111111,\"#46039f\"],[0.2222222222222222,\"#7201a8\"],[0.3333333333333333,\"#9c179e\"],[0.4444444444444444,\"#bd3786\"],[0.5555555555555556,\"#d8576b\"],[0.6666666666666666,\"#ed7953\"],[0.7777777777777778,\"#fb9f3a\"],[0.8888888888888888,\"#fdca26\"],[1.0,\"#f0f921\"]]}],\"heatmapgl\":[{\"type\":\"heatmapgl\",\"colorbar\":{\"outlinewidth\":0,\"ticks\":\"\"},\"colorscale\":[[0.0,\"#0d0887\"],[0.1111111111111111,\"#46039f\"],[0.2222222222222222,\"#7201a8\"],[0.3333333333333333,\"#9c179e\"],[0.4444444444444444,\"#bd3786\"],[0.5555555555555556,\"#d8576b\"],[0.6666666666666666,\"#ed7953\"],[0.7777777777777778,\"#fb9f3a\"],[0.8888888888888888,\"#fdca26\"],[1.0,\"#f0f921\"]]}],\"contourcarpet\":[{\"type\":\"contourcarpet\",\"colorbar\":{\"outlinewidth\":0,\"ticks\":\"\"}}],\"contour\":[{\"type\":\"contour\",\"colorbar\":{\"outlinewidth\":0,\"ticks\":\"\"},\"colorscale\":[[0.0,\"#0d0887\"],[0.1111111111111111,\"#46039f\"],[0.2222222222222222,\"#7201a8\"],[0.3333333333333333,\"#9c179e\"],[0.4444444444444444,\"#bd3786\"],[0.5555555555555556,\"#d8576b\"],[0.6666666666666666,\"#ed7953\"],[0.7777777777777778,\"#fb9f3a\"],[0.8888888888888888,\"#fdca26\"],[1.0,\"#f0f921\"]]}],\"surface\":[{\"type\":\"surface\",\"colorbar\":{\"outlinewidth\":0,\"ticks\":\"\"},\"colorscale\":[[0.0,\"#0d0887\"],[0.1111111111111111,\"#46039f\"],[0.2222222222222222,\"#7201a8\"],[0.3333333333333333,\"#9c179e\"],[0.4444444444444444,\"#bd3786\"],[0.5555555555555556,\"#d8576b\"],[0.6666666666666666,\"#ed7953\"],[0.7777777777777778,\"#fb9f3a\"],[0.8888888888888888,\"#fdca26\"],[1.0,\"#f0f921\"]]}],\"mesh3d\":[{\"type\":\"mesh3d\",\"colorbar\":{\"outlinewidth\":0,\"ticks\":\"\"}}],\"scatter\":[{\"fillpattern\":{\"fillmode\":\"overlay\",\"size\":10,\"solidity\":0.2},\"type\":\"scatter\"}],\"parcoords\":[{\"type\":\"parcoords\",\"line\":{\"colorbar\":{\"outlinewidth\":0,\"ticks\":\"\"}}}],\"scatterpolargl\":[{\"type\":\"scatterpolargl\",\"marker\":{\"colorbar\":{\"outlinewidth\":0,\"ticks\":\"\"}}}],\"bar\":[{\"error_x\":{\"color\":\"#2a3f5f\"},\"error_y\":{\"color\":\"#2a3f5f\"},\"marker\":{\"line\":{\"color\":\"#E5ECF6\",\"width\":0.5},\"pattern\":{\"fillmode\":\"overlay\",\"size\":10,\"solidity\":0.2}},\"type\":\"bar\"}],\"scattergeo\":[{\"type\":\"scattergeo\",\"marker\":{\"colorbar\":{\"outlinewidth\":0,\"ticks\":\"\"}}}],\"scatterpolar\":[{\"type\":\"scatterpolar\",\"marker\":{\"colorbar\":{\"outlinewidth\":0,\"ticks\":\"\"}}}],\"histogram\":[{\"marker\":{\"pattern\":{\"fillmode\":\"overlay\",\"size\":10,\"solidity\":0.2}},\"type\":\"histogram\"}],\"scattergl\":[{\"type\":\"scattergl\",\"marker\":{\"colorbar\":{\"outlinewidth\":0,\"ticks\":\"\"}}}],\"scatter3d\":[{\"type\":\"scatter3d\",\"line\":{\"colorbar\":{\"outlinewidth\":0,\"ticks\":\"\"}},\"marker\":{\"colorbar\":{\"outlinewidth\":0,\"ticks\":\"\"}}}],\"scattermapbox\":[{\"type\":\"scattermapbox\",\"marker\":{\"colorbar\":{\"outlinewidth\":0,\"ticks\":\"\"}}}],\"scatterternary\":[{\"type\":\"scatterternary\",\"marker\":{\"colorbar\":{\"outlinewidth\":0,\"ticks\":\"\"}}}],\"scattercarpet\":[{\"type\":\"scattercarpet\",\"marker\":{\"colorbar\":{\"outlinewidth\":0,\"ticks\":\"\"}}}],\"carpet\":[{\"aaxis\":{\"endlinecolor\":\"#2a3f5f\",\"gridcolor\":\"white\",\"linecolor\":\"white\",\"minorgridcolor\":\"white\",\"startlinecolor\":\"#2a3f5f\"},\"baxis\":{\"endlinecolor\":\"#2a3f5f\",\"gridcolor\":\"white\",\"linecolor\":\"white\",\"minorgridcolor\":\"white\",\"startlinecolor\":\"#2a3f5f\"},\"type\":\"carpet\"}],\"table\":[{\"cells\":{\"fill\":{\"color\":\"#EBF0F8\"},\"line\":{\"color\":\"white\"}},\"header\":{\"fill\":{\"color\":\"#C8D4E3\"},\"line\":{\"color\":\"white\"}},\"type\":\"table\"}],\"barpolar\":[{\"marker\":{\"line\":{\"color\":\"#E5ECF6\",\"width\":0.5},\"pattern\":{\"fillmode\":\"overlay\",\"size\":10,\"solidity\":0.2}},\"type\":\"barpolar\"}],\"pie\":[{\"automargin\":true,\"type\":\"pie\"}]},\"layout\":{\"autotypenumbers\":\"strict\",\"colorway\":[\"#636efa\",\"#EF553B\",\"#00cc96\",\"#ab63fa\",\"#FFA15A\",\"#19d3f3\",\"#FF6692\",\"#B6E880\",\"#FF97FF\",\"#FECB52\"],\"font\":{\"color\":\"#2a3f5f\"},\"hovermode\":\"closest\",\"hoverlabel\":{\"align\":\"left\"},\"paper_bgcolor\":\"white\",\"plot_bgcolor\":\"#E5ECF6\",\"polar\":{\"bgcolor\":\"#E5ECF6\",\"angularaxis\":{\"gridcolor\":\"white\",\"linecolor\":\"white\",\"ticks\":\"\"},\"radialaxis\":{\"gridcolor\":\"white\",\"linecolor\":\"white\",\"ticks\":\"\"}},\"ternary\":{\"bgcolor\":\"#E5ECF6\",\"aaxis\":{\"gridcolor\":\"white\",\"linecolor\":\"white\",\"ticks\":\"\"},\"baxis\":{\"gridcolor\":\"white\",\"linecolor\":\"white\",\"ticks\":\"\"},\"caxis\":{\"gridcolor\":\"white\",\"linecolor\":\"white\",\"ticks\":\"\"}},\"coloraxis\":{\"colorbar\":{\"outlinewidth\":0,\"ticks\":\"\"}},\"colorscale\":{\"sequential\":[[0.0,\"#0d0887\"],[0.1111111111111111,\"#46039f\"],[0.2222222222222222,\"#7201a8\"],[0.3333333333333333,\"#9c179e\"],[0.4444444444444444,\"#bd3786\"],[0.5555555555555556,\"#d8576b\"],[0.6666666666666666,\"#ed7953\"],[0.7777777777777778,\"#fb9f3a\"],[0.8888888888888888,\"#fdca26\"],[1.0,\"#f0f921\"]],\"sequentialminus\":[[0.0,\"#0d0887\"],[0.1111111111111111,\"#46039f\"],[0.2222222222222222,\"#7201a8\"],[0.3333333333333333,\"#9c179e\"],[0.4444444444444444,\"#bd3786\"],[0.5555555555555556,\"#d8576b\"],[0.6666666666666666,\"#ed7953\"],[0.7777777777777778,\"#fb9f3a\"],[0.8888888888888888,\"#fdca26\"],[1.0,\"#f0f921\"]],\"diverging\":[[0,\"#8e0152\"],[0.1,\"#c51b7d\"],[0.2,\"#de77ae\"],[0.3,\"#f1b6da\"],[0.4,\"#fde0ef\"],[0.5,\"#f7f7f7\"],[0.6,\"#e6f5d0\"],[0.7,\"#b8e186\"],[0.8,\"#7fbc41\"],[0.9,\"#4d9221\"],[1,\"#276419\"]]},\"xaxis\":{\"gridcolor\":\"white\",\"linecolor\":\"white\",\"ticks\":\"\",\"title\":{\"standoff\":15},\"zerolinecolor\":\"white\",\"automargin\":true,\"zerolinewidth\":2},\"yaxis\":{\"gridcolor\":\"white\",\"linecolor\":\"white\",\"ticks\":\"\",\"title\":{\"standoff\":15},\"zerolinecolor\":\"white\",\"automargin\":true,\"zerolinewidth\":2},\"scene\":{\"xaxis\":{\"backgroundcolor\":\"#E5ECF6\",\"gridcolor\":\"white\",\"linecolor\":\"white\",\"showbackground\":true,\"ticks\":\"\",\"zerolinecolor\":\"white\",\"gridwidth\":2},\"yaxis\":{\"backgroundcolor\":\"#E5ECF6\",\"gridcolor\":\"white\",\"linecolor\":\"white\",\"showbackground\":true,\"ticks\":\"\",\"zerolinecolor\":\"white\",\"gridwidth\":2},\"zaxis\":{\"backgroundcolor\":\"#E5ECF6\",\"gridcolor\":\"white\",\"linecolor\":\"white\",\"showbackground\":true,\"ticks\":\"\",\"zerolinecolor\":\"white\",\"gridwidth\":2}},\"shapedefaults\":{\"line\":{\"color\":\"#2a3f5f\"}},\"annotationdefaults\":{\"arrowcolor\":\"#2a3f5f\",\"arrowhead\":0,\"arrowwidth\":1},\"geo\":{\"bgcolor\":\"white\",\"landcolor\":\"#E5ECF6\",\"subunitcolor\":\"white\",\"showland\":true,\"showlakes\":true,\"lakecolor\":\"white\"},\"title\":{\"x\":0.05},\"mapbox\":{\"style\":\"light\"}}},\"xaxis\":{\"anchor\":\"y\",\"domain\":[0.0,1.0],\"title\":{\"text\":\"info_category\"}},\"yaxis\":{\"anchor\":\"x\",\"domain\":[0.0,1.0],\"title\":{\"text\":\"count\"}},\"legend\":{\"tracegroupgap\":0},\"margin\":{\"t\":60},\"barmode\":\"relative\"},                        {\"responsive\": true}                    ).then(function(){\n",
       "                            \n",
       "var gd = document.getElementById('72959658-99c5-4707-ac1c-3d110f2bfdac');\n",
       "var x = new MutationObserver(function (mutations, observer) {{\n",
       "        var display = window.getComputedStyle(gd).display;\n",
       "        if (!display || display === 'none') {{\n",
       "            console.log([gd, 'removed!']);\n",
       "            Plotly.purge(gd);\n",
       "            observer.disconnect();\n",
       "        }}\n",
       "}});\n",
       "\n",
       "// Listen for the removal of the full notebook cells\n",
       "var notebookContainer = gd.closest('#notebook-container');\n",
       "if (notebookContainer) {{\n",
       "    x.observe(notebookContainer, {childList: true});\n",
       "}}\n",
       "\n",
       "// Listen for the clearing of the current output cell\n",
       "var outputEl = gd.closest('.output');\n",
       "if (outputEl) {{\n",
       "    x.observe(outputEl, {childList: true});\n",
       "}}\n",
       "\n",
       "                        })                };                });            </script>        </div>"
      ]
     },
     "metadata": {},
     "output_type": "display_data"
    }
   ],
   "source": [
    "fig = px.histogram(df, x='info_category')\n",
    "fig.show()\n",
    "\n",
    "print(\"Same analysis for top 200 finishers:\")\n",
    "fig = px.histogram(df[:200], x='info_category')\n",
    "fig.show()"
   ]
  },
  {
   "cell_type": "markdown",
   "id": "d8f4165e",
   "metadata": {},
   "source": [
    "### Most present countries\n",
    "Number of finishers per countries"
   ]
  },
  {
   "cell_type": "code",
   "execution_count": 10,
   "id": "2e1379f3",
   "metadata": {},
   "outputs": [
    {
     "data": {
      "application/vnd.plotly.v1+json": {
       "config": {
        "plotlyServerURL": "https://plot.ly"
       },
       "data": [
        {
         "alignmentgroup": "True",
         "bingroup": "x",
         "histfunc": "sum",
         "hovertemplate": "countries=%{x}<br>sum of num=%{y}<extra></extra>",
         "legendgroup": "",
         "marker": {
          "color": "#636efa",
          "pattern": {
           "shape": ""
          }
         },
         "name": "",
         "offsetgroup": "",
         "orientation": "v",
         "showlegend": false,
         "type": "histogram",
         "x": [
          "FR",
          "ES",
          "GB",
          "US",
          "IT",
          "JP",
          "PT",
          "PL",
          "CA",
          "SE",
          "CH",
          "AR",
          "AU",
          "TH",
          "DE",
          "BE",
          "HK",
          "RO",
          "FI",
          "NL",
          "IE",
          "HR",
          "BR",
          "SI",
          "PH",
          "HU",
          "AT",
          "CN",
          "ZA",
          "CZ"
         ],
         "xaxis": "x",
         "y": [
          674,
          183,
          119,
          118,
          87,
          65,
          43,
          40,
          38,
          35,
          33,
          26,
          26,
          25,
          24,
          24,
          18,
          14,
          13,
          11,
          11,
          9,
          9,
          7,
          7,
          7,
          7,
          7,
          7,
          6
         ],
         "yaxis": "y"
        }
       ],
       "layout": {
        "barmode": "relative",
        "legend": {
         "tracegroupgap": 0
        },
        "margin": {
         "t": 60
        },
        "template": {
         "data": {
          "bar": [
           {
            "error_x": {
             "color": "#2a3f5f"
            },
            "error_y": {
             "color": "#2a3f5f"
            },
            "marker": {
             "line": {
              "color": "#E5ECF6",
              "width": 0.5
             },
             "pattern": {
              "fillmode": "overlay",
              "size": 10,
              "solidity": 0.2
             }
            },
            "type": "bar"
           }
          ],
          "barpolar": [
           {
            "marker": {
             "line": {
              "color": "#E5ECF6",
              "width": 0.5
             },
             "pattern": {
              "fillmode": "overlay",
              "size": 10,
              "solidity": 0.2
             }
            },
            "type": "barpolar"
           }
          ],
          "carpet": [
           {
            "aaxis": {
             "endlinecolor": "#2a3f5f",
             "gridcolor": "white",
             "linecolor": "white",
             "minorgridcolor": "white",
             "startlinecolor": "#2a3f5f"
            },
            "baxis": {
             "endlinecolor": "#2a3f5f",
             "gridcolor": "white",
             "linecolor": "white",
             "minorgridcolor": "white",
             "startlinecolor": "#2a3f5f"
            },
            "type": "carpet"
           }
          ],
          "choropleth": [
           {
            "colorbar": {
             "outlinewidth": 0,
             "ticks": ""
            },
            "type": "choropleth"
           }
          ],
          "contour": [
           {
            "colorbar": {
             "outlinewidth": 0,
             "ticks": ""
            },
            "colorscale": [
             [
              0,
              "#0d0887"
             ],
             [
              0.1111111111111111,
              "#46039f"
             ],
             [
              0.2222222222222222,
              "#7201a8"
             ],
             [
              0.3333333333333333,
              "#9c179e"
             ],
             [
              0.4444444444444444,
              "#bd3786"
             ],
             [
              0.5555555555555556,
              "#d8576b"
             ],
             [
              0.6666666666666666,
              "#ed7953"
             ],
             [
              0.7777777777777778,
              "#fb9f3a"
             ],
             [
              0.8888888888888888,
              "#fdca26"
             ],
             [
              1,
              "#f0f921"
             ]
            ],
            "type": "contour"
           }
          ],
          "contourcarpet": [
           {
            "colorbar": {
             "outlinewidth": 0,
             "ticks": ""
            },
            "type": "contourcarpet"
           }
          ],
          "heatmap": [
           {
            "colorbar": {
             "outlinewidth": 0,
             "ticks": ""
            },
            "colorscale": [
             [
              0,
              "#0d0887"
             ],
             [
              0.1111111111111111,
              "#46039f"
             ],
             [
              0.2222222222222222,
              "#7201a8"
             ],
             [
              0.3333333333333333,
              "#9c179e"
             ],
             [
              0.4444444444444444,
              "#bd3786"
             ],
             [
              0.5555555555555556,
              "#d8576b"
             ],
             [
              0.6666666666666666,
              "#ed7953"
             ],
             [
              0.7777777777777778,
              "#fb9f3a"
             ],
             [
              0.8888888888888888,
              "#fdca26"
             ],
             [
              1,
              "#f0f921"
             ]
            ],
            "type": "heatmap"
           }
          ],
          "heatmapgl": [
           {
            "colorbar": {
             "outlinewidth": 0,
             "ticks": ""
            },
            "colorscale": [
             [
              0,
              "#0d0887"
             ],
             [
              0.1111111111111111,
              "#46039f"
             ],
             [
              0.2222222222222222,
              "#7201a8"
             ],
             [
              0.3333333333333333,
              "#9c179e"
             ],
             [
              0.4444444444444444,
              "#bd3786"
             ],
             [
              0.5555555555555556,
              "#d8576b"
             ],
             [
              0.6666666666666666,
              "#ed7953"
             ],
             [
              0.7777777777777778,
              "#fb9f3a"
             ],
             [
              0.8888888888888888,
              "#fdca26"
             ],
             [
              1,
              "#f0f921"
             ]
            ],
            "type": "heatmapgl"
           }
          ],
          "histogram": [
           {
            "marker": {
             "pattern": {
              "fillmode": "overlay",
              "size": 10,
              "solidity": 0.2
             }
            },
            "type": "histogram"
           }
          ],
          "histogram2d": [
           {
            "colorbar": {
             "outlinewidth": 0,
             "ticks": ""
            },
            "colorscale": [
             [
              0,
              "#0d0887"
             ],
             [
              0.1111111111111111,
              "#46039f"
             ],
             [
              0.2222222222222222,
              "#7201a8"
             ],
             [
              0.3333333333333333,
              "#9c179e"
             ],
             [
              0.4444444444444444,
              "#bd3786"
             ],
             [
              0.5555555555555556,
              "#d8576b"
             ],
             [
              0.6666666666666666,
              "#ed7953"
             ],
             [
              0.7777777777777778,
              "#fb9f3a"
             ],
             [
              0.8888888888888888,
              "#fdca26"
             ],
             [
              1,
              "#f0f921"
             ]
            ],
            "type": "histogram2d"
           }
          ],
          "histogram2dcontour": [
           {
            "colorbar": {
             "outlinewidth": 0,
             "ticks": ""
            },
            "colorscale": [
             [
              0,
              "#0d0887"
             ],
             [
              0.1111111111111111,
              "#46039f"
             ],
             [
              0.2222222222222222,
              "#7201a8"
             ],
             [
              0.3333333333333333,
              "#9c179e"
             ],
             [
              0.4444444444444444,
              "#bd3786"
             ],
             [
              0.5555555555555556,
              "#d8576b"
             ],
             [
              0.6666666666666666,
              "#ed7953"
             ],
             [
              0.7777777777777778,
              "#fb9f3a"
             ],
             [
              0.8888888888888888,
              "#fdca26"
             ],
             [
              1,
              "#f0f921"
             ]
            ],
            "type": "histogram2dcontour"
           }
          ],
          "mesh3d": [
           {
            "colorbar": {
             "outlinewidth": 0,
             "ticks": ""
            },
            "type": "mesh3d"
           }
          ],
          "parcoords": [
           {
            "line": {
             "colorbar": {
              "outlinewidth": 0,
              "ticks": ""
             }
            },
            "type": "parcoords"
           }
          ],
          "pie": [
           {
            "automargin": true,
            "type": "pie"
           }
          ],
          "scatter": [
           {
            "fillpattern": {
             "fillmode": "overlay",
             "size": 10,
             "solidity": 0.2
            },
            "type": "scatter"
           }
          ],
          "scatter3d": [
           {
            "line": {
             "colorbar": {
              "outlinewidth": 0,
              "ticks": ""
             }
            },
            "marker": {
             "colorbar": {
              "outlinewidth": 0,
              "ticks": ""
             }
            },
            "type": "scatter3d"
           }
          ],
          "scattercarpet": [
           {
            "marker": {
             "colorbar": {
              "outlinewidth": 0,
              "ticks": ""
             }
            },
            "type": "scattercarpet"
           }
          ],
          "scattergeo": [
           {
            "marker": {
             "colorbar": {
              "outlinewidth": 0,
              "ticks": ""
             }
            },
            "type": "scattergeo"
           }
          ],
          "scattergl": [
           {
            "marker": {
             "colorbar": {
              "outlinewidth": 0,
              "ticks": ""
             }
            },
            "type": "scattergl"
           }
          ],
          "scattermapbox": [
           {
            "marker": {
             "colorbar": {
              "outlinewidth": 0,
              "ticks": ""
             }
            },
            "type": "scattermapbox"
           }
          ],
          "scatterpolar": [
           {
            "marker": {
             "colorbar": {
              "outlinewidth": 0,
              "ticks": ""
             }
            },
            "type": "scatterpolar"
           }
          ],
          "scatterpolargl": [
           {
            "marker": {
             "colorbar": {
              "outlinewidth": 0,
              "ticks": ""
             }
            },
            "type": "scatterpolargl"
           }
          ],
          "scatterternary": [
           {
            "marker": {
             "colorbar": {
              "outlinewidth": 0,
              "ticks": ""
             }
            },
            "type": "scatterternary"
           }
          ],
          "surface": [
           {
            "colorbar": {
             "outlinewidth": 0,
             "ticks": ""
            },
            "colorscale": [
             [
              0,
              "#0d0887"
             ],
             [
              0.1111111111111111,
              "#46039f"
             ],
             [
              0.2222222222222222,
              "#7201a8"
             ],
             [
              0.3333333333333333,
              "#9c179e"
             ],
             [
              0.4444444444444444,
              "#bd3786"
             ],
             [
              0.5555555555555556,
              "#d8576b"
             ],
             [
              0.6666666666666666,
              "#ed7953"
             ],
             [
              0.7777777777777778,
              "#fb9f3a"
             ],
             [
              0.8888888888888888,
              "#fdca26"
             ],
             [
              1,
              "#f0f921"
             ]
            ],
            "type": "surface"
           }
          ],
          "table": [
           {
            "cells": {
             "fill": {
              "color": "#EBF0F8"
             },
             "line": {
              "color": "white"
             }
            },
            "header": {
             "fill": {
              "color": "#C8D4E3"
             },
             "line": {
              "color": "white"
             }
            },
            "type": "table"
           }
          ]
         },
         "layout": {
          "annotationdefaults": {
           "arrowcolor": "#2a3f5f",
           "arrowhead": 0,
           "arrowwidth": 1
          },
          "autotypenumbers": "strict",
          "coloraxis": {
           "colorbar": {
            "outlinewidth": 0,
            "ticks": ""
           }
          },
          "colorscale": {
           "diverging": [
            [
             0,
             "#8e0152"
            ],
            [
             0.1,
             "#c51b7d"
            ],
            [
             0.2,
             "#de77ae"
            ],
            [
             0.3,
             "#f1b6da"
            ],
            [
             0.4,
             "#fde0ef"
            ],
            [
             0.5,
             "#f7f7f7"
            ],
            [
             0.6,
             "#e6f5d0"
            ],
            [
             0.7,
             "#b8e186"
            ],
            [
             0.8,
             "#7fbc41"
            ],
            [
             0.9,
             "#4d9221"
            ],
            [
             1,
             "#276419"
            ]
           ],
           "sequential": [
            [
             0,
             "#0d0887"
            ],
            [
             0.1111111111111111,
             "#46039f"
            ],
            [
             0.2222222222222222,
             "#7201a8"
            ],
            [
             0.3333333333333333,
             "#9c179e"
            ],
            [
             0.4444444444444444,
             "#bd3786"
            ],
            [
             0.5555555555555556,
             "#d8576b"
            ],
            [
             0.6666666666666666,
             "#ed7953"
            ],
            [
             0.7777777777777778,
             "#fb9f3a"
            ],
            [
             0.8888888888888888,
             "#fdca26"
            ],
            [
             1,
             "#f0f921"
            ]
           ],
           "sequentialminus": [
            [
             0,
             "#0d0887"
            ],
            [
             0.1111111111111111,
             "#46039f"
            ],
            [
             0.2222222222222222,
             "#7201a8"
            ],
            [
             0.3333333333333333,
             "#9c179e"
            ],
            [
             0.4444444444444444,
             "#bd3786"
            ],
            [
             0.5555555555555556,
             "#d8576b"
            ],
            [
             0.6666666666666666,
             "#ed7953"
            ],
            [
             0.7777777777777778,
             "#fb9f3a"
            ],
            [
             0.8888888888888888,
             "#fdca26"
            ],
            [
             1,
             "#f0f921"
            ]
           ]
          },
          "colorway": [
           "#636efa",
           "#EF553B",
           "#00cc96",
           "#ab63fa",
           "#FFA15A",
           "#19d3f3",
           "#FF6692",
           "#B6E880",
           "#FF97FF",
           "#FECB52"
          ],
          "font": {
           "color": "#2a3f5f"
          },
          "geo": {
           "bgcolor": "white",
           "lakecolor": "white",
           "landcolor": "#E5ECF6",
           "showlakes": true,
           "showland": true,
           "subunitcolor": "white"
          },
          "hoverlabel": {
           "align": "left"
          },
          "hovermode": "closest",
          "mapbox": {
           "style": "light"
          },
          "paper_bgcolor": "white",
          "plot_bgcolor": "#E5ECF6",
          "polar": {
           "angularaxis": {
            "gridcolor": "white",
            "linecolor": "white",
            "ticks": ""
           },
           "bgcolor": "#E5ECF6",
           "radialaxis": {
            "gridcolor": "white",
            "linecolor": "white",
            "ticks": ""
           }
          },
          "scene": {
           "xaxis": {
            "backgroundcolor": "#E5ECF6",
            "gridcolor": "white",
            "gridwidth": 2,
            "linecolor": "white",
            "showbackground": true,
            "ticks": "",
            "zerolinecolor": "white"
           },
           "yaxis": {
            "backgroundcolor": "#E5ECF6",
            "gridcolor": "white",
            "gridwidth": 2,
            "linecolor": "white",
            "showbackground": true,
            "ticks": "",
            "zerolinecolor": "white"
           },
           "zaxis": {
            "backgroundcolor": "#E5ECF6",
            "gridcolor": "white",
            "gridwidth": 2,
            "linecolor": "white",
            "showbackground": true,
            "ticks": "",
            "zerolinecolor": "white"
           }
          },
          "shapedefaults": {
           "line": {
            "color": "#2a3f5f"
           }
          },
          "ternary": {
           "aaxis": {
            "gridcolor": "white",
            "linecolor": "white",
            "ticks": ""
           },
           "baxis": {
            "gridcolor": "white",
            "linecolor": "white",
            "ticks": ""
           },
           "bgcolor": "#E5ECF6",
           "caxis": {
            "gridcolor": "white",
            "linecolor": "white",
            "ticks": ""
           }
          },
          "title": {
           "x": 0.05
          },
          "xaxis": {
           "automargin": true,
           "gridcolor": "white",
           "linecolor": "white",
           "ticks": "",
           "title": {
            "standoff": 15
           },
           "zerolinecolor": "white",
           "zerolinewidth": 2
          },
          "yaxis": {
           "automargin": true,
           "gridcolor": "white",
           "linecolor": "white",
           "ticks": "",
           "title": {
            "standoff": 15
           },
           "zerolinecolor": "white",
           "zerolinewidth": 2
          }
         }
        },
        "xaxis": {
         "anchor": "y",
         "domain": [
          0,
          1
         ],
         "title": {
          "text": "countries"
         }
        },
        "yaxis": {
         "anchor": "x",
         "domain": [
          0,
          1
         ],
         "title": {
          "text": "sum of num"
         }
        }
       }
      },
      "text/html": [
       "<div>                            <div id=\"85cf4a35-c011-4e71-92fb-4e02ce75326c\" class=\"plotly-graph-div\" style=\"height:525px; width:100%;\"></div>            <script type=\"text/javascript\">                require([\"plotly\"], function(Plotly) {                    window.PLOTLYENV=window.PLOTLYENV || {};                                    if (document.getElementById(\"85cf4a35-c011-4e71-92fb-4e02ce75326c\")) {                    Plotly.newPlot(                        \"85cf4a35-c011-4e71-92fb-4e02ce75326c\",                        [{\"alignmentgroup\":\"True\",\"bingroup\":\"x\",\"histfunc\":\"sum\",\"hovertemplate\":\"countries=%{x}<br>sum of num=%{y}<extra></extra>\",\"legendgroup\":\"\",\"marker\":{\"color\":\"#636efa\",\"pattern\":{\"shape\":\"\"}},\"name\":\"\",\"offsetgroup\":\"\",\"orientation\":\"v\",\"showlegend\":false,\"x\":[\"FR\",\"ES\",\"GB\",\"US\",\"IT\",\"JP\",\"PT\",\"PL\",\"CA\",\"SE\",\"CH\",\"AR\",\"AU\",\"TH\",\"DE\",\"BE\",\"HK\",\"RO\",\"FI\",\"NL\",\"IE\",\"HR\",\"BR\",\"SI\",\"PH\",\"HU\",\"AT\",\"CN\",\"ZA\",\"CZ\"],\"xaxis\":\"x\",\"y\":[674,183,119,118,87,65,43,40,38,35,33,26,26,25,24,24,18,14,13,11,11,9,9,7,7,7,7,7,7,6],\"yaxis\":\"y\",\"type\":\"histogram\"}],                        {\"template\":{\"data\":{\"histogram2dcontour\":[{\"type\":\"histogram2dcontour\",\"colorbar\":{\"outlinewidth\":0,\"ticks\":\"\"},\"colorscale\":[[0.0,\"#0d0887\"],[0.1111111111111111,\"#46039f\"],[0.2222222222222222,\"#7201a8\"],[0.3333333333333333,\"#9c179e\"],[0.4444444444444444,\"#bd3786\"],[0.5555555555555556,\"#d8576b\"],[0.6666666666666666,\"#ed7953\"],[0.7777777777777778,\"#fb9f3a\"],[0.8888888888888888,\"#fdca26\"],[1.0,\"#f0f921\"]]}],\"choropleth\":[{\"type\":\"choropleth\",\"colorbar\":{\"outlinewidth\":0,\"ticks\":\"\"}}],\"histogram2d\":[{\"type\":\"histogram2d\",\"colorbar\":{\"outlinewidth\":0,\"ticks\":\"\"},\"colorscale\":[[0.0,\"#0d0887\"],[0.1111111111111111,\"#46039f\"],[0.2222222222222222,\"#7201a8\"],[0.3333333333333333,\"#9c179e\"],[0.4444444444444444,\"#bd3786\"],[0.5555555555555556,\"#d8576b\"],[0.6666666666666666,\"#ed7953\"],[0.7777777777777778,\"#fb9f3a\"],[0.8888888888888888,\"#fdca26\"],[1.0,\"#f0f921\"]]}],\"heatmap\":[{\"type\":\"heatmap\",\"colorbar\":{\"outlinewidth\":0,\"ticks\":\"\"},\"colorscale\":[[0.0,\"#0d0887\"],[0.1111111111111111,\"#46039f\"],[0.2222222222222222,\"#7201a8\"],[0.3333333333333333,\"#9c179e\"],[0.4444444444444444,\"#bd3786\"],[0.5555555555555556,\"#d8576b\"],[0.6666666666666666,\"#ed7953\"],[0.7777777777777778,\"#fb9f3a\"],[0.8888888888888888,\"#fdca26\"],[1.0,\"#f0f921\"]]}],\"heatmapgl\":[{\"type\":\"heatmapgl\",\"colorbar\":{\"outlinewidth\":0,\"ticks\":\"\"},\"colorscale\":[[0.0,\"#0d0887\"],[0.1111111111111111,\"#46039f\"],[0.2222222222222222,\"#7201a8\"],[0.3333333333333333,\"#9c179e\"],[0.4444444444444444,\"#bd3786\"],[0.5555555555555556,\"#d8576b\"],[0.6666666666666666,\"#ed7953\"],[0.7777777777777778,\"#fb9f3a\"],[0.8888888888888888,\"#fdca26\"],[1.0,\"#f0f921\"]]}],\"contourcarpet\":[{\"type\":\"contourcarpet\",\"colorbar\":{\"outlinewidth\":0,\"ticks\":\"\"}}],\"contour\":[{\"type\":\"contour\",\"colorbar\":{\"outlinewidth\":0,\"ticks\":\"\"},\"colorscale\":[[0.0,\"#0d0887\"],[0.1111111111111111,\"#46039f\"],[0.2222222222222222,\"#7201a8\"],[0.3333333333333333,\"#9c179e\"],[0.4444444444444444,\"#bd3786\"],[0.5555555555555556,\"#d8576b\"],[0.6666666666666666,\"#ed7953\"],[0.7777777777777778,\"#fb9f3a\"],[0.8888888888888888,\"#fdca26\"],[1.0,\"#f0f921\"]]}],\"surface\":[{\"type\":\"surface\",\"colorbar\":{\"outlinewidth\":0,\"ticks\":\"\"},\"colorscale\":[[0.0,\"#0d0887\"],[0.1111111111111111,\"#46039f\"],[0.2222222222222222,\"#7201a8\"],[0.3333333333333333,\"#9c179e\"],[0.4444444444444444,\"#bd3786\"],[0.5555555555555556,\"#d8576b\"],[0.6666666666666666,\"#ed7953\"],[0.7777777777777778,\"#fb9f3a\"],[0.8888888888888888,\"#fdca26\"],[1.0,\"#f0f921\"]]}],\"mesh3d\":[{\"type\":\"mesh3d\",\"colorbar\":{\"outlinewidth\":0,\"ticks\":\"\"}}],\"scatter\":[{\"fillpattern\":{\"fillmode\":\"overlay\",\"size\":10,\"solidity\":0.2},\"type\":\"scatter\"}],\"parcoords\":[{\"type\":\"parcoords\",\"line\":{\"colorbar\":{\"outlinewidth\":0,\"ticks\":\"\"}}}],\"scatterpolargl\":[{\"type\":\"scatterpolargl\",\"marker\":{\"colorbar\":{\"outlinewidth\":0,\"ticks\":\"\"}}}],\"bar\":[{\"error_x\":{\"color\":\"#2a3f5f\"},\"error_y\":{\"color\":\"#2a3f5f\"},\"marker\":{\"line\":{\"color\":\"#E5ECF6\",\"width\":0.5},\"pattern\":{\"fillmode\":\"overlay\",\"size\":10,\"solidity\":0.2}},\"type\":\"bar\"}],\"scattergeo\":[{\"type\":\"scattergeo\",\"marker\":{\"colorbar\":{\"outlinewidth\":0,\"ticks\":\"\"}}}],\"scatterpolar\":[{\"type\":\"scatterpolar\",\"marker\":{\"colorbar\":{\"outlinewidth\":0,\"ticks\":\"\"}}}],\"histogram\":[{\"marker\":{\"pattern\":{\"fillmode\":\"overlay\",\"size\":10,\"solidity\":0.2}},\"type\":\"histogram\"}],\"scattergl\":[{\"type\":\"scattergl\",\"marker\":{\"colorbar\":{\"outlinewidth\":0,\"ticks\":\"\"}}}],\"scatter3d\":[{\"type\":\"scatter3d\",\"line\":{\"colorbar\":{\"outlinewidth\":0,\"ticks\":\"\"}},\"marker\":{\"colorbar\":{\"outlinewidth\":0,\"ticks\":\"\"}}}],\"scattermapbox\":[{\"type\":\"scattermapbox\",\"marker\":{\"colorbar\":{\"outlinewidth\":0,\"ticks\":\"\"}}}],\"scatterternary\":[{\"type\":\"scatterternary\",\"marker\":{\"colorbar\":{\"outlinewidth\":0,\"ticks\":\"\"}}}],\"scattercarpet\":[{\"type\":\"scattercarpet\",\"marker\":{\"colorbar\":{\"outlinewidth\":0,\"ticks\":\"\"}}}],\"carpet\":[{\"aaxis\":{\"endlinecolor\":\"#2a3f5f\",\"gridcolor\":\"white\",\"linecolor\":\"white\",\"minorgridcolor\":\"white\",\"startlinecolor\":\"#2a3f5f\"},\"baxis\":{\"endlinecolor\":\"#2a3f5f\",\"gridcolor\":\"white\",\"linecolor\":\"white\",\"minorgridcolor\":\"white\",\"startlinecolor\":\"#2a3f5f\"},\"type\":\"carpet\"}],\"table\":[{\"cells\":{\"fill\":{\"color\":\"#EBF0F8\"},\"line\":{\"color\":\"white\"}},\"header\":{\"fill\":{\"color\":\"#C8D4E3\"},\"line\":{\"color\":\"white\"}},\"type\":\"table\"}],\"barpolar\":[{\"marker\":{\"line\":{\"color\":\"#E5ECF6\",\"width\":0.5},\"pattern\":{\"fillmode\":\"overlay\",\"size\":10,\"solidity\":0.2}},\"type\":\"barpolar\"}],\"pie\":[{\"automargin\":true,\"type\":\"pie\"}]},\"layout\":{\"autotypenumbers\":\"strict\",\"colorway\":[\"#636efa\",\"#EF553B\",\"#00cc96\",\"#ab63fa\",\"#FFA15A\",\"#19d3f3\",\"#FF6692\",\"#B6E880\",\"#FF97FF\",\"#FECB52\"],\"font\":{\"color\":\"#2a3f5f\"},\"hovermode\":\"closest\",\"hoverlabel\":{\"align\":\"left\"},\"paper_bgcolor\":\"white\",\"plot_bgcolor\":\"#E5ECF6\",\"polar\":{\"bgcolor\":\"#E5ECF6\",\"angularaxis\":{\"gridcolor\":\"white\",\"linecolor\":\"white\",\"ticks\":\"\"},\"radialaxis\":{\"gridcolor\":\"white\",\"linecolor\":\"white\",\"ticks\":\"\"}},\"ternary\":{\"bgcolor\":\"#E5ECF6\",\"aaxis\":{\"gridcolor\":\"white\",\"linecolor\":\"white\",\"ticks\":\"\"},\"baxis\":{\"gridcolor\":\"white\",\"linecolor\":\"white\",\"ticks\":\"\"},\"caxis\":{\"gridcolor\":\"white\",\"linecolor\":\"white\",\"ticks\":\"\"}},\"coloraxis\":{\"colorbar\":{\"outlinewidth\":0,\"ticks\":\"\"}},\"colorscale\":{\"sequential\":[[0.0,\"#0d0887\"],[0.1111111111111111,\"#46039f\"],[0.2222222222222222,\"#7201a8\"],[0.3333333333333333,\"#9c179e\"],[0.4444444444444444,\"#bd3786\"],[0.5555555555555556,\"#d8576b\"],[0.6666666666666666,\"#ed7953\"],[0.7777777777777778,\"#fb9f3a\"],[0.8888888888888888,\"#fdca26\"],[1.0,\"#f0f921\"]],\"sequentialminus\":[[0.0,\"#0d0887\"],[0.1111111111111111,\"#46039f\"],[0.2222222222222222,\"#7201a8\"],[0.3333333333333333,\"#9c179e\"],[0.4444444444444444,\"#bd3786\"],[0.5555555555555556,\"#d8576b\"],[0.6666666666666666,\"#ed7953\"],[0.7777777777777778,\"#fb9f3a\"],[0.8888888888888888,\"#fdca26\"],[1.0,\"#f0f921\"]],\"diverging\":[[0,\"#8e0152\"],[0.1,\"#c51b7d\"],[0.2,\"#de77ae\"],[0.3,\"#f1b6da\"],[0.4,\"#fde0ef\"],[0.5,\"#f7f7f7\"],[0.6,\"#e6f5d0\"],[0.7,\"#b8e186\"],[0.8,\"#7fbc41\"],[0.9,\"#4d9221\"],[1,\"#276419\"]]},\"xaxis\":{\"gridcolor\":\"white\",\"linecolor\":\"white\",\"ticks\":\"\",\"title\":{\"standoff\":15},\"zerolinecolor\":\"white\",\"automargin\":true,\"zerolinewidth\":2},\"yaxis\":{\"gridcolor\":\"white\",\"linecolor\":\"white\",\"ticks\":\"\",\"title\":{\"standoff\":15},\"zerolinecolor\":\"white\",\"automargin\":true,\"zerolinewidth\":2},\"scene\":{\"xaxis\":{\"backgroundcolor\":\"#E5ECF6\",\"gridcolor\":\"white\",\"linecolor\":\"white\",\"showbackground\":true,\"ticks\":\"\",\"zerolinecolor\":\"white\",\"gridwidth\":2},\"yaxis\":{\"backgroundcolor\":\"#E5ECF6\",\"gridcolor\":\"white\",\"linecolor\":\"white\",\"showbackground\":true,\"ticks\":\"\",\"zerolinecolor\":\"white\",\"gridwidth\":2},\"zaxis\":{\"backgroundcolor\":\"#E5ECF6\",\"gridcolor\":\"white\",\"linecolor\":\"white\",\"showbackground\":true,\"ticks\":\"\",\"zerolinecolor\":\"white\",\"gridwidth\":2}},\"shapedefaults\":{\"line\":{\"color\":\"#2a3f5f\"}},\"annotationdefaults\":{\"arrowcolor\":\"#2a3f5f\",\"arrowhead\":0,\"arrowwidth\":1},\"geo\":{\"bgcolor\":\"white\",\"landcolor\":\"#E5ECF6\",\"subunitcolor\":\"white\",\"showland\":true,\"showlakes\":true,\"lakecolor\":\"white\"},\"title\":{\"x\":0.05},\"mapbox\":{\"style\":\"light\"}}},\"xaxis\":{\"anchor\":\"y\",\"domain\":[0.0,1.0],\"title\":{\"text\":\"countries\"}},\"yaxis\":{\"anchor\":\"x\",\"domain\":[0.0,1.0],\"title\":{\"text\":\"sum of num\"}},\"legend\":{\"tracegroupgap\":0},\"margin\":{\"t\":60},\"barmode\":\"relative\"},                        {\"responsive\": true}                    ).then(function(){\n",
       "                            \n",
       "var gd = document.getElementById('85cf4a35-c011-4e71-92fb-4e02ce75326c');\n",
       "var x = new MutationObserver(function (mutations, observer) {{\n",
       "        var display = window.getComputedStyle(gd).display;\n",
       "        if (!display || display === 'none') {{\n",
       "            console.log([gd, 'removed!']);\n",
       "            Plotly.purge(gd);\n",
       "            observer.disconnect();\n",
       "        }}\n",
       "}});\n",
       "\n",
       "// Listen for the removal of the full notebook cells\n",
       "var notebookContainer = gd.closest('#notebook-container');\n",
       "if (notebookContainer) {{\n",
       "    x.observe(notebookContainer, {childList: true});\n",
       "}}\n",
       "\n",
       "// Listen for the clearing of the current output cell\n",
       "var outputEl = gd.closest('.output');\n",
       "if (outputEl) {{\n",
       "    x.observe(outputEl, {childList: true});\n",
       "}}\n",
       "\n",
       "                        })                };                });            </script>        </div>"
      ]
     },
     "metadata": {},
     "output_type": "display_data"
    }
   ],
   "source": [
    "fig = px.histogram(df, x='info_countryCode')\n",
    "# fig.show()\n",
    "\n",
    "country_list = df['info_countryCode']\n",
    "\n",
    "# create a dataframe where each char is one row\n",
    "df_c = pd.DataFrame({'countries': country_list})\n",
    "# add a column for aggregation later\n",
    "df_c['num'] = 1\n",
    "# group rows by character type, count the occurences in each group and sort by occurance\n",
    "df_c = df_c.groupby('countries').sum().sort_values('num', ascending=False)\n",
    "df_c.reset_index(inplace=True)\n",
    "\n",
    "fig = px.histogram(df_c[:30], x='countries', y='num')\n",
    "fig.show()"
   ]
  },
  {
   "cell_type": "code",
   "execution_count": null,
   "id": "76cc2579",
   "metadata": {},
   "outputs": [],
   "source": []
  }
 ],
 "metadata": {
  "kernelspec": {
   "display_name": "Python 3 (ipykernel)",
   "language": "python",
   "name": "python3"
  },
  "language_info": {
   "codemirror_mode": {
    "name": "ipython",
    "version": 3
   },
   "file_extension": ".py",
   "mimetype": "text/x-python",
   "name": "python",
   "nbconvert_exporter": "python",
   "pygments_lexer": "ipython3",
   "version": "3.10.6"
  }
 },
 "nbformat": 4,
 "nbformat_minor": 5
}
